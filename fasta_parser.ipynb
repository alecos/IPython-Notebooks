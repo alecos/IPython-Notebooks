{
 "metadata": {
  "name": "",
  "signature": "sha256:4bf3c30e56f0e8b6065f3f03371257bc3d76678e67fcdd8124d52ab449a609c6"
 },
 "nbformat": 3,
 "nbformat_minor": 0,
 "worksheets": [
  {
   "cells": [
    {
     "cell_type": "markdown",
     "metadata": {},
     "source": [
      "# NOTE - parsers, and Biopython's FASTA parsing\n",
      "\n",
      "There are two main things you need to consider when writing a file parser: the most important is probably to identify what you want to do with the data in the file, and then you need to work out how to get that data into a form you can use.\n",
      "\n",
      "Programming libraries like Biopython are general. They aim to provide a reliable framework that as many people as possible can employ in their own work. As a result, their goal is to transfer the data in a file into an internal representation. For FASTA sequences, Biopython does this by turning the FASTA sequence into a [`SeqRecord`](http://biopython.org/wiki/SeqRecord) object, which is overkill for a FASTA sequence, but works well.\n",
      "\n",
      "The job of programming libraries is to make very common tasks as easy and robust as possible, so the good ones tend to be engineered well, and their parsers are able to handle most variations of files, both for reading and writing. As there are so many special cases, it is always preferable *in real code* to use them but, for learning, it is essential to develop and polish the relevant skills: turning data from a defined format into an internal representation.\n",
      "\n",
      "In an ideal world, there would always be an appropriate parser like this available to you. But when, as you will, you come across a file format that is not covered by a well-engineered programming library, you will need to write your own data input/output. Typically, those tasks are harder than the ones covered by programming libraries, and it's easier to write something useful if you've practised on the easier cases.\n",
      "\n",
      "I also think it's important to understand how to process a well-formatted file, so that it's easier to understand why things go wrong, and why file formats and data standards are so important."
     ]
    },
    {
     "cell_type": "code",
     "collapsed": false,
     "input": [
      "from Bio import SeqIO  # It's best to put imports at the top of a file\n",
      "\n",
      "import inspect  # You won't usually need this - I'm using it for a specific purpose, later\n",
      "\n",
      "INFILE = \"files/rosalind.fasta\"  # There is a convention to make global variables ('globals') all upper-case\n",
      "\n",
      "# NOTE:\n",
      "# When working in iPython notebooks, it can be useful to place imports and globals\n",
      "# - and other elements that are referred to throughout the document - in a cell at\n",
      "# the head of the notebook, so that they are kept together, and can be run at the\n",
      "# same time."
     ],
     "language": "python",
     "metadata": {},
     "outputs": [],
     "prompt_number": 1
    },
    {
     "cell_type": "code",
     "collapsed": false,
     "input": [
      "data = list(SeqIO.parse(INFILE, 'fasta'))\n",
      "print(type(data[0]))"
     ],
     "language": "python",
     "metadata": {},
     "outputs": [
      {
       "output_type": "stream",
       "stream": "stdout",
       "text": [
        "<class 'Bio.SeqRecord.SeqRecord'>\n"
       ]
      }
     ],
     "prompt_number": 2
    },
    {
     "cell_type": "markdown",
     "metadata": {},
     "source": [
      "The `SeqRecord` object has a number of attributes that are of general use:"
     ]
    },
    {
     "cell_type": "code",
     "collapsed": false,
     "input": [
      "print(data[0])"
     ],
     "language": "python",
     "metadata": {},
     "outputs": [
      {
       "output_type": "stream",
       "stream": "stdout",
       "text": [
        "ID: Rosalind_6404\n",
        "Name: Rosalind_6404\n",
        "Description: Rosalind_6404\n",
        "Number of features: 0\n",
        "Seq('CCTGCGGAAGATCGGCACTAGAATAGCCAGAACCGTTTCTCTGAGGCTTCCGGC...AGG', SingleLetterAlphabet())\n"
       ]
      }
     ],
     "prompt_number": 3
    },
    {
     "cell_type": "markdown",
     "metadata": {},
     "source": [
      "Notice that `ID`, `Name` and `Description` are all recorded as different things - people do tend to use them interchangeably and synonymously when just talking but, although they all take the same value here, they refer to different things.\n",
      "\n",
      "**Q: what is the difference between ID, Name, and Description**?"
     ]
    },
    {
     "cell_type": "markdown",
     "metadata": {},
     "source": [
      "The `SeqRecord` object reports a `Number of features`. This should indicate that it is more flexible than just being able to hold a FASTA sequence. In fact, a `SeqRecord` object can hold an entire GenBank (or equivalent) record, and more. So, if you wanted to annotate the presence of a domain in your sequence, you could do so in the `SeqRecord` object, and `SeqIO.write()` would be able to write the information out in a sensible file format, for you.\n",
      "\n",
      "`SeqRecords` come with a number of other attributes as standard, and you can see them below (don't worry at the moment about how I get this information):"
     ]
    },
    {
     "cell_type": "code",
     "collapsed": false,
     "input": [
      "print('\\n'.join([\"%s: %s (%s)\" % (k, v, type(v)) for (k, v) in data[0].__dict__.items()]))"
     ],
     "language": "python",
     "metadata": {},
     "outputs": [
      {
       "output_type": "stream",
       "stream": "stdout",
       "text": [
        "dbxrefs: [] (<type 'list'>)\n",
        "description: Rosalind_6404 (<type 'str'>)\n",
        "annotations: {} (<type 'dict'>)\n",
        "features: [] (<type 'list'>)\n",
        "_seq: CCTGCGGAAGATCGGCACTAGAATAGCCAGAACCGTTTCTCTGAGGCTTCCGGCCTTCCCTCCCACTAATAATTCTGAGG (<class 'Bio.Seq.Seq'>)\n",
        "_per_letter_annotations: {} (<class 'Bio.SeqRecord._RestrictedDict'>)\n",
        "id: Rosalind_6404 (<type 'str'>)\n",
        "name: Rosalind_6404 (<type 'str'>)\n"
       ]
      }
     ],
     "prompt_number": 4
    },
    {
     "cell_type": "markdown",
     "metadata": {},
     "source": [
      "There are a number of useful methods that can be called on the data, too (again, don't worry for now about how I get the information):"
     ]
    },
    {
     "cell_type": "code",
     "collapsed": false,
     "input": [
      "print('\\n'.join([o[0] + '()' for o in inspect.getmembers(data[0]) if inspect.ismethod(o[1]) and not o[0].startswith('_')]))"
     ],
     "language": "python",
     "metadata": {},
     "outputs": [
      {
       "output_type": "stream",
       "stream": "stdout",
       "text": [
        "format()\n",
        "lower()\n",
        "reverse_complement()\n",
        "upper()\n"
       ]
      }
     ],
     "prompt_number": 5
    },
    {
     "cell_type": "markdown",
     "metadata": {},
     "source": [
      "Taken together, these make for a powerful internal data structure, designed to enable biological sequence operations. Many Biopython parsers read to and write from this data structure, via the `SeqIO` module.\n",
      "\n",
      "This isn't your goal - obviously ;) It should, though, help explain why - even though the FASTA parsing problem is 'solved' in Biopython - it's solved in a different context, and there's a teaching/understanding goal to be had from writing a parser for an apparently simple data format like FASTA."
     ]
    },
    {
     "cell_type": "heading",
     "level": 1,
     "metadata": {},
     "source": [
      "Alessandro's code:"
     ]
    },
    {
     "cell_type": "code",
     "collapsed": false,
     "input": [
      "seqs=[]\n",
      "seq_ids=[]\n",
      "seqs_ln=[]\n",
      "\n",
      "\n",
      "def fasta_parser(filename):\n",
      "\n",
      " \n",
      "    #Fasta parser: need to have two kind of objects:\n",
      "    # 1) seq identifiers (ordered)\n",
      "    # 2) corresponding sequences (ordered)\n",
      "    \n",
      "    #Result: porint seq_identifiers[0], seqs[0] \n",
      "    #        prints the seq identifier (\">something\") followed by the corresponding\n",
      "    #                                                                 sequence\n",
      "    \n",
      "    #Import the file lines\n",
      "    fasta=open(filename,'r')\n",
      "    lines=fasta.readlines()\n",
      "    lines_iterator=range(len(lines))\n",
      "    \n",
      "    prov_seq_ids=[]\n",
      "    sequences=[]\n",
      "    ids_positions=[]\n",
      "    seq_borders=[]\n",
      "    seq_positions_iterator=[]\n",
      "    \n",
      "    \n",
      "    \n",
      "    \n",
      "    \n",
      "    #Find out where the \">\" lines are that correspond to the seq_identifiers that\n",
      "    #also are the lines that border the sequences but for the last line\n",
      "    \n",
      "    \n",
      "    for i in lines_iterator:\n",
      "        if lines[i].startswith('>'):\n",
      "            seq_borders.append(i)\n",
      "            ids_positions.append(i)\n",
      "    seq_borders.append(len(lines))\n",
      "    num_seqs=len(ids_positions)\n",
      "    \n",
      "    \n",
      "    #Read the \">\" lines in order to assign them to the variable seq_ids\n",
      "    for id in ids_positions:\n",
      "        prov_seq_ids.append(lines[id])\n",
      "    \n",
      "    #Read the sequences lines in order to assign them to the variable seqs\n",
      "    prov_seqs1=[]\n",
      "    for f,k in zip(seq_borders,seq_borders[1:]):\n",
      "        prov_seqs1.append(lines[f+1:k])\n",
      "        \n",
      "    #Have to unify the lines of the sequences and remove the '\\n's\n",
      "    prov_seqs2=[]\n",
      "    \n",
      "    \n",
      "    for r in range(0,num_seqs):\n",
      "        prov_seqs2.append(''.join(prov_seqs1[r]))\n",
      "    \n",
      "    for h in range(0,len(prov_seqs2)):\n",
      "        seqs.append(prov_seqs2[h].replace('\\n',''))\n",
      "    for l in range(0,num_seqs):\n",
      "        seq_ids.append(prov_seq_ids[h].replace('\\n',''))\n",
      "\n",
      "#Sequence lenght        \n",
      "    for s in range(0,num_seqs):\n",
      "        seqs_ln.append(len(seqs[s]))"
     ],
     "language": "python",
     "metadata": {},
     "outputs": [],
     "prompt_number": 6
    },
    {
     "cell_type": "heading",
     "level": 2,
     "metadata": {},
     "source": [
      "Comments:"
     ]
    },
    {
     "cell_type": "markdown",
     "metadata": {},
     "source": [
      "Let's test the code:"
     ]
    },
    {
     "cell_type": "code",
     "collapsed": false,
     "input": [
      "ab_data = fasta_parser(INFILE)\n",
      "print ab_data"
     ],
     "language": "python",
     "metadata": {},
     "outputs": [
      {
       "output_type": "stream",
       "stream": "stdout",
       "text": [
        "None\n"
       ]
      }
     ],
     "prompt_number": 7
    },
    {
     "cell_type": "markdown",
     "metadata": {},
     "source": [
      "Here's the first issue: the code does not do what it says it should. In the comments, it says:\n",
      "\n",
      "```\n",
      "#Result: porint seq_identifiers[0], seqs[0] \n",
      "#        prints the seq identifier (\">something\") followed by the corresponding\n",
      "#                                                                 sequence\n",
      "```\n",
      "\n",
      "but the function doesn't print anything.\n",
      "\n",
      "There's a philosophy that, so long as your code does what it says it will, it doesn't matter whether what it does is correct, useful, well-written or necessary - I don't entirely subscribe to that, but it is good practice to have function output match what is indicated in comments and docstrings."
     ]
    },
    {
     "cell_type": "markdown",
     "metadata": {},
     "source": [
      "## NOTE: about functions\n",
      "\n",
      "### 1) Returning values from functions is better than printing them\n",
      "Functions are special things. At their simplest, they can be considered to take in some value (or values) and return some value (or values). You can think of this as always true for functions in Python (though the bigger picture is [more complicated](http://en.wikipedia.org/wiki/First-class_function)). In Python, all functions return a value and, if no `return` value is specified, `None` is returned instead.\n",
      "\n",
      "Here's a function that literally does nothing - the `pass` statement does nothing."
     ]
    },
    {
     "cell_type": "code",
     "collapsed": false,
     "input": [
      "def myfunc():\n",
      "    \"\"\"This function does nothing.\"\"\"\n",
      "    pass"
     ],
     "language": "python",
     "metadata": {},
     "outputs": [],
     "prompt_number": 8
    },
    {
     "cell_type": "markdown",
     "metadata": {},
     "source": [
      "Let's call the function:"
     ]
    },
    {
     "cell_type": "code",
     "collapsed": false,
     "input": [
      "myfunc()"
     ],
     "language": "python",
     "metadata": {},
     "outputs": [],
     "prompt_number": 9
    },
    {
     "cell_type": "markdown",
     "metadata": {},
     "source": [
      "We see nothing, as we might expect. But what if we `print()` it?"
     ]
    },
    {
     "cell_type": "code",
     "collapsed": false,
     "input": [
      "print(myfunc())"
     ],
     "language": "python",
     "metadata": {},
     "outputs": [
      {
       "output_type": "stream",
       "stream": "stdout",
       "text": [
        "None\n"
       ]
      }
     ],
     "prompt_number": 10
    },
    {
     "cell_type": "markdown",
     "metadata": {},
     "source": [
      "Now we see that there's a value: `None`.\n",
      "\n",
      "**Q: Why is that?**"
     ]
    },
    {
     "cell_type": "markdown",
     "metadata": {},
     "source": [
      "Essentially, it comes down to the expectation that, in mathematics (and all programming is an expression of mathematics), a *function* has inputs, which are transformed into an output. You may have seen things like $f(x) = x^2 + 3x + 9$, where $f(x)$ is the function. The input there is $x$, and the output (\"return value\") is $x^2 + 3x + 9$.\n",
      "\n",
      "In programming, the concept is similar, and the art of programming is - in part - breaking down a problem into logical steps that can be expressed in terms of *functions* that take an input and return an output, in the same way.\n",
      "\n",
      "At the moment, your function returns no output (and doesn't write any to any other location), so this is something that needs to be addressed. We also have the advantage in programming that a value which is returned can then be used again."
     ]
    },
    {
     "cell_type": "markdown",
     "metadata": {},
     "source": [
      "If we were to express that mathematical function in Python, we could do it in a number of ways - here are two:"
     ]
    },
    {
     "cell_type": "code",
     "collapsed": false,
     "input": [
      "def f1(x):\n",
      "    \"\"\"Returns x^2 + 3x + 9.\"\"\"\n",
      "    return x ** 2 + 3 * x + 9\n",
      "\n",
      "def f2(x):\n",
      "    \"\"\"Prints x^2 + 3x + 9.\"\"\"\n",
      "    print x ** 2 + 3 * x + 9"
     ],
     "language": "python",
     "metadata": {},
     "outputs": [],
     "prompt_number": 11
    },
    {
     "cell_type": "markdown",
     "metadata": {},
     "source": [
      "What happens when we call them?"
     ]
    },
    {
     "cell_type": "code",
     "collapsed": false,
     "input": [
      "f1(12)"
     ],
     "language": "python",
     "metadata": {},
     "outputs": [
      {
       "metadata": {},
       "output_type": "pyout",
       "prompt_number": 12,
       "text": [
        "189"
       ]
      }
     ],
     "prompt_number": 12
    },
    {
     "cell_type": "code",
     "collapsed": false,
     "input": [
      "f2(12)"
     ],
     "language": "python",
     "metadata": {},
     "outputs": [
      {
       "output_type": "stream",
       "stream": "stdout",
       "text": [
        "189\n"
       ]
      }
     ],
     "prompt_number": 13
    },
    {
     "cell_type": "markdown",
     "metadata": {},
     "source": [
      "They look to have the same behaviour - the number 189 is printed in the output. But they are different, as we can see if we print the function's actual *output*:"
     ]
    },
    {
     "cell_type": "code",
     "collapsed": false,
     "input": [
      "print(f1(12))"
     ],
     "language": "python",
     "metadata": {},
     "outputs": [
      {
       "output_type": "stream",
       "stream": "stdout",
       "text": [
        "189\n"
       ]
      }
     ],
     "prompt_number": 14
    },
    {
     "cell_type": "code",
     "collapsed": false,
     "input": [
      "print(f2(12))"
     ],
     "language": "python",
     "metadata": {},
     "outputs": [
      {
       "output_type": "stream",
       "stream": "stdout",
       "text": [
        "189\n",
        "None\n"
       ]
      }
     ],
     "prompt_number": 15
    },
    {
     "cell_type": "markdown",
     "metadata": {},
     "source": [
      "Do you see what happened? The output from `f1()` is unchanged, but because `f2()` actually *returns* `None`, we see this in is so the output."
     ]
    },
    {
     "cell_type": "markdown",
     "metadata": {},
     "source": [
      "Here's the point of the discussion: writing functions that `return`, rather than `print()` values is typically more useful. You can always `print()` the output of a function, but you can't readily recover a value that has been printed. For instance:"
     ]
    },
    {
     "cell_type": "code",
     "collapsed": false,
     "input": [
      "mylist = [f1(val) for val in range(100)]\n",
      "print(mylist)"
     ],
     "language": "python",
     "metadata": {},
     "outputs": [
      {
       "output_type": "stream",
       "stream": "stdout",
       "text": [
        "[9, 13, 19, 27, 37, 49, 63, 79, 97, 117, 139, 163, 189, 217, 247, 279, 313, 349, 387, 427, 469, 513, 559, 607, 657, 709, 763, 819, 877, 937, 999, 1063, 1129, 1197, 1267, 1339, 1413, 1489, 1567, 1647, 1729, 1813, 1899, 1987, 2077, 2169, 2263, 2359, 2457, 2557, 2659, 2763, 2869, 2977, 3087, 3199, 3313, 3429, 3547, 3667, 3789, 3913, 4039, 4167, 4297, 4429, 4563, 4699, 4837, 4977, 5119, 5263, 5409, 5557, 5707, 5859, 6013, 6169, 6327, 6487, 6649, 6813, 6979, 7147, 7317, 7489, 7663, 7839, 8017, 8197, 8379, 8563, 8749, 8937, 9127, 9319, 9513, 9709, 9907, 10107]\n"
       ]
      }
     ],
     "prompt_number": 16
    },
    {
     "cell_type": "markdown",
     "metadata": {},
     "source": [
      "Using a function that `return`s a value, we can then use the results in new and exciting ways - with this list, we can plot a graph for instance.\n",
      "\n",
      "But if our function `print()`s instead:"
     ]
    },
    {
     "cell_type": "code",
     "collapsed": false,
     "input": [
      "mylist = [f2(val) for val in range(5)]\n",
      "print(mylist)"
     ],
     "language": "python",
     "metadata": {},
     "outputs": [
      {
       "output_type": "stream",
       "stream": "stdout",
       "text": [
        "9\n",
        "13\n",
        "19\n",
        "27\n",
        "37\n",
        "[None, None, None, None, None]\n"
       ]
      }
     ],
     "prompt_number": 17
    },
    {
     "cell_type": "markdown",
     "metadata": {},
     "source": [
      "We see the numbers, printed to an appropriate place, but now we've got a list of `None`s, which isn't as much use as the list above. How do we get the values back that were printed, to make a list? We can't. They're gone - written to [STDOUT](http://en.wikipedia.org/wiki/Standard_streams)."
     ]
    },
    {
     "cell_type": "markdown",
     "metadata": {},
     "source": [
      "### 2) Docstrings are important - your functions should always have them.\n",
      "\n",
      "There are two things that are really important about function docstrings.\n",
      "\n",
      "1. They should accurately describe what the function does\n",
      "2. They should be formatted correctly\n",
      "\n",
      "(1) is more important than (2). Docstrings are the documentation for your code - people will read this, rather than your code, and use the function accordingly. If it's an incorrect description, all kinds of horrors can follow. Also, having the *intended* function of the code stated clearly in the docstring means that you can test the code's correctness against what you would expect.\n",
      "\n",
      "It is not unknown for people to write programs that are, to begin with, just function declarations with docstrings, to establish that the program structure should work as intended, and gradually fill in the code that does what the function claims afterwards.\n",
      "\n",
      "Correct formatting is preferable because there are a number of systems that will take docstrings and turn them into somthing useful, like pretty documentation, or working tests of the code:\n",
      "\n",
      "* [pydoc](https://docs.python.org/2/library/pydoc.html)\n",
      "* [doctest](https://docs.python.org/2/library/doctest.html)\n",
      "\n",
      "It's usually better to be able to use these, than not. The docstring formatting conventions are in [PEP 257](https://www.python.org/dev/peps/pep-0257/)"
     ]
    },
    {
     "cell_type": "markdown",
     "metadata": {},
     "source": [
      "Here's one example of how docstrings are useful - with the `help()` function, when we get stuck:"
     ]
    },
    {
     "cell_type": "code",
     "collapsed": false,
     "input": [
      "help(f1)"
     ],
     "language": "python",
     "metadata": {},
     "outputs": [
      {
       "output_type": "stream",
       "stream": "stdout",
       "text": [
        "Help on function f1 in module __main__:\n",
        "\n",
        "f1(x)\n",
        "    Returns x^2 + 3x + 9.\n",
        "\n"
       ]
      }
     ],
     "prompt_number": 18
    },
    {
     "cell_type": "code",
     "collapsed": false,
     "input": [
      "help(f2)"
     ],
     "language": "python",
     "metadata": {},
     "outputs": [
      {
       "output_type": "stream",
       "stream": "stdout",
       "text": [
        "Help on function f2 in module __main__:\n",
        "\n",
        "f2(x)\n",
        "    Prints x^2 + 3x + 9.\n",
        "\n"
       ]
      }
     ],
     "prompt_number": 19
    },
    {
     "cell_type": "code",
     "collapsed": false,
     "input": [
      "help(fasta_parser)"
     ],
     "language": "python",
     "metadata": {},
     "outputs": [
      {
       "output_type": "stream",
       "stream": "stdout",
       "text": [
        "Help on function fasta_parser in module __main__:\n",
        "\n",
        "fasta_parser(filename)\n",
        "\n"
       ]
      }
     ],
     "prompt_number": 20
    },
    {
     "cell_type": "markdown",
     "metadata": {},
     "source": [
      "The docstrings for `f1()` and `f2()` tell me what the functions do. There isn't a docstring for `fasta_parser`, so I only get the name of the function and its arguments - not as helpful."
     ]
    },
    {
     "cell_type": "markdown",
     "metadata": {},
     "source": [
      "### 3) Specific code comments\n",
      "\n",
      "I've interleaved comments into a copy of the function, below:"
     ]
    },
    {
     "cell_type": "code",
     "collapsed": false,
     "input": [
      "# LP NOTE:\n",
      "# The three variables below are never used, and are \"out of scope\" of the function.\n",
      "# That is, the function doesn't modify them.\n",
      "seqs=[]\n",
      "seq_ids=[]\n",
      "seqs_ln=[]\n",
      "\n",
      "\n",
      "def fasta_parser(filename):\n",
      "\n",
      " \n",
      "    #Fasta parser: need to have two kind of objects:\n",
      "    # 1) seq identifiers (ordered)\n",
      "    # 2) corresponding sequences (ordered)\n",
      "    \n",
      "    #Result: porint seq_identifiers[0], seqs[0] \n",
      "    #        prints the seq identifier (\">something\") followed by the corresponding\n",
      "    #                                                                 sequence\n",
      "    \n",
      "# LP NOTE\n",
      "# The three lines below are not a good idiom - it is better to get\n",
      "# into the habit of using context managers.\n",
      "    #Import the file lines\n",
      "    fasta=open(filename,'r')\n",
      "    lines=fasta.readlines()\n",
      "    lines_iterator=range(len(lines))\n",
      "    \n",
      "    prov_seq_ids=[]\n",
      "    sequences=[]\n",
      "    ids_positions=[]\n",
      "    seq_borders=[]\n",
      "    seq_positions_iterator=[]\n",
      "\n",
      "    #Find out where the \">\" lines are that correspond to the seq_identifiers that\n",
      "    #also are the lines that border the sequences but for the last line    \n",
      "    for i in lines_iterator:\n",
      "        if lines[i].startswith('>'):\n",
      "            seq_borders.append(i)\n",
      "            ids_positions.append(i)\n",
      "    seq_borders.append(len(lines))\n",
      "    num_seqs=len(ids_positions)\n",
      "    \n",
      "# LP NOTE:\n",
      "# In the code below, you're putting sequence identifiers and values into \n",
      "# separate containers (here, lists) that are unrelated to each other.\n",
      "# It would be better to associate sequence IDs and sequences with each other,\n",
      "# in something like a dictionary, tuple, or named tuple.\n",
      "    #Read the \">\" lines in order to assign them to the variable seq_ids\n",
      "    for id in ids_positions:\n",
      "        prov_seq_ids.append(lines[id])\n",
      "    \n",
      "    #Read the sequences lines in order to assign them to the variable seqs\n",
      "    prov_seqs1=[]\n",
      "    for f,k in zip(seq_borders,seq_borders[1:]):\n",
      "        prov_seqs1.append(lines[f+1:k])\n",
      "        \n",
      "    #Have to unify the lines of the sequences and remove the '\\n's\n",
      "    prov_seqs2=[]\n",
      "    \n",
      "    \n",
      "    for r in range(0,num_seqs):\n",
      "        prov_seqs2.append(''.join(prov_seqs1[r]))\n",
      "    \n",
      "    for h in range(0,len(prov_seqs2)):\n",
      "        seqs.append(prov_seqs2[h].replace('\\n',''))\n",
      "    for l in range(0,num_seqs):\n",
      "        seq_ids.append(prov_seq_ids[h].replace('\\n',''))\n",
      "\n",
      "#Sequence lenght        \n",
      "    for s in range(0,num_seqs):\n",
      "        seqs_ln.append(len(seqs[s]))\n",
      "        \n",
      "    # LP: Peek at the variables in the function\n",
      "    print prov_seq_ids, sequences, ids_positions, seq_borders, seq_positions_iterator"
     ],
     "language": "python",
     "metadata": {},
     "outputs": [],
     "prompt_number": 21
    },
    {
     "cell_type": "markdown",
     "metadata": {},
     "source": [
      "Let's see what the function variables are:"
     ]
    },
    {
     "cell_type": "code",
     "collapsed": false,
     "input": [
      "fasta_parser(INFILE)"
     ],
     "language": "python",
     "metadata": {},
     "outputs": [
      {
       "output_type": "stream",
       "stream": "stdout",
       "text": [
        "['>Rosalind_6404\\n', '>Rosalind_5959\\n', '>Rosalind_0808\\n'] [] [0, 3, 6] [0, 3, 6, 9] []\n"
       ]
      }
     ],
     "prompt_number": 22
    },
    {
     "cell_type": "markdown",
     "metadata": {},
     "source": [
      "Do these all seem useful? Could there be a better way to structure the data, more relevant to the problem - or more general?"
     ]
    },
    {
     "cell_type": "markdown",
     "metadata": {},
     "source": [
      "#### Scope\n",
      "\n",
      "There are lots of introductions on the web, e.g. [here](http://spartanideas.msu.edu/2014/05/12/a-beginners-guide-to-pythons-namespaces-scope-resolution-and-the-legb-rule/) - but the key thing is variables defined outside a function are only accessible as read-only variables, i.e. constants."
     ]
    },
    {
     "cell_type": "code",
     "collapsed": false,
     "input": [
      "# This variable is defined 'globally'\n",
      "thisval = 7\n",
      "\n",
      "def f3():\n",
      "    \"\"\"Returns thisval (defined globally).\"\"\"\n",
      "    return thisval\n",
      "\n",
      "def f4():\n",
      "    \"\"\"Modifies, then returns thisval (defined in the function).\"\"\"\n",
      "    thisval = 100\n",
      "    return thisval\n",
      "\n",
      "def f5():\n",
      "    \"\"\"Attempts to modify global thisval (will fail).\"\"\"\n",
      "    thisval += 100\n",
      "    return thisval"
     ],
     "language": "python",
     "metadata": {},
     "outputs": [],
     "prompt_number": 23
    },
    {
     "cell_type": "markdown",
     "metadata": {},
     "source": [
      "Calling `f3()` gives the value of the global variable `thisval`"
     ]
    },
    {
     "cell_type": "code",
     "collapsed": false,
     "input": [
      "f3()"
     ],
     "language": "python",
     "metadata": {},
     "outputs": [
      {
       "metadata": {},
       "output_type": "pyout",
       "prompt_number": 24,
       "text": [
        "7"
       ]
      }
     ],
     "prompt_number": 24
    },
    {
     "cell_type": "markdown",
     "metadata": {},
     "source": [
      "Calling `f4()` looks like it might have change the global value of `thisval`, but..."
     ]
    },
    {
     "cell_type": "code",
     "collapsed": false,
     "input": [
      "f4()"
     ],
     "language": "python",
     "metadata": {},
     "outputs": [
      {
       "metadata": {},
       "output_type": "pyout",
       "prompt_number": 25,
       "text": [
        "100"
       ]
      }
     ],
     "prompt_number": 25
    },
    {
     "cell_type": "markdown",
     "metadata": {},
     "source": [
      "...because the variable was defined *in the function* it is invisible to the program outside the function, and so the global value of `thisval` does not change:"
     ]
    },
    {
     "cell_type": "code",
     "collapsed": false,
     "input": [
      "f3()"
     ],
     "language": "python",
     "metadata": {},
     "outputs": [
      {
       "metadata": {},
       "output_type": "pyout",
       "prompt_number": 26,
       "text": [
        "7"
       ]
      }
     ],
     "prompt_number": 26
    },
    {
     "cell_type": "markdown",
     "metadata": {},
     "source": [
      "Using `var += 100` is shorthand for the assignment `var = var + 100` but, because there is no way for the function to modify the global variable `thisval`, the operation fails.\n",
      "\n",
      "Note how the error is `local variable 'thisval' referenced before assignment` - the `+=` operator expects a local variable, not a global out-of-scope variable."
     ]
    },
    {
     "cell_type": "code",
     "collapsed": false,
     "input": [
      "f5()"
     ],
     "language": "python",
     "metadata": {},
     "outputs": [
      {
       "ename": "UnboundLocalError",
       "evalue": "local variable 'thisval' referenced before assignment",
       "output_type": "pyerr",
       "traceback": [
        "\u001b[0;31m---------------------------------------------------------------------------\u001b[0m\n\u001b[0;31mUnboundLocalError\u001b[0m                         Traceback (most recent call last)",
        "\u001b[0;32m<ipython-input-27-a4821f5490a7>\u001b[0m in \u001b[0;36m<module>\u001b[0;34m()\u001b[0m\n\u001b[0;32m----> 1\u001b[0;31m \u001b[0mf5\u001b[0m\u001b[0;34m(\u001b[0m\u001b[0;34m)\u001b[0m\u001b[0;34m\u001b[0m\u001b[0m\n\u001b[0m",
        "\u001b[0;32m<ipython-input-23-1cd934e3491b>\u001b[0m in \u001b[0;36mf5\u001b[0;34m()\u001b[0m\n\u001b[1;32m     13\u001b[0m \u001b[0;32mdef\u001b[0m \u001b[0mf5\u001b[0m\u001b[0;34m(\u001b[0m\u001b[0;34m)\u001b[0m\u001b[0;34m:\u001b[0m\u001b[0;34m\u001b[0m\u001b[0m\n\u001b[1;32m     14\u001b[0m     \u001b[0;34m\"\"\"Attempts to modify global thisval (will fail).\"\"\"\u001b[0m\u001b[0;34m\u001b[0m\u001b[0m\n\u001b[0;32m---> 15\u001b[0;31m     \u001b[0mthisval\u001b[0m \u001b[0;34m+=\u001b[0m \u001b[0;36m100\u001b[0m\u001b[0;34m\u001b[0m\u001b[0m\n\u001b[0m\u001b[1;32m     16\u001b[0m     \u001b[0;32mreturn\u001b[0m \u001b[0mthisval\u001b[0m\u001b[0;34m\u001b[0m\u001b[0m\n",
        "\u001b[0;31mUnboundLocalError\u001b[0m: local variable 'thisval' referenced before assignment"
       ]
      }
     ],
     "prompt_number": 27
    },
    {
     "cell_type": "markdown",
     "metadata": {},
     "source": [
      "The global `thisval` is, obviously, unchanged."
     ]
    },
    {
     "cell_type": "code",
     "collapsed": false,
     "input": [
      "f3()"
     ],
     "language": "python",
     "metadata": {},
     "outputs": [
      {
       "metadata": {},
       "output_type": "pyout",
       "prompt_number": 29,
       "text": [
        "7"
       ]
      }
     ],
     "prompt_number": 29
    },
    {
     "cell_type": "code",
     "collapsed": false,
     "input": [
      "thisval"
     ],
     "language": "python",
     "metadata": {},
     "outputs": [
      {
       "metadata": {},
       "output_type": "pyout",
       "prompt_number": 30,
       "text": [
        "7"
       ]
      }
     ],
     "prompt_number": 30
    },
    {
     "cell_type": "markdown",
     "metadata": {},
     "source": [
      "#### Opening files\n",
      "\n",
      "In a number of bits of code, you've opened files with the idiom:\n",
      "\n",
      "```\n",
      "    #Import the file lines\n",
      "    fasta=open(filename,'r')\n",
      "    lines=fasta.readlines()\n",
      "    lines_iterator=range(len(lines))\n",
      "```\n",
      "\n",
      "There are other ways to do this that are more flexible and better practice in general, that you should make habit - rather than the code above."
     ]
    },
    {
     "cell_type": "markdown",
     "metadata": {},
     "source": [
      "Here's what's going on in your code (note that I'm using the usual Python style conventions: spaces around operators, and after commas):"
     ]
    },
    {
     "cell_type": "code",
     "collapsed": false,
     "input": [
      "fasta = open(INFILE, 'r')\n",
      "lines = fasta.readlines()\n",
      "lines_iterator = range(len(lines))"
     ],
     "language": "python",
     "metadata": {},
     "outputs": [],
     "prompt_number": 31
    },
    {
     "cell_type": "code",
     "collapsed": false,
     "input": [
      "print(fasta)"
     ],
     "language": "python",
     "metadata": {},
     "outputs": [
      {
       "output_type": "stream",
       "stream": "stdout",
       "text": [
        "<open file 'files/rosalind.fasta', mode 'r' at 0x104b15e40>\n"
       ]
      }
     ],
     "prompt_number": 32
    },
    {
     "cell_type": "markdown",
     "metadata": {},
     "source": [
      "Now, `fasta` is a filestream that is still open, even though you've done everything you want to do with it. You can't write to the stream, but it's sloppy practice to leave it open and - under some circumstances - you can get side-effects such as not being at the position in the file that you think you are.\n",
      "\n",
      "Good practice here is to use a [Context Manager](http://effbot.org/zone/python-with-statement.htm), or close the stream when you're done."
     ]
    },
    {
     "cell_type": "code",
     "collapsed": false,
     "input": [
      "print(lines)"
     ],
     "language": "python",
     "metadata": {},
     "outputs": [
      {
       "output_type": "stream",
       "stream": "stdout",
       "text": [
        "['>Rosalind_6404\\n', 'CCTGCGGAAGATCGGCACTAGAATAGCCAGAACCGTTTCTCTGAGGCTTCCGGCCTTCCC\\n', 'TCCCACTAATAATTCTGAGG\\n', '>Rosalind_5959\\n', 'CCATCGGTAGCGCATCCTTAGTCCAATTAAGTCCCTATCCAGGCGCTCCGCCGAAGGTCT\\n', 'ATATCCATTTGTCAGCAGACACGC\\n', '>Rosalind_0808\\n', 'CCACCCTCGTGGTATGGCTAGGCATTCAGGAACCGGAGAACGCTTCAGACCAGCCCGGAC\\n', 'TGGGAACCTGCGGGCAGTAGGTGGAAT']\n"
       ]
      }
     ],
     "prompt_number": 33
    },
    {
     "cell_type": "markdown",
     "metadata": {},
     "source": [
      "Here, by assigning the output from `fasta.readlines()` to a variable, the whole input file is taken into memory. For small files, this is not a problem. But for large files, such as the 100MB to 2-3GB genomics and metagenomics output files you may need to deal with, there can be significant performance overheads, and other techniques are required."
     ]
    },
    {
     "cell_type": "code",
     "collapsed": false,
     "input": [
      "type(fasta.readlines())"
     ],
     "language": "python",
     "metadata": {},
     "outputs": [
      {
       "metadata": {},
       "output_type": "pyout",
       "prompt_number": 34,
       "text": [
        "list"
       ]
      }
     ],
     "prompt_number": 34
    },
    {
     "cell_type": "markdown",
     "metadata": {},
     "source": [
      "The recommended way to interact with files is now using the `with` context manager:"
     ]
    },
    {
     "cell_type": "code",
     "collapsed": false,
     "input": [
      "with open(INFILE, 'r') as fasta:\n",
      "    lines = fasta.readlines()\n",
      "print(lines)"
     ],
     "language": "python",
     "metadata": {},
     "outputs": [
      {
       "output_type": "stream",
       "stream": "stdout",
       "text": [
        "['>Rosalind_6404\\n', 'CCTGCGGAAGATCGGCACTAGAATAGCCAGAACCGTTTCTCTGAGGCTTCCGGCCTTCCC\\n', 'TCCCACTAATAATTCTGAGG\\n', '>Rosalind_5959\\n', 'CCATCGGTAGCGCATCCTTAGTCCAATTAAGTCCCTATCCAGGCGCTCCGCCGAAGGTCT\\n', 'ATATCCATTTGTCAGCAGACACGC\\n', '>Rosalind_0808\\n', 'CCACCCTCGTGGTATGGCTAGGCATTCAGGAACCGGAGAACGCTTCAGACCAGCCCGGAC\\n', 'TGGGAACCTGCGGGCAGTAGGTGGAAT']\n"
       ]
      }
     ],
     "prompt_number": 35
    },
    {
     "cell_type": "code",
     "collapsed": false,
     "input": [
      "print(fasta)"
     ],
     "language": "python",
     "metadata": {},
     "outputs": [
      {
       "output_type": "stream",
       "stream": "stdout",
       "text": [
        "<closed file 'files/rosalind.fasta', mode 'r' at 0x104b15ed0>\n"
       ]
      }
     ],
     "prompt_number": 36
    },
    {
     "cell_type": "markdown",
     "metadata": {},
     "source": [
      "Notice how we can still use `fasta.readlines()` as before, but now the `fasta` file is recorded as *closed* - there can be no unfortunate side-effects from other code. This is a safer, `defensive` way to program, and you should use it wherever possible."
     ]
    },
    {
     "cell_type": "markdown",
     "metadata": {},
     "source": [
      "Finally here, there's no need to assign the output from `range()` to a variable. It only takes up memory, and this can be a problem if `range()` gives you a very long list. It is better to use `range()` directly, when you need it."
     ]
    },
    {
     "cell_type": "code",
     "collapsed": false,
     "input": [
      "lines_iterator"
     ],
     "language": "python",
     "metadata": {},
     "outputs": [
      {
       "metadata": {},
       "output_type": "pyout",
       "prompt_number": 37,
       "text": [
        "[0, 1, 2, 3, 4, 5, 6, 7, 8]"
       ]
      }
     ],
     "prompt_number": 37
    },
    {
     "cell_type": "code",
     "collapsed": false,
     "input": [
      "type(lines_iterator)"
     ],
     "language": "python",
     "metadata": {},
     "outputs": [
      {
       "metadata": {},
       "output_type": "pyout",
       "prompt_number": 38,
       "text": [
        "list"
       ]
      }
     ],
     "prompt_number": 38
    },
    {
     "cell_type": "code",
     "collapsed": false,
     "input": [
      "range(len(lines))"
     ],
     "language": "python",
     "metadata": {},
     "outputs": [
      {
       "metadata": {},
       "output_type": "pyout",
       "prompt_number": 39,
       "text": [
        "[0, 1, 2, 3, 4, 5, 6, 7, 8]"
       ]
      }
     ],
     "prompt_number": 39
    },
    {
     "cell_type": "heading",
     "level": 1,
     "metadata": {},
     "source": [
      "Some hints for parsing"
     ]
    },
    {
     "cell_type": "markdown",
     "metadata": {},
     "source": [
      "Imagine you have an input file that looks like this:\n",
      "\n",
      "```\n",
      "1\n",
      "2\n",
      "3\n",
      "4\n",
      "5\n",
      "6\n",
      "7\n",
      "8\n",
      "...\n",
      "```\n",
      "\n",
      "and so on. Let's pretend that what you want to do is pull out all the values in that file that are divisible by three, when you subtract 1 from the value: 1, 4, 7, 10 etc. - and associate the following two numbers with that value. There are lots of ways to do this, but one that is relevant to parsing FASTA files is below.\n",
      "\n",
      "We'll define `text` as though we've read it in from a file with:\n",
      "\n",
      "```\n",
      "with file('values.txt', 'rU') as fh:\n",
      "```"
     ]
    },
    {
     "cell_type": "code",
     "collapsed": false,
     "input": [
      "# This is the code that makes our text look like a filehandle (equivalent to with open(filename, 'rU') as fh)\n",
      "import StringIO\n",
      "fh = StringIO.StringIO('\\n'.join(['%d' % val for val in range(1, 10000)]))"
     ],
     "language": "python",
     "metadata": {},
     "outputs": [],
     "prompt_number": 40
    },
    {
     "cell_type": "markdown",
     "metadata": {},
     "source": [
      "Now we're going to loop over the lines in `fh` - *without making a list in memory* - and every time a value comes up that is a multiple of 3, plus 1, we'll keep the following lines in a list, and put the whole lot in a dictionary:"
     ]
    },
    {
     "cell_type": "code",
     "collapsed": false,
     "input": [
      "data = {}  # Holds output data: key and a list of values\n",
      "key = None  # Initial value for key\n",
      "vals = []  # Initial value for values\n",
      "for line in iter(fh):\n",
      "    if (int(line.strip()) - 1) % 3 == 0:\n",
      "        if key is not None:\n",
      "            data[key] = vals  # Update output dictionary\n",
      "        vals = []  # Clear values\n",
      "        key = line.strip()  # This line is a new key\n",
      "    else:\n",
      "        vals.append(line.strip())"
     ],
     "language": "python",
     "metadata": {},
     "outputs": [],
     "prompt_number": 41
    },
    {
     "cell_type": "code",
     "collapsed": false,
     "input": [
      "data"
     ],
     "language": "python",
     "metadata": {},
     "outputs": [
      {
       "metadata": {},
       "output_type": "pyout",
       "prompt_number": 42,
       "text": [
        "{'1': ['2', '3'],\n",
        " '10': ['11', '12'],\n",
        " '100': ['101', '102'],\n",
        " '1000': ['1001', '1002'],\n",
        " '1003': ['1004', '1005'],\n",
        " '1006': ['1007', '1008'],\n",
        " '1009': ['1010', '1011'],\n",
        " '1012': ['1013', '1014'],\n",
        " '1015': ['1016', '1017'],\n",
        " '1018': ['1019', '1020'],\n",
        " '1021': ['1022', '1023'],\n",
        " '1024': ['1025', '1026'],\n",
        " '1027': ['1028', '1029'],\n",
        " '103': ['104', '105'],\n",
        " '1030': ['1031', '1032'],\n",
        " '1033': ['1034', '1035'],\n",
        " '1036': ['1037', '1038'],\n",
        " '1039': ['1040', '1041'],\n",
        " '1042': ['1043', '1044'],\n",
        " '1045': ['1046', '1047'],\n",
        " '1048': ['1049', '1050'],\n",
        " '1051': ['1052', '1053'],\n",
        " '1054': ['1055', '1056'],\n",
        " '1057': ['1058', '1059'],\n",
        " '106': ['107', '108'],\n",
        " '1060': ['1061', '1062'],\n",
        " '1063': ['1064', '1065'],\n",
        " '1066': ['1067', '1068'],\n",
        " '1069': ['1070', '1071'],\n",
        " '1072': ['1073', '1074'],\n",
        " '1075': ['1076', '1077'],\n",
        " '1078': ['1079', '1080'],\n",
        " '1081': ['1082', '1083'],\n",
        " '1084': ['1085', '1086'],\n",
        " '1087': ['1088', '1089'],\n",
        " '109': ['110', '111'],\n",
        " '1090': ['1091', '1092'],\n",
        " '1093': ['1094', '1095'],\n",
        " '1096': ['1097', '1098'],\n",
        " '1099': ['1100', '1101'],\n",
        " '1102': ['1103', '1104'],\n",
        " '1105': ['1106', '1107'],\n",
        " '1108': ['1109', '1110'],\n",
        " '1111': ['1112', '1113'],\n",
        " '1114': ['1115', '1116'],\n",
        " '1117': ['1118', '1119'],\n",
        " '112': ['113', '114'],\n",
        " '1120': ['1121', '1122'],\n",
        " '1123': ['1124', '1125'],\n",
        " '1126': ['1127', '1128'],\n",
        " '1129': ['1130', '1131'],\n",
        " '1132': ['1133', '1134'],\n",
        " '1135': ['1136', '1137'],\n",
        " '1138': ['1139', '1140'],\n",
        " '1141': ['1142', '1143'],\n",
        " '1144': ['1145', '1146'],\n",
        " '1147': ['1148', '1149'],\n",
        " '115': ['116', '117'],\n",
        " '1150': ['1151', '1152'],\n",
        " '1153': ['1154', '1155'],\n",
        " '1156': ['1157', '1158'],\n",
        " '1159': ['1160', '1161'],\n",
        " '1162': ['1163', '1164'],\n",
        " '1165': ['1166', '1167'],\n",
        " '1168': ['1169', '1170'],\n",
        " '1171': ['1172', '1173'],\n",
        " '1174': ['1175', '1176'],\n",
        " '1177': ['1178', '1179'],\n",
        " '118': ['119', '120'],\n",
        " '1180': ['1181', '1182'],\n",
        " '1183': ['1184', '1185'],\n",
        " '1186': ['1187', '1188'],\n",
        " '1189': ['1190', '1191'],\n",
        " '1192': ['1193', '1194'],\n",
        " '1195': ['1196', '1197'],\n",
        " '1198': ['1199', '1200'],\n",
        " '1201': ['1202', '1203'],\n",
        " '1204': ['1205', '1206'],\n",
        " '1207': ['1208', '1209'],\n",
        " '121': ['122', '123'],\n",
        " '1210': ['1211', '1212'],\n",
        " '1213': ['1214', '1215'],\n",
        " '1216': ['1217', '1218'],\n",
        " '1219': ['1220', '1221'],\n",
        " '1222': ['1223', '1224'],\n",
        " '1225': ['1226', '1227'],\n",
        " '1228': ['1229', '1230'],\n",
        " '1231': ['1232', '1233'],\n",
        " '1234': ['1235', '1236'],\n",
        " '1237': ['1238', '1239'],\n",
        " '124': ['125', '126'],\n",
        " '1240': ['1241', '1242'],\n",
        " '1243': ['1244', '1245'],\n",
        " '1246': ['1247', '1248'],\n",
        " '1249': ['1250', '1251'],\n",
        " '1252': ['1253', '1254'],\n",
        " '1255': ['1256', '1257'],\n",
        " '1258': ['1259', '1260'],\n",
        " '1261': ['1262', '1263'],\n",
        " '1264': ['1265', '1266'],\n",
        " '1267': ['1268', '1269'],\n",
        " '127': ['128', '129'],\n",
        " '1270': ['1271', '1272'],\n",
        " '1273': ['1274', '1275'],\n",
        " '1276': ['1277', '1278'],\n",
        " '1279': ['1280', '1281'],\n",
        " '1282': ['1283', '1284'],\n",
        " '1285': ['1286', '1287'],\n",
        " '1288': ['1289', '1290'],\n",
        " '1291': ['1292', '1293'],\n",
        " '1294': ['1295', '1296'],\n",
        " '1297': ['1298', '1299'],\n",
        " '13': ['14', '15'],\n",
        " '130': ['131', '132'],\n",
        " '1300': ['1301', '1302'],\n",
        " '1303': ['1304', '1305'],\n",
        " '1306': ['1307', '1308'],\n",
        " '1309': ['1310', '1311'],\n",
        " '1312': ['1313', '1314'],\n",
        " '1315': ['1316', '1317'],\n",
        " '1318': ['1319', '1320'],\n",
        " '1321': ['1322', '1323'],\n",
        " '1324': ['1325', '1326'],\n",
        " '1327': ['1328', '1329'],\n",
        " '133': ['134', '135'],\n",
        " '1330': ['1331', '1332'],\n",
        " '1333': ['1334', '1335'],\n",
        " '1336': ['1337', '1338'],\n",
        " '1339': ['1340', '1341'],\n",
        " '1342': ['1343', '1344'],\n",
        " '1345': ['1346', '1347'],\n",
        " '1348': ['1349', '1350'],\n",
        " '1351': ['1352', '1353'],\n",
        " '1354': ['1355', '1356'],\n",
        " '1357': ['1358', '1359'],\n",
        " '136': ['137', '138'],\n",
        " '1360': ['1361', '1362'],\n",
        " '1363': ['1364', '1365'],\n",
        " '1366': ['1367', '1368'],\n",
        " '1369': ['1370', '1371'],\n",
        " '1372': ['1373', '1374'],\n",
        " '1375': ['1376', '1377'],\n",
        " '1378': ['1379', '1380'],\n",
        " '1381': ['1382', '1383'],\n",
        " '1384': ['1385', '1386'],\n",
        " '1387': ['1388', '1389'],\n",
        " '139': ['140', '141'],\n",
        " '1390': ['1391', '1392'],\n",
        " '1393': ['1394', '1395'],\n",
        " '1396': ['1397', '1398'],\n",
        " '1399': ['1400', '1401'],\n",
        " '1402': ['1403', '1404'],\n",
        " '1405': ['1406', '1407'],\n",
        " '1408': ['1409', '1410'],\n",
        " '1411': ['1412', '1413'],\n",
        " '1414': ['1415', '1416'],\n",
        " '1417': ['1418', '1419'],\n",
        " '142': ['143', '144'],\n",
        " '1420': ['1421', '1422'],\n",
        " '1423': ['1424', '1425'],\n",
        " '1426': ['1427', '1428'],\n",
        " '1429': ['1430', '1431'],\n",
        " '1432': ['1433', '1434'],\n",
        " '1435': ['1436', '1437'],\n",
        " '1438': ['1439', '1440'],\n",
        " '1441': ['1442', '1443'],\n",
        " '1444': ['1445', '1446'],\n",
        " '1447': ['1448', '1449'],\n",
        " '145': ['146', '147'],\n",
        " '1450': ['1451', '1452'],\n",
        " '1453': ['1454', '1455'],\n",
        " '1456': ['1457', '1458'],\n",
        " '1459': ['1460', '1461'],\n",
        " '1462': ['1463', '1464'],\n",
        " '1465': ['1466', '1467'],\n",
        " '1468': ['1469', '1470'],\n",
        " '1471': ['1472', '1473'],\n",
        " '1474': ['1475', '1476'],\n",
        " '1477': ['1478', '1479'],\n",
        " '148': ['149', '150'],\n",
        " '1480': ['1481', '1482'],\n",
        " '1483': ['1484', '1485'],\n",
        " '1486': ['1487', '1488'],\n",
        " '1489': ['1490', '1491'],\n",
        " '1492': ['1493', '1494'],\n",
        " '1495': ['1496', '1497'],\n",
        " '1498': ['1499', '1500'],\n",
        " '1501': ['1502', '1503'],\n",
        " '1504': ['1505', '1506'],\n",
        " '1507': ['1508', '1509'],\n",
        " '151': ['152', '153'],\n",
        " '1510': ['1511', '1512'],\n",
        " '1513': ['1514', '1515'],\n",
        " '1516': ['1517', '1518'],\n",
        " '1519': ['1520', '1521'],\n",
        " '1522': ['1523', '1524'],\n",
        " '1525': ['1526', '1527'],\n",
        " '1528': ['1529', '1530'],\n",
        " '1531': ['1532', '1533'],\n",
        " '1534': ['1535', '1536'],\n",
        " '1537': ['1538', '1539'],\n",
        " '154': ['155', '156'],\n",
        " '1540': ['1541', '1542'],\n",
        " '1543': ['1544', '1545'],\n",
        " '1546': ['1547', '1548'],\n",
        " '1549': ['1550', '1551'],\n",
        " '1552': ['1553', '1554'],\n",
        " '1555': ['1556', '1557'],\n",
        " '1558': ['1559', '1560'],\n",
        " '1561': ['1562', '1563'],\n",
        " '1564': ['1565', '1566'],\n",
        " '1567': ['1568', '1569'],\n",
        " '157': ['158', '159'],\n",
        " '1570': ['1571', '1572'],\n",
        " '1573': ['1574', '1575'],\n",
        " '1576': ['1577', '1578'],\n",
        " '1579': ['1580', '1581'],\n",
        " '1582': ['1583', '1584'],\n",
        " '1585': ['1586', '1587'],\n",
        " '1588': ['1589', '1590'],\n",
        " '1591': ['1592', '1593'],\n",
        " '1594': ['1595', '1596'],\n",
        " '1597': ['1598', '1599'],\n",
        " '16': ['17', '18'],\n",
        " '160': ['161', '162'],\n",
        " '1600': ['1601', '1602'],\n",
        " '1603': ['1604', '1605'],\n",
        " '1606': ['1607', '1608'],\n",
        " '1609': ['1610', '1611'],\n",
        " '1612': ['1613', '1614'],\n",
        " '1615': ['1616', '1617'],\n",
        " '1618': ['1619', '1620'],\n",
        " '1621': ['1622', '1623'],\n",
        " '1624': ['1625', '1626'],\n",
        " '1627': ['1628', '1629'],\n",
        " '163': ['164', '165'],\n",
        " '1630': ['1631', '1632'],\n",
        " '1633': ['1634', '1635'],\n",
        " '1636': ['1637', '1638'],\n",
        " '1639': ['1640', '1641'],\n",
        " '1642': ['1643', '1644'],\n",
        " '1645': ['1646', '1647'],\n",
        " '1648': ['1649', '1650'],\n",
        " '1651': ['1652', '1653'],\n",
        " '1654': ['1655', '1656'],\n",
        " '1657': ['1658', '1659'],\n",
        " '166': ['167', '168'],\n",
        " '1660': ['1661', '1662'],\n",
        " '1663': ['1664', '1665'],\n",
        " '1666': ['1667', '1668'],\n",
        " '1669': ['1670', '1671'],\n",
        " '1672': ['1673', '1674'],\n",
        " '1675': ['1676', '1677'],\n",
        " '1678': ['1679', '1680'],\n",
        " '1681': ['1682', '1683'],\n",
        " '1684': ['1685', '1686'],\n",
        " '1687': ['1688', '1689'],\n",
        " '169': ['170', '171'],\n",
        " '1690': ['1691', '1692'],\n",
        " '1693': ['1694', '1695'],\n",
        " '1696': ['1697', '1698'],\n",
        " '1699': ['1700', '1701'],\n",
        " '1702': ['1703', '1704'],\n",
        " '1705': ['1706', '1707'],\n",
        " '1708': ['1709', '1710'],\n",
        " '1711': ['1712', '1713'],\n",
        " '1714': ['1715', '1716'],\n",
        " '1717': ['1718', '1719'],\n",
        " '172': ['173', '174'],\n",
        " '1720': ['1721', '1722'],\n",
        " '1723': ['1724', '1725'],\n",
        " '1726': ['1727', '1728'],\n",
        " '1729': ['1730', '1731'],\n",
        " '1732': ['1733', '1734'],\n",
        " '1735': ['1736', '1737'],\n",
        " '1738': ['1739', '1740'],\n",
        " '1741': ['1742', '1743'],\n",
        " '1744': ['1745', '1746'],\n",
        " '1747': ['1748', '1749'],\n",
        " '175': ['176', '177'],\n",
        " '1750': ['1751', '1752'],\n",
        " '1753': ['1754', '1755'],\n",
        " '1756': ['1757', '1758'],\n",
        " '1759': ['1760', '1761'],\n",
        " '1762': ['1763', '1764'],\n",
        " '1765': ['1766', '1767'],\n",
        " '1768': ['1769', '1770'],\n",
        " '1771': ['1772', '1773'],\n",
        " '1774': ['1775', '1776'],\n",
        " '1777': ['1778', '1779'],\n",
        " '178': ['179', '180'],\n",
        " '1780': ['1781', '1782'],\n",
        " '1783': ['1784', '1785'],\n",
        " '1786': ['1787', '1788'],\n",
        " '1789': ['1790', '1791'],\n",
        " '1792': ['1793', '1794'],\n",
        " '1795': ['1796', '1797'],\n",
        " '1798': ['1799', '1800'],\n",
        " '1801': ['1802', '1803'],\n",
        " '1804': ['1805', '1806'],\n",
        " '1807': ['1808', '1809'],\n",
        " '181': ['182', '183'],\n",
        " '1810': ['1811', '1812'],\n",
        " '1813': ['1814', '1815'],\n",
        " '1816': ['1817', '1818'],\n",
        " '1819': ['1820', '1821'],\n",
        " '1822': ['1823', '1824'],\n",
        " '1825': ['1826', '1827'],\n",
        " '1828': ['1829', '1830'],\n",
        " '1831': ['1832', '1833'],\n",
        " '1834': ['1835', '1836'],\n",
        " '1837': ['1838', '1839'],\n",
        " '184': ['185', '186'],\n",
        " '1840': ['1841', '1842'],\n",
        " '1843': ['1844', '1845'],\n",
        " '1846': ['1847', '1848'],\n",
        " '1849': ['1850', '1851'],\n",
        " '1852': ['1853', '1854'],\n",
        " '1855': ['1856', '1857'],\n",
        " '1858': ['1859', '1860'],\n",
        " '1861': ['1862', '1863'],\n",
        " '1864': ['1865', '1866'],\n",
        " '1867': ['1868', '1869'],\n",
        " '187': ['188', '189'],\n",
        " '1870': ['1871', '1872'],\n",
        " '1873': ['1874', '1875'],\n",
        " '1876': ['1877', '1878'],\n",
        " '1879': ['1880', '1881'],\n",
        " '1882': ['1883', '1884'],\n",
        " '1885': ['1886', '1887'],\n",
        " '1888': ['1889', '1890'],\n",
        " '1891': ['1892', '1893'],\n",
        " '1894': ['1895', '1896'],\n",
        " '1897': ['1898', '1899'],\n",
        " '19': ['20', '21'],\n",
        " '190': ['191', '192'],\n",
        " '1900': ['1901', '1902'],\n",
        " '1903': ['1904', '1905'],\n",
        " '1906': ['1907', '1908'],\n",
        " '1909': ['1910', '1911'],\n",
        " '1912': ['1913', '1914'],\n",
        " '1915': ['1916', '1917'],\n",
        " '1918': ['1919', '1920'],\n",
        " '1921': ['1922', '1923'],\n",
        " '1924': ['1925', '1926'],\n",
        " '1927': ['1928', '1929'],\n",
        " '193': ['194', '195'],\n",
        " '1930': ['1931', '1932'],\n",
        " '1933': ['1934', '1935'],\n",
        " '1936': ['1937', '1938'],\n",
        " '1939': ['1940', '1941'],\n",
        " '1942': ['1943', '1944'],\n",
        " '1945': ['1946', '1947'],\n",
        " '1948': ['1949', '1950'],\n",
        " '1951': ['1952', '1953'],\n",
        " '1954': ['1955', '1956'],\n",
        " '1957': ['1958', '1959'],\n",
        " '196': ['197', '198'],\n",
        " '1960': ['1961', '1962'],\n",
        " '1963': ['1964', '1965'],\n",
        " '1966': ['1967', '1968'],\n",
        " '1969': ['1970', '1971'],\n",
        " '1972': ['1973', '1974'],\n",
        " '1975': ['1976', '1977'],\n",
        " '1978': ['1979', '1980'],\n",
        " '1981': ['1982', '1983'],\n",
        " '1984': ['1985', '1986'],\n",
        " '1987': ['1988', '1989'],\n",
        " '199': ['200', '201'],\n",
        " '1990': ['1991', '1992'],\n",
        " '1993': ['1994', '1995'],\n",
        " '1996': ['1997', '1998'],\n",
        " '1999': ['2000', '2001'],\n",
        " '2002': ['2003', '2004'],\n",
        " '2005': ['2006', '2007'],\n",
        " '2008': ['2009', '2010'],\n",
        " '2011': ['2012', '2013'],\n",
        " '2014': ['2015', '2016'],\n",
        " '2017': ['2018', '2019'],\n",
        " '202': ['203', '204'],\n",
        " '2020': ['2021', '2022'],\n",
        " '2023': ['2024', '2025'],\n",
        " '2026': ['2027', '2028'],\n",
        " '2029': ['2030', '2031'],\n",
        " '2032': ['2033', '2034'],\n",
        " '2035': ['2036', '2037'],\n",
        " '2038': ['2039', '2040'],\n",
        " '2041': ['2042', '2043'],\n",
        " '2044': ['2045', '2046'],\n",
        " '2047': ['2048', '2049'],\n",
        " '205': ['206', '207'],\n",
        " '2050': ['2051', '2052'],\n",
        " '2053': ['2054', '2055'],\n",
        " '2056': ['2057', '2058'],\n",
        " '2059': ['2060', '2061'],\n",
        " '2062': ['2063', '2064'],\n",
        " '2065': ['2066', '2067'],\n",
        " '2068': ['2069', '2070'],\n",
        " '2071': ['2072', '2073'],\n",
        " '2074': ['2075', '2076'],\n",
        " '2077': ['2078', '2079'],\n",
        " '208': ['209', '210'],\n",
        " '2080': ['2081', '2082'],\n",
        " '2083': ['2084', '2085'],\n",
        " '2086': ['2087', '2088'],\n",
        " '2089': ['2090', '2091'],\n",
        " '2092': ['2093', '2094'],\n",
        " '2095': ['2096', '2097'],\n",
        " '2098': ['2099', '2100'],\n",
        " '2101': ['2102', '2103'],\n",
        " '2104': ['2105', '2106'],\n",
        " '2107': ['2108', '2109'],\n",
        " '211': ['212', '213'],\n",
        " '2110': ['2111', '2112'],\n",
        " '2113': ['2114', '2115'],\n",
        " '2116': ['2117', '2118'],\n",
        " '2119': ['2120', '2121'],\n",
        " '2122': ['2123', '2124'],\n",
        " '2125': ['2126', '2127'],\n",
        " '2128': ['2129', '2130'],\n",
        " '2131': ['2132', '2133'],\n",
        " '2134': ['2135', '2136'],\n",
        " '2137': ['2138', '2139'],\n",
        " '214': ['215', '216'],\n",
        " '2140': ['2141', '2142'],\n",
        " '2143': ['2144', '2145'],\n",
        " '2146': ['2147', '2148'],\n",
        " '2149': ['2150', '2151'],\n",
        " '2152': ['2153', '2154'],\n",
        " '2155': ['2156', '2157'],\n",
        " '2158': ['2159', '2160'],\n",
        " '2161': ['2162', '2163'],\n",
        " '2164': ['2165', '2166'],\n",
        " '2167': ['2168', '2169'],\n",
        " '217': ['218', '219'],\n",
        " '2170': ['2171', '2172'],\n",
        " '2173': ['2174', '2175'],\n",
        " '2176': ['2177', '2178'],\n",
        " '2179': ['2180', '2181'],\n",
        " '2182': ['2183', '2184'],\n",
        " '2185': ['2186', '2187'],\n",
        " '2188': ['2189', '2190'],\n",
        " '2191': ['2192', '2193'],\n",
        " '2194': ['2195', '2196'],\n",
        " '2197': ['2198', '2199'],\n",
        " '22': ['23', '24'],\n",
        " '220': ['221', '222'],\n",
        " '2200': ['2201', '2202'],\n",
        " '2203': ['2204', '2205'],\n",
        " '2206': ['2207', '2208'],\n",
        " '2209': ['2210', '2211'],\n",
        " '2212': ['2213', '2214'],\n",
        " '2215': ['2216', '2217'],\n",
        " '2218': ['2219', '2220'],\n",
        " '2221': ['2222', '2223'],\n",
        " '2224': ['2225', '2226'],\n",
        " '2227': ['2228', '2229'],\n",
        " '223': ['224', '225'],\n",
        " '2230': ['2231', '2232'],\n",
        " '2233': ['2234', '2235'],\n",
        " '2236': ['2237', '2238'],\n",
        " '2239': ['2240', '2241'],\n",
        " '2242': ['2243', '2244'],\n",
        " '2245': ['2246', '2247'],\n",
        " '2248': ['2249', '2250'],\n",
        " '2251': ['2252', '2253'],\n",
        " '2254': ['2255', '2256'],\n",
        " '2257': ['2258', '2259'],\n",
        " '226': ['227', '228'],\n",
        " '2260': ['2261', '2262'],\n",
        " '2263': ['2264', '2265'],\n",
        " '2266': ['2267', '2268'],\n",
        " '2269': ['2270', '2271'],\n",
        " '2272': ['2273', '2274'],\n",
        " '2275': ['2276', '2277'],\n",
        " '2278': ['2279', '2280'],\n",
        " '2281': ['2282', '2283'],\n",
        " '2284': ['2285', '2286'],\n",
        " '2287': ['2288', '2289'],\n",
        " '229': ['230', '231'],\n",
        " '2290': ['2291', '2292'],\n",
        " '2293': ['2294', '2295'],\n",
        " '2296': ['2297', '2298'],\n",
        " '2299': ['2300', '2301'],\n",
        " '2302': ['2303', '2304'],\n",
        " '2305': ['2306', '2307'],\n",
        " '2308': ['2309', '2310'],\n",
        " '2311': ['2312', '2313'],\n",
        " '2314': ['2315', '2316'],\n",
        " '2317': ['2318', '2319'],\n",
        " '232': ['233', '234'],\n",
        " '2320': ['2321', '2322'],\n",
        " '2323': ['2324', '2325'],\n",
        " '2326': ['2327', '2328'],\n",
        " '2329': ['2330', '2331'],\n",
        " '2332': ['2333', '2334'],\n",
        " '2335': ['2336', '2337'],\n",
        " '2338': ['2339', '2340'],\n",
        " '2341': ['2342', '2343'],\n",
        " '2344': ['2345', '2346'],\n",
        " '2347': ['2348', '2349'],\n",
        " '235': ['236', '237'],\n",
        " '2350': ['2351', '2352'],\n",
        " '2353': ['2354', '2355'],\n",
        " '2356': ['2357', '2358'],\n",
        " '2359': ['2360', '2361'],\n",
        " '2362': ['2363', '2364'],\n",
        " '2365': ['2366', '2367'],\n",
        " '2368': ['2369', '2370'],\n",
        " '2371': ['2372', '2373'],\n",
        " '2374': ['2375', '2376'],\n",
        " '2377': ['2378', '2379'],\n",
        " '238': ['239', '240'],\n",
        " '2380': ['2381', '2382'],\n",
        " '2383': ['2384', '2385'],\n",
        " '2386': ['2387', '2388'],\n",
        " '2389': ['2390', '2391'],\n",
        " '2392': ['2393', '2394'],\n",
        " '2395': ['2396', '2397'],\n",
        " '2398': ['2399', '2400'],\n",
        " '2401': ['2402', '2403'],\n",
        " '2404': ['2405', '2406'],\n",
        " '2407': ['2408', '2409'],\n",
        " '241': ['242', '243'],\n",
        " '2410': ['2411', '2412'],\n",
        " '2413': ['2414', '2415'],\n",
        " '2416': ['2417', '2418'],\n",
        " '2419': ['2420', '2421'],\n",
        " '2422': ['2423', '2424'],\n",
        " '2425': ['2426', '2427'],\n",
        " '2428': ['2429', '2430'],\n",
        " '2431': ['2432', '2433'],\n",
        " '2434': ['2435', '2436'],\n",
        " '2437': ['2438', '2439'],\n",
        " '244': ['245', '246'],\n",
        " '2440': ['2441', '2442'],\n",
        " '2443': ['2444', '2445'],\n",
        " '2446': ['2447', '2448'],\n",
        " '2449': ['2450', '2451'],\n",
        " '2452': ['2453', '2454'],\n",
        " '2455': ['2456', '2457'],\n",
        " '2458': ['2459', '2460'],\n",
        " '2461': ['2462', '2463'],\n",
        " '2464': ['2465', '2466'],\n",
        " '2467': ['2468', '2469'],\n",
        " '247': ['248', '249'],\n",
        " '2470': ['2471', '2472'],\n",
        " '2473': ['2474', '2475'],\n",
        " '2476': ['2477', '2478'],\n",
        " '2479': ['2480', '2481'],\n",
        " '2482': ['2483', '2484'],\n",
        " '2485': ['2486', '2487'],\n",
        " '2488': ['2489', '2490'],\n",
        " '2491': ['2492', '2493'],\n",
        " '2494': ['2495', '2496'],\n",
        " '2497': ['2498', '2499'],\n",
        " '25': ['26', '27'],\n",
        " '250': ['251', '252'],\n",
        " '2500': ['2501', '2502'],\n",
        " '2503': ['2504', '2505'],\n",
        " '2506': ['2507', '2508'],\n",
        " '2509': ['2510', '2511'],\n",
        " '2512': ['2513', '2514'],\n",
        " '2515': ['2516', '2517'],\n",
        " '2518': ['2519', '2520'],\n",
        " '2521': ['2522', '2523'],\n",
        " '2524': ['2525', '2526'],\n",
        " '2527': ['2528', '2529'],\n",
        " '253': ['254', '255'],\n",
        " '2530': ['2531', '2532'],\n",
        " '2533': ['2534', '2535'],\n",
        " '2536': ['2537', '2538'],\n",
        " '2539': ['2540', '2541'],\n",
        " '2542': ['2543', '2544'],\n",
        " '2545': ['2546', '2547'],\n",
        " '2548': ['2549', '2550'],\n",
        " '2551': ['2552', '2553'],\n",
        " '2554': ['2555', '2556'],\n",
        " '2557': ['2558', '2559'],\n",
        " '256': ['257', '258'],\n",
        " '2560': ['2561', '2562'],\n",
        " '2563': ['2564', '2565'],\n",
        " '2566': ['2567', '2568'],\n",
        " '2569': ['2570', '2571'],\n",
        " '2572': ['2573', '2574'],\n",
        " '2575': ['2576', '2577'],\n",
        " '2578': ['2579', '2580'],\n",
        " '2581': ['2582', '2583'],\n",
        " '2584': ['2585', '2586'],\n",
        " '2587': ['2588', '2589'],\n",
        " '259': ['260', '261'],\n",
        " '2590': ['2591', '2592'],\n",
        " '2593': ['2594', '2595'],\n",
        " '2596': ['2597', '2598'],\n",
        " '2599': ['2600', '2601'],\n",
        " '2602': ['2603', '2604'],\n",
        " '2605': ['2606', '2607'],\n",
        " '2608': ['2609', '2610'],\n",
        " '2611': ['2612', '2613'],\n",
        " '2614': ['2615', '2616'],\n",
        " '2617': ['2618', '2619'],\n",
        " '262': ['263', '264'],\n",
        " '2620': ['2621', '2622'],\n",
        " '2623': ['2624', '2625'],\n",
        " '2626': ['2627', '2628'],\n",
        " '2629': ['2630', '2631'],\n",
        " '2632': ['2633', '2634'],\n",
        " '2635': ['2636', '2637'],\n",
        " '2638': ['2639', '2640'],\n",
        " '2641': ['2642', '2643'],\n",
        " '2644': ['2645', '2646'],\n",
        " '2647': ['2648', '2649'],\n",
        " '265': ['266', '267'],\n",
        " '2650': ['2651', '2652'],\n",
        " '2653': ['2654', '2655'],\n",
        " '2656': ['2657', '2658'],\n",
        " '2659': ['2660', '2661'],\n",
        " '2662': ['2663', '2664'],\n",
        " '2665': ['2666', '2667'],\n",
        " '2668': ['2669', '2670'],\n",
        " '2671': ['2672', '2673'],\n",
        " '2674': ['2675', '2676'],\n",
        " '2677': ['2678', '2679'],\n",
        " '268': ['269', '270'],\n",
        " '2680': ['2681', '2682'],\n",
        " '2683': ['2684', '2685'],\n",
        " '2686': ['2687', '2688'],\n",
        " '2689': ['2690', '2691'],\n",
        " '2692': ['2693', '2694'],\n",
        " '2695': ['2696', '2697'],\n",
        " '2698': ['2699', '2700'],\n",
        " '2701': ['2702', '2703'],\n",
        " '2704': ['2705', '2706'],\n",
        " '2707': ['2708', '2709'],\n",
        " '271': ['272', '273'],\n",
        " '2710': ['2711', '2712'],\n",
        " '2713': ['2714', '2715'],\n",
        " '2716': ['2717', '2718'],\n",
        " '2719': ['2720', '2721'],\n",
        " '2722': ['2723', '2724'],\n",
        " '2725': ['2726', '2727'],\n",
        " '2728': ['2729', '2730'],\n",
        " '2731': ['2732', '2733'],\n",
        " '2734': ['2735', '2736'],\n",
        " '2737': ['2738', '2739'],\n",
        " '274': ['275', '276'],\n",
        " '2740': ['2741', '2742'],\n",
        " '2743': ['2744', '2745'],\n",
        " '2746': ['2747', '2748'],\n",
        " '2749': ['2750', '2751'],\n",
        " '2752': ['2753', '2754'],\n",
        " '2755': ['2756', '2757'],\n",
        " '2758': ['2759', '2760'],\n",
        " '2761': ['2762', '2763'],\n",
        " '2764': ['2765', '2766'],\n",
        " '2767': ['2768', '2769'],\n",
        " '277': ['278', '279'],\n",
        " '2770': ['2771', '2772'],\n",
        " '2773': ['2774', '2775'],\n",
        " '2776': ['2777', '2778'],\n",
        " '2779': ['2780', '2781'],\n",
        " '2782': ['2783', '2784'],\n",
        " '2785': ['2786', '2787'],\n",
        " '2788': ['2789', '2790'],\n",
        " '2791': ['2792', '2793'],\n",
        " '2794': ['2795', '2796'],\n",
        " '2797': ['2798', '2799'],\n",
        " '28': ['29', '30'],\n",
        " '280': ['281', '282'],\n",
        " '2800': ['2801', '2802'],\n",
        " '2803': ['2804', '2805'],\n",
        " '2806': ['2807', '2808'],\n",
        " '2809': ['2810', '2811'],\n",
        " '2812': ['2813', '2814'],\n",
        " '2815': ['2816', '2817'],\n",
        " '2818': ['2819', '2820'],\n",
        " '2821': ['2822', '2823'],\n",
        " '2824': ['2825', '2826'],\n",
        " '2827': ['2828', '2829'],\n",
        " '283': ['284', '285'],\n",
        " '2830': ['2831', '2832'],\n",
        " '2833': ['2834', '2835'],\n",
        " '2836': ['2837', '2838'],\n",
        " '2839': ['2840', '2841'],\n",
        " '2842': ['2843', '2844'],\n",
        " '2845': ['2846', '2847'],\n",
        " '2848': ['2849', '2850'],\n",
        " '2851': ['2852', '2853'],\n",
        " '2854': ['2855', '2856'],\n",
        " '2857': ['2858', '2859'],\n",
        " '286': ['287', '288'],\n",
        " '2860': ['2861', '2862'],\n",
        " '2863': ['2864', '2865'],\n",
        " '2866': ['2867', '2868'],\n",
        " '2869': ['2870', '2871'],\n",
        " '2872': ['2873', '2874'],\n",
        " '2875': ['2876', '2877'],\n",
        " '2878': ['2879', '2880'],\n",
        " '2881': ['2882', '2883'],\n",
        " '2884': ['2885', '2886'],\n",
        " '2887': ['2888', '2889'],\n",
        " '289': ['290', '291'],\n",
        " '2890': ['2891', '2892'],\n",
        " '2893': ['2894', '2895'],\n",
        " '2896': ['2897', '2898'],\n",
        " '2899': ['2900', '2901'],\n",
        " '2902': ['2903', '2904'],\n",
        " '2905': ['2906', '2907'],\n",
        " '2908': ['2909', '2910'],\n",
        " '2911': ['2912', '2913'],\n",
        " '2914': ['2915', '2916'],\n",
        " '2917': ['2918', '2919'],\n",
        " '292': ['293', '294'],\n",
        " '2920': ['2921', '2922'],\n",
        " '2923': ['2924', '2925'],\n",
        " '2926': ['2927', '2928'],\n",
        " '2929': ['2930', '2931'],\n",
        " '2932': ['2933', '2934'],\n",
        " '2935': ['2936', '2937'],\n",
        " '2938': ['2939', '2940'],\n",
        " '2941': ['2942', '2943'],\n",
        " '2944': ['2945', '2946'],\n",
        " '2947': ['2948', '2949'],\n",
        " '295': ['296', '297'],\n",
        " '2950': ['2951', '2952'],\n",
        " '2953': ['2954', '2955'],\n",
        " '2956': ['2957', '2958'],\n",
        " '2959': ['2960', '2961'],\n",
        " '2962': ['2963', '2964'],\n",
        " '2965': ['2966', '2967'],\n",
        " '2968': ['2969', '2970'],\n",
        " '2971': ['2972', '2973'],\n",
        " '2974': ['2975', '2976'],\n",
        " '2977': ['2978', '2979'],\n",
        " '298': ['299', '300'],\n",
        " '2980': ['2981', '2982'],\n",
        " '2983': ['2984', '2985'],\n",
        " '2986': ['2987', '2988'],\n",
        " '2989': ['2990', '2991'],\n",
        " '2992': ['2993', '2994'],\n",
        " '2995': ['2996', '2997'],\n",
        " '2998': ['2999', '3000'],\n",
        " '3001': ['3002', '3003'],\n",
        " '3004': ['3005', '3006'],\n",
        " '3007': ['3008', '3009'],\n",
        " '301': ['302', '303'],\n",
        " '3010': ['3011', '3012'],\n",
        " '3013': ['3014', '3015'],\n",
        " '3016': ['3017', '3018'],\n",
        " '3019': ['3020', '3021'],\n",
        " '3022': ['3023', '3024'],\n",
        " '3025': ['3026', '3027'],\n",
        " '3028': ['3029', '3030'],\n",
        " '3031': ['3032', '3033'],\n",
        " '3034': ['3035', '3036'],\n",
        " '3037': ['3038', '3039'],\n",
        " '304': ['305', '306'],\n",
        " '3040': ['3041', '3042'],\n",
        " '3043': ['3044', '3045'],\n",
        " '3046': ['3047', '3048'],\n",
        " '3049': ['3050', '3051'],\n",
        " '3052': ['3053', '3054'],\n",
        " '3055': ['3056', '3057'],\n",
        " '3058': ['3059', '3060'],\n",
        " '3061': ['3062', '3063'],\n",
        " '3064': ['3065', '3066'],\n",
        " '3067': ['3068', '3069'],\n",
        " '307': ['308', '309'],\n",
        " '3070': ['3071', '3072'],\n",
        " '3073': ['3074', '3075'],\n",
        " '3076': ['3077', '3078'],\n",
        " '3079': ['3080', '3081'],\n",
        " '3082': ['3083', '3084'],\n",
        " '3085': ['3086', '3087'],\n",
        " '3088': ['3089', '3090'],\n",
        " '3091': ['3092', '3093'],\n",
        " '3094': ['3095', '3096'],\n",
        " '3097': ['3098', '3099'],\n",
        " '31': ['32', '33'],\n",
        " '310': ['311', '312'],\n",
        " '3100': ['3101', '3102'],\n",
        " '3103': ['3104', '3105'],\n",
        " '3106': ['3107', '3108'],\n",
        " '3109': ['3110', '3111'],\n",
        " '3112': ['3113', '3114'],\n",
        " '3115': ['3116', '3117'],\n",
        " '3118': ['3119', '3120'],\n",
        " '3121': ['3122', '3123'],\n",
        " '3124': ['3125', '3126'],\n",
        " '3127': ['3128', '3129'],\n",
        " '313': ['314', '315'],\n",
        " '3130': ['3131', '3132'],\n",
        " '3133': ['3134', '3135'],\n",
        " '3136': ['3137', '3138'],\n",
        " '3139': ['3140', '3141'],\n",
        " '3142': ['3143', '3144'],\n",
        " '3145': ['3146', '3147'],\n",
        " '3148': ['3149', '3150'],\n",
        " '3151': ['3152', '3153'],\n",
        " '3154': ['3155', '3156'],\n",
        " '3157': ['3158', '3159'],\n",
        " '316': ['317', '318'],\n",
        " '3160': ['3161', '3162'],\n",
        " '3163': ['3164', '3165'],\n",
        " '3166': ['3167', '3168'],\n",
        " '3169': ['3170', '3171'],\n",
        " '3172': ['3173', '3174'],\n",
        " '3175': ['3176', '3177'],\n",
        " '3178': ['3179', '3180'],\n",
        " '3181': ['3182', '3183'],\n",
        " '3184': ['3185', '3186'],\n",
        " '3187': ['3188', '3189'],\n",
        " '319': ['320', '321'],\n",
        " '3190': ['3191', '3192'],\n",
        " '3193': ['3194', '3195'],\n",
        " '3196': ['3197', '3198'],\n",
        " '3199': ['3200', '3201'],\n",
        " '3202': ['3203', '3204'],\n",
        " '3205': ['3206', '3207'],\n",
        " '3208': ['3209', '3210'],\n",
        " '3211': ['3212', '3213'],\n",
        " '3214': ['3215', '3216'],\n",
        " '3217': ['3218', '3219'],\n",
        " '322': ['323', '324'],\n",
        " '3220': ['3221', '3222'],\n",
        " '3223': ['3224', '3225'],\n",
        " '3226': ['3227', '3228'],\n",
        " '3229': ['3230', '3231'],\n",
        " '3232': ['3233', '3234'],\n",
        " '3235': ['3236', '3237'],\n",
        " '3238': ['3239', '3240'],\n",
        " '3241': ['3242', '3243'],\n",
        " '3244': ['3245', '3246'],\n",
        " '3247': ['3248', '3249'],\n",
        " '325': ['326', '327'],\n",
        " '3250': ['3251', '3252'],\n",
        " '3253': ['3254', '3255'],\n",
        " '3256': ['3257', '3258'],\n",
        " '3259': ['3260', '3261'],\n",
        " '3262': ['3263', '3264'],\n",
        " '3265': ['3266', '3267'],\n",
        " '3268': ['3269', '3270'],\n",
        " '3271': ['3272', '3273'],\n",
        " '3274': ['3275', '3276'],\n",
        " '3277': ['3278', '3279'],\n",
        " '328': ['329', '330'],\n",
        " '3280': ['3281', '3282'],\n",
        " '3283': ['3284', '3285'],\n",
        " '3286': ['3287', '3288'],\n",
        " '3289': ['3290', '3291'],\n",
        " '3292': ['3293', '3294'],\n",
        " '3295': ['3296', '3297'],\n",
        " '3298': ['3299', '3300'],\n",
        " '3301': ['3302', '3303'],\n",
        " '3304': ['3305', '3306'],\n",
        " '3307': ['3308', '3309'],\n",
        " '331': ['332', '333'],\n",
        " '3310': ['3311', '3312'],\n",
        " '3313': ['3314', '3315'],\n",
        " '3316': ['3317', '3318'],\n",
        " '3319': ['3320', '3321'],\n",
        " '3322': ['3323', '3324'],\n",
        " '3325': ['3326', '3327'],\n",
        " '3328': ['3329', '3330'],\n",
        " '3331': ['3332', '3333'],\n",
        " '3334': ['3335', '3336'],\n",
        " '3337': ['3338', '3339'],\n",
        " '334': ['335', '336'],\n",
        " '3340': ['3341', '3342'],\n",
        " '3343': ['3344', '3345'],\n",
        " '3346': ['3347', '3348'],\n",
        " '3349': ['3350', '3351'],\n",
        " '3352': ['3353', '3354'],\n",
        " '3355': ['3356', '3357'],\n",
        " '3358': ['3359', '3360'],\n",
        " '3361': ['3362', '3363'],\n",
        " '3364': ['3365', '3366'],\n",
        " '3367': ['3368', '3369'],\n",
        " '337': ['338', '339'],\n",
        " '3370': ['3371', '3372'],\n",
        " '3373': ['3374', '3375'],\n",
        " '3376': ['3377', '3378'],\n",
        " '3379': ['3380', '3381'],\n",
        " '3382': ['3383', '3384'],\n",
        " '3385': ['3386', '3387'],\n",
        " '3388': ['3389', '3390'],\n",
        " '3391': ['3392', '3393'],\n",
        " '3394': ['3395', '3396'],\n",
        " '3397': ['3398', '3399'],\n",
        " '34': ['35', '36'],\n",
        " '340': ['341', '342'],\n",
        " '3400': ['3401', '3402'],\n",
        " '3403': ['3404', '3405'],\n",
        " '3406': ['3407', '3408'],\n",
        " '3409': ['3410', '3411'],\n",
        " '3412': ['3413', '3414'],\n",
        " '3415': ['3416', '3417'],\n",
        " '3418': ['3419', '3420'],\n",
        " '3421': ['3422', '3423'],\n",
        " '3424': ['3425', '3426'],\n",
        " '3427': ['3428', '3429'],\n",
        " '343': ['344', '345'],\n",
        " '3430': ['3431', '3432'],\n",
        " '3433': ['3434', '3435'],\n",
        " '3436': ['3437', '3438'],\n",
        " '3439': ['3440', '3441'],\n",
        " '3442': ['3443', '3444'],\n",
        " '3445': ['3446', '3447'],\n",
        " '3448': ['3449', '3450'],\n",
        " '3451': ['3452', '3453'],\n",
        " '3454': ['3455', '3456'],\n",
        " '3457': ['3458', '3459'],\n",
        " '346': ['347', '348'],\n",
        " '3460': ['3461', '3462'],\n",
        " '3463': ['3464', '3465'],\n",
        " '3466': ['3467', '3468'],\n",
        " '3469': ['3470', '3471'],\n",
        " '3472': ['3473', '3474'],\n",
        " '3475': ['3476', '3477'],\n",
        " '3478': ['3479', '3480'],\n",
        " '3481': ['3482', '3483'],\n",
        " '3484': ['3485', '3486'],\n",
        " '3487': ['3488', '3489'],\n",
        " '349': ['350', '351'],\n",
        " '3490': ['3491', '3492'],\n",
        " '3493': ['3494', '3495'],\n",
        " '3496': ['3497', '3498'],\n",
        " '3499': ['3500', '3501'],\n",
        " '3502': ['3503', '3504'],\n",
        " '3505': ['3506', '3507'],\n",
        " '3508': ['3509', '3510'],\n",
        " '3511': ['3512', '3513'],\n",
        " '3514': ['3515', '3516'],\n",
        " '3517': ['3518', '3519'],\n",
        " '352': ['353', '354'],\n",
        " '3520': ['3521', '3522'],\n",
        " '3523': ['3524', '3525'],\n",
        " '3526': ['3527', '3528'],\n",
        " '3529': ['3530', '3531'],\n",
        " '3532': ['3533', '3534'],\n",
        " '3535': ['3536', '3537'],\n",
        " '3538': ['3539', '3540'],\n",
        " '3541': ['3542', '3543'],\n",
        " '3544': ['3545', '3546'],\n",
        " '3547': ['3548', '3549'],\n",
        " '355': ['356', '357'],\n",
        " '3550': ['3551', '3552'],\n",
        " '3553': ['3554', '3555'],\n",
        " '3556': ['3557', '3558'],\n",
        " '3559': ['3560', '3561'],\n",
        " '3562': ['3563', '3564'],\n",
        " '3565': ['3566', '3567'],\n",
        " '3568': ['3569', '3570'],\n",
        " '3571': ['3572', '3573'],\n",
        " '3574': ['3575', '3576'],\n",
        " '3577': ['3578', '3579'],\n",
        " '358': ['359', '360'],\n",
        " '3580': ['3581', '3582'],\n",
        " '3583': ['3584', '3585'],\n",
        " '3586': ['3587', '3588'],\n",
        " '3589': ['3590', '3591'],\n",
        " '3592': ['3593', '3594'],\n",
        " '3595': ['3596', '3597'],\n",
        " '3598': ['3599', '3600'],\n",
        " '3601': ['3602', '3603'],\n",
        " '3604': ['3605', '3606'],\n",
        " '3607': ['3608', '3609'],\n",
        " '361': ['362', '363'],\n",
        " '3610': ['3611', '3612'],\n",
        " '3613': ['3614', '3615'],\n",
        " '3616': ['3617', '3618'],\n",
        " '3619': ['3620', '3621'],\n",
        " '3622': ['3623', '3624'],\n",
        " '3625': ['3626', '3627'],\n",
        " '3628': ['3629', '3630'],\n",
        " '3631': ['3632', '3633'],\n",
        " '3634': ['3635', '3636'],\n",
        " '3637': ['3638', '3639'],\n",
        " '364': ['365', '366'],\n",
        " '3640': ['3641', '3642'],\n",
        " '3643': ['3644', '3645'],\n",
        " '3646': ['3647', '3648'],\n",
        " '3649': ['3650', '3651'],\n",
        " '3652': ['3653', '3654'],\n",
        " '3655': ['3656', '3657'],\n",
        " '3658': ['3659', '3660'],\n",
        " '3661': ['3662', '3663'],\n",
        " '3664': ['3665', '3666'],\n",
        " '3667': ['3668', '3669'],\n",
        " '367': ['368', '369'],\n",
        " '3670': ['3671', '3672'],\n",
        " '3673': ['3674', '3675'],\n",
        " '3676': ['3677', '3678'],\n",
        " '3679': ['3680', '3681'],\n",
        " '3682': ['3683', '3684'],\n",
        " '3685': ['3686', '3687'],\n",
        " '3688': ['3689', '3690'],\n",
        " '3691': ['3692', '3693'],\n",
        " '3694': ['3695', '3696'],\n",
        " '3697': ['3698', '3699'],\n",
        " ...}"
       ]
      }
     ],
     "prompt_number": 42
    },
    {
     "cell_type": "markdown",
     "metadata": {},
     "source": [
      "Wrapping this up as a function:"
     ]
    },
    {
     "cell_type": "code",
     "collapsed": false,
     "input": [
      "def fakey_parse(fh):\n",
      "    \"\"\"Parses the passed stream, in a fakey way.\"\"\"\n",
      "    data = {}  # Holds output data: key and a list of values\n",
      "    key = None  # Initial value for key\n",
      "    vals = []  # Initial value for values\n",
      "    for line in iter(fh):\n",
      "        if (int(line.strip()) - 1) % 3 == 0:\n",
      "            if key is not None:\n",
      "                data[key] = vals  # Update output dictionary\n",
      "            vals = []  # Clear values\n",
      "            key = line.strip()  # This line is a new key\n",
      "        else:\n",
      "            vals.append(line.strip())\n",
      "    return data"
     ],
     "language": "python",
     "metadata": {},
     "outputs": [],
     "prompt_number": 43
    },
    {
     "cell_type": "code",
     "collapsed": false,
     "input": [
      "fh1 = StringIO.StringIO('\\n'.join(['%d' % val for val in range(1, 10000)]))\n",
      "print(fakey_parse(fh1))"
     ],
     "language": "python",
     "metadata": {},
     "outputs": [
      {
       "output_type": "stream",
       "stream": "stdout",
       "text": [
        "{'4027': ['4028', '4029'], '4024': ['4025', '4026'], '4021': ['4022', '4023'], '5989': ['5990', '5991'], '5983': ['5984', '5985'], '5980': ['5981', '5982'], '5986': ['5987', '5988'], '7516': ['7517', '7518'], '346': ['347', '348'], '340': ['341', '342'], '343': ['344', '345'], '3997': ['3998', '3999'], '3994': ['3995', '3996'], '349': ['350', '351'], '3991': ['3992', '3993'], '4930': ['4931', '4932'], '6970': ['6971', '6972'], '9049': ['9050', '9051'], '6151': ['6152', '6153'], '4933': ['4934', '4935'], '6154': ['6155', '6156'], '6763': ['6764', '6765'], '6157': ['6158', '6159'], '4732': ['4733', '4734'], '6793': ['6794', '6795'], '6790': ['6791', '6792'], '4735': ['4736', '4737'], '2317': ['2318', '2319'], '2314': ['2315', '2316'], '6298': ['6299', '6300'], '8305': ['8306', '8307'], '2311': ['2312', '2313'], '5854': ['5855', '5856'], '5857': ['5858', '5859'], '5851': ['5852', '5853'], '298': ['299', '300'], '295': ['296', '297'], '292': ['293', '294'], '3772': ['3773', '3774'], '5749': ['5750', '5751'], '3775': ['3776', '3777'], '3778': ['3779', '3780'], '4834': ['4835', '4836'], '271': ['272', '273'], '4657': ['4658', '4659'], '274': ['275', '276'], '4837': ['4838', '4839'], '277': ['278', '279'], '6586': ['6587', '6588'], '8209': ['8210', '8211'], '7888': ['7889', '7890'], '2269': ['2270', '2271'], '2263': ['2264', '2265'], '2260': ['2261', '2262'], '7882': ['7883', '7884'], '2266': ['2267', '2268'], '2443': ['2444', '2445'], '2440': ['2441', '2442'], '2446': ['2447', '2448'], '9529': ['9530', '9531'], '9259': ['9260', '9261'], '9256': ['9257', '9258'], '8233': ['8234', '8235'], '2449': ['2450', '2451'], '9520': ['9521', '9522'], '9253': ['9254', '9255'], '9250': ['9251', '9252'], '9523': ['9524', '9525'], '7867': ['7868', '7869'], '109': ['110', '111'], '8752': ['8753', '8754'], '7861': ['7862', '7863'], '103': ['104', '105'], '100': ['101', '102'], '106': ['107', '108'], '8092': ['8093', '8094'], '4813': ['4814', '4815'], '2047': ['2048', '2049'], '2044': ['2045', '2046'], '4810': ['4811', '4812'], '4816': ['4817', '4818'], '2041': ['2042', '2043'], '4819': ['4820', '4821'], '7627': ['7628', '7629'], '8692': ['8693', '8694'], '9433': ['9434', '9435'], '6379': ['6380', '6381'], '9412': ['9413', '9414'], '9415': ['9416', '9417'], '6370': ['6371', '6372'], '7621': ['7622', '7623'], '6052': ['6053', '6054'], '6376': ['6377', '6378'], '9340': ['9341', '9342'], '9328': ['9329', '9330'], '9343': ['9344', '9345'], '9322': ['9323', '9324'], '9631': ['9632', '9633'], '8098': ['8099', '8100'], '9634': ['9635', '9636'], '5110': ['5111', '5112'], '8941': ['8942', '8943'], '8230': ['8231', '8232'], '8944': ['8945', '8946'], '8947': ['8948', '8949'], '7264': ['7265', '7266'], '3511': ['3512', '3513'], '3517': ['3518', '3519'], '3514': ['3515', '3516'], '6205': ['6206', '6207'], '2689': ['2690', '2691'], '6202': ['6203', '6204'], '7513': ['7514', '7515'], '2686': ['2687', '2688'], '2680': ['2681', '2682'], '2683': ['2684', '2685'], '5407': ['5408', '5409'], '6808': ['6809', '6810'], '7039': ['7040', '7041'], '6805': ['6806', '6807'], '6802': ['6803', '6804'], '9745': ['9746', '9747'], '5404': ['5405', '5406'], '9742': ['9743', '9744'], '91': ['92', '93'], '9748': ['9749', '9750'], '94': ['95', '96'], '97': ['98', '99'], '5182': ['5183', '5184'], '1990': ['1991', '1992'], '1621': ['1622', '1623'], '1627': ['1628', '1629'], '3202': ['3203', '3204'], '1996': ['1997', '1998'], '1999': ['2000', '2001'], '5188': ['5189', '5190'], '3208': ['3209', '3210'], '8839': ['8840', '8841'], '6013': ['6014', '6015'], '8836': ['8837', '8838'], '8830': ['8831', '8832'], '8833': ['8834', '8835'], '2860': ['2861', '2862'], '9934': ['9935', '9936'], '2863': ['2864', '2865'], '559': ['560', '561'], '2866': ['2867', '2868'], '2869': ['2870', '2871'], '556': ['557', '558'], '550': ['551', '552'], '553': ['554', '555'], '7678': ['7679', '7680'], '7675': ['7676', '7677'], '7672': ['7673', '7674'], '5458': ['5459', '5460'], '1198': ['1199', '1200'], '3349': ['3350', '3351'], '7078': ['7079', '7080'], '3343': ['3344', '3345'], '3340': ['3341', '3342'], '1192': ['1193', '1194'], '1195': ['1196', '1197'], '5455': ['5456', '5457'], '7072': ['7073', '7074'], '1759': ['1760', '1761'], '1756': ['1757', '1758'], '9220': ['9221', '9222'], '1753': ['1754', '1755'], '6364': ['6365', '6366'], '1750': ['1751', '1752'], '1177': ['1178', '1179'], '4258': ['4259', '4260'], '8161': ['8162', '8163'], '1174': ['1175', '1176'], '8167': ['8168', '8169'], '6973': ['6974', '6975'], '1171': ['1172', '1173'], '8164': ['8165', '8166'], '4252': ['4253', '4254'], '4255': ['4256', '4257'], '6979': ['6980', '6981'], '5533': ['5534', '5535'], '8281': ['8282', '8283'], '5530': ['5531', '5532'], '5536': ['5537', '5538'], '5539': ['5540', '5541'], '1285': ['1286', '1287'], '1282': ['1283', '1284'], '8725': ['8726', '8727'], '7171': ['7172', '7173'], '1288': ['1289', '1290'], '7189': ['7190', '7191'], '1579': ['1580', '1581'], '8761': ['8762', '8763'], '688': ['689', '690'], '1573': ['1574', '1575'], '1570': ['1571', '1572'], '1576': ['1577', '1578'], '7186': ['7187', '7188'], '682': ['683', '684'], '8053': ['8054', '8055'], '8389': ['8390', '8391'], '8500': ['8501', '8502'], '8386': ['8387', '8388'], '8383': ['8384', '8385'], '8503': ['8504', '8505'], '8380': ['8381', '8382'], '8548': ['8549', '8550'], '6760': ['6761', '6762'], '8017': ['8018', '8019'], '8014': ['8015', '8016'], '8011': ['8012', '8013'], '8056': ['8057', '8058'], '7456': ['7457', '7458'], '6571': ['6572', '6573'], '6577': ['6578', '6579'], '5629': ['5630', '5631'], '8308': ['8309', '8310'], '5626': ['5627', '5628'], '4381': ['4382', '4383'], '4387': ['4388', '4389'], '2035': ['2036', '2037'], '4384': ['4385', '4386'], '406': ['407', '408'], '7696': ['7697', '7698'], '1372': ['1373', '1374'], '1375': ['1376', '1377'], '400': ['401', '402'], '1378': ['1379', '1380'], '7699': ['7700', '7701'], '409': ['410', '411'], '4597': ['4598', '4599'], '3835': ['3836', '3837'], '3832': ['3833', '3834'], '3838': ['3839', '3840'], '5995': ['5996', '5997'], '4030': ['4031', '4032'], '4033': ['4034', '4035'], '4036': ['4037', '4038'], '4039': ['4040', '4041'], '4186': ['4187', '4188'], '8173': ['8174', '8175'], '5998': ['5999', '6000'], '8290': ['8291', '8292'], '379': ['380', '381'], '7525': ['7526', '7527'], '370': ['371', '372'], '373': ['374', '375'], '4843': ['4844', '4845'], '4738': ['4739', '4740'], '376': ['377', '378'], '8296': ['8297', '8298'], '3205': ['3206', '3207'], '6142': ['6143', '6144'], '391': ['392', '393'], '397': ['398', '399'], '6145': ['6146', '6147'], '394': ['395', '396'], '6148': ['6149', '6150'], '9874': ['9875', '9876'], '6781': ['6782', '6783'], '2308': ['2309', '2310'], '4729': ['4730', '4731'], '6784': ['6785', '6786'], '6787': ['6788', '6789'], '2302': ['2303', '2304'], '2305': ['2306', '2307'], '4720': ['4721', '4722'], '4723': ['4724', '4725'], '9106': ['9107', '9108'], '5845': ['5846', '5847'], '5842': ['5843', '5844'], '8176': ['8177', '8178'], '9871': ['9872', '9873'], '5848': ['5849', '5850'], '3748': ['3749', '3750'], '3745': ['3746', '3747'], '3742': ['3743', '3744'], '244': ['245', '246'], '247': ['248', '249'], '241': ['242', '243'], '4627': ['4628', '4629'], '2275': ['2276', '2277'], '8689': ['8690', '8691'], '2272': ['2273', '2274'], '9379': ['9380', '9381'], '2278': ['2279', '2280'], '9469': ['9470', '9471'], '2458': ['2459', '2460'], '9538': ['9539', '9540'], '2455': ['2456', '2457'], '9535': ['9536', '9537'], '9244': ['9245', '9246'], '9247': ['9248', '9249'], '2452': ['2453', '2454'], '7852': ['7853', '7854'], '9043': ['9044', '9045'], '7465': ['7466', '7467'], '178': ['179', '180'], '175': ['176', '177'], '172': ['173', '174'], '2050': ['2051', '2052'], '2053': ['2054', '2055'], '4828': ['4829', '4830'], '2056': ['2057', '2058'], '2059': ['2060', '2061'], '3691': ['3692', '3693'], '4537': ['4538', '4539'], '3694': ['3695', '3696'], '4531': ['4532', '4533'], '3697': ['3698', '3699'], '9403': ['9404', '9405'], '7981': ['7982', '7983'], '655': ['656', '657'], '7984': ['7985', '7986'], '9406': ['9407', '9408'], '7987': ['7988', '7989'], '6361': ['6362', '6363'], '6367': ['6368', '6369'], '1507': ['1508', '1509'], '9292': ['9293', '9294'], '9337': ['9338', '9339'], '9331': ['9332', '9333'], '3526': ['3527', '3528'], '8596': ['8597', '8598'], '9628': ['9629', '9630'], '3523': ['3524', '3525'], '3520': ['3521', '3522'], '7333': ['7334', '7335'], '9625': ['9626', '9627'], '3529': ['3530', '3531'], '7219': ['7220', '7221'], '8737': ['8738', '8739'], '4654': ['4655', '4656'], '7210': ['7211', '7212'], '7213': ['7214', '7215'], '7216': ['7217', '7218'], '6217': ['6218', '6219'], '6214': ['6215', '6216'], '8590': ['8591', '8592'], '6211': ['6212', '6213'], '2698': ['2699', '2700'], '4651': ['4652', '4653'], '2695': ['2696', '2697'], '1603': ['1604', '1605'], '7522': ['7523', '7524'], '6811': ['6812', '6813'], '6814': ['6815', '6816'], '6817': ['6818', '6819'], '1972': ['1973', '1974'], '9757': ['9758', '9759'], '9754': ['9755', '9756'], '7339': ['7340', '7341'], '9751': ['9752', '9753'], '3232': ['3233', '3234'], '7327': ['7328', '7329'], '1969': ['1970', '1971'], '1618': ['1619', '1620'], '3235': ['3236', '3237'], '4552': ['4553', '4554'], '1966': ['1967', '1968'], '1615': ['1616', '1617'], '1960': ['1961', '1962'], '1963': ['1964', '1965'], '8224': ['8225', '8226'], '7357': ['7358', '7359'], '8842': ['8843', '8844'], '8845': ['8846', '8847'], '2872': ['2873', '2874'], '2875': ['2876', '2877'], '2878': ['2879', '2880'], '3355': ['3356', '3357'], '3352': ['3353', '3354'], '7660': ['7661', '7662'], '7663': ['7664', '7665'], '3358': ['3359', '3360'], '7666': ['7667', '7668'], '5449': ['5450', '5451'], '7069': ['7070', '7071'], '5443': ['5444', '5445'], '7066': ['7067', '7068'], '5440': ['5441', '5442'], '7063': ['7064', '7065'], '5446': ['5447', '5448'], '7060': ['7061', '7062'], '1768': ['1769', '1770'], '9370': ['9371', '9372'], '1762': ['1763', '1764'], '1765': ['1766', '1767'], '6961': ['6962', '6963'], '1141': ['1142', '1143'], '1147': ['1148', '1149'], '1144': ['1145', '1146'], '8227': ['8228', '8229'], '8155': ['8156', '8157'], '8152': ['8153', '8154'], '9763': ['9764', '9765'], '8623': ['8624', '8625'], '9373': ['9374', '9375'], '6358': ['6359', '6360'], '5509': ['5510', '5511'], '5506': ['5507', '5508'], '5503': ['5504', '5505'], '5500': ['5501', '5502'], '1546': ['1547', '1548'], '691': ['692', '693'], '1543': ['1544', '1545'], '1540': ['1541', '1542'], '1549': ['1550', '1551'], '8710': ['8711', '8712'], '541': ['542', '543'], '547': ['548', '549'], '544': ['545', '546'], '763': ['764', '765'], '7192': ['7193', '7194'], '7195': ['7196', '7197'], '6403': ['6404', '6405'], '6400': ['6401', '6402'], '8539': ['8540', '8541'], '8029': ['8030', '8031'], '9988': ['9989', '9990'], '8530': ['8531', '8532'], '8023': ['8024', '8025'], '8020': ['8021', '8022'], '8533': ['8534', '8535'], '8026': ['8027', '8028'], '8536': ['8537', '8538'], '7441': ['7442', '7443'], '6568': ['6569', '6570'], '7447': ['7448', '7449'], '6565': ['6566', '6567'], '7885': ['7886', '7887'], '5611': ['5612', '5613'], '5617': ['5618', '5619'], '5614': ['5615', '5616'], '6562': ['6563', '6564'], '7687': ['7688', '7689'], '415': ['416', '417'], '7684': ['7685', '7686'], '412': ['413', '414'], '1384': ['1385', '1386'], '1387': ['1388', '1389'], '418': ['419', '420'], '1381': ['1382', '1383'], '5473': ['5474', '5475'], '3826': ['3827', '3828'], '3823': ['3824', '3825'], '3820': ['3821', '3822'], '3829': ['3830', '3831'], '8446': ['8447', '8448'], '8440': ['8441', '8442'], '8443': ['8444', '8445'], '8182': ['8183', '8184'], '8449': ['8450', '8451'], '4282': ['4283', '4284'], '5005': ['5006', '5007'], '4285': ['4286', '4287'], '4288': ['4289', '4290'], '367': ['368', '369'], '364': ['365', '366'], '7531': ['7532', '7533'], '9526': ['9527', '9528'], '361': ['362', '363'], '5275': ['5276', '5277'], '382': ['383', '384'], '385': ['386', '387'], '6178': ['6179', '6180'], '388': ['389', '390'], '6175': ['6176', '6177'], '6172': ['6173', '6174'], '4759': ['4760', '4761'], '6778': ['6779', '6780'], '4750': ['4751', '4752'], '6775': ['6776', '6777'], '4753': ['4754', '4755'], '4756': ['4757', '4758'], '5872': ['5873', '5874'], '7864': ['7865', '7866'], '9961': ['9962', '9963'], '5875': ['5876', '5877'], '5878': ['5879', '5880'], '3751': ['3752', '3753'], '5371': ['5372', '5373'], '3754': ['3755', '3756'], '3757': ['3758', '3759'], '4633': ['4634', '4635'], '2191': ['2192', '2193'], '5131': ['5132', '5133'], '259': ['260', '261'], '2194': ['2195', '2196'], '4636': ['4637', '4638'], '2197': ['2198', '2199'], '253': ['254', '255'], '250': ['251', '252'], '256': ['257', '258'], '2200': ['2201', '2202'], '2203': ['2204', '2205'], '2206': ['2207', '2208'], '2209': ['2210', '2211'], '6688': ['6689', '6690'], '6682': ['6683', '6684'], '6685': ['6686', '6687'], '2428': ['2429', '2430'], '9508': ['9509', '9510'], '9502': ['9503', '9504'], '2422': ['2423', '2424'], '2425': ['2426', '2427'], '9505': ['9506', '9507'], '4429': ['4430', '4431'], '7849': ['7850', '7851'], '169': ['170', '171'], '166': ['167', '168'], '7846': ['7847', '7848'], '160': ['161', '162'], '7840': ['7841', '7842'], '7843': ['7844', '7845'], '163': ['164', '165'], '3688': ['3689', '3690'], '6352': ['6353', '6354'], '6277': ['6278', '6279'], '4528': ['4529', '4530'], '4831': ['4832', '4833'], '3682': ['3683', '3684'], '4525': ['4526', '4527'], '4522': ['4523', '4524'], '3685': ['3686', '3687'], '7993': ['7994', '7995'], '6196': ['6197', '6198'], '7990': ['7991', '7992'], '2518': ['2519', '2520'], '7996': ['7997', '7998'], '6193': ['6194', '6195'], '9436': ['9437', '9438'], '2515': ['2516', '2517'], '7999': ['8000', '8001'], '9850': ['9851', '9852'], '6199': ['6200', '6201'], '2512': ['2513', '2514'], '2734': ['2735', '2736'], '2737': ['2738', '2739'], '2731': ['2732', '2733'], '9346': ['9347', '9348'], '5299': ['5300', '5301'], '5296': ['5297', '5298'], '9349': ['9350', '9351'], '5293': ['5294', '5295'], '5290': ['5291', '5292'], '9619': ['9620', '9621'], '9187': ['9188', '9189'], '9184': ['9185', '9186'], '3532': ['3533', '3534'], '3535': ['3536', '3537'], '5059': ['5060', '5061'], '9181': ['9182', '9183'], '3538': ['3539', '3540'], '5056': ['5057', '5058'], '5050': ['5051', '5052'], '5053': ['5054', '5055'], '1816': ['1817', '1818'], '1810': ['1811', '1812'], '1813': ['1814', '1815'], '7201': ['7202', '7203'], '4339': ['4340', '4341'], '7207': ['7208', '7209'], '1819': ['1820', '1821'], '7204': ['7205', '7206'], '6223': ['6224', '6225'], '6220': ['6221', '6222'], '6226': ['6227', '6228'], '6229': ['6230', '6231'], '8143': ['8144', '8145'], '1156': ['1157', '1158'], '4333': ['4334', '4335'], '9418': ['9419', '9420'], '9760': ['9761', '9762'], '9766': ['9767', '9768'], '9550': ['9551', '9552'], '9769': ['9770', '9771'], '9553': ['9554', '9555'], '1609': ['1610', '1611'], '7336': ['7337', '7338'], '4987': ['4988', '4989'], '6373': ['6374', '6375'], '3229': ['3230', '3231'], '1978': ['1979', '1980'], '1600': ['1601', '1602'], '1975': ['1976', '1977'], '3226': ['3227', '3228'], '3220': ['3221', '3222'], '3223': ['3224', '3225'], '1606': ['1607', '1608'], '808': ['809', '810'], '8572': ['8573', '8574'], '6079': ['6080', '6081'], '802': ['803', '804'], '8851': ['8852', '8853'], '8857': ['8858', '8859'], '7168': ['7169', '7170'], '805': ['806', '807'], '8854': ['8855', '8856'], '8809': ['8810', '8811'], '2848': ['2849', '2850'], '2845': ['2846', '2847'], '2842': ['2843', '2844'], '5476': ['5477', '5478'], '3322': ['3323', '3324'], '3325': ['3326', '3327'], '5470': ['5471', '5472'], '3328': ['3329', '3330'], '5479': ['5480', '5481'], '1774': ['1775', '1776'], '1777': ['1778', '1779'], '1771': ['1772', '1773'], '5272': ['5273', '5274'], '9895': ['9896', '9897'], '7051': ['7052', '7053'], '5278': ['5279', '5280'], '7057': ['7058', '7059'], '7054': ['7055', '7056'], '8149': ['8150', '8151'], '1159': ['1160', '1161'], '8638': ['8639', '8640'], '6994': ['6995', '6996'], '8140': ['8141', '8142'], '301': ['302', '303'], '3976': ['3977', '3978'], '1150': ['1151', '1152'], '1153': ['1154', '1155'], '8146': ['8147', '8148'], '5518': ['5519', '5520'], '9133': ['9134', '9135'], '5512': ['5513', '5514'], '5515': ['5516', '5517'], '2998': ['2999', '3000'], '1552': ['1553', '1554'], '1555': ['1556', '1557'], '58': ['59', '60'], '3034': ['3035', '3036'], '1558': ['1559', '1560'], '2992': ['2993', '2994'], '3037': ['3038', '3039'], '3031': ['3032', '3033'], '52': ['53', '54'], '55': ['56', '57'], '535': ['536', '537'], '8707': ['8708', '8709'], '532': ['533', '534'], '8704': ['8705', '8706'], '7342': ['7343', '7344'], '8080': ['8081', '8082'], '538': ['539', '540'], '8035': ['8036', '8037'], '8032': ['8033', '8034'], '8038': ['8039', '8040'], '2995': ['2996', '2997'], '5605': ['5606', '5607'], '5137': ['5138', '5139'], '5602': ['5603', '5604'], '9991': ['9992', '9993'], '8521': ['8522', '8523'], '8527': ['8528', '8529'], '5608': ['5609', '5610'], '8524': ['8525', '8526'], '4690': ['4691', '4692'], '6511': ['6512', '6513'], '6514': ['6515', '6516'], '8701': ['8702', '8703'], '6517': ['6518', '6519'], '9637': ['9638', '9639'], '3292': ['3293', '3294'], '1399': ['1400', '1401'], '421': ['422', '423'], '1396': ['1397', '1398'], '9325': ['9326', '9327'], '1393': ['1394', '1395'], '424': ['425', '426'], '427': ['428', '429'], '1390': ['1391', '1392'], '3811': ['3812', '3813'], '3817': ['3818', '3819'], '3814': ['3815', '3816'], '8512': ['8513', '8514'], '9232': ['9233', '9234'], '8455': ['8456', '8457'], '8452': ['8453', '8454'], '8458': ['8459', '8460'], '6424': ['6425', '6426'], '6427': ['6428', '6429'], '6421': ['6422', '6423'], '4294': ['4295', '4296'], '4297': ['4298', '4299'], '4291': ['4292', '4293'], '7549': ['7550', '7551'], '7540': ['7541', '7542'], '7543': ['7544', '7545'], '7267': ['7268', '7269'], '7546': ['7547', '7548'], '7261': ['7262', '7263'], '6256': ['6257', '6258'], '6169': ['6170', '6171'], '7348': ['7349', '7350'], '6160': ['6161', '6162'], '6163': ['6164', '6165'], '6166': ['6167', '6168'], '6769': ['6770', '6771'], '9190': ['9191', '9192'], '6766': ['6767', '6768'], '4741': ['4742', '4743'], '4747': ['4748', '4749'], '4744': ['4745', '4746'], '9976': ['9977', '9978'], '5200': ['5201', '5202'], '5869': ['5870', '5871'], '9970': ['9971', '9972'], '5866': ['5867', '5868'], '5860': ['5861', '5862'], '5863': ['5864', '5865'], '6796': ['6797', '6798'], '2182': ['2183', '2184'], '6139': ['6140', '6141'], '4696': ['4697', '4698'], '2185': ['2186', '2187'], '4609': ['4610', '4611'], '4606': ['4607', '4608'], '226': ['227', '228'], '2188': ['2189', '2190'], '223': ['224', '225'], '4603': ['4604', '4605'], '4600': ['4601', '4602'], '220': ['221', '222'], '2212': ['2213', '2214'], '2215': ['2216', '2217'], '6208': ['6209', '6210'], '2218': ['2219', '2220'], '9853': ['9854', '9855'], '6691': ['6692', '6693'], '6697': ['6698', '6699'], '6694': ['6695', '6696'], '151': ['152', '153'], '154': ['155', '156'], '157': ['158', '159'], '2431': ['2432', '2433'], '2437': ['2438', '2439'], '2434': ['2435', '2436'], '8986': ['8987', '8988'], '8134': ['8135', '8136'], '9397': ['9398', '9399'], '9859': ['9860', '9861'], '7831': ['7832', '7833'], '7834': ['7835', '7836'], '7837': ['7838', '7839'], '6340': ['6341', '6342'], '6343': ['6344', '6345'], '4519': ['4520', '4521'], '6346': ['6347', '6348'], '6349': ['6350', '6351'], '4513': ['4514', '4515'], '4510': ['4511', '4512'], '4516': ['4517', '4518'], '8131': ['8132', '8133'], '6187': ['6188', '6189'], '6184': ['6185', '6186'], '2509': ['2510', '2511'], '9421': ['9422', '9423'], '2506': ['2507', '2508'], '2503': ['2504', '2505'], '9424': ['9425', '9426'], '9427': ['9428', '9429'], '2500': ['2501', '2502'], '9601': ['9602', '9603'], '9352': ['9353', '9354'], '2725': ['2726', '2727'], '2722': ['2723', '2724'], '9355': ['9356', '9357'], '5281': ['5282', '5283'], '9358': ['9359', '9360'], '5284': ['5285', '5286'], '5287': ['5288', '5289'], '2728': ['2729', '2730'], '7237': ['7238', '7239'], '7234': ['7235', '7236'], '7942': ['7943', '7944'], '7231': ['7232', '7233'], '5047': ['5048', '5049'], '5044': ['5045', '5046'], '7948': ['7949', '7950'], '5041': ['5042', '5043'], '1807': ['1808', '1809'], '8998': ['8999', '9000'], '3781': ['3782', '3783'], '3787': ['3788', '3789'], '3784': ['3785', '3786'], '8992': ['8993', '8994'], '8995': ['8996', '8997'], '4996': ['4997', '4998'], '9514': ['9515', '9516'], '9517': ['9518', '9519'], '9037': ['9038', '9039'], '4993': ['4994', '4995'], '4990': ['4991', '4992'], '6235': ['6236', '6237'], '4999': ['5000', '5001'], '9478': ['9479', '9480'], '9034': ['9035', '9036'], '9778': ['9779', '9780'], '9775': ['9776', '9777'], '127': ['128', '129'], '7813': ['7814', '7815'], '8866': ['8867', '8868'], '3259': ['3260', '3261'], '1948': ['1949', '1950'], '7306': ['7307', '7308'], '8863': ['8864', '8865'], '8860': ['8861', '8862'], '1942': ['1943', '1944'], '3253': ['3254', '3255'], '9280': ['9281', '9282'], '3256': ['3257', '3258'], '1945': ['1946', '1947'], '7738': ['7739', '7740'], '811': ['812', '813'], '9022': ['9023', '9024'], '814': ['815', '816'], '817': ['818', '819'], '9295': ['9296', '9297'], '2851': ['2852', '2853'], '9490': ['9491', '9492'], '2854': ['2855', '2856'], '2857': ['2858', '2859'], '5461': ['5462', '5463'], '1492': ['1493', '1494'], '3337': ['3338', '3339'], '1495': ['1496', '1497'], '5467': ['5468', '5469'], '3334': ['3335', '3336'], '1498': ['1499', '1500'], '7048': ['7049', '7050'], '4570': ['4571', '4572'], '1702': ['1703', '1704'], '5263': ['5264', '5265'], '1705': ['1706', '1707'], '5260': ['5261', '5262'], '1708': ['1709', '1710'], '1624': ['1625', '1626'], '5269': ['5270', '5271'], '7735': ['7736', '7737'], '1129': ['1130', '1131'], '8608': ['8609', '8610'], '6988': ['6989', '6990'], '1120': ['1121', '1122'], '6985': ['6986', '6987'], '1123': ['1124', '1125'], '6982': ['6983', '6984'], '1126': ['1127', '1128'], '8605': ['8606', '8607'], '4579': ['4580', '4581'], '9298': ['9299', '9300'], '2989': ['2990', '2991'], '3028': ['3029', '3030'], '2983': ['2984', '2985'], '3025': ['3026', '3027'], '2980': ['2981', '2982'], '3022': ['3023', '3024'], '526': ['527', '528'], '1018': ['1019', '1020'], '523': ['524', '525'], '1015': ['1016', '1017'], '8734': ['8735', '8736'], '529': ['530', '531'], '1012': ['1013', '1014'], '8731': ['8732', '8733'], '1234': ['1235', '1236'], '8041': ['8042', '8043'], '1237': ['1238', '1239'], '8044': ['8045', '8046'], '1231': ['1232', '1233'], '4198': ['4199', '4200'], '8047': ['8048', '8049'], '4195': ['4196', '4197'], '4192': ['4193', '4194'], '8518': ['8519', '8520'], '5671': ['5672', '5673'], '8284': ['8285', '8286'], '5674': ['5675', '5676'], '5677': ['5678', '5679'], '4354': ['4355', '4356'], '4357': ['4358', '4359'], '4351': ['4352', '4353'], '6508': ['6509', '6510'], '8359': ['8360', '8361'], '6502': ['6503', '6504'], '6001': ['6002', '6003'], '6505': ['6506', '6507'], '439': ['440', '441'], '436': ['437', '438'], '433': ['434', '435'], '430': ['431', '432'], '6355': ['6356', '6357'], '3808': ['3809', '3810'], '9394': ['9395', '9396'], '3805': ['3806', '3807'], '6799': ['6800', '6801'], '3802': ['3803', '3804'], '8461': ['8462', '8463'], '8467': ['8468', '8469'], '8464': ['8465', '8466'], '9262': ['9263', '9264'], '4906': ['4907', '4908'], '6436': ['6437', '6438'], '7579': ['7580', '7581'], '6433': ['6434', '6435'], '8197': ['8198', '8199'], '8194': ['8195', '8196'], '6430': ['6431', '6432'], '5704': ['5705', '5706'], '5707': ['5708', '5709'], '5701': ['5702', '5703'], '6439': ['6440', '6441'], '7558': ['7559', '7560'], '7552': ['7553', '7554'], '9835': ['9836', '9837'], '7555': ['7556', '7557'], '4777': ['4778', '4779'], '4774': ['4775', '4776'], '4771': ['4772', '4773'], '6244': ['6245', '6246'], '4174': ['4175', '4176'], '4177': ['4178', '4179'], '4171': ['4172', '4173'], '6751': ['6752', '6753'], '6757': ['6758', '6759'], '6754': ['6755', '6756'], '5818': ['5819', '5820'], '9943': ['9944', '9945'], '9940': ['9941', '9942'], '9946': ['9947', '9948'], '6895': ['6896', '6897'], '5812': ['5813', '5814'], '9949': ['9950', '9951'], '5815': ['5816', '5817'], '5065': ['5066', '5067'], '9271': ['9272', '9273'], '6574': ['6575', '6576'], '4618': ['4619', '4620'], '7396': ['7397', '7398'], '238': ['239', '240'], '235': ['236', '237'], '4612': ['4613', '4614'], '4615': ['4616', '4617'], '232': ['233', '234'], '7390': ['7391', '7392'], '9994': ['9995', '9996'], '2227': ['2228', '2229'], '2224': ['2225', '2226'], '9277': ['9278', '9279'], '2221': ['2222', '2223'], '1': ['2', '3'], '5926': ['5927', '5928'], '5920': ['5921', '5922'], '5923': ['5924', '5925'], '6247': ['6248', '6249'], '4882': ['4883', '4884'], '145': ['146', '147'], '142': ['143', '144'], '5356': ['5357', '5358'], '148': ['149', '150'], '5068': ['5069', '5070'], '4504': ['4505', '4506'], '4507': ['4508', '4509'], '7828': ['7829', '7830'], '4501': ['4502', '4503'], '5353': ['5354', '5355'], '7825': ['7826', '7827'], '2089': ['2090', '2091'], '121': ['122', '123'], '2083': ['2084', '2085'], '2080': ['2081', '2082'], '5350': ['5351', '5352'], '2086': ['2087', '2088'], '7150': ['7151', '7152'], '2539': ['2540', '2541'], '7075': ['7076', '7077'], '2533': ['2534', '2535'], '2530': ['2531', '2532'], '2536': ['2537', '2538'], '5452': ['5453', '5454'], '2713': ['2714', '2715'], '2710': ['2711', '2712'], '2716': ['2717', '2718'], '3346': ['3347', '3348'], '9364': ['9365', '9366'], '2719': ['2720', '2721'], '9361': ['9362', '9363'], '7957': ['7958', '7959'], '7222': ['7223', '7224'], '7225': ['7226', '7227'], '8980': ['8981', '8982'], '7951': ['7952', '7953'], '7378': ['7379', '7380'], '7228': ['7229', '7230'], '9166': ['9167', '9168'], '5071': ['5072', '5073'], '8989': ['8990', '8991'], '5077': ['5078', '5079'], '5074': ['5075', '5076'], '9163': ['9164', '9165'], '1831': ['1832', '1833'], '3799': ['3800', '3801'], '1837': ['1838', '1839'], '1834': ['1835', '1836'], '3796': ['3797', '3798'], '3790': ['3791', '3792'], '3793': ['3794', '3795'], '4981': ['4982', '4983'], '2155': ['2156', '2157'], '2404': ['2405', '2406'], '4984': ['4985', '4986'], '2152': ['2153', '2154'], '2401': ['2402', '2403'], '9568': ['9569', '9570'], '6241': ['6242', '6243'], '931': ['932', '933'], '937': ['938', '939'], '934': ['935', '936'], '5380': ['5381', '5382'], '5383': ['5384', '5385'], '5386': ['5387', '5388'], '5389': ['5390', '5391'], '7927': ['7928', '7929'], '1954': ['1955', '1956'], '1957': ['1958', '1959'], '1951': ['1952', '1953'], '9700': ['9701', '9702'], '9703': ['9704', '9705'], '6583': ['6584', '6585'], '9706': ['9707', '9708'], '8872': ['8873', '8874'], '8875': ['8876', '8877'], '7318': ['7319', '7320'], '7315': ['7316', '7317'], '8878': ['8879', '8880'], '3241': ['3242', '3243'], '3247': ['3248', '3249'], '3244': ['3245', '3246'], '829': ['830', '831'], '7615': ['7616', '7617'], '6493': ['6494', '6495'], '826': ['827', '828'], '820': ['821', '822'], '823': ['824', '825'], '6976': ['6977', '6978'], '1993': ['1994', '1995'], '1483': ['1484', '1485'], '9016': ['9017', '9018'], '1480': ['1481', '1482'], '9010': ['9011', '9012'], '1486': ['1487', '1488'], '7036': ['7037', '7038'], '9013': ['9014', '9015'], '5494': ['5495', '5496'], '3307': ['3308', '3309'], '1489': ['1490', '1491'], '5497': ['5498', '5499'], '5491': ['5492', '5493'], '3301': ['3302', '3303'], '796': ['797', '798'], '1711': ['1712', '1713'], '5251': ['5252', '5253'], '793': ['794', '795'], '5257': ['5258', '5259'], '5254': ['5255', '5256'], '790': ['791', '792'], '9388': ['9389', '9390'], '6259': ['6260', '6261'], '799': ['800', '801'], '4318': ['4319', '4320'], '4978': ['4979', '4980'], '7567': ['7568', '7569'], '1138': ['1139', '1140'], '5947': ['5948', '5949'], '1132': ['1133', '1134'], '2140': ['2141', '2142'], '5944': ['5945', '5946'], '1135': ['1136', '1137'], '6253': ['6254', '6255'], '7789': ['7790', '7791'], '7786': ['7787', '7788'], '7564': ['7565', '7566'], '7780': ['7781', '7782'], '3019': ['3020', '3021'], '7144': ['7145', '7146'], '3013': ['3014', '3015'], '3010': ['3011', '3012'], '7147': ['7148', '7149'], '3016': ['3017', '3018'], '7141': ['7142', '7143'], '2797': ['2798', '2799'], '8728': ['8729', '8730'], '4972': ['4973', '4974'], '1009': ['1010', '1011'], '511': ['512', '513'], '1006': ['1007', '1008'], '8722': ['8723', '8724'], '1003': ['1004', '1005'], '514': ['515', '516'], '517': ['518', '519'], '1000': ['1001', '1002'], '4189': ['4190', '4191'], '622': ['623', '624'], '1225': ['1226', '1227'], '8050': ['8051', '8052'], '1222': ['1223', '1224'], '625': ['626', '627'], '8506': ['8507', '8508'], '8509': ['8510', '8511'], '4180': ['4181', '4182'], '4183': ['4184', '4185'], '628': ['629', '630'], '1228': ['1229', '1230'], '5662': ['5663', '5664'], '8293': ['8294', '8295'], '6535': ['6536', '6537'], '6532': ['6533', '6534'], '5665': ['5666', '5667'], '4348': ['4349', '4350'], '8299': ['8300', '8301'], '4345': ['4346', '4347'], '5668': ['5669', '5670'], '4342': ['4343', '4344'], '6538': ['6539', '6540'], '7498': ['7499', '7500'], '2881': ['2882', '2883'], '2887': ['2888', '2889'], '2884': ['2885', '2886'], '7492': ['7493', '7494'], '7495': ['7496', '7497'], '8614': ['8615', '8616'], '8617': ['8618', '8619'], '8611': ['8612', '8613'], '9973': ['9974', '9975'], '8797': ['8798', '8799'], '3871': ['3872', '3873'], '3874': ['3875', '3876'], '3877': ['3878', '3879'], '8479': ['8480', '8481'], '8476': ['8477', '8478'], '9139': ['9140', '9141'], '8470': ['8471', '8472'], '8473': ['8474', '8475'], '10': ['11', '12'], '13': ['14', '15'], '6406': ['6407', '6408'], '8188': ['8189', '8190'], '5719': ['5720', '5721'], '16': ['17', '18'], '19': ['20', '21'], '5716': ['5717', '5718'], '6409': ['6410', '6411'], '5713': ['5714', '5715'], '5710': ['5711', '5712'], '7765': ['7766', '7767'], '7561': ['7562', '7563'], '9979': ['9980', '9981'], '7762': ['7763', '7764'], '7768': ['7769', '7770'], '3904': ['3905', '3906'], '3907': ['3908', '3909'], '3901': ['3902', '3903'], '1927': ['1928', '1929'], '6745': ['6746', '6747'], '4762': ['4763', '4764'], '4765': ['4766', '4767'], '6742': ['6743', '6744'], '4768': ['4769', '4770'], '6748': ['6749', '6750'], '4165': ['4166', '4167'], '9307': ['9308', '9309'], '4162': ['4163', '4164'], '8764': ['8765', '8766'], '8767': ['8768', '8769'], '4168': ['4169', '4170'], '5809': ['5810', '5811'], '9958': ['9959', '9960'], '5803': ['5804', '5805'], '5800': ['5801', '5802'], '5806': ['5807', '5808'], '9952': ['9953', '9954'], '202': ['203', '204'], '205': ['206', '207'], '7369': ['7370', '7371'], '208': ['209', '210'], '685': ['686', '687'], '9985': ['9986', '9987'], '2239': ['2240', '2241'], '7183': ['7184', '7185'], '2230': ['2231', '2232'], '2233': ['2234', '2235'], '835': ['836', '837'], '2236': ['2237', '2238'], '9982': ['9983', '9984'], '8884': ['8885', '8886'], '5935': ['5936', '5937'], '5932': ['5933', '5934'], '8641': ['8642', '8643'], '5092': ['5093', '5094'], '5938': ['5939', '5940'], '7816': ['7817', '7818'], '8422': ['8423', '8424'], '229': ['230', '231'], '7810': ['7811', '7812'], '3499': ['3500', '3501'], '3496': ['3497', '3498'], '3493': ['3494', '3495'], '3490': ['3491', '3492'], '7819': ['7820', '7821'], '2095': ['2096', '2097'], '4573': ['4574', '4575'], '3658': ['3659', '3660'], '4576': ['4577', '4578'], '2092': ['2093', '2094'], '3655': ['3656', '3657'], '2098': ['2099', '2100'], '3652': ['3653', '3654'], '2524': ['2525', '2526'], '2527': ['2528', '2529'], '2521': ['2522', '2523'], '8968': ['8969', '8970'], '9784': ['9785', '9786'], '4888': ['4889', '4890'], '5062': ['5063', '5064'], '2704': ['2705', '2706'], '2707': ['2708', '2709'], '2701': ['2702', '2703'], '4885': ['4886', '4887'], '9376': ['9377', '9378'], '7963': ['7964', '7965'], '7960': ['7961', '7962'], '7966': ['7967', '7968'], '9178': ['9179', '9180'], '9175': ['9176', '9177'], '7969': ['7970', '7971'], '9172': ['9173', '9174'], '4408': ['4409', '4410'], '1828': ['1829', '1830'], '1825': ['1826', '1827'], '4405': ['4406', '4407'], '7453': ['7454', '7455'], '4402': ['4403', '4404'], '1822': ['1823', '1824'], '928': ['929', '930'], '2146': ['2147', '2148'], '2413': ['2414', '2415'], '2143': ['2144', '2145'], '8965': ['8966', '8967'], '2416': ['2417', '2418'], '2419': ['2420', '2421'], '4975': ['4976', '4977'], '922': ['923', '924'], '6250': ['6251', '6252'], '925': ['926', '927'], '2149': ['2150', '2151'], '5392': ['5393', '5394'], '5395': ['5396', '5397'], '5398': ['5399', '5400'], '3277': ['3278', '3279'], '3274': ['3275', '3276'], '9718': ['9719', '9720'], '1924': ['1925', '1926'], '3271': ['3272', '3273'], '9712': ['9713', '9714'], '9715': ['9716', '9717'], '832': ['833', '834'], '3475': ['3476', '3477'], '6826': ['6827', '6828'], '3472': ['3473', '3474'], '2410': ['2411', '2412'], '7360': ['7361', '7362'], '838': ['839', '840'], '7363': ['7364', '7365'], '3478': ['3479', '3480'], '8881': ['8882', '8883'], '7366': ['7367', '7368'], '8542': ['8543', '8544'], '9121': ['9122', '9123'], '5587': ['5588', '5589'], '6901': ['6902', '6903'], '9838': ['9839', '9840'], '3319': ['3320', '3321'], '7021': ['7022', '7023'], '9004': ['9005', '9006'], '7027': ['7028', '7029'], '9001': ['9002', '9003'], '5488': ['5489', '5490'], '8179': ['8180', '8181'], '3310': ['3311', '3312'], '3313': ['3314', '3315'], '5482': ['5483', '5484'], '3316': ['3317', '3318'], '784': ['785', '786'], '9007': ['9008', '9009'], '787': ['788', '789'], '3331': ['3332', '3333'], '781': ['782', '783'], '9391': ['9392', '9393'], '1729': ['1730', '1731'], '1726': ['1727', '1728'], '1723': ['1724', '1725'], '1720': ['1721', '1722'], '5242': ['5243', '5244'], '9832': ['9833', '9834'], '4711': ['4712', '4713'], '6301': ['6302', '6303'], '7930': ['7931', '7932'], '5623': ['5624', '5625'], '7024': ['7025', '7026'], '3004': ['3005', '3006'], '3007': ['3008', '3009'], '3001': ['3002', '3003'], '7591': ['7592', '7593'], '9124': ['9125', '9126'], '67': ['68', '69'], '5620': ['5621', '5622'], '7795': ['7796', '7797'], '5485': ['5486', '5487'], '1588': ['1589', '1590'], '7159': ['7160', '7161'], '1582': ['1583', '1584'], '7156': ['7157', '7158'], '9109': ['9110', '9111'], '7153': ['7154', '7155'], '8491': ['8492', '8493'], '1585': ['1586', '1587'], '6991': ['6992', '6993'], '7384': ['7385', '7386'], '1039': ['1040', '1041'], '508': ['509', '510'], '403': ['404', '405'], '1030': ['1031', '1032'], '505': ['506', '507'], '502': ['503', '504'], '631': ['632', '633'], '1210': ['1211', '1212'], '9457': ['9458', '9459'], '1216': ['1217', '1218'], '8068': ['8069', '8070'], '637': ['638', '639'], '1219': ['1220', '1221'], '8062': ['8063', '8064'], '9451': ['9452', '9453'], '6520': ['6521', '6522'], '4378': ['4379', '4380'], '5635': ['5636', '5637'], '7480': ['7481', '7482'], '7483': ['7484', '7485'], '5659': ['5660', '5661'], '4372': ['4373', '4374'], '8266': ['8267', '8268'], '7489': ['7490', '7491'], '5653': ['5654', '5655'], '5650': ['5651', '5652'], '4375': ['4376', '4377'], '2899': ['2900', '2901'], '2896': ['2897', '2898'], '2890': ['2891', '2892'], '2893': ['2894', '2895'], '9127': ['9128', '9129'], '5245': ['5246', '5247'], '1456': ['1457', '1458'], '1105': ['1106', '1107'], '1450': ['1451', '1452'], '8665': ['8666', '8667'], '1453': ['1454', '1455'], '8668': ['8669', '8670'], '1459': ['1460', '1461'], '1108': ['1109', '1110'], '4081': ['4082', '4083'], '3868': ['3869', '3870'], '4084': ['4085', '4086'], '4087': ['4088', '4089'], '3862': ['3863', '3864'], '3865': ['3866', '3867'], '7459': ['7460', '7461'], '6907': ['6908', '6909'], '8404': ['8405', '8406'], '8407': ['8408', '8409'], '7570': ['7571', '7572'], '5728': ['5729', '5730'], '6418': ['6419', '6420'], '7576': ['7577', '7578'], '5722': ['5723', '5724'], '9817': ['9818', '9819'], '9811': ['9812', '9813'], '5725': ['5726', '5727'], '7777': ['7778', '7779'], '7774': ['7775', '7776'], '7771': ['7772', '7773'], '6598': ['6599', '6600'], '3916': ['3917', '3918'], '3913': ['3914', '3915'], '3910': ['3911', '3912'], '8896': ['8897', '8898'], '4693': ['4694', '4695'], '3919': ['3920', '3921'], '6730': ['6731', '6732'], '6733': ['6734', '6735'], '4798': ['4799', '4800'], '8311': ['8312', '8313'], '6736': ['6737', '6738'], '4795': ['4796', '4797'], '4792': ['4793', '4794'], '5836': ['5837', '5838'], '4153': ['4154', '4155'], '4150': ['4151', '4152'], '4156': ['4157', '4158'], '5833': ['5834', '5835'], '5830': ['5831', '5832'], '8083': ['8084', '8085'], '8272': ['8273', '8274'], '4159': ['4160', '4161'], '8089': ['8090', '8091'], '5839': ['5840', '5841'], '8869': ['8870', '8871'], '9868': ['9869', '9870'], '9922': ['9923', '9924'], '8818': ['8819', '8820'], '9925': ['9926', '9927'], '217': ['218', '219'], '214': ['215', '216'], '211': ['212', '213'], '5992': ['5993', '5994'], '9955': ['9956', '9957'], '3094': ['3095', '3096'], '6088': ['6089', '6090'], '6085': ['6086', '6087'], '6082': ['6083', '6084'], '6649': ['6650', '6651'], '6313': ['6314', '6315'], '6646': ['6647', '6648'], '6640': ['6641', '6642'], '6643': ['6644', '6645'], '5902': ['5903', '5904'], '4': ['5', '6'], '5905': ['5906', '5907'], '5908': ['5909', '5910'], '7801': ['7802', '7803'], '6181': ['6182', '6183'], '7807': ['7808', '7809'], '9907': ['9908', '9909'], '3481': ['3482', '3483'], '8215': ['8216', '8217'], '3484': ['3485', '3486'], '3487': ['3488', '3489'], '4561': ['4562', '4563'], '4567': ['4568', '4569'], '3649': ['3650', '3651'], '4564': ['4565', '4566'], '3646': ['3647', '3648'], '8740': ['8741', '8742'], '3643': ['3644', '3645'], '3640': ['3641', '3642'], '2551': ['2552', '2553'], '2554': ['2555', '2556'], '61': ['62', '63'], '9583': ['9584', '9585'], '6391': ['6392', '6393'], '6397': ['6398', '6399'], '6394': ['6395', '6396'], '2395': ['2396', '2397'], '2392': ['2393', '2394'], '64': ['65', '66'], '2398': ['2399', '2400'], '2779': ['2780', '2781'], '5014': ['5015', '5016'], '5017': ['5018', '5019'], '2770': ['2771', '2772'], '4891': ['4892', '4893'], '2773': ['2774', '2775'], '4897': ['4898', '4899'], '2776': ['2777', '2778'], '4894': ['4895', '4896'], '9499': ['9500', '9501'], '9148': ['9149', '9150'], '7978': ['7979', '7980'], '7975': ['7976', '7977'], '9493': ['9494', '9495'], '9496': ['9497', '9498'], '7972': ['7973', '7974'], '1858': ['1859', '1860'], '5692': ['5693', '5694'], '6265': ['6266', '6267'], '6262': ['6263', '6264'], '9607': ['9608', '9609'], '4417': ['4418', '4419'], '1852': ['1853', '1854'], '4414': ['4415', '4416'], '1855': ['1856', '1857'], '4411': ['4412', '4413'], '6064': ['6065', '6066'], '2173': ['2174', '2175'], '2170': ['2171', '2172'], '6067': ['6068', '6069'], '2176': ['2177', '2178'], '6061': ['6062', '6063'], '4969': ['4970', '4971'], '4966': ['4967', '4968'], '9544': ['9545', '9546'], '2179': ['2180', '2181'], '4963': ['4964', '4965'], '910': ['911', '912'], '913': ['914', '915'], '4960': ['4961', '4962'], '2605': ['2606', '2607'], '9724': ['9725', '9726'], '8602': ['8603', '8604'], '2602': ['2603', '2604'], '9721': ['9722', '9723'], '2608': ['2609', '2610'], '1933': ['1934', '1935'], '3262': ['3263', '3264'], '3265': ['3266', '3267'], '1936': ['1937', '1938'], '7084': ['7085', '7086'], '3268': ['3269', '3270'], '1939': ['1940', '1941'], '7528': ['7529', '7530'], '5122': ['5123', '5124'], '7093': ['7094', '7095'], '847': ['848', '849'], '3466': ['3467', '3468'], '844': ['845', '846'], '3463': ['3464', '3465'], '7090': ['7091', '7092'], '841': ['842', '843'], '3460': ['3461', '3462'], '7372': ['7373', '7374'], '8893': ['8894', '8895'], '9193': ['9194', '9195'], '3469': ['3470', '3471'], '8890': ['8891', '8892'], '1429': ['1430', '1431'], '7087': ['7088', '7089'], '9844': ['9845', '9846'], '9196': ['9197', '9198'], '9199': ['9200', '9201'], '9031': ['9032', '9033'], '2407': ['2408', '2409'], '7018': ['7019', '7020'], '7015': ['7016', '7017'], '7012': ['7013', '7014'], '1738': ['1739', '1740'], '5230': ['5231', '5232'], '9154': ['9155', '9156'], '1732': ['1733', '1734'], '1735': ['1736', '1737'], '5236': ['5237', '5238'], '751': ['752', '753'], '757': ['758', '759'], '754': ['755', '756'], '3070': ['3071', '3072'], '1594': ['1595', '1596'], '1597': ['1598', '1599'], '3073': ['3074', '3075'], '1591': ['1592', '1593'], '2959': ['2960', '2961'], '3076': ['3077', '3078'], '1033': ['1034', '1035'], '3079': ['3080', '3081'], '2956': ['2957', '2958'], '2950': ['2951', '2952'], '6043': ['6044', '6045'], '2953': ['2954', '2955'], '5344': ['5345', '5346'], '1024': ['1025', '1026'], '1027': ['1028', '1029'], '5347': ['5348', '5349'], '1021': ['1022', '1023'], '1801': ['1802', '1803'], '9400': ['9401', '9402'], '7162': ['7163', '7164'], '1036': ['1037', '1038'], '6499': ['6500', '6501'], '7165': ['7166', '7167'], '604': ['605', '606'], '607': ['608', '609'], '4366': ['4367', '4368'], '601': ['602', '603'], '4360': ['4361', '4362'], '4363': ['4364', '4365'], '1213': ['1214', '1215'], '8071': ['8072', '8073'], '1204': ['1205', '1206'], '1207': ['1208', '1209'], '1201': ['1202', '1203'], '8074': ['8075', '8076'], '8077': ['8078', '8079'], '8278': ['8279', '8280'], '5641': ['5642', '5643'], '634': ['635', '636'], '8275': ['8276', '8277'], '5644': ['5645', '5646'], '5647': ['5648', '5649'], '6334': ['6335', '6336'], '3109': ['3110', '3111'], '8899': ['8900', '8901'], '3106': ['3107', '3108'], '3100': ['3101', '3102'], '3103': ['3104', '3105'], '1447': ['1448', '1449'], '8671': ['8672', '8673'], '1444': ['1445', '1446'], '8677': ['8678', '8679'], '1114': ['1115', '1116'], '1117': ['1118', '1119'], '8674': ['8675', '8676'], '9511': ['9512', '9513'], '4279': ['4280', '4281'], '6238': ['6239', '6240'], '4093': ['4094', '4095'], '4090': ['4091', '4092'], '4096': ['4097', '4098'], '4099': ['4100', '4101'], '4858': ['4859', '4860'], '5734': ['5735', '5736'], '5737': ['5738', '5739'], '5731': ['5732', '5733'], '487': ['488', '489'], '484': ['485', '486'], '4855': ['4856', '4857'], '481': ['482', '483'], '1804': ['1805', '1806'], '8497': ['8498', '8499'], '6469': ['6470', '6471'], '7588': ['7589', '7590'], '9808': ['9809', '9810'], '6460': ['6461', '6462'], '7585': ['7586', '7587'], '9805': ['9806', '9807'], '6463': ['6464', '6465'], '6523': ['6524', '6525'], '6466': ['6467', '6468'], '7486': ['7487', '7488'], '7747': ['7748', '7749'], '7744': ['7745', '7746'], '6232': ['6233', '6234'], '8269': ['8270', '8271'], '3922': ['3923', '3924'], '4726': ['4727', '4728'], '3925': ['3926', '3927'], '3928': ['3929', '3930'], '6526': ['6527', '6528'], '5656': ['5657', '5658'], '6721': ['6722', '6723'], '6727': ['6728', '6729'], '8302': ['8303', '8304'], '4789': ['4790', '4791'], '6724': ['6725', '6726'], '4786': ['4787', '4788'], '4783': ['4784', '4785'], '4780': ['4781', '4782'], '5821': ['5822', '5823'], '8095': ['8096', '8097'], '9862': ['9863', '9864'], '5824': ['5825', '5826'], '5827': ['5828', '5829'], '4144': ['4145', '4146'], '4147': ['4148', '4149'], '4141': ['4142', '4143'], '6955': ['6956', '6957'], '3856': ['3857', '3858'], '3853': ['3854', '3855'], '3850': ['3851', '3852'], '8260': ['8261', '8262'], '9931': ['9932', '9933'], '8263': ['8264', '8265'], '9937': ['9938', '9939'], '8632': ['8633', '8634'], '3859': ['3860', '3861'], '9964': ['9965', '9966'], '6091': ['6092', '6093'], '7582': ['7583', '7584'], '6094': ['6095', '6096'], '6097': ['6098', '6099'], '6658': ['6659', '6660'], '6655': ['6656', '6657'], '6652': ['6653', '6654'], '8887': ['8888', '8889'], '5914': ['5915', '5916'], '5917': ['5918', '5919'], '5911': ['5912', '5913'], '199': ['200', '201'], '8494': ['8495', '8496'], '196': ['197', '198'], '6496': ['6497', '6498'], '190': ['191', '192'], '193': ['194', '195'], '6385': ['6386', '6387'], '3679': ['3680', '3681'], '4558': ['4559', '4560'], '6382': ['6383', '6384'], '3673': ['3674', '3675'], '3670': ['3671', '3672'], '4555': ['4556', '4557'], '3676': ['3677', '3678'], '6388': ['6389', '6390'], '2542': ['2543', '2544'], '2545': ['2546', '2547'], '9967': ['9968', '9969'], '2548': ['2549', '2550'], '8662': ['8663', '8664'], '2380': ['2381', '2382'], '2383': ['2384', '2385'], '2386': ['2387', '2388'], '2389': ['2390', '2391'], '1102': ['1103', '1104'], '9772': ['9773', '9774'], '3580': ['3581', '3582'], '5002': ['5003', '5004'], '9157': ['9158', '9159'], '3583': ['3584', '3585'], '9151': ['9152', '9153'], '3586': ['3587', '3588'], '7303': ['7304', '7305'], '3589': ['3590', '3591'], '2761': ['2762', '2763'], '5008': ['5009', '5010'], '2767': ['2768', '2769'], '7300': ['7301', '7302'], '2764': ['2765', '2766'], '7909': ['7910', '7911'], '7900': ['7901', '7902'], '9289': ['9290', '9291'], '9481': ['9482', '9483'], '7903': ['7904', '7905'], '9487': ['9488', '9489'], '7906': ['7907', '7908'], '9484': ['9485', '9486'], '6271': ['6272', '6273'], '1849': ['1850', '1851'], '901': ['902', '903'], '907': ['908', '909'], '904': ['905', '906'], '4621': ['4622', '4623'], '1843': ['1844', '1845'], '4423': ['4424', '4425'], '4420': ['4421', '4422'], '1840': ['1841', '1842'], '4426': ['4427', '4428'], '1846': ['1847', '1848'], '8584': ['8585', '8586'], '9559': ['9560', '9561'], '3250': ['3251', '3252'], '6073': ['6074', '6075'], '8587': ['8588', '8589'], '6070': ['6071', '6072'], '2164': ['2165', '2166'], '2167': ['2168', '2169'], '4951': ['4952', '4953'], '2161': ['2162', '2163'], '4957': ['4958', '4959'], '4954': ['4955', '4956'], '9556': ['9557', '9558'], '2617': ['2618', '2619'], '9730': ['9731', '9732'], '9733': ['9734', '9735'], '2614': ['2615', '2616'], '2611': ['2612', '2613'], '9736': ['9737', '9738'], '9739': ['9740', '9741'], '7345': ['7346', '7347'], '3298': ['3299', '3300'], '9283': ['9284', '9285'], '1909': ['1910', '1911'], '1906': ['1907', '1908'], '3295': ['3296', '3297'], '5134': ['5135', '5136'], '1903': ['1904', '1905'], '1900': ['1901', '1902'], '856': ['857', '858'], '3451': ['3452', '3453'], '850': ['851', '852'], '3457': ['3458', '3459'], '3454': ['3455', '3456'], '853': ['854', '855'], '859': ['860', '861'], '9856': ['9857', '9858'], '7009': ['7010', '7011'], '9028': ['9029', '9030'], '8743': ['8744', '8745'], '9025': ['9026', '9027'], '7000': ['7001', '7002'], '7003': ['7004', '7005'], '7006': ['7007', '7008'], '5221': ['5222', '5223'], '5227': ['5228', '5229'], '5224': ['5225', '5226'], '8935': ['8936', '8937'], '8932': ['8933', '8934'], '8563': ['8564', '8565'], '8938': ['8939', '8940'], '742': ['743', '744'], '745': ['746', '747'], '748': ['749', '750'], '8560': ['8561', '8562'], '5401': ['5402', '5403'], '7174': ['7175', '7176'], '3061': ['3062', '3063'], '6892': ['6893', '6894'], '3067': ['3068', '3069'], '3064': ['3065', '3066'], '2947': ['2948', '2949'], '6898': ['6899', '6900'], '2944': ['2945', '2946'], '2941': ['2942', '2943'], '1051': ['1052', '1053'], '1054': ['1055', '1056'], '1057': ['1058', '1059'], '718': ['719', '720'], '5359': ['5360', '5361'], '1696': ['1697', '1698'], '1693': ['1694', '1695'], '1690': ['1691', '1692'], '8629': ['8630', '8631'], '1699': ['1700', '1701'], '1279': ['1280', '1281'], '4312': ['4313', '4314'], '619': ['620', '621'], '4315': ['4316', '4317'], '1270': ['1271', '1272'], '613': ['614', '615'], '610': ['611', '612'], '1273': ['1274', '1275'], '616': ['617', '618'], '7573': ['7574', '7575'], '1276': ['1277', '1278'], '7657': ['7658', '7659'], '8248': ['8249', '8250'], '8242': ['8243', '8244'], '8791': ['8792', '8793'], '8794': ['8795', '8796'], '8245': ['8246', '8247'], '7045': ['7046', '7047'], '3118': ['3119', '3120'], '3115': ['3116', '3117'], '3112': ['3113', '3114'], '6415': ['6416', '6417'], '1471': ['1472', '1473'], '1477': ['1478', '1479'], '1474': ['1475', '1476'], '8647': ['8648', '8649'], '8644': ['8645', '8646'], '7177': ['7178', '7179'], '5464': ['5465', '5466'], '1306': ['1307', '1308'], '8425': ['8426', '8427'], '1300': ['1301', '1302'], '1303': ['1304', '1305'], '7042': ['7043', '7044'], '1309': ['1310', '1311'], '8428': ['8429', '8430'], '5740': ['5741', '5742'], '5743': ['5744', '5745'], '4228': ['4229', '4230'], '499': ['500', '501'], '5746': ['5747', '5748'], '9814': ['9815', '9816'], '4225': ['4226', '4227'], '496': ['497', '498'], '6412': ['6413', '6414'], '490': ['491', '492'], '4222': ['4223', '4224'], '493': ['494', '495'], '25': ['26', '27'], '5584': ['5585', '5586'], '6478': ['6479', '6480'], '5038': ['5039', '5040'], '22': ['23', '24'], '5581': ['5582', '5583'], '7597': ['7598', '7599'], '6472': ['6473', '6474'], '7594': ['7595', '7596'], '28': ['29', '30'], '6475': ['6476', '6477'], '6847': ['6848', '6849'], '9241': ['9242', '9243'], '7759': ['7760', '7761'], '7120': ['7121', '7122'], '7756': ['7757', '7758'], '7750': ['7751', '7752'], '7753': ['7754', '7755'], '8101': ['8102', '8103'], '5308': ['5309', '5310'], '5035': ['5036', '5037'], '5266': ['5267', '5268'], '3934': ['3935', '3936'], '3937': ['3938', '3939'], '3931': ['3932', '3933'], '9532': ['9533', '9534'], '8332': ['8333', '8334'], '7309': ['7310', '7311'], '8626': ['8627', '8628'], '6718': ['6719', '6720'], '8335': ['8336', '8337'], '8338': ['8339', '8340'], '6715': ['6716', '6717'], '6712': ['6713', '6714'], '4138': ['4139', '4140'], '4435': ['4436', '4437'], '9904': ['9905', '9906'], '9901': ['9902', '9903'], '4132': ['4133', '4134'], '4135': ['4136', '4137'], '3841': ['3842', '3843'], '7918': ['7919', '7920'], '3844': ['3845', '3846'], '3847': ['3848', '3849'], '5695': ['5696', '5697'], '5698': ['5699', '5700'], '5302': ['5303', '5304'], '7855': ['7856', '7857'], '8620': ['8621', '8622'], '7858': ['7859', '7860'], '4045': ['4046', '4047'], '4042': ['4043', '4044'], '6661': ['6662', '6663'], '4048': ['4049', '4050'], '6667': ['6668', '6669'], '6664': ['6665', '6666'], '5968': ['5969', '5970'], '7': ['8', '9'], '5962': ['5963', '5964'], '8485': ['8486', '8487'], '5965': ['5966', '5967'], '4921': ['4922', '4923'], '3664': ['3665', '3666'], '3667': ['3668', '3669'], '3661': ['3662', '3663'], '2281': ['2282', '2283'], '2284': ['2285', '2286'], '2287': ['2288', '2289'], '4549': ['4550', '4551'], '4540': ['4541', '4542'], '4543': ['4544', '4545'], '4546': ['4547', '4548'], '8314': ['8315', '8316'], '2578': ['2579', '2580'], '2575': ['2576', '2577'], '2572': ['2573', '2574'], '4534': ['4535', '4536'], '8317': ['8318', '8319'], '2374': ['2375', '2376'], '2377': ['2378', '2379'], '2371': ['2372', '2373'], '3592': ['3593', '3594'], '2596': ['2597', '2598'], '4825': ['4826', '4827'], '2590': ['2591', '2592'], '3595': ['3596', '3597'], '2593': ['2594', '2595'], '4822': ['4823', '4824'], '3598': ['3599', '3600'], '5032': ['5033', '5034'], '2599': ['2600', '2601'], '1876': ['1877', '1878'], '1084': ['1085', '1086'], '1873': ['1874', '1875'], '1870': ['1871', '1872'], '4432': ['4433', '4434'], '5158': ['5159', '5160'], '7912': ['7913', '7914'], '4438': ['4439', '4440'], '7915': ['7916', '7917'], '1879': ['1880', '1881'], '4945': ['4946', '4947'], '976': ['977', '978'], '973': ['974', '975'], '6289': ['6290', '6291'], '970': ['971', '972'], '6286': ['6287', '6288'], '6280': ['6281', '6282'], '4948': ['4949', '4950'], '979': ['980', '981'], '6283': ['6284', '6285'], '2119': ['2120', '2121'], '6040': ['6041', '6042'], '181': ['182', '183'], '6046': ['6047', '6048'], '187': ['188', '189'], '184': ['185', '186'], '2110': ['2111', '2112'], '2113': ['2114', '2115'], '2116': ['2117', '2118'], '2623': ['2624', '2625'], '2620': ['2621', '2622'], '5248': ['5249', '5250'], '2626': ['2627', '2628'], '2629': ['2630', '2631'], '8086': ['8087', '8088'], '7351': ['7352', '7353'], '1918': ['1919', '1920'], '9580': ['9581', '9582'], '9238': ['9239', '9240'], '4924': ['4925', '4926'], '3289': ['3290', '3291'], '3286': ['3287', '3288'], '1912': ['1913', '1914'], '1915': ['1916', '1917'], '5107': ['5108', '5109'], '5104': ['5105', '5106'], '3280': ['3281', '3282'], '868': ['869', '870'], '6049': ['6050', '6051'], '3448': ['3449', '3450'], '3445': ['3446', '3447'], '862': ['863', '864'], '865': ['866', '867'], '3442': ['3443', '3444'], '2026': ['2027', '2028'], '2755': ['2756', '2757'], '2752': ['2753', '2754'], '2023': ['2024', '2025'], '6331': ['6332', '6333'], '2029': ['2030', '2031'], '2758': ['2759', '2760'], '883': ['884', '885'], '880': ['881', '882'], '886': ['887', '888'], '9334': ['9335', '9336'], '889': ['890', '891'], '6853': ['6854', '6855'], '9058': ['9059', '9060'], '3148': ['3149', '3150'], '5215': ['5216', '5217'], '5212': ['5213', '5214'], '9052': ['9053', '9054'], '9055': ['9056', '9057'], '5218': ['5219', '5220'], '9928': ['9929', '9930'], '4591': ['4592', '4593'], '8926': ['8927', '8928'], '8923': ['8924', '8925'], '8920': ['8921', '8922'], '9883': ['9884', '9885'], '9823': ['9824', '9825'], '8929': ['8930', '8931'], '7501': ['7502', '7503'], '775': ['776', '777'], '772': ['773', '774'], '778': ['779', '780'], '76': ['77', '78'], '7102': ['7103', '7104'], '7639': ['7640', '7641'], '73': ['74', '75'], '7105': ['7106', '7107'], '3058': ['3059', '3060'], '70': ['71', '72'], '7108': ['7109', '7110'], '5410': ['5411', '5412'], '3055': ['3056', '3057'], '3052': ['3053', '3054'], '2977': ['2978', '2979'], '79': ['80', '81'], '5362': ['5363', '5364'], '1042': ['1043', '1044'], '1045': ['1046', '1047'], '5365': ['5366', '5367'], '5368': ['5369', '5370'], '1048': ['1049', '1050'], '1681': ['1682', '1683'], '1684': ['1685', '1686'], '1687': ['1688', '1689'], '9586': ['9587', '9588'], '7354': ['7355', '7356'], '4303': ['4304', '4305'], '8254': ['8255', '8256'], '8257': ['8258', '8259'], '4300': ['4301', '4302'], '8251': ['8252', '8253'], '4306': ['4307', '4308'], '667': ['668', '669'], '1261': ['1262', '1263'], '664': ['665', '666'], '1267': ['1268', '1269'], '661': ['662', '663'], '2986': ['2987', '2988'], '8788': ['8789', '8790'], '9235': ['9236', '9237'], '8782': ['8783', '8784'], '8785': ['8786', '8787'], '5101': ['5102', '5103'], '7618': ['7619', '7620'], '3283': ['3284', '3285'], '3121': ['3122', '3123'], '3127': ['3128', '3129'], '3124': ['3125', '3126'], '5029': ['5030', '5031'], '1468': ['1469', '1470'], '1465': ['1466', '1467'], '520': ['521', '522'], '8653': ['8654', '8655'], '1462': ['1463', '1464'], '8431': ['8432', '8433'], '1315': ['1316', '1317'], '1312': ['1313', '1314'], '8437': ['8438', '8439'], '7330': ['7331', '7332'], '9610': ['9611', '9612'], '1318': ['1319', '1320'], '5752': ['5753', '5754'], '6916': ['6917', '6918'], '6445': ['6446', '6447'], '6442': ['6443', '6444'], '9820': ['9821', '9822'], '5755': ['5756', '5757'], '6913': ['6914', '6915'], '4237': ['4238', '4239'], '4234': ['4235', '4236'], '9829': ['9830', '9831'], '6919': ['6920', '6921'], '4231': ['4232', '4233'], '5590': ['5591', '5592'], '5593': ['5594', '5595'], '5596': ['5597', '5598'], '5599': ['5600', '5601'], '7729': ['7730', '7731'], '7720': ['7721', '7722'], '7723': ['7724', '7725'], '7726': ['7727', '7728'], '3949': ['3950', '3951'], '319': ['320', '321'], '313': ['314', '315'], '310': ['311', '312'], '316': ['317', '318'], '3946': ['3947', '3948'], '6709': ['6710', '6711'], '4216': ['4217', '4218'], '8329': ['8330', '8331'], '6700': ['6701', '6702'], '6703': ['6704', '6705'], '8326': ['8327', '8328'], '8320': ['8321', '8322'], '8323': ['8324', '8325'], '6706': ['6707', '6708'], '9910': ['9911', '9912'], '4129': ['4130', '4131'], '9916': ['9917', '9918'], '4123': ['4124', '4125'], '4120': ['4121', '4122'], '4126': ['4127', '4128'], '7435': ['7436', '7437'], '5689': ['5690', '5691'], '7432': ['7433', '7434'], '2020': ['2021', '2022'], '5686': ['5687', '5688'], '7438': ['7439', '7440'], '5680': ['5681', '5682'], '5683': ['5684', '5685'], '6676': ['6677', '6678'], '1333': ['1334', '1335'], '6673': ['6674', '6675'], '7534': ['7535', '7536'], '6679': ['6680', '6681'], '4702': ['4703', '4704'], '4057': ['4058', '4059'], '4054': ['4055', '4056'], '4051': ['4052', '4053'], '8287': ['8288', '8289'], '2692': ['2693', '2694'], '5971': ['5972', '5973'], '5977': ['5978', '5979'], '5974': ['5975', '5976'], '3610': ['3611', '3612'], '2299': ['2300', '2301'], '3613': ['3614', '3615'], '3616': ['3617', '3618'], '2293': ['2294', '2295'], '3619': ['3620', '3621'], '2290': ['2291', '2292'], '2296': ['2297', '2298'], '5197': ['5198', '5199'], '8125': ['8126', '8127'], '2569': ['2570', '2571'], '8515': ['8516', '8517'], '2560': ['2561', '2562'], '2563': ['2564', '2565'], '2566': ['2567', '2568'], '2368': ['2369', '2370'], '9577': ['9578', '9579'], '2365': ['2366', '2367'], '5776': ['5777', '5778'], '2362': ['2363', '2364'], '2587': ['2588', '2589'], '7291': ['7292', '7293'], '7924': ['7925', '7926'], '2584': ['2585', '2586'], '7294': ['7295', '7296'], '9136': ['9137', '9138'], '2581': ['2582', '2583'], '7297': ['7298', '7299'], '5020': ['5021', '5022'], '5023': ['5024', '5025'], '5191': ['5192', '5193'], '5026': ['5027', '5028'], '1861': ['1862', '1863'], '4441': ['4442', '4443'], '4444': ['4445', '4446'], '1864': ['1865', '1866'], '1867': ['1868', '1869'], '4447': ['4448', '4449'], '3724': ['3725', '3726'], '3727': ['3728', '3729'], '3721': ['3722', '3723'], '964': ['965', '966'], '4687': ['4688', '4689'], '4684': ['4685', '4686'], '967': ['968', '969'], '961': ['962', '963'], '4936': ['4937', '4938'], '4681': ['4682', '4683'], '4939': ['4940', '4941'], '6295': ['6296', '6297'], '7798': ['7799', '7800'], '6292': ['6293', '6294'], '6058': ['6059', '6060'], '6055': ['6056', '6057'], '2101': ['2102', '2103'], '2107': ['2108', '2109'], '5575': ['5576', '5577'], '2104': ['2105', '2106'], '5116': ['5117', '5118'], '2638': ['2639', '2640'], '5113': ['5114', '5115'], '2635': ['2636', '2637'], '5119': ['5120', '5121'], '2632': ['2633', '2634'], '9598': ['9599', '9600'], '9229': ['9230', '9231'], '9595': ['9596', '9597'], '9226': ['9227', '9228'], '9223': ['9224', '9225'], '7804': ['7805', '7806'], '3439': ['3440', '3441'], '6076': ['6077', '6078'], '1240': ['1241', '1242'], '3430': ['3431', '3432'], '877': ['878', '879'], '874': ['875', '876'], '3433': ['3434', '3435'], '1243': ['1244', '1245'], '3436': ['3437', '3438'], '871': ['872', '873'], '2740': ['2741', '2742'], '2743': ['2744', '2745'], '3091': ['3092', '3093'], '2032': ['2033', '2034'], '4594': ['4595', '4596'], '2746': ['2747', '2748'], '2749': ['2750', '2751'], '4846': ['4847', '4848'], '4840': ['4841', '4842'], '2038': ['2039', '2040'], '7324': ['7325', '7326'], '892': ['893', '894'], '895': ['896', '897'], '898': ['899', '900'], '6190': ['6191', '6192'], '646': ['647', '648'], '1249': ['1250', '1251'], '5203': ['5204', '5205'], '5206': ['5207', '5208'], '5209': ['5210', '5211'], '9040': ['9041', '9042'], '9046': ['9047', '9048'], '7321': ['7322', '7323'], '3544': ['3545', '3546'], '3547': ['3548', '3549'], '3541': ['3542', '3543'], '8950': ['8951', '8952'], '8911': ['8912', '8913'], '8917': ['8918', '8919'], '8914': ['8915', '8916'], '5194': ['5195', '5196'], '3238': ['3239', '3240'], '2965': ['2966', '2967'], '1789': ['1790', '1791'], '769': ['770', '771'], '2962': ['2963', '2964'], '1780': ['1781', '1782'], '1612': ['1613', '1614'], '760': ['761', '762'], '1783': ['1784', '1785'], '766': ['767', '768'], '2968': ['2969', '2970'], '1786': ['1787', '1788'], '3049': ['3050', '3051'], '7111': ['7112', '7113'], '7117': ['7118', '7119'], '7114': ['7115', '7116'], '6877': ['6878', '6879'], '3040': ['3041', '3042'], '3043': ['3044', '3045'], '6874': ['6875', '6876'], '6871': ['6872', '6873'], '3046': ['3047', '3048'], '8713': ['8714', '8715'], '1078': ['1079', '1080'], '5374': ['5375', '5376'], '5377': ['5378', '5379'], '1075': ['1076', '1077'], '1072': ['1073', '1074'], '1678': ['1679', '1680'], '1675': ['1676', '1677'], '1672': ['1673', '1674'], '9274': ['9275', '9276'], '8221': ['8222', '8223'], '1096': ['1097', '1098'], '1090': ['1091', '1092'], '679': ['680', '681'], '1093': ['1094', '1095'], '4336': ['4337', '4338'], '676': ['677', '678'], '670': ['671', '672'], '1099': ['1100', '1101'], '4330': ['4331', '4332'], '673': ['674', '675'], '3136': ['3137', '3138'], '3130': ['3131', '3132'], '3133': ['3134', '3135'], '3139': ['3140', '3141'], '7609': ['7610', '7611'], '7606': ['7607', '7608'], '2557': ['2558', '2559'], '7603': ['7604', '7605'], '7600': ['7601', '7602'], '4642': ['4643', '4644'], '1411': ['1412', '1413'], '1414': ['1415', '1416'], '1417': ['1418', '1419'], '1321': ['1322', '1323'], '1327': ['1328', '1329'], '1324': ['1325', '1326'], '6451': ['6452', '6453'], '8683': ['8684', '8685'], '8680': ['8681', '8682'], '6904': ['6905', '6906'], '8686': ['8687', '8688'], '6454': ['6455', '6456'], '6457': ['6458', '6459'], '7792': ['7793', '7794'], '5767': ['5768', '5769'], '5764': ['5765', '5766'], '4201': ['4202', '4203'], '4207': ['4208', '4209'], '4204': ['4205', '4206'], '5761': ['5762', '5763'], '5569': ['5570', '5571'], '5566': ['5567', '5568'], '5560': ['5561', '5562'], '5563': ['5564', '5565'], '1525': ['1526', '1527'], '9592': ['9593', '9594'], '1255': ['1256', '1257'], '1252': ['1253', '1254'], '1522': ['1523', '1524'], '7732': ['7733', '7734'], '1528': ['1529', '1530'], '1258': ['1259', '1260'], '3958': ['3959', '3960'], '3952': ['3953', '3954'], '304': ['305', '306'], '3955': ['3956', '3957'], '307': ['308', '309'], '4117': ['4118', '4119'], '4114': ['4115', '4116'], '8191': ['8192', '8193'], '8719': ['8720', '8721'], '4111': ['4112', '4113'], '8350': ['8351', '8352'], '8353': ['8354', '8355'], '8356': ['8357', '8358'], '9685': ['9686', '9687'], '7669': ['7670', '7671'], '7426': ['7427', '7428'], '7423': ['7424', '7425'], '7420': ['7421', '7422'], '6868': ['6869', '6870'], '7429': ['7430', '7431'], '5011': ['5012', '5013'], '6601': ['6602', '6603'], '6604': ['6605', '6606'], '6607': ['6608', '6609'], '7450': ['7451', '7452'], '4063': ['4064', '4065'], '4060': ['4061', '4062'], '2971': ['2972', '2973'], '4066': ['4067', '4068'], '7180': ['7181', '7182'], '5941': ['5942', '5943'], '4069': ['4070', '4071'], '5785': ['5786', '5787'], '7411': ['7412', '7413'], '2974': ['2975', '2976'], '5782': ['5783', '5784'], '4639': ['4640', '4641'], '5788': ['5789', '5790'], '3601': ['3602', '3603'], '9268': ['9269', '9270'], '3607': ['3608', '3609'], '3604': ['3605', '3606'], '6118': ['6119', '6120'], '6115': ['6116', '6117'], '9622': ['9623', '9624'], '6112': ['6113', '6114'], '2359': ['2360', '2361'], '2353': ['2354', '2355'], '2350': ['2351', '2352'], '2356': ['2357', '2358'], '7282': ['7283', '7284'], '7933': ['7934', '7935'], '7285': ['7286', '7287'], '7936': ['7937', '7938'], '7939': ['7940', '7941'], '7288': ['7289', '7290'], '9103': ['9104', '9105'], '9100': ['9101', '9102'], '4453': ['4454', '4455'], '9142': ['9143', '9144'], '4450': ['4451', '4452'], '7873': ['7874', '7875'], '4456': ['4457', '4458'], '3739': ['3740', '3741'], '1894': ['1895', '1896'], '3736': ['3737', '3738'], '4459': ['4460', '4461'], '1897': ['1898', '1899'], '3733': ['3734', '3735'], '1891': ['1892', '1893'], '3730': ['3731', '3732'], '2137': ['2138', '2139'], '2134': ['2135', '2136'], '4927': ['4928', '4929'], '2131': ['2132', '2133'], '4699': ['4700', '4701'], '952': ['953', '954'], '955': ['956', '957'], '7879': ['7880', '7881'], '6028': ['6029', '6030'], '6022': ['6023', '6024'], '9145': ['9146', '9147'], '6025': ['6026', '6027'], '5161': ['5162', '5163'], '5164': ['5165', '5166'], '5167': ['5168', '5169'], '2641': ['2642', '2643'], '2644': ['2645', '2646'], '2647': ['2648', '2649'], '9211': ['9212', '9213'], '9217': ['9218', '9219'], '9214': ['9215', '9216'], '6739': ['6740', '6741'], '3421': ['3422', '3423'], '4807': ['4808', '4809'], '3427': ['3428', '3429'], '3424': ['3425', '3426'], '2002': ['2003', '2004'], '6337': ['6338', '6339'], '4588': ['4589', '4590'], '2005': ['2006', '2007'], '4585': ['4586', '4587'], '9697': ['9698', '9699'], '2008': ['2009', '2010'], '4852': ['4853', '4854'], '4582': ['4583', '4584'], '9076': ['9077', '9078'], '9073': ['9074', '9075'], '9070': ['9071', '9072'], '9079': ['9080', '9081'], '9676': ['9677', '9678'], '9670': ['9671', '9672'], '6268': ['6269', '6270'], '9673': ['9674', '9675'], '9679': ['9680', '9681'], '6964': ['6965', '6966'], '8419': ['8420', '8421'], '3556': ['3557', '3558'], '3553': ['3554', '3555'], '6967': ['6968', '6969'], '3550': ['3551', '3552'], '3559': ['3560', '3561'], '4942': ['4943', '4944'], '8908': ['8909', '8910'], '8905': ['8906', '8907'], '919': ['920', '921'], '4309': ['4310', '4311'], '8902': ['8903', '8904'], '2911': ['2912', '2913'], '1798': ['1799', '1800'], '2914': ['2915', '2916'], '2917': ['2918', '2919'], '1792': ['1793', '1794'], '715': ['716', '717'], '712': ['713', '714'], '1795': ['1796', '1797'], '7129': ['7130', '7131'], '7126': ['7127', '7128'], '1264': ['1265', '1266'], '6307': ['6308', '6309'], '6844': ['6845', '6846'], '1069': ['1070', '1071'], '916': ['917', '918'], '6319': ['6320', '6321'], '1060': ['1061', '1062'], '1063': ['1064', '1065'], '5305': ['5306', '5307'], '1066': ['1067', '1068'], '5959': ['5960', '5961'], '6841': ['6842', '6843'], '1669': ['1670', '1671'], '1666': ['1667', '1668'], '9541': ['9542', '9543'], '1663': ['1664', '1665'], '1660': ['1661', '1662'], '1087': ['1088', '1089'], '6592': ['6593', '6594'], '592': ['593', '594'], '595': ['596', '597'], '6595': ['6596', '6597'], '1081': ['1082', '1083'], '9727': ['9728', '9729'], '4321': ['4322', '4323'], '598': ['599', '600'], '8239': ['8240', '8241'], '4324': ['4325', '4326'], '4327': ['4328', '4329'], '7954': ['7955', '7956'], '3142': ['3143', '3144'], '3145': ['3146', '3147'], '2824': ['2825', '2826'], '2827': ['2828', '2829'], '2821': ['2822', '2823'], '5416': ['5417', '5418'], '3385': ['3386', '3387'], '3382': ['3383', '3384'], '5413': ['5414', '5415'], '7633': ['7634', '7635'], '7630': ['7631', '7632'], '7636': ['7637', '7638'], '5419': ['5420', '5421'], '3388': ['3389', '3390'], '1408': ['1409', '1410'], '1402': ['1403', '1404'], '8137': ['8138', '8139'], '1405': ['1406', '1407'], '448': ['449', '450'], '1339': ['1340', '1341'], '4210': ['4211', '4212'], '4213': ['4214', '4215'], '442': ['443', '444'], '1336': ['1337', '1338'], '4219': ['4220', '4221'], '1330': ['1331', '1332'], '445': ['446', '447'], '5779': ['5780', '5781'], '9841': ['9842', '9843'], '6931': ['6932', '6933'], '9847': ['9848', '9849'], '6937': ['6938', '6939'], '6934': ['6935', '6936'], '8128': ['8129', '8130'], '8695': ['8696', '8697'], '5770': ['5771', '5772'], '5773': ['5774', '5775'], '8122': ['8123', '8124'], '697': ['698', '699'], '7705': ['7706', '7707'], '7702': ['7703', '7704'], '694': ['695', '696'], '5578': ['5579', '5580'], '31': ['32', '33'], '37': ['38', '39'], '5572': ['5573', '5574'], '7708': ['7709', '7710'], '34': ['35', '36'], '1537': ['1538', '1539'], '640': ['641', '642'], '643': ['644', '645'], '1534': ['1535', '1536'], '4624': ['4625', '4626'], '3097': ['3098', '3099'], '1531': ['1532', '1533'], '1246': ['1247', '1248'], '649': ['650', '651'], '5128': ['5129', '5130'], '334': ['335', '336'], '337': ['338', '339'], '331': ['332', '333'], '9694': ['9695', '9696'], '4102': ['4103', '4104'], '4105': ['4106', '4107'], '7612': ['7613', '7614'], '5125': ['5126', '5127'], '4108': ['4109', '4110'], '8341': ['8342', '8343'], '8347': ['8348', '8349'], '9793': ['9794', '9795'], '8344': ['8345', '8346'], '8659': ['8660', '8661'], '8410': ['8411', '8412'], '3898': ['3899', '3900'], '7198': ['7199', '7200'], '7417': ['7418', '7419'], '7414': ['7415', '7416'], '3892': ['3893', '3894'], '3895': ['3896', '3897'], '8956': ['8957', '8958'], '7783': ['7784', '7785'], '8716': ['8717', '8718'], '7270': ['7271', '7272'], '6613': ['6614', '6615'], '6610': ['6611', '6612'], '6616': ['6617', '6618'], '8650': ['8651', '8652'], '6619': ['6620', '6621'], '5950': ['5951', '5952'], '5953': ['5954', '5955'], '4078': ['4079', '4080'], '5956': ['5957', '5958'], '4075': ['4076', '4077'], '8416': ['8417', '8418'], '4072': ['4073', '4074'], '5797': ['5798', '5799'], '3967': ['3968', '3969'], '3964': ['3965', '3966'], '5794': ['5795', '5796'], '5791': ['5792', '5793'], '3961': ['3962', '3963'], '7510': ['7511', '7512'], '8656': ['8657', '8658'], '7279': ['7280', '7281'], '3637': ['3638', '3639'], '3634': ['3635', '3636'], '3631': ['3632', '3633'], '7375': ['7376', '7377'], '9160': ['9161', '9162'], '8434': ['8435', '8436'], '2344': ['2345', '2346'], '2347': ['2348', '2349'], '2341': ['2342', '2343'], '6109': ['6110', '6111'], '9691': ['9692', '9693'], '6106': ['6107', '6108'], '6103': ['6104', '6105'], '6100': ['6101', '6102'], '9796': ['9797', '9798'], '9118': ['9119', '9120'], '9448': ['9449', '9450'], '9445': ['9446', '9447'], '9112': ['9113', '9114'], '9115': ['9116', '9117'], '9442': ['9443', '9444'], '3709': ['3710', '3711'], '4468': ['4469', '4470'], '1888': ['1889', '1890'], '3703': ['3704', '3705'], '1885': ['1886', '1887'], '4465': ['4466', '4467'], '3706': ['3707', '3708'], '1882': ['1883', '1884'], '7123': ['7124', '7125'], '2122': ['2123', '2124'], '2125': ['2126', '2127'], '4669': ['4670', '4671'], '4918': ['4919', '4920'], '949': ['950', '951'], '946': ['947', '948'], '2128': ['2129', '2130'], '4666': ['4667', '4668'], '4915': ['4916', '4917'], '4660': ['4661', '4662'], '943': ['944', '945'], '940': ['941', '942'], '4663': ['4664', '4665'], '9826': ['9827', '9828'], '6910': ['6911', '6912'], '6031': ['6032', '6033'], '6037': ['6038', '6039'], '6034': ['6035', '6036'], '5173': ['5174', '5175'], '2659': ['2660', '2661'], '5170': ['5171', '5172'], '5176': ['5177', '5178'], '9202': ['9203', '9204'], '2653': ['2654', '2655'], '5179': ['5180', '5181'], '2650': ['2651', '2652'], '2656': ['2657', '2658'], '133': ['134', '135'], '130': ['131', '132'], '3412': ['3413', '3414'], '136': ['137', '138'], '5185': ['5186', '5187'], '139': ['140', '141'], '7381': ['7382', '7383'], '7387': ['7388', '7389'], '3418': ['3419', '3420'], '5758': ['5759', '5760'], '9547': ['9548', '9549'], '9688': ['9689', '9690'], '6325': ['6326', '6327'], '6322': ['6323', '6324'], '1930': ['1931', '1932'], '2014': ['2015', '2016'], '2017': ['2018', '2019'], '4861': ['4862', '4863'], '2011': ['2012', '2013'], '4867': ['4868', '4869'], '4864': ['4865', '4866'], '6328': ['6329', '6330'], '9061': ['9062', '9063'], '9064': ['9065', '9066'], '9067': ['9068', '9069'], '7519': ['7520', '7521'], '9454': ['9455', '9456'], '9664': ['9665', '9666'], '9661': ['9662', '9663'], '7444': ['7445', '7446'], '3562': ['3563', '3564'], '7255': ['7256', '7257'], '7252': ['7253', '7254'], '3565': ['3566', '3567'], '3568': ['3569', '3570'], '7258': ['7259', '7260'], '5929': ['5930', '5931'], '4486': ['4487', '4488'], '4480': ['4481', '4482'], '4483': ['4484', '4485'], '8971': ['8972', '8973'], '8974': ['8975', '8976'], '4489': ['4490', '4491'], '8977': ['8978', '8979'], '2902': ['2903', '2904'], '6856': ['6857', '6858'], '709': ['710', '711'], '2905': ['2906', '2907'], '706': ['707', '708'], '2908': ['2909', '2910'], '700': ['701', '702'], '703': ['704', '705'], '7138': ['7139', '7140'], '88': ['89', '90'], '82': ['83', '84'], '7132': ['7133', '7134'], '7135': ['7136', '7137'], '85': ['86', '87'], '5311': ['5312', '5313'], '5317': ['5318', '5319'], '5314': ['5315', '5316'], '8806': ['8807', '8808'], '8800': ['8801', '8802'], '8803': ['8804', '8805'], '1651': ['1652', '1653'], '1657': ['1658', '1659'], '1654': ['1655', '1656'], '586': ['587', '588'], '1630': ['1631', '1632'], '7945': ['7946', '7947'], '6580': ['6581', '6582'], '8758': ['8759', '8760'], '583': ['584', '585'], '580': ['581', '582'], '5239': ['5240', '5241'], '8206': ['8207', '8208'], '8755': ['8756', '8757'], '6589': ['6590', '6591'], '8203': ['8204', '8205'], '8200': ['8201', '8202'], '589': ['590', '591'], '7624': ['7625', '7626'], '3151': ['3152', '3153'], '1633': ['1634', '1635'], '3157': ['3158', '3159'], '2839': ['2840', '2841'], '3154': ['3155', '3156'], '2836': ['2837', '2838'], '2833': ['2834', '2835'], '2830': ['2831', '2832'], '3391': ['3392', '3393'], '1435': ['1436', '1437'], '1432': ['1433', '1434'], '3394': ['3395', '3396'], '3397': ['3398', '3399'], '1438': ['1439', '1440'], '9877': ['9878', '9879'], '1348': ['1349', '1350'], '4261': ['4262', '4263'], '5233': ['5234', '5235'], '4264': ['4265', '4266'], '4267': ['4268', '4269'], '451': ['452', '453'], '1342': ['1343', '1344'], '454': ['455', '456'], '1345': ['1346', '1347'], '457': ['458', '459'], '8119': ['8120', '8121'], '6928': ['6929', '6930'], '7822': ['7823', '7824'], '6925': ['6926', '6927'], '8113': ['8114', '8115'], '8110': ['8111', '8112'], '8116': ['8117', '8118'], '3700': ['3701', '3702'], '6922': ['6923', '6924'], '7711': ['7712', '7713'], '5548': ['5549', '5550'], '9439': ['9440', '9441'], '7714': ['7715', '7716'], '7717': ['7718', '7719'], '5542': ['5543', '5544'], '4462': ['4463', '4464'], '5545': ['5546', '5547'], '3940': ['3941', '3942'], '1501': ['1502', '1503'], '652': ['653', '654'], '3088': ['3089', '3090'], '1504': ['1505', '1506'], '8599': ['8600', '8601'], '3085': ['3086', '3087'], '8593': ['8594', '8595'], '658': ['659', '660'], '3082': ['3083', '3084'], '8377': ['8378', '8379'], '8374': ['8375', '8376'], '3943': ['3944', '3945'], '8371': ['8372', '8373'], '5890': ['5891', '5892'], '8575': ['8576', '8577'], '5893': ['5894', '5895'], '5896': ['5897', '5898'], '5899': ['5900', '5901'], '8578': ['8579', '8580'], '8401': ['8402', '8403'], '3886': ['3887', '3888'], '3880': ['3881', '3882'], '3883': ['3884', '3885'], '3889': ['3890', '3891'], '7408': ['7409', '7410'], '7405': ['7406', '7407'], '7402': ['7403', '7404'], '568': ['569', '570'], '4912': ['4913', '4914'], '9286': ['9287', '9288'], '6628': ['6629', '6630'], '6625': ['6626', '6627'], '6622': ['6623', '6624'], '4009': ['4010', '4011'], '4000': ['4001', '4002'], '4003': ['4004', '4005'], '4006': ['4007', '4008'], '322': ['323', '324'], '3970': ['3971', '3972'], '3973': ['3974', '3975'], '9892': ['9893', '9894'], '325': ['326', '327'], '3979': ['3980', '3981'], '328': ['329', '330'], '9898': ['9899', '9900'], '8770': ['8771', '8772'], '6529': ['6530', '6531'], '3628': ['3629', '3630'], '9571': ['9572', '9573'], '3622': ['3623', '3624'], '3625': ['3626', '3627'], '9913': ['9914', '9915'], '565': ['566', '567'], '4714': ['4715', '4716'], '6886': ['6887', '6888'], '2332': ['2333', '2334'], '4717': ['4718', '4719'], '2335': ['2336', '2337'], '7642': ['7643', '7644'], '2338': ['2339', '2340'], '6133': ['6134', '6135'], '6130': ['6131', '6132'], '6136': ['6137', '6138'], '9919': ['9920', '9921'], '9430': ['9431', '9432'], '6883': ['6884', '6885'], '3715': ['3716', '3717'], '9205': ['9206', '9207'], '6997': ['6998', '6999'], '6880': ['6881', '6882'], '3712': ['3713', '3714'], '9472': ['9473', '9474'], '3718': ['3719', '3720'], '9475': ['9476', '9477'], '4471': ['4472', '4473'], '4474': ['4475', '4476'], '4477': ['4478', '4479'], '4909': ['4910', '4911'], '6007': ['6008', '6009'], '6004': ['6005', '6006'], '7648': ['7649', '7650'], '2488': ['2489', '2490'], '4678': ['4679', '4680'], '4900': ['4901', '4902'], '4675': ['4676', '4677'], '2485': ['2486', '2487'], '2482': ['2483', '2484'], '4672': ['4673', '4674'], '4903': ['4904', '4905'], '2248': ['2249', '2250'], '9367': ['9368', '9369'], '2245': ['2246', '2247'], '6889': ['6890', '6891'], '2242': ['2243', '2244'], '2464': ['2465', '2466'], '994': ['995', '996'], '997': ['998', '999'], '2467': ['2468', '2469'], '991': ['992', '993'], '2461': ['2462', '2463'], '7393': ['7394', '7395'], '5149': ['5150', '5151'], '5146': ['5147', '5148'], '7399': ['7400', '7401'], '5143': ['5144', '5145'], '5140': ['5141', '5142'], '9208': ['9209', '9210'], '3400': ['3401', '3402'], '3403': ['3404', '3405'], '124': ['125', '126'], '3406': ['3407', '3408'], '3409': ['3410', '3411'], '9604': ['9605', '9606'], '9574': ['9575', '9576'], '7537': ['7538', '7539'], '5341': ['5342', '5343'], '4876': ['4877', '4878'], '4870': ['4871', '4872'], '4873': ['4874', '4875'], '1921': ['1922', '1923'], '4879': ['4880', '4881'], '2068': ['2069', '2070'], '5425': ['5426', '5427'], '6310': ['6311', '6312'], '3415': ['3416', '3417'], '6316': ['6317', '6318'], '2062': ['2063', '2064'], '2791': ['2792', '2793'], '2065': ['2066', '2067'], '2794': ['2795', '2796'], '9169': ['9170', '9171'], '8983': ['8984', '8985'], '9094': ['9095', '9096'], '9097': ['9098', '9099'], '9091': ['9092', '9093'], '9652': ['9653', '9654'], '8185': ['8186', '8187'], '9655': ['9656', '9657'], '9304': ['9305', '9306'], '9658': ['9659', '9660'], '5422': ['5423', '5424'], '9301': ['9302', '9303'], '5098': ['5099', '5100'], '7246': ['7247', '7248'], '7243': ['7244', '7245'], '7240': ['7241', '7242'], '3574': ['3575', '3576'], '3577': ['3578', '3579'], '3571': ['3572', '3573'], '5095': ['5096', '5097'], '7249': ['7250', '7251'], '9589': ['9590', '9591'], '9781': ['9782', '9783'], '4495': ['4496', '4497'], '2665': ['2666', '2667'], '2662': ['2663', '2664'], '4492': ['4493', '4494'], '9787': ['9788', '9789'], '8962': ['8963', '8964'], '2668': ['2669', '2670'], '4498': ['4499', '4500'], '6820': ['6821', '6822'], '6823': ['6824', '6825'], '2938': ['2939', '2940'], '6829': ['6830', '6831'], '2935': ['2936', '2937'], '2932': ['2933', '2934'], '5326': ['5327', '5328'], '5323': ['5324', '5325'], '5320': ['5321', '5322'], '5329': ['5330', '5331'], '1645': ['1646', '1647'], '1642': ['1643', '1644'], '1648': ['1649', '1650'], '8236': ['8237', '8238'], '8815': ['8816', '8817'], '8812': ['8813', '8814'], '7681': ['7682', '7683'], '6670': ['6671', '6672'], '8218': ['8219', '8220'], '9889': ['9890', '9891'], '8749': ['8750', '8751'], '8746': ['8747', '8748'], '571': ['572', '573'], '8212': ['8213', '8214'], '577': ['578', '579'], '574': ['575', '576'], '7651': ['7652', '7653'], '6865': ['6866', '6867'], '2809': ['2810', '2811'], '7654': ['7655', '7656'], '3169': ['3170', '3171'], '3166': ['3167', '3168'], '2803': ['2804', '2805'], '2800': ['2801', '2802'], '2806': ['2807', '2808'], '3163': ['3164', '3165'], '3160': ['3161', '3162'], '7096': ['7097', '7098'], '1420': ['1421', '1422'], '1423': ['1424', '1425'], '5431': ['5432', '5433'], '5437': ['5438', '5439'], '5434': ['5435', '5436'], '1426': ['1427', '1428'], '3364': ['3365', '3366'], '3367': ['3368', '3369'], '3361': ['3362', '3363'], '7099': ['7100', '7101'], '730': ['731', '732'], '733': ['734', '735'], '736': ['737', '738'], '739': ['740', '741'], '8065': ['8066', '8067'], '9565': ['9566', '9567'], '4273': ['4274', '4275'], '8104': ['8105', '8106'], '8107': ['8108', '8109'], '4270': ['4271', '4272'], '469': ['470', '471'], '4276': ['4277', '4278'], '4369': ['4370', '4371'], '1351': ['1352', '1353'], '466': ['467', '468'], '1357': ['1358', '1359'], '460': ['461', '462'], '463': ['464', '465'], '1354': ['1355', '1356'], '6958': ['6959', '6960'], '5554': ['5555', '5556'], '5557': ['5558', '5559'], '5551': ['5552', '5553'], '6952': ['6953', '6954'], '6481': ['6482', '6483'], '9865': ['9866', '9867'], '6487': ['6488', '6489'], '6484': ['6485', '6486'], '9682': ['9683', '9684'], '2158': ['2159', '2160'], '1519': ['1520', '1521'], '8581': ['8582', '8583'], '1516': ['1517', '1518'], '1510': ['1511', '1512'], '1513': ['1514', '1515'], '8362': ['8363', '8364'], '8365': ['8366', '8367'], '8368': ['8369', '8370'], '8566': ['8567', '8568'], '5881': ['5882', '5883'], '5887': ['5888', '5889'], '6772': ['6773', '6774'], '5884': ['5885', '5886'], '8569': ['8570', '8571'], '958': ['959', '960'], '6556': ['6557', '6558'], '6550': ['6551', '6552'], '6553': ['6554', '6555'], '6862': ['6863', '6864'], '6448': ['6449', '6450'], '6559': ['6560', '6561'], '6946': ['6947', '6948'], '3184': ['3185', '3186'], '3187': ['3188', '3189'], '3181': ['3182', '3183'], '7471': ['7472', '7473'], '7474': ['7475', '7476'], '7477': ['7478', '7479'], '6631': ['6632', '6633'], '8158': ['8159', '8160'], '6634': ['6635', '6636'], '6637': ['6638', '6639'], '9667': ['9668', '9669'], '4018': ['4019', '4020'], '8773': ['8774', '8775'], '9709': ['9710', '9711'], '4012': ['4013', '4014'], '9409': ['9410', '9411'], '4015': ['4016', '4017'], '7504': ['7505', '7506'], '9886': ['9887', '9888'], '355': ['356', '357'], '7507': ['7508', '7509'], '3988': ['3989', '3990'], '352': ['353', '354'], '9880': ['9881', '9882'], '3985': ['3986', '3987'], '3982': ['3983', '3984'], '358': ['359', '360'], '6124': ['6125', '6126'], '6127': ['6128', '6129'], '6121': ['6122', '6123'], '2323': ['2324', '2325'], '1111': ['1112', '1113'], '4705': ['4706', '4707'], '2320': ['2321', '2322'], '2326': ['2327', '2328'], '2329': ['2330', '2331'], '8635': ['8636', '8637'], '4708': ['4709', '4710'], '289': ['290', '291'], '9616': ['9617', '9618'], '9562': ['9563', '9564'], '280': ['281', '282'], '283': ['284', '285'], '286': ['287', '288'], '3760': ['3761', '3762'], '3763': ['3764', '3765'], '1441': ['1442', '1443'], '3766': ['3767', '3768'], '3769': ['3770', '3771'], '262': ['263', '264'], '265': ['266', '267'], '268': ['269', '270'], '6019': ['6020', '6021'], '6010': ['6011', '6012'], '4648': ['4649', '4650'], '6016': ['6017', '6018'], '2491': ['2492', '2493'], '2494': ['2495', '2496'], '2497': ['2498', '2499'], '4645': ['4646', '4647'], '4630': ['4631', '4632'], '2257': ['2258', '2259'], '7897': ['7898', '7899'], '7894': ['7895', '7896'], '2254': ['2255', '2256'], '2251': ['2252', '2253'], '7891': ['7892', '7893'], '2476': ['2477', '2478'], '988': ['989', '990'], '2473': ['2474', '2475'], '9265': ['9266', '9267'], '2470': ['2471', '2472'], '982': ['983', '984'], '5152': ['5153', '5154'], '5155': ['5156', '5157'], '2479': ['2480', '2481'], '985': ['986', '987'], '115': ['116', '117'], '7876': ['7877', '7878'], '7870': ['7871', '7872'], '112': ['113', '114'], '7312': ['7313', '7314'], '118': ['119', '120'], '2785': ['2786', '2787'], '4801': ['4802', '4803'], '4804': ['4805', '4806'], '2782': ['2783', '2784'], '2788': ['2789', '2790'], '9466': ['9467', '9468'], '9460': ['9461', '9462'], '9463': ['9464', '9465'], '6304': ['6305', '6306'], '2071': ['2072', '2073'], '2077': ['2078', '2079'], '2074': ['2075', '2076'], '9088': ['9089', '9090'], '9613': ['9614', '9615'], '9085': ['9086', '9087'], '9082': ['9083', '9084'], '9649': ['9650', '9651'], '9319': ['9320', '9321'], '9316': ['9317', '9318'], '9646': ['9647', '9648'], '9313': ['9314', '9315'], '9640': ['9641', '9642'], '9643': ['9644', '9645'], '9310': ['9311', '9312'], '3508': ['3509', '3510'], '7273': ['7274', '7275'], '5089': ['5090', '5091'], '7276': ['7277', '7278'], '8953': ['8954', '8955'], '8545': ['8546', '8547'], '5083': ['5084', '5085'], '3502': ['3503', '3504'], '5080': ['5081', '5082'], '3505': ['3506', '3507'], '8959': ['8960', '8961'], '2671': ['2672', '2673'], '9790': ['9791', '9792'], '2674': ['2675', '2676'], '2677': ['2678', '2679'], '9799': ['9800', '9801'], '2929': ['2930', '2931'], '6832': ['6833', '6834'], '6835': ['6836', '6837'], '2920': ['2921', '2922'], '2923': ['2924', '2925'], '6838': ['6839', '6840'], '2926': ['2927', '2928'], '8413': ['8414', '8415'], '5332': ['5333', '5334'], '5335': ['5336', '5337'], '8005': ['8006', '8007'], '5338': ['5339', '5340'], '6850': ['6851', '6852'], '3214': ['3215', '3216'], '1987': ['1988', '1989'], '1984': ['1985', '1986'], '3217': ['3218', '3219'], '3211': ['3212', '3213'], '1636': ['1637', '1638'], '1981': ['1982', '1983'], '1639': ['1640', '1641'], '7690': ['7691', '7692'], '8848': ['8849', '8850'], '8821': ['8822', '8823'], '8827': ['8828', '8829'], '8824': ['8825', '8826'], '2815': ['2816', '2817'], '8779': ['8780', '8781'], '2812': ['2813', '2814'], '6859': ['6860', '6861'], '562': ['563', '564'], '8776': ['8777', '8778'], '2818': ['2819', '2820'], '3178': ['3179', '3180'], '7645': ['7646', '7647'], '3172': ['3173', '3174'], '3175': ['3176', '3177'], '5086': ['5087', '5088'], '7081': ['7082', '7083'], '7030': ['7031', '7032'], '6274': ['6275', '6276'], '5428': ['5429', '5430'], '3379': ['3380', '3381'], '1189': ['1190', '1191'], '1186': ['1187', '1188'], '3376': ['3377', '3378'], '3373': ['3374', '3375'], '1183': ['1184', '1185'], '1180': ['1181', '1182'], '3370': ['3371', '3372'], '727': ['728', '729'], '724': ['725', '726'], '7033': ['7034', '7035'], '721': ['722', '723'], '1744': ['1745', '1746'], '1747': ['1748', '1749'], '1741': ['1742', '1743'], '8170': ['8171', '8172'], '1165': ['1166', '1167'], '4393': ['4394', '4395'], '6490': ['6491', '6492'], '1162': ['1163', '1164'], '4249': ['4250', '4251'], '4246': ['4247', '4248'], '7693': ['7694', '7695'], '8059': ['8060', '8061'], '1168': ['1169', '1170'], '4243': ['4244', '4245'], '4240': ['4241', '4242'], '9802': ['9803', '9804'], '5521': ['5522', '5523'], '6949': ['6950', '6951'], '9130': ['9131', '9132'], '5524': ['5525', '5526'], '5632': ['5633', '5634'], '5527': ['5528', '5529'], '6943': ['6944', '6945'], '6940': ['6941', '6942'], '3304': ['3305', '3306'], '472': ['473', '474'], '49': ['50', '51'], '46': ['47', '48'], '7921': ['7922', '7923'], '43': ['44', '45'], '40': ['41', '42'], '9019': ['9020', '9021'], '7741': ['7742', '7743'], '1561': ['1562', '1563'], '1291': ['1292', '1293'], '1564': ['1565', '1566'], '1297': ['1298', '1299'], '1294': ['1295', '1296'], '1567': ['1568', '1569'], '8698': ['8699', '8700'], '8398': ['8399', '8400'], '9385': ['9386', '9387'], '8395': ['8396', '8397'], '475': ['476', '477'], '8392': ['8393', '8394'], '8551': ['8552', '8553'], '8008': ['8009', '8010'], '8557': ['8558', '8559'], '8554': ['8555', '8556'], '1717': ['1718', '1719'], '8002': ['8003', '8004'], '6547': ['6548', '6549'], '4399': ['4400', '4401'], '6544': ['6545', '6546'], '5638': ['5639', '5640'], '9382': ['9383', '9384'], '6541': ['6542', '6543'], '4390': ['4391', '4392'], '4849': ['4850', '4851'], '1714': ['1715', '1716'], '4396': ['4397', '4398'], '1366': ['1367', '1368'], '3196': ['3197', '3198'], '8482': ['8483', '8484'], '7468': ['7469', '7470'], '3193': ['3194', '3195'], '1363': ['1364', '1365'], '1360': ['1361', '1362'], '3190': ['3191', '3192'], '8488': ['8489', '8490'], '7462': ['7463', '7464'], '478': ['479', '480'], '3199': ['3200', '3201'], '1369': ['1370', '1371']}\n"
       ]
      }
     ],
     "prompt_number": 44
    },
    {
     "cell_type": "markdown",
     "metadata": {},
     "source": [
      "This is currently equivalent to reading in one line as the key, and then the next two, which could be done in other ways. But we've actually done something more flexible, here. Let's use some random data, so the separation between lines we'll use as keys changes:"
     ]
    },
    {
     "cell_type": "code",
     "collapsed": false,
     "input": [
      "import random\n",
      "random.seed(12345)"
     ],
     "language": "python",
     "metadata": {},
     "outputs": [],
     "prompt_number": 45
    },
    {
     "cell_type": "code",
     "collapsed": false,
     "input": [
      "fdata = ''.join([\"%d\\n\" % random.randint(1,10000) for idx in range(20)])\n",
      "print(fdata)"
     ],
     "language": "python",
     "metadata": {},
     "outputs": [
      {
       "output_type": "stream",
       "stream": "stdout",
       "text": [
        "4167\n",
        "102\n",
        "8253\n",
        "2987\n",
        "3685\n",
        "1937\n",
        "5661\n",
        "1617\n",
        "1243\n",
        "4330\n",
        "5621\n",
        "1744\n",
        "5533\n",
        "3550\n",
        "9581\n",
        "913\n",
        "9787\n",
        "4122\n",
        "5040\n",
        "1482\n",
        "\n"
       ]
      }
     ],
     "prompt_number": 46
    },
    {
     "cell_type": "code",
     "collapsed": false,
     "input": [
      "fh2 = StringIO.StringIO(fdata)\n",
      "print(fakey_parse(fh2))"
     ],
     "language": "python",
     "metadata": {},
     "outputs": [
      {
       "output_type": "stream",
       "stream": "stdout",
       "text": [
        "{'3550': ['9581'], '4330': ['5621'], '5533': [], '1243': [], '3685': ['1937', '5661', '1617'], '1744': [], '913': []}\n"
       ]
      }
     ],
     "prompt_number": 47
    },
    {
     "cell_type": "markdown",
     "metadata": {},
     "source": [
      "Now it doesn't matter how many lines separate each value that is divisible by 3 (when 1 is subtracted).\n",
      "\n",
      "**Do you see how this is analogous to parsing a FASTA file? Which lines correspond to headers, and which to sequences?**"
     ]
    }
   ],
   "metadata": {}
  }
 ]
}