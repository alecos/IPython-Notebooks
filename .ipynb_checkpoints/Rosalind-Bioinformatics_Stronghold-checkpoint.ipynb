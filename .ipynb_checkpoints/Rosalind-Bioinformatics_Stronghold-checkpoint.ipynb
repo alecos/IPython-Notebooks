{
 "metadata": {
  "name": "",
  "signature": "sha256:90d86f1b9eeb7edcb55d87de11cf3d7a9c61d629f78a68666452184a77751a03"
 },
 "nbformat": 3,
 "nbformat_minor": 0,
 "worksheets": [
  {
   "cells": [
    {
     "cell_type": "markdown",
     "metadata": {},
     "source": [
      "**LP NOTE:**\n",
      "\n",
      "I'm finding it hard to work within these large notebooks. It would be easier to review single exercises if they were each contained within their own file, e.g. `LCSM.ipynb` and so on.\n",
      "\n",
      "I'm also finding it hard to determine from the code at which stage you are in the problem, and when you have obtained a successful solution. It would be helpful if you could demonstrate and annotate when a solution has been reached."
     ]
    },
    {
     "cell_type": "code",
     "collapsed": false,
     "input": [
      "cd C:\\Users\\vaevi_000\\SkyDrive\\ABZ_PhD\\Rosalind"
     ],
     "language": "python",
     "metadata": {},
     "outputs": []
    },
    {
     "cell_type": "heading",
     "level": 3,
     "metadata": {},
     "source": [
      "Finding a Shared Motif"
     ]
    },
    {
     "cell_type": "markdown",
     "metadata": {},
     "source": [
      "Given: A collection of k (k\u2264100) DNA strings of length at most 1 kbp each in FASTA format.\n",
      "\n",
      "Return: A longest common substring of the collection. (If multiple solutions exist, you may return any single solution.)"
     ]
    },
    {
     "cell_type": "markdown",
     "metadata": {},
     "source": [
      "**LP NOTE:** Do you have a solution for this problem? None of the code below works."
     ]
    },
    {
     "cell_type": "code",
     "collapsed": false,
     "input": [
      "from Bio import SeqIO\n",
      "\n",
      "\n",
      "#handle = open(\"files/shmt_example.txt\", \"rU\")\n",
      "#fasta = SeqIO.to_dict(SeqIO.parse(handle, \"fasta\"))\n",
      "\n",
      "\n",
      "file=open('files/shmt_example.txt','rU')\n",
      "fasta = list(SeqIO.parse(file, \"fasta\"))\n",
      "\n",
      "fasta_iterator=range(0,len(fasta))\n",
      "seqs=[]\n",
      "for e in fasta_iterator:\n",
      "    seqs.append(str(fasta[e].seq))\n",
      "    print 'sequence',e, 'lenght: ', len(seqs[e])\n",
      "\n",
      "print 'Sequences: ',seqs\n",
      "\n",
      "\n",
      "\n",
      "iterator = range(0,len(fasta[0].seq))\n",
      "iterator_bk = iterator[::-1]\n",
      "seqs_iterator_plus1 = range(1,len(seqs))\n",
      "#print fasta_iterator\n",
      "\n",
      "#print iterator\n",
      "#print iterator_bk\n",
      "\n",
      "shared=[]\n",
      "\n",
      "    \n",
      "    \n",
      "#for fw in iterator:\n",
      "    \n",
      "    #for bk in iterator[::-1]:\n",
      "        \n",
      "        #if seqs[0][fw:bk] in all(seqs) == True:\n",
      "        #if seqs.find(seqs[0][fw:bk]) == True:\n",
      "        #x for x in seqs if seqs[0][fw:bk] in seqs\n",
      "            #trial=[]\n",
      "            #trial.append(str(seqs[0][fw:bk]))\n",
      "    #shared.append(trial)\n",
      "            \n",
      "        \n",
      "        \n",
      "\n",
      "        #print fasta[0].seq[i:f]\n",
      "\n",
      "        #if fasta[1].seq.find(fasta[0].seq[i:f]):\n",
      "\n",
      "        #if fasta[0].seq[i:f] in fasta[1].seq:\n",
      "            #trial=[]\n",
      "            #trial.append(fasta[0].seq[i:f])\n",
      "    #shared.append(trial)\n",
      "\n",
      "    \n",
      "    \n",
      "#print max(shared)\n"
     ],
     "language": "python",
     "metadata": {},
     "outputs": []
    },
    {
     "cell_type": "markdown",
     "metadata": {},
     "source": [
      "**LP NOTE:** This code fails because it can't find the input file `files/shmt_example.txt`."
     ]
    },
    {
     "cell_type": "code",
     "collapsed": false,
     "input": [
      "trial=[]\n",
      "d={}\n",
      "for i in seqs_iterator:\n",
      "    for fw in iterator:\n",
      "        for bk in iterator_bk:\n",
      "\n",
      "            if seqs[0][fw:bk] in seqs[i]:\n",
      "                \n",
      "                if len(str(seqs[0][fw:bk])) > 0:\n",
      "                                  \n",
      "                    d[\"prova{0}\".format(i)]=str(seqs[0][fw:bk])\n",
      "                \n",
      "                #trial.append(str(seqs[0][fw:bk]))\n",
      "                \n",
      "                    print d\n",
      "\n",
      "        shared.append(trial)\n",
      "\n",
      "    \n",
      "print max(trial) "
     ],
     "language": "python",
     "metadata": {},
     "outputs": []
    },
    {
     "cell_type": "markdown",
     "metadata": {},
     "source": [
      "**LP NOTE:** This code fails because `seqs_iterator` is not defined.\n",
      "\n",
      "It's good to see you using the `.format()` method of the string, though!"
     ]
    },
    {
     "cell_type": "code",
     "collapsed": false,
     "input": [
      "import itertools\n",
      "\n",
      "trial=[]\n",
      "prova=[]\n",
      "d={}\n",
      "\n",
      "\n",
      "for i in seqs_iterator_plus1:\n",
      "    \n",
      "    for fw,bk in zip(iterator, iterator_bk):\n",
      "\n",
      "            if seqs[0][fw:bk] in seqs[i]:\n",
      "                \n",
      "                if len(str(seqs[0][fw:bk])) > 0:    # to eliminate empty values\n",
      "                                  \n",
      "                    prova =append(str(seqs[0][fw:bk]))\n",
      "                    \n",
      "                    print prova\n",
      "                    \n",
      "                    \n",
      "                #trial.append(str(seqs[0][fw:bk]))\n",
      "                                                       \n",
      "                    if prova in seqs[2]:\n",
      "                        trial.append(prova)\n",
      "                        print trial\n",
      "    \n",
      "\n",
      "    \n",
      "#print max(trial) "
     ],
     "language": "python",
     "metadata": {},
     "outputs": []
    },
    {
     "cell_type": "markdown",
     "metadata": {},
     "source": [
      "**LP NOTE:** This code fails because `seqs_iterator_plus1` is not defined."
     ]
    },
    {
     "cell_type": "heading",
     "level": 3,
     "metadata": {},
     "source": [
      "Finding a Protein Motif"
     ]
    },
    {
     "cell_type": "markdown",
     "metadata": {},
     "source": [
      "Given: At most 15 UniProt Protein Database access IDs.\n",
      "\n",
      "Return: For each protein possessing the N-glycosylation motif, output its given access ID followed by a list of locations in the protein string where the motif can be found."
     ]
    },
    {
     "cell_type": "code",
     "collapsed": false,
     "input": [
      "from Bio import ExPASy\n",
      "from Bio import SwissProt\n",
      "\n",
      "file = open('files/id_prova.txt','rU')\n",
      "prot_id=file.read()          #Why should I use strip() or rstrip()??\n",
      "\n",
      "dq='\\''\n",
      "id_conc=prot_id.split('\\n')\n",
      "\n",
      "\n",
      " \n",
      "print ids\n",
      "\n",
      "print id_conc\n",
      "\n",
      "#handle = ExPASy.get_sprot_raw(id_conc)\n",
      "#record = SwissProt.read(handle) \n",
      "\n",
      "#references=record.cross_references"
     ],
     "language": "python",
     "metadata": {},
     "outputs": []
    },
    {
     "cell_type": "markdown",
     "metadata": {},
     "source": [
      "**LP NOTE:** You should use `strip()` when you may need to remove whitespace from both ends of a string. You should use `rstrip()` when you may need to remove whitespace from the right-hand side of a string only.\n",
      "\n",
      "The code above cannot find the file `files/id_prova.txt`, and fails.\n",
      "\n",
      "It looks like you have not found a solution to this problem, yet. As a hint, consider the following:\n",
      "\n",
      "1. You need to identify a motif - this is finding a substring within a string. There is potential for variation in the substring. That makes it a natural problem for *regular expressions*. You can use the [Python `re` module](https://docs.python.org/2/library/re.html). You will need to understand the `match` result returned by `re` functions, in order to identify the start position of each match.\n",
      "\n",
      "2. You can use [Python's `urllib2` module](https://docs.python.org/2/library/urllib2.html) to obtain the sequence from UNIPROT\n",
      "\n",
      "3. You can use Biopython's `SeqIO` module to parse the FASTA files that UNIPROT will give you."
     ]
    },
    {
     "cell_type": "heading",
     "level": 3,
     "metadata": {},
     "source": [
      "Calculating Protein Mass"
     ]
    },
    {
     "cell_type": "markdown",
     "metadata": {},
     "source": [
      "Given: A protein string P of length at most 1000 aa.\n",
      "\n",
      "Return: The total weight of P. Consult the monoisotopic mass table."
     ]
    },
    {
     "cell_type": "code",
     "collapsed": false,
     "input": [
      "from Bio import ExPASy\n",
      "from Bio import SwissProt\n",
      "from Bio.Seq import Seq\n",
      "from Bio.SeqUtils.ProtParam import ProteinAnalysis\n",
      "file = open('files/rosalind_prtm2.txt','rU')\n",
      "protein=str(file.readline())\n",
      "protein = protein.replace('\\n','')\n",
      "\n",
      "MONOISOTOPIC_MASS_TABLE = {\n",
      "    'A': 71.03711,\n",
      "    'C': 103.00919,\n",
      "    'D': 115.02694,\n",
      "    'E': 129.04259,\n",
      "    'F': 147.06841,\n",
      "    'G': 57.02146,\n",
      "    'H': 137.05891,\n",
      "    'I': 113.08406,\n",
      "    'K': 128.09496,\n",
      "    'L': 113.08406,\n",
      "    'M': 131.04049,\n",
      "    'N': 114.04293,\n",
      "    'P': 97.05276,\n",
      "    'Q': 128.05858,\n",
      "    'R': 156.10111,\n",
      "    'S': 87.03203,\n",
      "    'T': 101.04768,\n",
      "    'V': 99.06841,\n",
      "    'W': 186.07931,\n",
      "    'Y': 163.06333,\n",
      "}\n",
      "\n",
      "\n",
      "\n",
      "mass = 0\n",
      "counter = 0\n",
      "for i in str(protein):\n",
      "    #print i\n",
      "    counter += 1 \n",
      "    mass += MONOISOTOPIC_MASS_TABLE[i]\n",
      "    #print counter\n",
      "    #print mass\n",
      "print mass\n",
      "    #print MONOISOTOPIC_MASS_TABLE[i]\n",
      "    \n"
     ],
     "language": "python",
     "metadata": {},
     "outputs": []
    },
    {
     "cell_type": "markdown",
     "metadata": {},
     "source": [
      "I left some commented ('#') lines: they were used to correct the script... might result interesting to you... might :) ...."
     ]
    },
    {
     "cell_type": "markdown",
     "metadata": {},
     "source": [
      "**LP NOTE:** None of the imports are used!\n",
      "\n",
      "The loop is OK, but `counter` is unnecessary. You could also have done it in one line with a list comprehension ;)\n",
      "\n",
      "The `protein.split()` line does nothing - it returns a result that is never collected."
     ]
    },
    {
     "cell_type": "heading",
     "level": 6,
     "metadata": {},
     "source": [
      "Done"
     ]
    },
    {
     "cell_type": "heading",
     "level": 3,
     "metadata": {},
     "source": [
      "Transitions and Transversions"
     ]
    },
    {
     "cell_type": "markdown",
     "metadata": {},
     "source": [
      "A **transition** substitutes **one purine for another (A\u2194G) or one pyrimidine for another (C\u2194T)**; that is, a transition does not change the structure of the nucleobase"
     ]
    },
    {
     "cell_type": "markdown",
     "metadata": {},
     "source": [
      "A **transversion** is the **interchange of a purine for a pyrimidine base, or vice-versa**"
     ]
    },
    {
     "cell_type": "markdown",
     "metadata": {},
     "source": [
      "<img src=\"http://upload.wikimedia.org/wikipedia/commons/thumb/3/35/Transitions-transversions-v3.png/300px-Transitions-transversions-v3.png\">"
     ]
    },
    {
     "cell_type": "markdown",
     "metadata": {},
     "source": [
      "**Transition/Transversion ratio** R(s1,s2) is the **ratio of the total number of transitions to the total number of transversions**"
     ]
    },
    {
     "cell_type": "code",
     "collapsed": false,
     "input": [
      "a = 'GCAACGCACAACGAAAACCCTTAGGGACTGGATTATTTCGTGATCGTTGTAGTTATTGGAAGTACGGGCATCAACCCAGTT'\n",
      "b = 'TTATCTGACAAAGAAAGCCGTCAACGGCTGGATAATTTCGCGATCGTGCTGGTTACTGGCGGTACGAGTGTTCCTTTGGGT'\n",
      "\n",
      "\n",
      "from Bio import SeqIO\n",
      "\n",
      "file=open('files/rosalind_tran.txt','rU')\n",
      "fasta = list(SeqIO.parse(file, \"fasta\"))\n",
      "#print fasta[1].seq\n",
      "\n",
      "\n",
      "pirimidine = ('A','G')\n",
      "purine = ('T','C')\n",
      "\n",
      "transversion = 0\n",
      "transition = 0\n",
      "\n",
      "mismatches = zip(fasta[0].seq,fasta[1].seq)\n",
      "for i in mismatches:\n",
      "    #print i\n",
      "    if i[0] == i[1]:\n",
      "        continue\n",
      "    else:\n",
      "        if i[0] in pirimidine and i[1] in purine:\n",
      "            transversion += 1\n",
      "        elif i[0] in purine and i[1] in pirimidine:\n",
      "            transversion += 1\n",
      "        elif i[0] in pirimidine and i[1] in pirimidine:\n",
      "            transition += 1\n",
      "        elif i[0] in purine and i[1] in purine:\n",
      "            transition += 1\n",
      "\n",
      "print 'Transitions:  ',transition\n",
      "print 'Transvertions: ', transversion\n",
      "          \n",
      "ratio = float(transition)/transversion\n",
      "print 'Transition/Transversion ratio:',ratio"
     ],
     "language": "python",
     "metadata": {},
     "outputs": []
    },
    {
     "cell_type": "markdown",
     "metadata": {},
     "source": [
      "**LP NOTE:** The code can't find the file `files/rosalind_tran.txt`.\n",
      "\n",
      "Even though your solution has worked, it could be simpler with a bit of insight into what's going on...\n",
      "\n",
      "1. You don't need to count transitions *and* transversions directly. The total number of differences between sequences (Hamming distance) is the sum: (transitions + transversions). You could reuse the solution to HAMM, and count only transitions or transversions.\n",
      "\n",
      "2. If you only wanted to loop over the sequences once (which is sensible), then you could loop over each position and maintain two counts: differences (`d`) and transitions (`t`). If there is a difference between bases at a position, then `d += 1` - only then do you check if there is a transition and, if so, `t += 1` also. The final result is then `t / (d - t)`.\n",
      "\n",
      "Why is that better? you might ask. In your code, you may need to evaluate four `if` statements for each differing base pair. With solution (2) above, you only need to evaluate one `if` statement - this can be done by testing whether the bases are in `('AG', 'CT')` (HINT: `''.join(sorted(i))`)\n",
      "\n",
      "On a style note, I'm not happy that **the variable `mismatches` doesn't contain mismatches only - that's misleading when I'm reading your code**."
     ]
    },
    {
     "cell_type": "heading",
     "level": 6,
     "metadata": {},
     "source": [
      "Done quickly!"
     ]
    },
    {
     "cell_type": "heading",
     "level": 3,
     "metadata": {},
     "source": [
      "Base Quality Distribution"
     ]
    },
    {
     "cell_type": "markdown",
     "metadata": {},
     "source": [
      "Given: FASTQ file, quality threshold q\n",
      "\n",
      "Return: Number of positions where mean base quality falls below given threshold"
     ]
    },
    {
     "cell_type": "code",
     "collapsed": false,
     "input": [
      "from Bio import SeqIO\n",
      "\n",
      "file=open('files/rosalind_bphr.txt','rU')\n",
      "\n",
      "threshold = file.readline()\n",
      "print 'Treshold:', threshold\n",
      "\n",
      "fastq_file = list(SeqIO.parse(file, \"fastq\"))\n",
      "print 'Number of sequences:',len(fastq_file)\n",
      "#print fastq_file[1].seq\n",
      "\n",
      "#print(fastq_file[1].format(\"qual\"))\n",
      "#print fastq_file[1].letter_annotations[\"phred_quality\"]\n",
      "#print fastq_file[0].letter_annotations[\"phred_quality\"]\n",
      "\n",
      "scores= []\n",
      "for i in range(0,len(fastq_file)):\n",
      "    scores.append(fastq_file[i].letter_annotations[\"phred_quality\"])\n",
      "    #print zip(scores.append(fastq_file[i].letter_annotations[\"phred_quality\"]))\n",
      "\n",
      "position = []\n",
      "\n",
      "for n in range(0, len(scores[0])):\n",
      "    for f in range(0, len(scores)):\n",
      "        position.append(scores[f][n])\n",
      "#print position\n",
      "\n",
      "\n",
      "\n",
      "iterator_1 = range(0,len(position)+1,len(fastq_file))\n",
      "iterator_2 = range(len(fastq_file),len(position)+1,len(fastq_file))\n",
      "#print iterator_1\n",
      "#print iterator2\n",
      "#print len(position)\n",
      "\n",
      "\n",
      "counter = 0\n",
      "for s,g in zip(iterator_1,iterator_2):\n",
      "    #print s\n",
      "    #print g\n",
      "    #print position[s:g], (sum(position[s:g])/float(len(fastq_file)))\n",
      "    if float(sum(position[s:g])/float(len(fastq_file))) < float(threshold): ##Calculating average and comparing to the given threshold\n",
      "            counter += 1\n",
      "print 'Number of positions where mean base quality  <', threshold,':',counter\n",
      "        \n",
      "        \n",
      "    \n",
      "#print prova\n",
      "    #for r in fastq_file[i].letter_annotations[\"phred_quality\"]:\n",
      "        #print r\n",
      "        #zip()"
     ],
     "language": "python",
     "metadata": {},
     "outputs": []
    },
    {
     "cell_type": "markdown",
     "metadata": {},
     "source": [
      "**LP NOTE:** This is a *Bioinformatics Armory* problem!\n",
      "\n",
      "The code cannot find the file `files/rosalind_bphr.txt`. Does the code work?"
     ]
    },
    {
     "cell_type": "heading",
     "level": 3,
     "metadata": {},
     "source": [
      "Inferring mRNA from Protein"
     ]
    },
    {
     "cell_type": "markdown",
     "metadata": {},
     "source": [
      "Given: A protein string of length at most 1000 aa.\n",
      "\n",
      "Return: The total number of different RNA strings from which the protein could have been translated, modulo 1,000,000. (Don't neglect the importance of the stop codon in protein translation.)\n",
      "\n"
     ]
    },
    {
     "cell_type": "code",
     "collapsed": false,
     "input": [
      "prot = 'MA'\n",
      "aa = []\n",
      "for i in prot:\n",
      "    aa.append(i)\n",
      "print aa\n",
      "\n",
      "\n",
      "\n",
      "map = {\"UUU\":\"F\", \"UUC\":\"F\", \"UUA\":\"L\", \"UUG\":\"L\",\n",
      "    \"UCU\":\"S\", \"UCC\":\"s\", \"UCA\":\"S\", \"UCG\":\"S\",\n",
      "    \"UAU\":\"Y\", \"UAC\":\"Y\", \"UAA\":\"STOP\", \"UAG\":\"STOP\",\n",
      "    \"UGU\":\"C\", \"UGC\":\"C\", \"UGA\":\"STOP\", \"UGG\":\"W\",\n",
      "    \"CUU\":\"L\", \"CUC\":\"L\", \"CUA\":\"L\", \"CUG\":\"L\",\n",
      "    \"CCU\":\"P\", \"CCC\":\"P\", \"CCA\":\"P\", \"CCG\":\"P\",\n",
      "    \"CAU\":\"H\", \"CAC\":\"H\", \"CAA\":\"Q\", \"CAG\":\"Q\",\n",
      "    \"CGU\":\"R\", \"CGC\":\"R\", \"CGA\":\"R\", \"CGG\":\"R\",\n",
      "    \"AUU\":\"I\", \"AUC\":\"I\", \"AUA\":\"I\", \"AUG\":\"M\",\n",
      "    \"ACU\":\"T\", \"ACC\":\"T\", \"ACA\":\"T\", \"ACG\":\"T\",\n",
      "    \"AAU\":\"N\", \"AAC\":\"N\", \"AAA\":\"K\", \"AAG\":\"K\",\n",
      "    \"AGU\":\"S\", \"AGC\":\"S\", \"AGA\":\"R\", \"AGG\":\"R\",\n",
      "    \"GUU\":\"V\", \"GUC\":\"V\", \"GUA\":\"V\", \"GUG\":\"V\",\n",
      "    \"GCU\":\"A\", \"GCC\":\"A\", \"GCA\":\"A\", \"GCG\":\"A\",\n",
      "    \"GAU\":\"D\", \"GAC\":\"D\", \"GAA\":\"E\", \"GAG\":\"E\",\n",
      "    \"GGU\":\"G\", \"GGC\":\"G\", \"GGA\":\"G\", \"GGG\":\"G\",}\n",
      "\n",
      "positions = []\n",
      "#positions = [positions() for i in range(0,len(prot))]\n",
      "counter = 0\n",
      "print map['AUG']\n",
      "for i in range(0,len(prot)):\n",
      "    for key in map:\n",
      "        if map[key] == prot[i]:\n",
      "            counter += 1\n",
      "            #print counter\n",
      "            #print counter + 3 #Due to the three poxibles stop codonos: \"UAA\", \"UAG\",\"UGA\"\n",
      "            print len(key)\n",
      "#for key in map:\n",
      "#    if \n",
      "#    print key"
     ],
     "language": "python",
     "metadata": {},
     "outputs": []
    },
    {
     "cell_type": "markdown",
     "metadata": {},
     "source": [
      "**LP NOTE:** This code appears to solve the two amino acid problem. However, the purpose of the exercise is not just to solve this problem, but to generalise it to large sequences. That is why there is the discussion of modular arithmetic at the start of the problem.\n",
      "\n",
      "You should try to apply this code to the larger sequence Rosalind provides, then work on making the solution general to large sequences."
     ]
    },
    {
     "cell_type": "heading",
     "level": 3,
     "metadata": {},
     "source": [
      "Open Reading Frames"
     ]
    },
    {
     "cell_type": "markdown",
     "metadata": {},
     "source": [
      "Given: A DNA string s of length at most 1 kbp in FASTA format.\n",
      "\n",
      "Return: Every distinct candidate protein string that can be translated from ORFs of s. Strings can be returned in any order."
     ]
    },
    {
     "cell_type": "code",
     "collapsed": false,
     "input": [
      "from Bio import SeqIO\n",
      "from Bio.Seq import translate\n",
      "\n",
      "\n",
      "\n",
      "file=open('files/orf_prova.txt','rU')\n",
      "fasta = list(SeqIO.parse(file, \"fasta\"))\n",
      "fasta = fasta[0].seq\n",
      "\n",
      "stop_codons = (\"TAA\", \"TGA\", \"TAG\")\n",
      "index_start = []\n",
      "index_stop = []\n",
      "iterator = range(0,len(fasta)+1)\n",
      "\n",
      "\n",
      "\n",
      "#print iterator\n",
      "#print len(fasta)\n",
      "\n",
      "#if iterator[-1] == len(fasta):     #Checking iterator\n",
      "#    print 'Iterator ok'\n",
      "\n",
      "orfs = []\n",
      "\n",
      "for i,f in zip(iterator,iterator):\n",
      "    if fasta[i:i+3] == 'ATG':\n",
      "        #print 'start',i\n",
      "        index_start.append(i)\n",
      "        for r in range(i,len(fasta),3):\n",
      "            if fasta[i:r][-3:] in stop_codons:\n",
      "                #print fasta[i:r]\n",
      "                orfs.append(fasta[i:r])\n",
      "result = []\n",
      "for i in orfs:\n",
      "    #print translate(i,to_stop=True)\n",
      "    if translate(i,to_stop=True) not in result:\n",
      "        result.append(translate(i,to_stop=True))\n",
      "for f in result:\n",
      "    print f\n"
     ],
     "language": "python",
     "metadata": {},
     "outputs": []
    },
    {
     "cell_type": "heading",
     "level": 6,
     "metadata": {},
     "source": [
      "Missing the longest protein... don't know why..."
     ]
    },
    {
     "cell_type": "markdown",
     "metadata": {},
     "source": [
      "**LP NOTE:** The code does not find the file `files/orf_prova.txt`.\n",
      "\n",
      "The longest protein for the sample data is on the reverse strand. I don't see where you consider the reverse strand, so it is possible that this is why you have missed it. \n",
      "\n",
      "This problem appears to be designed so that you can reuse your earlier solutions for reverse complementing and translating mRNA sequences. That is one of the reasons why you should structure your solutions as functions - so they can be reused in later problems."
     ]
    },
    {
     "cell_type": "heading",
     "level": 3,
     "metadata": {},
     "source": [
      "Rabbits and Recurrence Relations"
     ]
    },
    {
     "cell_type": "markdown",
     "metadata": {},
     "source": [
      "Given: Positive integers n\u226440 and k\u22645.\n",
      "\n",
      "Return: The total number of rabbit pairs that will be present after n months if we begin with 1 pair and in each generation, every pair of reproduction-age rabbits produces a litter of k rabbit pairs (instead of only 1 pair)."
     ]
    },
    {
     "cell_type": "markdown",
     "metadata": {},
     "source": [
      "<img src=\"http://rosalind.info/media/problems/fib/rabbit_tree.png\">    #Big image"
     ]
    },
    {
     "cell_type": "code",
     "collapsed": false,
     "input": [
      "def calculate_fibon_rabbits(filename):\n",
      "    \n",
      "    file = open(filename,'rU')\n",
      "    file = file.readline().split(' ')\n",
      "    #print file\n",
      "    n = int(file[0])\n",
      "    #print n\n",
      "\n",
      "    k = int(file[1])\n",
      "    #print k\n",
      "\n",
      "    n_iterator = range(1,n)\n",
      "\n",
      "    b = 1\n",
      "    a = 0\n",
      "\n",
      "\n",
      "    for i in n_iterator:\n",
      "        result = a*(k+1) + b      #Where a = sexually mature rabbits, b = sexually immature rabbits and k is the litter (in pairs of rabbits)\n",
      "\n",
      "        B = b\n",
      "        A = a\n",
      "\n",
      "        b = A * k\n",
      "\n",
      "\n",
      "        a += B     \n",
      "\n",
      "        #print i\n",
      "        #print 'Result: ',result \n",
      "\n",
      "        #print 'a: ',a\n",
      "        #print 'b: ',b\n",
      "\n",
      "\n",
      "    print 'Result: ',result\n",
      "\n",
      "\n",
      "\n",
      "\n",
      "\n",
      "\n",
      "\n",
      "\n",
      "\n",
      "\n",
      "\n"
     ],
     "language": "python",
     "metadata": {},
     "outputs": []
    },
    {
     "cell_type": "code",
     "collapsed": false,
     "input": [
      "calculate_fibon_rabbits('files/rosalind_fib1.txt')"
     ],
     "language": "python",
     "metadata": {},
     "outputs": []
    },
    {
     "cell_type": "markdown",
     "metadata": {},
     "source": [
      "**LP NOTE:** The code can't find the file `files/rosalind_fib1.txt`.\n",
      "\n",
      "Does it work?\n",
      "\n",
      "You may be better off writing this function to accept two integers as an argument, not a filename."
     ]
    },
    {
     "cell_type": "code",
     "collapsed": false,
     "input": [
      "def calculate_mortal_fibon_rabbits(filename):\n",
      "    file = open(filename,'rU')\n",
      "    file = file.readline().split(' ')\n",
      "    #print file\n",
      "    n = int(file[0])\n",
      "    #print n\n",
      "\n",
      "    m = int(file[1])\n",
      "    #print m\n",
      "    \n",
      "    k = 1                            #Fixed fo this exercise\n",
      "\n",
      "\n",
      "    n_iterator = range(2,n+1)\n",
      "\n",
      "    b = 1\n",
      "    a = 0\n",
      "    mortal = [1]\n",
      "\n",
      "    for i in n_iterator:\n",
      "        if i < int(m):\n",
      "            print i,'\u00b0'\n",
      "            result = a*(k+1) + b     #Where a = sexually mature rabbits, b = sexually immature rabbits and k is the litter (in pairs of rabbits)\n",
      "            B = b\n",
      "            A = a\n",
      "            mortal.append(0)\n",
      "            b = A * k\n",
      "            a += B  \n",
      "            print 'Mortal: ',mortal\n",
      "            print 'Result: ',result \n",
      "\n",
      "            print 'a: ',a\n",
      "            print 'b: ',b\n",
      "        elif i >= 3:\n",
      "            print i,'\u00b0'\n",
      "            result = a*(k+1) + b     #Where a = sexually mature rabbits, b = sexually immature rabbits and k is the litter (in pairs of rabbits)\n",
      "            \n",
      "            B = b\n",
      "            A = a\n",
      "            \n",
      "            b = A * k\n",
      "            a = a + B\n",
      "            mortal.append(b)\n",
      "            print 'Mortal: ', mortal\n",
      "            print mortal[i-(m+1)]\n",
      "            print 'Result: ',result \n",
      "\n",
      "            print 'a: ',a\n",
      "            print 'b: ',b\n",
      "\n",
      "\n",
      "    print 'Result: ',result"
     ],
     "language": "python",
     "metadata": {},
     "outputs": []
    },
    {
     "cell_type": "code",
     "collapsed": false,
     "input": [
      "calculate_mortal_fibon_rabbits('files/mortal_fib_example.txt')"
     ],
     "language": "python",
     "metadata": {},
     "outputs": []
    },
    {
     "cell_type": "code",
     "collapsed": false,
     "input": [
      "result = a*(k+1) + b - mortal[i-m+1]     #Where a = sexually mature rabbits, b = sexually immature rabbits and k is the litter (in pairs of rabbits)\n",
      "B = b\n",
      "A = a\n",
      "\n",
      "b = A * k\n",
      "a = a + B - mortal[i-m+1]\n",
      "\n",
      "\n",
      "mortal.append(a)"
     ],
     "language": "python",
     "metadata": {},
     "outputs": []
    },
    {
     "cell_type": "code",
     "collapsed": false,
     "input": [
      "file = open('files/rosalind_fibd1.txt','rU')\n",
      "file = file.readline().split(' ')\n",
      "#print file\n",
      "n = int(file[0])\n",
      "#print n\n",
      "\n",
      "m = int(file[1])\n",
      "#print m\n",
      "\n",
      "k = 1                            #Fixed fo this exercise\n",
      "\n",
      "\n",
      "n_iterator = range(2,n+1)\n",
      "\n",
      "b = 1\n",
      "a = 0\n",
      "mortal = [1]\n",
      "\n",
      "for i in n_iterator:\n",
      "    if i < int(m):\n",
      "        print i,'\u00b0'\n",
      "        result = a*(k+1) + b     #Where a = sexually mature rabbits, b = sexually immature rabbits and k is the litter (in pairs of rabbits)\n",
      "        B = b\n",
      "        A = a\n",
      "        mortal.append(0)\n",
      "        b = A * k\n",
      "        a += B  \n",
      "        print 'Mortal: ',mortal\n",
      "        print 'Result: ',result \n",
      "\n",
      "        print 'a: ',a\n",
      "        print 'b: ',b\n",
      "    elif i >= 3:\n",
      "        print i,'\u00b0'\n",
      "        result = a*(k+1) + b - mortal[i-(m+1)]    #Where a = sexually mature rabbits, b = sexually immature rabbits and k is the litter (in pairs of rabbits)\n",
      "\n",
      "        B = b\n",
      "        A = a \n",
      "\n",
      "        b = A * k\n",
      "        a = a + B-  mortal[i-(m+1)]\n",
      "        mortal.append(b)\n",
      "        print 'Mortal: ', mortal\n",
      "        print mortal[i-(m+1)]\n",
      "        print 'Result: ',result \n",
      "\n",
      "        print 'a: ',a\n",
      "        print 'b: ',b\n",
      "\n",
      "\n",
      "print 'Result: ',result"
     ],
     "language": "python",
     "metadata": {},
     "outputs": []
    },
    {
     "cell_type": "code",
     "collapsed": false,
     "input": [
      "print mortal[4-(m+1)]"
     ],
     "language": "python",
     "metadata": {},
     "outputs": []
    },
    {
     "cell_type": "markdown",
     "metadata": {},
     "source": [
      "**LP NOTE:** The code can't find the file `files/rosalind_fibd1.txt`.\n",
      "\n",
      "Does it work?\n",
      "\n",
      "You may be better off writing this function to accept two integers as an argument, not a filename."
     ]
    },
    {
     "cell_type": "heading",
     "level": 3,
     "metadata": {},
     "source": [
      "Mendel's First Law"
     ]
    },
    {
     "cell_type": "markdown",
     "metadata": {},
     "source": [
      "<img src=\"http://rosalind.info/media/problems/iprb/balls_tree.png\">"
     ]
    },
    {
     "cell_type": "markdown",
     "metadata": {},
     "source": [
      "Given: Three positive integers k, m, and n, representing a population containing k+m+n organisms: k individuals are homozygous dominant for a factor, m are heterozygous, and n are homozygous recessive.\n",
      "\n",
      "Return: The probability that two randomly selected mating organisms will produce an individual possessing a dominant allele (and thus displaying the dominant phenotype). Assume that any two organisms can mate."
     ]
    },
    {
     "cell_type": "code",
     "collapsed": false,
     "input": [
      "file = open('files/rosalind_iprb.txt','rU')\n",
      "file = file.readline().split(' ')\n",
      "\n",
      "k = int(file[0])\n",
      "print 'k:',k\n",
      "m = int(file[1])\n",
      "print 'm:',m\n",
      "n = int(file[2])\n",
      "print 'n:',n\n",
      "\n",
      "\n",
      "K = 'k' * k\n",
      "M = 'm' * m\n",
      "N = 'n' * n\n",
      "\n",
      "letters = K+N+M\n",
      "print 'letters:',letters\n",
      "\n",
      "population = float(k + m + n)\n",
      "print 'population',population\n",
      "\n",
      "organisms = (k,m,n)\n",
      "ambig = ('mn','nm')\n",
      "\n",
      "from itertools import permutations\n",
      "permutations = [''.join(p) for p in permutations(letters,2)]\n",
      "perms = permutations\n",
      "#perms = []\n",
      "#for i in permutations:\n",
      "#    if i not in perms:\n",
      "#        perms.append(i)\n",
      "print perms\n",
      "#print len(perms)\n",
      "values = []\n",
      "for i in perms:\n",
      "    for z,h in zip(letters,organisms):\n",
      "        #print zip(letters,organisms)\n",
      "        if i == 'nn':\n",
      "            print i+'???????????????????????????????????????'#Checking\n",
      "            break\n",
      "                \n",
      "        elif i == 'mm':\n",
      "            print i\n",
      "            one = (h/population) * (h-1)/(population-1) * 3/4\n",
      "            print one\n",
      "            values.append(one)\n",
      "            break\n",
      "            \n",
      "        elif i.find('k') == 0:      #Error!!!!! What I want to state is ''' if 'k' in i: '''   CORRECT!!!!!\n",
      "            if i == 'kk':\n",
      "                print i,'iiiii'\n",
      "                one = (h/population) * (k-1)/(population-1)\n",
      "                print one\n",
      "                values.append(one)\n",
      "                break\n",
      "            elif i != 'kk':\n",
      "                print i,'False'\n",
      "                one = (h/population) * (h)/(population-1)\n",
      "                print one\n",
      "                values.append(one)\n",
      "                break\n",
      "\n",
      "        elif i in ambig:\n",
      "            print i+'!!!!!!!!!!!!!!!!!!!!!!!!!!!!!!!!!!!!!!'\n",
      "            one = ((h/population) * (h)/(population-1)) * 0.5\n",
      "            print one\n",
      "            values.append(one) \n",
      "            break\n",
      "            \n",
      "                \n",
      "        else:\n",
      "            print i, 'ELSE-ELSE-ELSE-ELSE-ELSE-ELSE-ELSE-ELSE-ELSE-ELSE-ELSE'\n",
      "            one = (h/population) * (h)/(population-1)\n",
      "            print one\n",
      "            values.append(one)\n",
      "            break\n",
      "                \n",
      "print len(values)\n",
      "result = 0\n",
      "for i in values:\n",
      "    #print i\n",
      "    result += float(i)\n",
      "print 'Result:',result\n",
      "\n",
      "\n"
     ],
     "language": "python",
     "metadata": {},
     "outputs": []
    },
    {
     "cell_type": "heading",
     "level": 6,
     "metadata": {},
     "source": [
      "To be fixed..."
     ]
    },
    {
     "cell_type": "code",
     "collapsed": false,
     "input": [
      "\n",
      "collect = []\n",
      "\n",
      "for i in values[1:]:\n",
      "    k = (k/population) * ((float(i)-1) / (population-1))\n",
      "    collect.append(k)\n",
      "for i in values[0],values[2]:\n",
      "    m = (m/population) * ((float(i)-1) / (population-1))\n",
      "    collect.append(m)\n",
      "for i in values[0],values[1]:\n",
      "    n = (n/population) * ((float(i)-1) / (population-1))\n",
      "    collect.append(n)\n",
      "\n",
      "print collect"
     ],
     "language": "python",
     "metadata": {},
     "outputs": []
    },
    {
     "cell_type": "markdown",
     "metadata": {},
     "source": [
      "**LP NOTE:** I think this problem is designed to reinforce the proper order of solving a problem using a computer:\n",
      "\n",
      "1. Work out how to solve the problem efficiently.\n",
      "\n",
      "2. Only when you have a solution, code it.\n",
      "\n",
      "HINT: The code simply implements the solution to a calculation of probability. The difficult part is formulating that calculation. If you haven't done any genetics before, you should read up on a very basic introduction to dominant/recessive inheritance and [Punnett squares](http://scienceprimer.com/punnett-square-calculator). Once you're happy with that, it's worth working out the equation(s) to solve the problem on a piece of paper. When you've got a solution, it's then straightforward to turn it into a function."
     ]
    },
    {
     "cell_type": "heading",
     "level": 3,
     "metadata": {},
     "source": [
      "Consensus and Profile"
     ]
    },
    {
     "cell_type": "markdown",
     "metadata": {},
     "source": [
      "Given: A collection of at most 10 DNA strings of equal length (at most 1 kbp) in FASTA format.\n",
      "\n",
      "Return: A consensus string and profile matrix for the collection. (If several possible consensus strings exist, then you may return any one of them.)\n",
      "\n"
     ]
    },
    {
     "cell_type": "code",
     "collapsed": false,
     "input": [
      "from Bio import SeqIO\n",
      "\n",
      "\n",
      "file=open('files/matrix.fasta','rU')\n",
      "fasta = list(SeqIO.parse(file, \"fasta\"))\n",
      "seqs = []\n",
      "for i in range(len(fasta)):\n",
      "    seqs.append(str(fasta[i].seq))\n",
      "print seqs\n",
      "\n",
      "for i in range(len(seqs[0])):\n",
      "    for f in seqs:\n",
      "        print f[i]\n",
      "        \n",
      "             \n",
      "        \n",
      "        "
     ],
     "language": "python",
     "metadata": {},
     "outputs": []
    },
    {
     "cell_type": "markdown",
     "metadata": {},
     "source": [
      "**LP NOTE:** The code can't find the file `files/matrix.fasta`. Does it work?"
     ]
    },
    {
     "cell_type": "code",
     "collapsed": false,
     "input": [],
     "language": "python",
     "metadata": {},
     "outputs": []
    }
   ],
   "metadata": {}
  }
 ]
}