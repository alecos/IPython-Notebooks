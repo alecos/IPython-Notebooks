{
 "metadata": {
  "name": "",
  "signature": "sha256:16323a16b997a148a7cef220e047611bed10fdbb5643c8248ff6de10ca0bb138"
 },
 "nbformat": 3,
 "nbformat_minor": 0,
 "worksheets": [
  {
   "cells": [
    {
     "cell_type": "heading",
     "level": 3,
     "metadata": {},
     "source": [
      "Pairwise Global Alignment"
     ]
    },
    {
     "cell_type": "heading",
     "level": 6,
     "metadata": {},
     "source": [
      "Pairwise Global alignment: aims to find \"best\" alignment for given DNA or protein strings"
     ]
    },
    {
     "cell_type": "code",
     "collapsed": false,
     "input": [
      "from Bio.Emboss.Applications import NeedleCommandline\n",
      "from Bio import AlignIO\n",
      "from Bio import Entrez\n",
      "from Bio import SeqIO\n",
      "\n",
      "file = open('files/rosalind_need3.txt','rU')\n",
      "ids = file.readline().split(' ')\n",
      "#dq = '\\\"'\n",
      "#conc = 'dq + str(ids[0]), ',' , str(ids[1]) + dq'\n",
      "#print ids[0] + ' , '+ ids[1]\n",
      "\n",
      "Entrez.email = 'alessandro.bergna@gmail.com'\n",
      "handle1 = Entrez.efetch(db=\"nucleotide\", id=[ids[0]], rettype=\"fasta\")\n",
      "handle2= Entrez.efetch(db=\"nucleotide\", id=[ids[1]], rettype=\"fasta\")\n",
      "\n",
      "records1 = list (SeqIO.parse(handle1, \"fasta\"))\n",
      "records2 = list (SeqIO.parse(handle2, \"fasta\"))\n",
      "#print records1[0].seq\n",
      "#print records2[0].seq\n",
      "seqs = records1[0].seq, records2[0].seq\n",
      "\n",
      "#for i in range(1):\n",
      "#    text_file = open(('files/needle(%d)', \"w\") % (1)\n",
      "#    text_file.write(\"%s\" % seqs[i])          ####Error??????\n",
      "#    text_file.close()\n",
      "\n",
      "    \n",
      "                                 \n",
      "                                 \n",
      "                                 \n",
      "#needle_cline = NeedleCommandline(asequence=records1[0].seq,\n",
      "                                 #bsequence=records2[0].seq,\n",
      "                                 #gapopen=10, gapextend=1,\n",
      "                                 #outfile='files/prova_needle.txt')"
     ],
     "language": "python",
     "metadata": {},
     "outputs": [],
     "prompt_number": 3
    },
    {
     "cell_type": "heading",
     "level": 6,
     "metadata": {},
     "source": [
      "Needle command:\n"
     ]
    },
    {
     "cell_type": "raw",
     "metadata": {},
     "source": []
    },
    {
     "cell_type": "markdown",
     "metadata": {},
     "source": [
      "needle -asequence needle_try.txt -bsequence needle_try2.txt -gapopen 10 -gapextend 1 -outfile pair -endweight -endopen 10 -endextend 1"
     ]
    },
    {
     "cell_type": "heading",
     "level": 6,
     "metadata": {},
     "source": [
      "Done"
     ]
    },
    {
     "cell_type": "markdown",
     "metadata": {},
     "source": [
      " "
     ]
    },
    {
     "cell_type": "heading",
     "level": 3,
     "metadata": {},
     "source": [
      "Pairwise Local Alignment"
     ]
    },
    {
     "cell_type": "markdown",
     "metadata": {},
     "source": [
      "**Local alignment** offers a workaround by not actually aligning all of both strings against each other; instead, it **aims to identify two\n",
      "contiguous intervals**, one from each string, such that the global alignment of these intervals is optimal."
     ]
    },
    {
     "cell_type": "markdown",
     "metadata": {},
     "source": [
      "<img src=\"http://rosalind.info/media/problems/swat/global_vs_local.png\">"
     ]
    },
    {
     "cell_type": "markdown",
     "metadata": {},
     "source": [
      "                                                        Global above; Local below"
     ]
    },
    {
     "cell_type": "markdown",
     "metadata": {},
     "source": [
      "A local alignment of two strings s and t is an **alignment of substrings r and u of s and t**, respectively. Finding an optimal local alignment involves two maximizations: each pair of substrings has a maximum score (for their global alignment), and we want the pair of substrings with the largest possible maximum score."
     ]
    },
    {
     "cell_type": "code",
     "collapsed": false,
     "input": [
      "from Bio.Emboss.Applications import NeedleCommandline\n",
      "from Bio import AlignIO\n",
      "from Bio import Entrez\n",
      "from Bio import SeqIO\n",
      "\n",
      "file = open('files/rosalind_swat1.txt','rU')\n",
      "ids = file.readline().split(' ')\n",
      "\n",
      "Entrez.email = 'alessandro.bergna@gmail.com'\n",
      "handle1 = Entrez.efetch(db=\"nucleotide\", id=[ids[0]], rettype=\"fasta\")\n",
      "handle2= Entrez.efetch(db=\"nucleotide\", id=[ids[1]], rettype=\"fasta\")\n",
      "\n",
      "records1 = list (SeqIO.parse(handle1, \"fasta\"))\n",
      "records2 = list (SeqIO.parse(handle2, \"fasta\"))\n",
      "#print records1[0].seq\n",
      "#print records2[0].seq\n",
      "seqs = []\n",
      "seqs.append(records1[0].seq)\n",
      "seqs.append(records2[0].seq)\n",
      "\n",
      "\n",
      "\n",
      "#Trying to create two files in one loop... not able yet...\n",
      "#for i in range(2):\n",
      "#    file = open(\"files/water%s.txt\", \"w\") %i\n",
      "#    file.write(\"%s\" %seqs[i])\n",
      "#    file.close()\n",
      "\n",
      "\n",
      "file = open(\"files/water1.txt\", \"w\")\n",
      "file.write(\"%s\" %records1[0].seq)\n",
      "file.close()\n",
      "file = open(\"files/water2.txt\", \"w\")\n",
      "file.write(\"%s\" %records2[0].seq)\n",
      "file.close()\n",
      "\n"
     ],
     "language": "python",
     "metadata": {},
     "outputs": [],
     "prompt_number": 47
    },
    {
     "cell_type": "markdown",
     "metadata": {},
     "source": [
      "Water code:"
     ]
    },
    {
     "cell_type": "markdown",
     "metadata": {},
     "source": [
      "water -asequence files\\water1.txt -bsequence files\\water2.txt -gapopen 10 -gapextend 1 -datafile EBLOSUM62 -outfile files\\water_output.txt"
     ]
    },
    {
     "cell_type": "markdown",
     "metadata": {},
     "source": [
      "Output in the output file"
     ]
    },
    {
     "cell_type": "heading",
     "level": 6,
     "metadata": {},
     "source": [
      "Done"
     ]
    },
    {
     "cell_type": "heading",
     "level": 3,
     "metadata": {},
     "source": [
      "Read Quality Distribution"
     ]
    },
    {
     "cell_type": "code",
     "collapsed": false,
     "input": [
      "cd C:\\Users\\vaevi_000\\SkyDrive\\ABZ_PhD\\Rosalind"
     ],
     "language": "python",
     "metadata": {},
     "outputs": [
      {
       "output_type": "stream",
       "stream": "stdout",
       "text": [
        "C:\\Users\\vaevi_000\\SkyDrive\\ABZ_PhD\\Rosalind\n"
       ]
      }
     ],
     "prompt_number": 5
    },
    {
     "cell_type": "code",
     "collapsed": false,
     "input": [
      "from Bio import Entrez\n",
      "from Bio import SeqIO\n",
      "import numpy\n",
      "file = open('files/rosalind_phre6.txt','rU')\n",
      "lines=file.readlines()\n",
      "threshold=float(lines[0].split('\\n')[0])                              #Maybe reading the file too many times?\n",
      "sequences = list(SeqIO.parse('files/rosalind_phre6.txt', \"fastq\"))\n",
      "\n",
      "print 'Treshold:', threshold\n",
      "\n",
      "lower=0\n",
      "above=0\n",
      "\n",
      "for i in range(0,len(sequences)):     #enumerates returns a tulpe? Can't loop it...\n",
      "    averages= sequences[i].letter_annotations[\"phred_quality\"]\n",
      "    av= float(numpy.average(averages))\n",
      "    #print av\n",
      "    if av < threshold:\n",
      "        lower += 1\n",
      "        #print 'lower'\n",
      "    elif av >= threshold:     #redundant but needs to proof...\n",
      "        above += 1\n",
      "        #print 'above'\n",
      "\n",
      "print 'Number of sequences:',len(sequences)\n",
      "print 'Lower=',lower\n",
      "print 'Above=',above\n"
     ],
     "language": "python",
     "metadata": {},
     "outputs": [
      {
       "output_type": "stream",
       "stream": "stdout",
       "text": [
        "Treshold: 21.0\n",
        "Number of sequences: 88\n",
        "Lower= 29\n",
        "Above= 59\n"
       ]
      }
     ],
     "prompt_number": 143
    },
    {
     "cell_type": "heading",
     "level": 6,
     "metadata": {},
     "source": [
      "Done"
     ]
    },
    {
     "cell_type": "heading",
     "level": 3,
     "metadata": {},
     "source": [
      "Protein Translation"
     ]
    },
    {
     "cell_type": "code",
     "collapsed": false,
     "input": [
      "from Bio.Seq import translate\n",
      "prot_file=open('files/rosalind_ptra4.txt', \"rU\")\n",
      "file_ptra=prot_file.readlines()\n",
      "coding_dna=file_ptra[0]\n",
      "coded_prot=str(file_ptra[1])   #There might be a problem with BioPython http://comments.gmane.org/gmane.comp.python.bio.general/7435 \n",
      "\n",
      "### With Rosalind example data it works:\n",
      "#coding_dna='ATGGCCATGGCGCCCAGAACTGAGATCAATAGTACCCGTATTAACGGGTGA'\n",
      "#coded_prot='MAMAPRTEINSTRING'\n",
      "\n",
      "\n",
      "\n",
      "\n",
      "indexes=[]\n",
      "prots = []\n",
      "#print coding_dna\n",
      "iterator_tables = (1,2,3,4,5,6,9,10,11,12,13,14,15) #Some tables have been deleted\n",
      "#print coded_prot\n",
      "\n",
      "print 'lenght coded prot=', len(coded_prot)\n",
      "\n",
      "for i in iterator_tables:                                   #Apparently there are 6 tables and tor 15 as in the website...\n",
      "    test = str(translate(coding_dna,table=i,stop_symbol=''))\n",
      "    print i  \n",
      "    #print test\n",
      "    prots.append(test)\n",
      "    #print test.replace('*','')\n",
      "    #if str(coded_prot) == str(test):\n",
      "    if len(str(coded_prot)) - len(str(test)) < 2:\n",
      "        #if test == coded_prot:\n",
      "        indexes.append(i)\n",
      "        #print test\n",
      "        print indexes\n",
      "\n",
      "#print len(coding_dna)\n",
      "\n",
      "#print prots\n",
      "print indexes\n",
      "for i in prots:\n",
      "    print len(i)\n",
      "\n",
      "\n",
      "    \n",
      "\n",
      "\n",
      "#                                 Get this message only on the first time I run the script:\n",
      "#C:\\Users\\ab42313\\AppData\\Local\\Continuum\\Anaconda\\lib\\site-packages\\Bio\\Seq.py:2040: BiopythonWarning: Partial codon, \n",
      "#len(sequence) not a multiple of three. Explicitly trim the sequence or add trailing N before translation. This may become an \n",
      "#error in future. BiopythonWarning)"
     ],
     "language": "python",
     "metadata": {},
     "outputs": [
      {
       "output_type": "stream",
       "stream": "stdout",
       "text": [
        "lenght coded prot= 3257\n",
        "1\n",
        "2\n",
        "3\n",
        "4\n",
        "5\n",
        "6\n",
        "[6]\n",
        "9\n",
        "10\n",
        "11\n",
        "12\n",
        "13\n",
        "14\n",
        "15\n",
        "[6, 15]\n",
        "[6, 15]\n",
        "3206\n",
        "3090\n",
        "3207\n",
        "3207\n",
        "3207\n",
        "3256\n",
        "3207\n",
        "3207\n",
        "3206\n",
        "3206\n",
        "3207\n",
        "3207\n",
        "3256\n"
       ]
      }
     ],
     "prompt_number": 136
    },
    {
     "cell_type": "raw",
     "metadata": {},
     "source": [
      "print iterator_tables"
     ]
    },
    {
     "cell_type": "heading",
     "level": 3,
     "metadata": {},
     "source": [
      "New Motif Discovery"
     ]
    },
    {
     "cell_type": "markdown",
     "metadata": {},
     "source": [
      "Given: A set of protein strings in FASTA format that share some motif with minimum length 20.\n",
      "\n",
      "Return: Regular expression for the best-scoring motif."
     ]
    },
    {
     "cell_type": "markdown",
     "metadata": {},
     "source": [
      "Taking some time to reinstall cygwin and meme.... will share the code later"
     ]
    },
    {
     "cell_type": "code",
     "collapsed": false,
     "input": [],
     "language": "python",
     "metadata": {},
     "outputs": [],
     "prompt_number": 136
    },
    {
     "cell_type": "code",
     "collapsed": false,
     "input": [],
     "language": "python",
     "metadata": {},
     "outputs": [],
     "prompt_number": 35
    },
    {
     "cell_type": "code",
     "collapsed": false,
     "input": [],
     "language": "python",
     "metadata": {},
     "outputs": [
      {
       "ename": "NameError",
       "evalue": "name 'seqret' is not defined",
       "output_type": "pyerr",
       "traceback": [
        "\u001b[1;31m---------------------------------------------------------------------------\u001b[0m\n\u001b[1;31mNameError\u001b[0m                                 Traceback (most recent call last)",
        "\u001b[1;32m<ipython-input-8-3a294faa47cf>\u001b[0m in \u001b[0;36m<module>\u001b[1;34m()\u001b[0m\n\u001b[1;32m----> 1\u001b[1;33m \u001b[0mseqret\u001b[0m\u001b[1;33m\u001b[0m\u001b[0m\n\u001b[0m",
        "\u001b[1;31mNameError\u001b[0m: name 'seqret' is not defined"
       ]
      }
     ],
     "prompt_number": 8
    },
    {
     "cell_type": "heading",
     "level": 3,
     "metadata": {},
     "source": [
      "Read Filtration by Quality"
     ]
    },
    {
     "cell_type": "markdown",
     "metadata": {},
     "source": [
      "Installed a virtual box with ubuntu then installed FASTX toolkit... already used this software in the past..."
     ]
    },
    {
     "cell_type": "code",
     "collapsed": false,
     "input": [
      "from Bio import SeqIO\n",
      "file = open('files/rosalind_filt.txt','rU')\n",
      "lines=file.readlines()\n",
      "threshold=float(lines[0].split(' ')[0])                              #Maybe reading the file too many times?\n",
      "percentage =float(lines[0].split(' ')[1])\n",
      "sequences = list(SeqIO.parse('files/rosalind_filt.txt', \"fastq\"))\n",
      "\n",
      "print 'Treshold:', threshold\n",
      "print 'Percentage:', percentage\n",
      "\n",
      "#Writing the fasta file:\n",
      "\n",
      "f = open(\"rosalind_filt.fasta\", \"w\")\n",
      "\n",
      "for i in range(0,len(sequences)):\n",
      "    #print '>'+sequences[i].id\n",
      "    #print sequences[i].seq\n",
      "    print >> f, '>'+sequences[i].id\n",
      "    print >> f, sequences[i].seq\n",
      "\n",
      "q = open(\"rosalind_filt.fastq\", \"w\")\n",
      "for i in lines[1:]:\n",
      "    #print i\n",
      "    print >> q, i\n"
     ],
     "language": "python",
     "metadata": {},
     "outputs": [
      {
       "output_type": "stream",
       "stream": "stdout",
       "text": [
        "Treshold: 26.0\n",
        "Percentage: 89.0\n"
       ]
      }
     ],
     "prompt_number": 29
    },
    {
     "cell_type": "code",
     "collapsed": false,
     "input": [],
     "language": "python",
     "metadata": {},
     "outputs": []
    }
   ],
   "metadata": {}
  }
 ]
}