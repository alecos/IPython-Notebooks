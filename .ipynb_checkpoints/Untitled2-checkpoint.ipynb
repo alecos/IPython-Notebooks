{
 "metadata": {
  "name": "",
  "signature": "sha256:6eeabdf3c66bed4232b896694eed67405ca1e9be71089ee6d13b310576c0b5c5"
 },
 "nbformat": 3,
 "nbformat_minor": 0,
 "worksheets": [
  {
   "cells": [
    {
     "cell_type": "code",
     "collapsed": false,
     "input": [
      "cd C:\\Users\\vaevi_000\\Google Drive\\Project_Giulia\\SM_Benigna\\Tesi_Elisabetta\\km"
     ],
     "language": "python",
     "metadata": {},
     "outputs": [
      {
       "output_type": "stream",
       "stream": "stdout",
       "text": [
        "C:\\Users\\vaevi_000\\Google Drive\\Project_Giulia\\SM_Benigna\\Tesi_Elisabetta\\km\n"
       ]
      }
     ],
     "prompt_number": 1
    },
    {
     "cell_type": "code",
     "collapsed": false,
     "input": [
      "#EDSS3\n",
      "\n",
      "titolo = 'EDSS 3 entro 10 anni (evento EDSS 5)'\n",
      "\n",
      "titolo_up = 'EDSS 3 entro 10 anni'\n",
      "titolo_dw = 'EDSS 3 oltre 10 anni'\n",
      "\n",
      "anno_up = (1,2,4,6,8,10,12,14,16,18,20)\n",
      "evento_up = (6,3,7,11,9,15,9,3,0,3,2)\n",
      "censurati_up = (0,0,0,0,0,13,11,7,2,3,0)\n",
      "\n",
      "anno_dw = (1,2,4,6,8,10,12,14,16,18,20,22,24,26,28,30)\n",
      "evento_dw = (0,0,0,0,0,2,3,0,2,3,0,0,1,1,0,0)\n",
      "censurati_dw = (0,0,0,0,0,6,6,6,1,8,5,2,3,0,1,1)\n",
      "\n",
      "\n",
      "\n",
      "\n",
      "#print len(anno), len(evento), len(censurati)\n",
      "\n",
      "time_up = []\n",
      "status_up = []\n",
      "\n",
      "time_dw = []\n",
      "status_dw = []\n",
      "\n",
      "\n",
      "\n",
      "\n",
      "#Calcolo le colonne per la PRIMA tabella (curva):\n",
      "for an, ev, cen in zip(anno_up, evento_up, censurati_up):\n",
      "    \n",
      "    #print an, ev, cen\n",
      "    \n",
      "    for i in range(ev + cen):\n",
      "        time_up.append(an)\n",
      "    \n",
      "    if ev > 0:\n",
      "        for i in range(ev):\n",
      "            status_up.append(1)\n",
      "    if cen > 0:\n",
      "        for i in range(cen):\n",
      "            status_up.append(0)\n",
      "\n",
      "\n",
      "#Calcolo le colonne per la SECONDA tabella (curva):\n",
      "            \n",
      "for an, ev, cen in zip(anno_dw, evento_dw, censurati_dw):\n",
      "    \n",
      "    #print an, ev, cen\n",
      "    \n",
      "    for i in range(ev + cen):\n",
      "        time_dw.append(an)\n",
      "    \n",
      "    if ev > 0:\n",
      "        for i in range(ev):\n",
      "            status_dw.append(1)\n",
      "    if cen > 0:\n",
      "        for i in range(cen):\n",
      "            status_dw.append(0)            \n",
      "\n",
      "            \n",
      "ln_up = len(time_up)\n",
      "ln_dw = len(time_dw)            \n",
      "\n",
      "#outputs sotto forma di testo:\n",
      "#creo stringa con variabili all'interno\n",
      "time_up_end = 'time <- c({0})'.format(', '.join(map(str, time_up)))\n",
      "\n",
      "status_up_end = 'status <- c({0})'.format(', '.join(map(str, status_up)))\n",
      "\n",
      "time_dw_end = 'time <- c({0})'.format(', '.join(map(str, time_dw)))\n",
      "\n",
      "status_dw_end = 'status <- c({0})'.format(', '.join(map(str, status_dw)))\n",
      "\n",
      "time_consensus = 'time <- c({0})'.format(', '.join(map(str, time_up)) + ', '.join(map(str, time_dw)))\n",
      "status_consensus = 'status <- c({0})'.format(', '.join(map(str, status_up)) + ', '.join(map(str, status_dw)))\n",
      "\n",
      "\n",
      "\n",
      "\n",
      "\n",
      "\n",
      "#titolo\n",
      "print titolo\n",
      "print ''\n",
      "\n",
      "print '''Stringhe singole curve\n",
      "                                '''\n",
      "\n",
      "print titolo_up\n",
      "\n",
      "\n",
      "\n",
      "\n",
      "#Scrivo output:\n",
      "print time_up_end\n",
      "print status_up_end\n",
      "print titolo_dw\n",
      "print time_dw_end\n",
      "print status_dw_end\n",
      "\n",
      "print ''\n",
      "print '''\n",
      "\n",
      "Stringa per Log Rank test:'''\n",
      "\n",
      "print time_consensus\n",
      "print status_consensus\n",
      "\n",
      "filename = '%s.txt' %(titolo)\n",
      "print filename\n",
      "\n",
      "\n",
      "with open(filename, \"w\") as text_file:\n",
      "    text_file.write(\n",
      "\n",
      "\n",
      "'''\n",
      "\n",
      "{0}\n",
      "{1}\n",
      "\n",
      "groups <- c(rep(\"GroupA\",{2}), rep(\"GroupB\",{3}))\n",
      "pop <- data.frame(time, status, groups)\n",
      "pop$groups <- factor(pop$groups)\n",
      "fit <- survfit(Surv(time, status) ~ groups, data=pop)\n",
      "summary(fit)\n",
      "plot(fit, col=2:3, lwd=2)\n",
      "\n",
      "##Confronto le curve (Log-rank Test)\n",
      "survdiff(Surv(time, status) ~ groups, data=pop)'''\n",
      "                    \n",
      "                    .format(time_consensus, status_consensus, ln_up, ln_dw))\n",
      "\n"
     ],
     "language": "python",
     "metadata": {},
     "outputs": [
      {
       "output_type": "stream",
       "stream": "stdout",
       "text": [
        "EDSS 3 entro 10 anni (evento EDSS 5)\n",
        "\n",
        "Stringhe singole curve\n",
        "                                \n",
        "EDSS 3 entro 10 anni\n",
        "time <- c(1, 1, 1, 1, 1, 1, 2, 2, 2, 4, 4, 4, 4, 4, 4, 4, 6, 6, 6, 6, 6, 6, 6, 6, 6, 6, 6, 8, 8, 8, 8, 8, 8, 8, 8, 8, 10, 10, 10, 10, 10, 10, 10, 10, 10, 10, 10, 10, 10, 10, 10, 10, 10, 10, 10, 10, 10, 10, 10, 10, 10, 10, 10, 10, 12, 12, 12, 12, 12, 12, 12, 12, 12, 12, 12, 12, 12, 12, 12, 12, 12, 12, 12, 12, 14, 14, 14, 14, 14, 14, 14, 14, 14, 14, 16, 16, 18, 18, 18, 18, 18, 18, 20, 20)\n",
        "status <- c(1, 1, 1, 1, 1, 1, 1, 1, 1, 1, 1, 1, 1, 1, 1, 1, 1, 1, 1, 1, 1, 1, 1, 1, 1, 1, 1, 1, 1, 1, 1, 1, 1, 1, 1, 1, 1, 1, 1, 1, 1, 1, 1, 1, 1, 1, 1, 1, 1, 1, 1, 0, 0, 0, 0, 0, 0, 0, 0, 0, 0, 0, 0, 0, 1, 1, 1, 1, 1, 1, 1, 1, 1, 0, 0, 0, 0, 0, 0, 0, 0, 0, 0, 0, 1, 1, 1, 0, 0, 0, 0, 0, 0, 0, 0, 0, 1, 1, 1, 0, 0, 0, 1, 1)\n",
        "EDSS 3 oltre 10 anni\n",
        "time <- c(10, 10, 10, 10, 10, 10, 10, 10, 12, 12, 12, 12, 12, 12, 12, 12, 12, 14, 14, 14, 14, 14, 14, 16, 16, 16, 18, 18, 18, 18, 18, 18, 18, 18, 18, 18, 18, 20, 20, 20, 20, 20, 22, 22, 24, 24, 24, 24, 26, 28, 30)\n",
        "status <- c(1, 1, 0, 0, 0, 0, 0, 0, 1, 1, 1, 0, 0, 0, 0, 0, 0, 0, 0, 0, 0, 0, 0, 1, 1, 0, 1, 1, 1, 0, 0, 0, 0, 0, 0, 0, 0, 0, 0, 0, 0, 0, 0, 0, 1, 0, 0, 0, 1, 0, 0)\n",
        "\n",
        "\n",
        "\n",
        "Stringa per Log Rank test:\n",
        "time <- c(1, 1, 1, 1, 1, 1, 2, 2, 2, 4, 4, 4, 4, 4, 4, 4, 6, 6, 6, 6, 6, 6, 6, 6, 6, 6, 6, 8, 8, 8, 8, 8, 8, 8, 8, 8, 10, 10, 10, 10, 10, 10, 10, 10, 10, 10, 10, 10, 10, 10, 10, 10, 10, 10, 10, 10, 10, 10, 10, 10, 10, 10, 10, 10, 12, 12, 12, 12, 12, 12, 12, 12, 12, 12, 12, 12, 12, 12, 12, 12, 12, 12, 12, 12, 14, 14, 14, 14, 14, 14, 14, 14, 14, 14, 16, 16, 18, 18, 18, 18, 18, 18, 20, 2010, 10, 10, 10, 10, 10, 10, 10, 12, 12, 12, 12, 12, 12, 12, 12, 12, 14, 14, 14, 14, 14, 14, 16, 16, 16, 18, 18, 18, 18, 18, 18, 18, 18, 18, 18, 18, 20, 20, 20, 20, 20, 22, 22, 24, 24, 24, 24, 26, 28, 30)\n",
        "status <- c(1, 1, 1, 1, 1, 1, 1, 1, 1, 1, 1, 1, 1, 1, 1, 1, 1, 1, 1, 1, 1, 1, 1, 1, 1, 1, 1, 1, 1, 1, 1, 1, 1, 1, 1, 1, 1, 1, 1, 1, 1, 1, 1, 1, 1, 1, 1, 1, 1, 1, 1, 0, 0, 0, 0, 0, 0, 0, 0, 0, 0, 0, 0, 0, 1, 1, 1, 1, 1, 1, 1, 1, 1, 0, 0, 0, 0, 0, 0, 0, 0, 0, 0, 0, 1, 1, 1, 0, 0, 0, 0, 0, 0, 0, 0, 0, 1, 1, 1, 0, 0, 0, 1, 11, 1, 0, 0, 0, 0, 0, 0, 1, 1, 1, 0, 0, 0, 0, 0, 0, 0, 0, 0, 0, 0, 0, 1, 1, 0, 1, 1, 1, 0, 0, 0, 0, 0, 0, 0, 0, 0, 0, 0, 0, 0, 0, 0, 1, 0, 0, 0, 1, 0, 0)\n",
        "EDSS 3 entro 10 anni (evento EDSS 5).txt\n"
       ]
      }
     ],
     "prompt_number": 2
    },
    {
     "cell_type": "code",
     "collapsed": false,
     "input": [
      "ciao = [1,2,3,4]\n",
      "len(ciao)"
     ],
     "language": "python",
     "metadata": {},
     "outputs": [
      {
       "metadata": {},
       "output_type": "pyout",
       "prompt_number": 3,
       "text": [
        "4"
       ]
      }
     ],
     "prompt_number": 3
    },
    {
     "cell_type": "code",
     "collapsed": false,
     "input": [
      "print len(status_up), len(status_up)\n",
      "print status_up\n",
      "print status_dw"
     ],
     "language": "python",
     "metadata": {},
     "outputs": [
      {
       "output_type": "stream",
       "stream": "stdout",
       "text": [
        "104 104\n",
        "[1, 1, 1, 1, 1, 1, 1, 1, 1, 1, 1, 1, 1, 1, 1, 1, 1, 1, 1, 1, 1, 1, 1, 1, 1, 1, 1, 1, 1, 1, 1, 1, 1, 1, 1, 1, 1, 1, 1, 1, 1, 1, 1, 1, 1, 1, 1, 1, 1, 1, 1, 0, 0, 0, 0, 0, 0, 0, 0, 0, 0, 0, 0, 0, 1, 1, 1, 1, 1, 1, 1, 1, 1, 0, 0, 0, 0, 0, 0, 0, 0, 0, 0, 0, 1, 1, 1, 0, 0, 0, 0, 0, 0, 0, 0, 0, 1, 1, 1, 0, 0, 0, 1, 1]\n",
        "[1, 1, 0, 0, 0, 0, 0, 0, 1, 1, 1, 0, 0, 0, 0, 0, 0, 0, 0, 0, 0, 0, 0, 1, 1, 0, 1, 1, 1, 0, 0, 0, 0, 0, 0, 0, 0, 0, 0, 0, 0, 0, 0, 0, 1, 0, 0, 0, 1, 0, 0]\n"
       ]
      }
     ],
     "prompt_number": 6
    },
    {
     "cell_type": "code",
     "collapsed": false,
     "input": [],
     "language": "python",
     "metadata": {},
     "outputs": []
    }
   ],
   "metadata": {}
  }
 ]
}