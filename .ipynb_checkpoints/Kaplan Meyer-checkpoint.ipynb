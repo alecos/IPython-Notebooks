{
 "metadata": {
  "name": "",
  "signature": "sha256:a46787903cc328284b9c305b053555c4918ae7657213b3fba216e57f1f39d68d"
 },
 "nbformat": 3,
 "nbformat_minor": 0,
 "worksheets": [
  {
   "cells": [
    {
     "cell_type": "code",
     "collapsed": false,
     "input": [
      "cd C:\\Users\\vaevi_000\\Google Drive\\Project_Giulia\\SM_Benigna\\Tesi_Elisabetta\\km"
     ],
     "language": "python",
     "metadata": {},
     "outputs": [
      {
       "output_type": "stream",
       "stream": "stdout",
       "text": [
        "C:\\Users\\vaevi_000\\Google Drive\\Project_Giulia\\SM_Benigna\\Tesi_Elisabetta\\km\n"
       ]
      }
     ],
     "prompt_number": 5
    },
    {
     "cell_type": "code",
     "collapsed": false,
     "input": [
      "#EDSS3\n",
      "anno = (1,2,4,6,8,10,12,14,16,18,20,22,24)\n",
      "evento = (14,2,4,2,8,5,3,0,3,1,0,1,0)\n",
      "censurati = (0,0,0,0,0,24,11,8,2,5,6,1,1)"
     ],
     "language": "python",
     "metadata": {},
     "outputs": [],
     "prompt_number": 1
    },
    {
     "cell_type": "code",
     "collapsed": false,
     "input": [
      "#print len(anno), len(evento), len(censurati)\n",
      "\n",
      "time_up = []\n",
      "status_up = []\n",
      "\n",
      "for an, ev, cen in zip(anno,evento,censurati):\n",
      "    \n",
      "    #print an, ev, cen\n",
      "    \n",
      "    for i in range(ev + cen):\n",
      "        time_up.append(an)\n",
      "    \n",
      "    if ev > 0:\n",
      "        for i in range(ev):\n",
      "            status_up.append(1)\n",
      "    if cen > 0:\n",
      "        for i in range(cen):\n",
      "            status_up.append(0)\n",
      "\n",
      "print 'time', '<- c(', ', '.join(map(str, time_up)), ')'\n",
      "print 'status', '<- c(',', '.join(map(str, status_up)), ')'"
     ],
     "language": "python",
     "metadata": {},
     "outputs": [
      {
       "output_type": "stream",
       "stream": "stdout",
       "text": [
        "time <- c( 1, 1, 1, 1, 1, 1, 1, 1, 1, 1, 1, 1, 1, 1, 2, 2, 4, 4, 4, 4, 6, 6, 8, 8, 8, 8, 8, 8, 8, 8, 10, 10, 10, 10, 10, 10, 10, 10, 10, 10, 10, 10, 10, 10, 10, 10, 10, 10, 10, 10, 10, 10, 10, 10, 10, 10, 10, 10, 10, 12, 12, 12, 12, 12, 12, 12, 12, 12, 12, 12, 12, 12, 12, 14, 14, 14, 14, 14, 14, 14, 14, 16, 16, 16, 16, 16, 18, 18, 18, 18, 18, 18, 20, 20, 20, 20, 20, 20, 22, 22, 24 )\n",
        "status <- c( 1, 1, 1, 1, 1, 1, 1, 1, 1, 1, 1, 1, 1, 1, 1, 1, 1, 1, 1, 1, 1, 1, 1, 1, 1, 1, 1, 1, 1, 1, 1, 1, 1, 1, 1, 0, 0, 0, 0, 0, 0, 0, 0, 0, 0, 0, 0, 0, 0, 0, 0, 0, 0, 0, 0, 0, 0, 0, 0, 1, 1, 1, 0, 0, 0, 0, 0, 0, 0, 0, 0, 0, 0, 0, 0, 0, 0, 0, 0, 0, 0, 1, 1, 1, 0, 0, 1, 0, 0, 0, 0, 0, 0, 0, 0, 0, 0, 0, 1, 0, 0 )\n"
       ]
      }
     ],
     "prompt_number": 12
    },
    {
     "cell_type": "markdown",
     "metadata": {},
     "source": [
      "Per import in R:"
     ]
    },
    {
     "cell_type": "code",
     "collapsed": false,
     "input": [
      "ciao ='ciao'"
     ],
     "language": "python",
     "metadata": {},
     "outputs": [
      {
       "output_type": "stream",
       "stream": "stdout",
       "text": [
        "\n"
       ]
      }
     ],
     "prompt_number": 10
    },
    {
     "cell_type": "code",
     "collapsed": false,
     "input": [
      "##Carico pacchetti\n",
      "\n",
      "library(\"survival\", lib.loc=\"C:/Revolution/R-Enterprise-7.0/R-3.0.2/library\")\n",
      "\n",
      "##Da 0 a 3\n",
      "##Carico tabelle da stringhe pregenerate\n",
      "\n",
      "time <- c(0,0,0,0,0,0,0,0,0,2,2,2,2,2,3,4,4,4,5,6,7,8,8,8,8,9,9,10,10,10,10,10,10,10,11,11,11,12,12,12,12,13,14,14,14,15,16,16,17,17,18,21,28)\n",
      "status <- c(1,1,1,1,1,1,1,1,1,1,1,1,1,1,1,1,1,1,1,1,1,1,1,1,1,1,1,1,1,1,1,1,1,1,1,1,1,1,1,1,1,1,1,1,1,1,1,1,1,1,1,1,1)\n",
      "\n",
      "groups <- c(rep(\"GroupA\",27), rep(\"GroupB\",26))\n",
      "pop <- data.frame(time, status, groups)\n",
      "pop$groups <- factor(pop$groups)\n",
      "fit <- survfit(Surv(time, status) ~ groups, data=pop)\n",
      "summary(fit)\n",
      "plot(fit, col=2:3, lwd=2)\n",
      "\n",
      "##Confronto le curve (Log-rank Test)\n",
      "survdiff(Surv(time, status) ~ groups, data=pop)"
     ],
     "language": "python",
     "metadata": {},
     "outputs": []
    },
    {
     "cell_type": "code",
     "collapsed": false,
     "input": [
      "import os\n",
      "\n",
      "example = [1,2,3,4,5,6,6,78,4,3,5,6,3,2,5,6,3,]\n",
      "\n",
      "\n",
      "os.remove(\"files/example.txt\")    #Removes the file if already present in order to be able to write a new file instead concatenating the new file\n",
      "for i in example:\n",
      "    out_file = open(\"files/example.txt\",\"a\")\n",
      "    out_file.write(\"%s %s\" %(i,'\\n'))\n",
      "    \n",
      "    out_file.close()"
     ],
     "language": "python",
     "metadata": {},
     "outputs": []
    },
    {
     "cell_type": "code",
     "collapsed": false,
     "input": [
      "#EDSS3\n",
      "\n",
      "titolo = 'EDSS3'\n",
      "\n",
      "titolo_up = 'EDSS 3 entro 10 anni'\n",
      "titolo_dw = 'EDSS 3 oltre 10 anni'\n",
      "\n",
      "anno_up = (1,2,4,6,8,10,12,14,16,18,20,22,24)\n",
      "evento_up = (14,2,4,2,8,5,3,0,3,1,0,1,0)\n",
      "censurati_up = (0,0,0,0,0,24,11,8,2,5,6,1,1)\n",
      "\n",
      "anno_dw = (1,2,4,6,8,10,12,14,16,18,20,22,24)\n",
      "evento_dw = (14,2,4,2,8,5,3,0,3,1,0,1,0)\n",
      "censurati_dw = (0,0,0,0,0,24,11,8,2,5,6,1,1)\n",
      "\n",
      "\n",
      "\n",
      "ln_up = len(time_up)\n",
      "ln_dw = len(time_dw)\n",
      "#print len(anno), len(evento), len(censurati)\n",
      "\n",
      "time_up = []\n",
      "status_up = []\n",
      "\n",
      "time_dw = []\n",
      "status_dw = []\n",
      "\n",
      "\n",
      "\n",
      "\n",
      "#Calcolo le colonne per la prima tabella (curva):\n",
      "for an, ev, cen in zip(anno_up,evento_up,censurati_up):\n",
      "    \n",
      "    #print an, ev, cen\n",
      "    \n",
      "    for i in range(ev + cen):\n",
      "        time_up.append(an)\n",
      "    \n",
      "    if ev > 0:\n",
      "        for i in range(ev):\n",
      "            status_up.append(1)\n",
      "    if cen > 0:\n",
      "        for i in range(cen):\n",
      "            status_up.append(0)\n",
      "\n",
      "\n",
      "#Calcolo le colonne per la seconda tabella (curva):\n",
      "            \n",
      "for an, ev, cen in zip(anno_dw,evento_dw,censurati_dw):\n",
      "    \n",
      "    #print an, ev, cen\n",
      "    \n",
      "    for i in range(ev + cen):\n",
      "        time_dw.append(an)\n",
      "    \n",
      "    if ev > 0:\n",
      "        for i in range(ev):\n",
      "            status_dw.append(1)\n",
      "    if cen > 0:\n",
      "        for i in range(cen):\n",
      "            status_dw.append(0)            \n",
      "\n",
      "#outputs sotto forma di testo:\n",
      "#creo stringa con variabili all'interno\n",
      "time_up_end = 'time <- c({0})'.format(', '.join(map(str, time_up)))\n",
      "\n",
      "status_up_end = 'status <- c({0})'.format(', '.join(map(str, status_up)))\n",
      "\n",
      "time_dw_end = 'time <- c({0})'.format(', '.join(map(str, time_dw)))\n",
      "\n",
      "status_dw_end = 'status <- c({0})'.format(', '.join(map(str, status_dw)))\n",
      "\n",
      "time_consensus = 'time <- c({0})'.format(', '.join(map(str, time_up)) + ', '.join(map(str, time_dw)))\n",
      "status_consensus = 'status <- c({0})'.format(', '.join(map(str, status_up)) + ', '.join(map(str, status_dw)))\n",
      "\n",
      "\n",
      "\n",
      "\n",
      "\n",
      "\n",
      "#titolo\n",
      "print titolo\n",
      "print ''\n",
      "\n",
      "print '''Stringhe singole curve\n",
      "                                '''\n",
      "\n",
      "print titolo_up\n",
      "\n",
      "\n",
      "\n",
      "\n",
      "#Scrivo output:\n",
      "print time_up_end\n",
      "print status_up_end\n",
      "print titolo_dw\n",
      "print time_dw_end\n",
      "print status_dw_end\n",
      "\n",
      "print ''\n",
      "print '''\n",
      "\n",
      "Stringa per Log Rank test:'''\n",
      "\n",
      "print time_consensus\n",
      "print status_consensus\n",
      "\n",
      "\n",
      "\n",
      "with open(filename, \"w\") as text_file:\n",
      "    text_file.write(\n",
      "\n",
      "\n",
      "'''\n",
      "\n",
      "{0}\n",
      "{1}\n",
      "\n",
      "groups <- c(rep(\"GroupA\",{2}), rep(\"GroupB\",{3}))\n",
      "pop <- data.frame(time, status, groups)\n",
      "pop$groups <- factor(pop$groups)\n",
      "fit <- survfit(Surv(time, status) ~ groups, data=pop)\n",
      "summary(fit)\n",
      "plot(fit, col=2:3, lwd=2)\n",
      "\n",
      "##Confronto le curve (Log-rank Test)\n",
      "survdiff(Surv(time, status) ~ groups, data=pop)'''\n",
      "                    \n",
      "                    .format(time_consensus, status_consensus, ln_up, ln_dw))\n",
      "\n"
     ],
     "language": "python",
     "metadata": {},
     "outputs": [
      {
       "output_type": "stream",
       "stream": "stdout",
       "text": [
        "EDSS3\n",
        "\n",
        "Stringhe singole curve\n",
        "                                \n",
        "EDSS 3 entro 10 anni\n",
        "time <- c(1, 1, 1, 1, 1, 1, 1, 1, 1, 1, 1, 1, 1, 1, 2, 2, 4, 4, 4, 4, 6, 6, 8, 8, 8, 8, 8, 8, 8, 8, 10, 10, 10, 10, 10, 10, 10, 10, 10, 10, 10, 10, 10, 10, 10, 10, 10, 10, 10, 10, 10, 10, 10, 10, 10, 10, 10, 10, 10, 12, 12, 12, 12, 12, 12, 12, 12, 12, 12, 12, 12, 12, 12, 14, 14, 14, 14, 14, 14, 14, 14, 16, 16, 16, 16, 16, 18, 18, 18, 18, 18, 18, 20, 20, 20, 20, 20, 20, 22, 22, 24)\n",
        "status <- c(1, 1, 1, 1, 1, 1, 1, 1, 1, 1, 1, 1, 1, 1, 1, 1, 1, 1, 1, 1, 1, 1, 1, 1, 1, 1, 1, 1, 1, 1, 1, 1, 1, 1, 1, 0, 0, 0, 0, 0, 0, 0, 0, 0, 0, 0, 0, 0, 0, 0, 0, 0, 0, 0, 0, 0, 0, 0, 0, 1, 1, 1, 0, 0, 0, 0, 0, 0, 0, 0, 0, 0, 0, 0, 0, 0, 0, 0, 0, 0, 0, 1, 1, 1, 0, 0, 1, 0, 0, 0, 0, 0, 0, 0, 0, 0, 0, 0, 1, 0, 0)\n",
        "EDSS 3 oltre 10 anni\n",
        "time <- c(1, 1, 1, 1, 1, 1, 1, 1, 1, 1, 1, 1, 1, 1, 2, 2, 4, 4, 4, 4, 6, 6, 8, 8, 8, 8, 8, 8, 8, 8, 10, 10, 10, 10, 10, 10, 10, 10, 10, 10, 10, 10, 10, 10, 10, 10, 10, 10, 10, 10, 10, 10, 10, 10, 10, 10, 10, 10, 10, 12, 12, 12, 12, 12, 12, 12, 12, 12, 12, 12, 12, 12, 12, 14, 14, 14, 14, 14, 14, 14, 14, 16, 16, 16, 16, 16, 18, 18, 18, 18, 18, 18, 20, 20, 20, 20, 20, 20, 22, 22, 24)\n",
        "status <- c(1, 1, 1, 1, 1, 1, 1, 1, 1, 1, 1, 1, 1, 1, 1, 1, 1, 1, 1, 1, 1, 1, 1, 1, 1, 1, 1, 1, 1, 1, 1, 1, 1, 1, 1, 0, 0, 0, 0, 0, 0, 0, 0, 0, 0, 0, 0, 0, 0, 0, 0, 0, 0, 0, 0, 0, 0, 0, 0, 1, 1, 1, 0, 0, 0, 0, 0, 0, 0, 0, 0, 0, 0, 0, 0, 0, 0, 0, 0, 0, 0, 1, 1, 1, 0, 0, 1, 0, 0, 0, 0, 0, 0, 0, 0, 0, 0, 0, 1, 0, 0)\n",
        "\n",
        "\n",
        "\n",
        "Stringa per Log Rank test:\n",
        "time <- c(1,1,1,1,1,1,1,1,1,1,1,1,1,1,2,2,4,4,4,4,6,6,8,8,8,8,8,8,8,8,10,10,10,10,10,10,10,10,10,10,10,10,10,10,10,10,10,10,10,10,10,10,10,10,10,10,10,10,10,12,12,12,12,12,12,12,12,12,12,12,12,12,12,14,14,14,14,14,14,14,14,16,16,16,16,16,18,18,18,18,18,18,20,20,20,20,20,20,22,22,241,1,1,1,1,1,1,1,1,1,1,1,1,1,2,2,4,4,4,4,6,6,8,8,8,8,8,8,8,8,10,10,10,10,10,10,10,10,10,10,10,10,10,10,10,10,10,10,10,10,10,10,10,10,10,10,10,10,10,12,12,12,12,12,12,12,12,12,12,12,12,12,12,14,14,14,14,14,14,14,14,16,16,16,16,16,18,18,18,18,18,18,20,20,20,20,20,20,22,22,24)\n",
        "status <- c(1,1,1,1,1,1,1,1,1,1,1,1,1,1,1,1,1,1,1,1,1,1,1,1,1,1,1,1,1,1,1,1,1,1,1,0,0,0,0,0,0,0,0,0,0,0,0,0,0,0,0,0,0,0,0,0,0,0,0,1,1,1,0,0,0,0,0,0,0,0,0,0,0,0,0,0,0,0,0,0,0,1,1,1,0,0,1,0,0,0,0,0,0,0,0,0,0,0,1,0,01,1,1,1,1,1,1,1,1,1,1,1,1,1,1,1,1,1,1,1,1,1,1,1,1,1,1,1,1,1,1,1,1,1,1,0,0,0,0,0,0,0,0,0,0,0,0,0,0,0,0,0,0,0,0,0,0,0,0,1,1,1,0,0,0,0,0,0,0,0,0,0,0,0,0,0,0,0,0,0,0,1,1,1,0,0,1,0,0,0,0,0,0,0,0,0,0,0,1,0,0)\n"
       ]
      }
     ],
     "prompt_number": 84
    },
    {
     "cell_type": "code",
     "collapsed": false,
     "input": [
      "filename = '%s.txt' %(titolo)\n",
      "print filename\n",
      "\n",
      "\n",
      "\n",
      "with open(filename, \"w\") as text_file:\n",
      "    text_file.write(\n",
      "\n",
      "\n",
      "'''\n",
      "\n",
      "groups <- c(rep(\"GroupA\",{0}), rep(\"GroupB\",{1}))\n",
      "pop <- data.frame(time, status, groups)\n",
      "pop$groups <- factor(pop$groups)\n",
      "fit <- survfit(Surv(time, status) ~ groups, data=pop)\n",
      "summary(fit)\n",
      "plot(fit, col=2:3, lwd=2)\n",
      "\n",
      "##Confronto le curve (Log-rank Test)\n",
      "survdiff(Surv(time, status) ~ groups, data=pop)'''\n",
      "                    \n",
      "                    .format(ln_up, ln_dw))"
     ],
     "language": "python",
     "metadata": {},
     "outputs": [
      {
       "output_type": "stream",
       "stream": "stdout",
       "text": [
        "EDSS3.txt\n"
       ]
      }
     ],
     "prompt_number": 57
    },
    {
     "cell_type": "code",
     "collapsed": false,
     "input": [],
     "language": "python",
     "metadata": {},
     "outputs": []
    }
   ],
   "metadata": {}
  }
 ]
}