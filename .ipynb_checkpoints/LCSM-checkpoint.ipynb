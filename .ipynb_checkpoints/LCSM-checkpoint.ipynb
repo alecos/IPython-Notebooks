{
 "metadata": {
  "name": "",
  "signature": "sha256:1847d8f24e6acb2611c7c02e91329468de554cdfd7a2b99a37773be8d632d364"
 },
 "nbformat": 3,
 "nbformat_minor": 0,
 "worksheets": [
  {
   "cells": [
    {
     "cell_type": "code",
     "collapsed": false,
     "input": [
      "cd C:\\Users\\vaevi_000\\SkyDrive\\ABZ_PhD\\Rosalind"
     ],
     "language": "python",
     "metadata": {},
     "outputs": [
      {
       "output_type": "stream",
       "stream": "stdout",
       "text": [
        "C:\\Users\\vaevi_000\\SkyDrive\\ABZ_PhD\\Rosalind\n"
       ]
      }
     ],
     "prompt_number": 2
    },
    {
     "cell_type": "heading",
     "level": 3,
     "metadata": {},
     "source": [
      "Finding a Protein Motif"
     ]
    },
    {
     "cell_type": "markdown",
     "metadata": {},
     "source": [
      "Given: At most 15 UniProt Protein Database access IDs.\n",
      "\n",
      "Return: For each protein possessing the N-glycosylation motif, output its given access ID followed by a list of locations in the protein string where the motif can be found."
     ]
    },
    {
     "cell_type": "code",
     "collapsed": false,
     "input": [
      "from Bio import SeqIO\n",
      "import SubstringDict\n",
      "\n",
      "handle = open(\"files/shmt_example.txt\", \"rU\")\n",
      "fasta = list(SeqIO.parse(handle, \"fasta\"))\n",
      "\n",
      "seqs = []\n",
      "for i in range(0,len(fasta)):\n",
      "    seqs.append(fasta[i].seq)\n",
      "    print fasta[i].seq\n",
      "\n",
      "#d = SubstringDict.SubstringDict()\n",
      "#for i in \n",
      "#######d[] = 1  \n",
      "######################d['barfoo'] = 2\n",
      "#d['forget'] = 3\n",
      "#d['arfbag'] = 4\n"
     ],
     "language": "python",
     "metadata": {},
     "outputs": [
      {
       "ename": "ImportError",
       "evalue": "No module named SubstringDict",
       "output_type": "pyerr",
       "traceback": [
        "\u001b[1;31m---------------------------------------------------------------------------\u001b[0m\n\u001b[1;31mImportError\u001b[0m                               Traceback (most recent call last)",
        "\u001b[1;32m<ipython-input-14-1e7873858206>\u001b[0m in \u001b[0;36m<module>\u001b[1;34m()\u001b[0m\n\u001b[0;32m      1\u001b[0m \u001b[1;32mfrom\u001b[0m \u001b[0mBio\u001b[0m \u001b[1;32mimport\u001b[0m \u001b[0mSeqIO\u001b[0m\u001b[1;33m\u001b[0m\u001b[0m\n\u001b[1;32m----> 2\u001b[1;33m \u001b[1;32mimport\u001b[0m \u001b[0mSubstringDict\u001b[0m\u001b[1;33m\u001b[0m\u001b[0m\n\u001b[0m\u001b[0;32m      3\u001b[0m \u001b[1;33m\u001b[0m\u001b[0m\n\u001b[0;32m      4\u001b[0m \u001b[0mhandle\u001b[0m \u001b[1;33m=\u001b[0m \u001b[0mopen\u001b[0m\u001b[1;33m(\u001b[0m\u001b[1;34m\"files/shmt_example.txt\"\u001b[0m\u001b[1;33m,\u001b[0m \u001b[1;34m\"rU\"\u001b[0m\u001b[1;33m)\u001b[0m\u001b[1;33m\u001b[0m\u001b[0m\n\u001b[0;32m      5\u001b[0m \u001b[0mfasta\u001b[0m \u001b[1;33m=\u001b[0m \u001b[0mlist\u001b[0m\u001b[1;33m(\u001b[0m\u001b[0mSeqIO\u001b[0m\u001b[1;33m.\u001b[0m\u001b[0mparse\u001b[0m\u001b[1;33m(\u001b[0m\u001b[0mhandle\u001b[0m\u001b[1;33m,\u001b[0m \u001b[1;34m\"fasta\"\u001b[0m\u001b[1;33m)\u001b[0m\u001b[1;33m)\u001b[0m\u001b[1;33m\u001b[0m\u001b[0m\n",
        "\u001b[1;31mImportError\u001b[0m: No module named SubstringDict"
       ]
      }
     ],
     "prompt_number": 14
    },
    {
     "cell_type": "markdown",
     "metadata": {},
     "source": [
      "**LP NOTE:** You should use `strip()` when you may need to remove whitespace from both ends of a string. You should use `rstrip()` when you may need to remove whitespace from the right-hand side of a string only.\n",
      "\n",
      "The code above cannot find the file `files/id_prova.txt`, and fails.\n",
      "\n",
      "It looks like you have not found a solution to this problem, yet. As a hint, consider the following:\n",
      "\n",
      "1. You need to identify a motif - this is finding a substring within a string. There is potential for variation in the substring. That makes it a natural problem for *regular expressions*. You can use the [Python `re` module](https://docs.python.org/2/library/re.html). You will need to understand the `match` result returned by `re` functions, in order to identify the start position of each match.\n",
      "\n",
      "2. You can use [Python's `urllib2` module](https://docs.python.org/2/library/urllib2.html) to obtain the sequence from UNIPROT\n",
      "\n",
      "3. You can use Biopython's `SeqIO` module to parse the FASTA files that UNIPROT will give you."
     ]
    },
    {
     "cell_type": "code",
     "collapsed": false,
     "input": [
      "from Bio import ExPASy\n",
      "from Bio import SwissProt\n",
      " \n",
      "file = open('files/id_prova.txt','rU')\n",
      "prot_id=file.read()          #Why should I use strip() or rstrip()??\n",
      " \n",
      "dq='\\''\n",
      "id_conc=prot_id.split('\\n')\n",
      " \n",
      " \n",
      " \n",
      "print ids\n",
      " \n",
      "print id_conc\n",
      " \n",
      "#handle = ExPASy.get_sprot_raw(id_conc)\n",
      "#record = SwissProt.read(handle) \n",
      " \n",
      "#references=record.cross_references"
     ],
     "language": "python",
     "metadata": {},
     "outputs": []
    }
   ],
   "metadata": {}
  }
 ]
}