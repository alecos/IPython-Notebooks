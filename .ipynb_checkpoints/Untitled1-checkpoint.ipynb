{
 "metadata": {
  "name": "",
  "signature": "sha256:bbc60ea47781e5c7f13ba37affdd54b0394f35d4839855cb6e752c5c2697ce6f"
 },
 "nbformat": 3,
 "nbformat_minor": 0,
 "worksheets": []
}