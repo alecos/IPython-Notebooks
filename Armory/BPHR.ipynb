{
 "metadata": {
  "name": "",
  "signature": "sha256:c9c7c295ae67b364a07b434a58be54357f03b4f5242c6c23d8fc4c314962f037"
 },
 "nbformat": 3,
 "nbformat_minor": 0,
 "worksheets": [
  {
   "cells": [
    {
     "cell_type": "heading",
     "level": 3,
     "metadata": {},
     "source": [
      "Base Quality Distribution"
     ]
    },
    {
     "cell_type": "markdown",
     "metadata": {},
     "source": [
      "Given: FASTQ file, quality threshold q\n",
      "\n",
      "Return: Number of positions where mean base quality falls below given threshold"
     ]
    },
    {
     "cell_type": "code",
     "collapsed": false,
     "input": [
      "from Bio import SeqIO\n",
      "\n",
      "file=open('files/rosalind_bphr.txt','rU')\n",
      "\n",
      "threshold = file.readline()\n",
      "print 'Treshold:', threshold\n",
      "\n",
      "fastq_file = list(SeqIO.parse(file, \"fastq\"))\n",
      "print 'Number of sequences:',len(fastq_file)\n",
      "#print fastq_file[1].seq\n",
      "\n",
      "#print(fastq_file[1].format(\"qual\"))\n",
      "#print fastq_file[1].letter_annotations[\"phred_quality\"]\n",
      "#print fastq_file[0].letter_annotations[\"phred_quality\"]\n",
      "\n",
      "scores= []\n",
      "for i in range(0,len(fastq_file)):\n",
      "    scores.append(fastq_file[i].letter_annotations[\"phred_quality\"])\n",
      "    #print zip(scores.append(fastq_file[i].letter_annotations[\"phred_quality\"]))\n",
      "\n",
      "position = []\n",
      "\n",
      "for n in range(0, len(scores[0])):\n",
      "    for f in range(0, len(scores)):\n",
      "        position.append(scores[f][n])\n",
      "#print position\n",
      "\n",
      "\n",
      "\n",
      "iterator_1 = range(0,len(position)+1,len(fastq_file))\n",
      "iterator_2 = range(len(fastq_file),len(position)+1,len(fastq_file))\n",
      "#print iterator_1\n",
      "#print iterator2\n",
      "#print len(position)\n",
      "\n",
      "\n",
      "counter = 0\n",
      "for s,g in zip(iterator_1,iterator_2):\n",
      "    #print s\n",
      "    #print g\n",
      "    #print position[s:g], (sum(position[s:g])/float(len(fastq_file)))\n",
      "    if float(sum(position[s:g])/float(len(fastq_file))) < float(threshold): ##Calculating average and comparing to the given threshold\n",
      "            counter += 1\n",
      "print 'Number of positions where mean base quality  <', threshold,':',counter\n",
      "        \n",
      "        \n",
      "    \n",
      "#print prova\n",
      "    #for r in fastq_file[i].letter_annotations[\"phred_quality\"]:\n",
      "        #print r\n",
      "        #zip()"
     ],
     "language": "python",
     "metadata": {},
     "outputs": []
    },
    {
     "cell_type": "markdown",
     "metadata": {},
     "source": [
      "**LP NOTE:** This is a *Bioinformatics Armory* problem!\n",
      "\n",
      "The code cannot find the file `files/rosalind_bphr.txt`. Does the code work?"
     ]
    },
    {
     "cell_type": "heading",
     "level": 6,
     "metadata": {},
     "source": [
      "Works!"
     ]
    },
    {
     "cell_type": "code",
     "collapsed": false,
     "input": [],
     "language": "python",
     "metadata": {},
     "outputs": []
    }
   ],
   "metadata": {}
  }
 ]
}