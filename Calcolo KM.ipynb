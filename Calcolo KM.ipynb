{
 "metadata": {
  "name": "",
  "signature": "sha256:17c0cff1f1b9da375fdbd9e2d4b475c71131ea54406afcf117a8c99b1f332c7d"
 },
 "nbformat": 3,
 "nbformat_minor": 0,
 "worksheets": [
  {
   "cells": [
    {
     "cell_type": "heading",
     "level": 6,
     "metadata": {},
     "source": [
      "Casa"
     ]
    },
    {
     "cell_type": "code",
     "collapsed": false,
     "input": [
      "cd C:\\Users\\vaevi_000\\Google Drive\\Project_Giulia\\SM_Benigna\\Tesi_Elisabetta\\km"
     ],
     "language": "python",
     "metadata": {},
     "outputs": [
      {
       "output_type": "stream",
       "stream": "stdout",
       "text": [
        "C:\\Users\\vaevi_000\\Google Drive\\Project_Giulia\\SM_Benigna\\Tesi_Elisabetta\\km\n"
       ]
      }
     ],
     "prompt_number": 23
    },
    {
     "cell_type": "heading",
     "level": 6,
     "metadata": {},
     "source": [
      "Ufficio"
     ]
    },
    {
     "cell_type": "code",
     "collapsed": false,
     "input": [
      "cd C:\\Users\\ab42313\\Google Drive\\Project_Giulia\\SM_Benigna\\Tesi_Elisabetta\\km"
     ],
     "language": "python",
     "metadata": {},
     "outputs": [
      {
       "output_type": "stream",
       "stream": "stdout",
       "text": [
        "C:\\Users\\ab42313\\Google Drive\\Project_Giulia\\SM_Benigna\\Tesi_Elisabetta\\km\n"
       ]
      }
     ],
     "prompt_number": 6
    },
    {
     "cell_type": "heading",
     "level": 1,
     "metadata": {},
     "source": [
      "Funzione:"
     ]
    },
    {
     "cell_type": "code",
     "collapsed": false,
     "input": [
      "def calculate_km_script(titolo,(anno_up),(evento_up),(censurati_up),(anno_dw),(evento_dw),(censurati_dw)):\n",
      "    \n",
      "    \n",
      "    #print len(anno), len(evento), len(censurati)\n",
      "\n",
      "    time_up = []\n",
      "    status_up = []\n",
      "\n",
      "    time_dw = []\n",
      "    status_dw = []\n",
      "\n",
      "\n",
      "\n",
      "\n",
      "    #Calcolo le colonne per la PRIMA tabella (curva):\n",
      "    for an, ev, cen in zip(anno_up, evento_up, censurati_up):\n",
      "\n",
      "        #print an, ev, cen\n",
      "\n",
      "        for i in range(ev + cen):\n",
      "            time_up.append(an)\n",
      "\n",
      "        if ev > 0:\n",
      "            for i in range(ev):\n",
      "                status_up.append(1)\n",
      "        if cen > 0:\n",
      "            for i in range(cen):\n",
      "                status_up.append(0)\n",
      "\n",
      "\n",
      "    #Calcolo le colonne per la SECONDA tabella (curva):\n",
      "\n",
      "    for an, ev, cen in zip(anno_dw, evento_dw, censurati_dw):\n",
      "\n",
      "        #print an, ev, cen\n",
      "\n",
      "        for i in range(ev + cen):\n",
      "            time_dw.append(an)\n",
      "\n",
      "        if ev > 0:\n",
      "            for i in range(ev):\n",
      "                status_dw.append(1)\n",
      "        if cen > 0:\n",
      "            for i in range(cen):\n",
      "                status_dw.append(0)            \n",
      "\n",
      "\n",
      "    ln_up = len(time_up)\n",
      "    ln_dw = len(time_dw)     \n",
      "\n",
      "    time_consensus = time_up + time_dw\n",
      "    status_consensus = status_up + status_dw\n",
      "\n",
      "\n",
      "    #print time_consensus\n",
      "    #print status_consensus\n",
      "    #print len(time_consensus)\n",
      "    #print len(status_consensus)\n",
      "\n",
      "    filename = '%s.txt' %(titolo)\n",
      "    print filename\n",
      "\n",
      "\n",
      "    with open(filename, \"w\") as text_file:\n",
      "        text_file.write(\n",
      "\n",
      "    '''#{0}\n",
      "library(\"survival\", lib.loc=\"C:/Program Files/R/R-3.1.2/library\")\n",
      "\n",
      "time <- c({1})\n",
      "status <- c({2})\n",
      "\n",
      "\n",
      "groups <- c(rep(\"GroupA\",{3}), rep(\"GroupB\",{4}))\n",
      "pop <- data.frame(time, status, groups)\n",
      "pop$groups <- factor(pop$groups)\n",
      "fit <- survfit(Surv(time, status) ~ groups, data=pop)\n",
      "summary(fit)\n",
      "plot(fit, col=2:3, lwd=2)\n",
      "\n",
      "##Confronto le curve (Log-rank Test)\n",
      "survdiff(Surv(time, status) ~ groups, data=pop)\n",
      "\n",
      "\n",
      "******************************************************************************************************************************************************\n",
      "'''.format(titolo,', '.join(map(str, time_consensus)), ', '.join(map(str, status_consensus)), ln_up, ln_dw))"
     ],
     "language": "python",
     "metadata": {},
     "outputs": [],
     "prompt_number": 3
    },
    {
     "cell_type": "heading",
     "level": 3,
     "metadata": {},
     "source": [
      "Calcolo script R kaplan meyer"
     ]
    },
    {
     "cell_type": "heading",
     "level": 6,
     "metadata": {},
     "source": [
      "EDSS 3 entro 10 anni (evento EDSS 5)"
     ]
    },
    {
     "cell_type": "code",
     "collapsed": false,
     "input": [
      "titolo = 'EDSS 3 entro 10 anni (evento EDSS 5)'\n",
      "\n",
      "\n",
      "anno_up =      (1,2,4,6,8,10,12,14,16,18,20)\n",
      "evento_up =    (6,3,7,11,9,15,9,3,0,3,2)\n",
      "censurati_up = (0,0,0,0,0,13,11,7,2,3,0)\n",
      "\n",
      "anno_dw =      (1,2,4,6,8,10,12,14,16,18,20,22,24,26,28,30)\n",
      "evento_dw =    (0,0,0,0,0,2,3,0,2,3,0,0,1,1,0,0)\n",
      "censurati_dw = (0,0,0,0,0,6,6,6,1,8,5,2,3,0,1,1)\n"
     ],
     "language": "python",
     "metadata": {},
     "outputs": [],
     "prompt_number": 20
    },
    {
     "cell_type": "code",
     "collapsed": false,
     "input": [
      "calculate_km_script(titolo,(anno_up),(evento_up),(censurati_up),(anno_dw),(evento_dw),(censurati_dw))"
     ],
     "language": "python",
     "metadata": {},
     "outputs": [
      {
       "output_type": "stream",
       "stream": "stdout",
       "text": [
        "EDSS 3 entro 10 anni (evento EDSS 5).txt\n"
       ]
      }
     ],
     "prompt_number": 21
    },
    {
     "cell_type": "heading",
     "level": 2,
     "metadata": {},
     "source": [
      "Sesso"
     ]
    },
    {
     "cell_type": "heading",
     "level": 6,
     "metadata": {},
     "source": [
      "EDSS 3"
     ]
    },
    {
     "cell_type": "code",
     "collapsed": false,
     "input": [
      "titolo = 'Sesso_EDSS 3'\n",
      "\n",
      "anno_up =      (1,2,4,6,8,10,12,14,16,18,20,22,24)\n",
      "evento_up =    (14,2,4,2,8,5,3,0,3,1,0,1,0)\n",
      "censurati_up = (0,0,0,0,0,24,11,8,2,5,6,1,1)\n",
      "\n",
      "anno_dw =      (1,2,4,6,8,10,12,14,16,18,20,22,24,26,28,30,32,33)\n",
      "evento_dw =    (31,11,11,10,11,15,5,9,3,3,0,1,0,1,1,0,0,0)\n",
      "censurati_dw = (0,0,0,0,0,46,31,20,8,8,4,5,2,1,1,0,0,1)\n",
      "\n",
      "calculate_km_script(titolo,(anno_up),(evento_up),(censurati_up),(anno_dw),(evento_dw),(censurati_dw))"
     ],
     "language": "python",
     "metadata": {},
     "outputs": [],
     "prompt_number": 24
    },
    {
     "cell_type": "heading",
     "level": 6,
     "metadata": {},
     "source": [
      "EDSS 5"
     ]
    },
    {
     "cell_type": "code",
     "collapsed": false,
     "input": [
      "titolo = 'Sesso_EDSS 5'\n",
      "\n",
      "anno_up =      (1,2,4,6,8,10,12,14,16,18,20,22,24)\n",
      "evento_up =    (1,1,3,2,0,5,3,0,1,2,2,0,0)\n",
      "censurati_up = (0,0,0,0,0,29,17,12,2,9,8,2,2)\n",
      "\n",
      "anno_dw =      (1,2,4,6,8,10,12,14,16,18,20,22,24,26,28,30,32,33)\n",
      "evento_dw =    (5,2,4,9,9,12,9,3,1,4,0,0,1,1)\n",
      "censurati_dw = (60,42,29,11,15,7,6,4,1,2,1,0,1)\n",
      "\n",
      "calculate_km_script(titolo,(anno_up),(evento_up),(censurati_up),(anno_dw),(evento_dw),(censurati_dw))"
     ],
     "language": "python",
     "metadata": {},
     "outputs": [],
     "prompt_number": 28
    },
    {
     "cell_type": "heading",
     "level": 2,
     "metadata": {},
     "source": [
      "Eta' di esordio (entro i 40 anni)"
     ]
    },
    {
     "cell_type": "heading",
     "level": 6,
     "metadata": {},
     "source": [
      "EDSS 3"
     ]
    },
    {
     "cell_type": "code",
     "collapsed": false,
     "input": [
      "titolo = 'ESORDIO entro 40 anni ( evento = EDSS 3)'\n",
      "\n",
      "anno_up =      (1,2,4,6,8,10,12,14,16,18,20,22,24,26,28,30,32,33)\n",
      "evento_up =    (27,5,9,7,11,16,8,8,5,3,0,2,0,1,1,0,0,0)\n",
      "censurati_up = (0,0,0,0,0,58,33,26,8,10,9,6,2,1,1,0,0,1)\n",
      "\n",
      "anno_dw =      (1,2,4,6,8,10,12,14,16,18,20,22,24)\n",
      "evento_dw =    (18,8,6,5,8,4,0,1,1,1,0,0,0)\n",
      "censurati_dw = (0,0,0,0,0,12,9,2,2,3,1,0,1)\n",
      "\n",
      "calculate_km_script(titolo,(anno_up),(evento_up),(censurati_up),(anno_dw),(evento_dw),(censurati_dw))"
     ],
     "language": "python",
     "metadata": {},
     "outputs": [
      {
       "output_type": "stream",
       "stream": "stdout",
       "text": [
        "ESORDIO entro 40 anni ( evento = EDSS 3).txt\n"
       ]
      }
     ],
     "prompt_number": 7
    },
    {
     "cell_type": "heading",
     "level": 6,
     "metadata": {},
     "source": [
      "EDSS 5"
     ]
    },
    {
     "cell_type": "code",
     "collapsed": false,
     "input": [
      "titolo = 'ESORDIO entro 40 anni ( evento = EDSS 5)'\n",
      "\n",
      "anno_up =      (1,2,4,6,8,10,12,14,16,18,20,22,24,26,28,30,32,33)\n",
      "evento_up =    (1,2,3,5,6,7,7,0,1,4,2,0,2,0,0,0,0,0)\n",
      "censurati_up = (0,0,0,0,0,69,48,39,10,20,14,8,5,1,2,1,0,1)\n",
      "\n",
      "anno_dw =      (1,2,4,6,8,10,12,14,16,18,20,22)\n",
      "evento_dw =    (5,1,4,6,3,10,5,3,1,2,0,0)\n",
      "censurati_dw = (0,0,0,0,0,20,11,2,3,4,1,0)\n",
      "\n",
      "calculate_km_script(titolo,(anno_up),(evento_up),(censurati_up),(anno_dw),(evento_dw),(censurati_dw))"
     ],
     "language": "python",
     "metadata": {},
     "outputs": [
      {
       "output_type": "stream",
       "stream": "stdout",
       "text": [
        "ESORDIO entro 40 anni ( evento = EDSS 5).txt\n"
       ]
      }
     ],
     "prompt_number": 8
    },
    {
     "cell_type": "heading",
     "level": 2,
     "metadata": {},
     "source": [
      "Sintomi esordio"
     ]
    },
    {
     "cell_type": "heading",
     "level": 6,
     "metadata": {},
     "source": [
      "EDSS 3"
     ]
    },
    {
     "cell_type": "code",
     "collapsed": false,
     "input": [
      "titolo = 'sintomi esordio mono vs poli_edss3'\n",
      "\n",
      "anno_up =      (1,2,4,6,8,10,12,14,16,18,20,22,24,26,28)\n",
      "evento_up =    (24,5,12,8,13,13,6,6,5,3,0,2,0,0,0)\n",
      "censurati_up = (0,0,0,0,0,44,32,21,10,10,8,4,2,1,1)\n",
      "\n",
      "anno_dw =      (1,2,4,6,8,10,12,14,16,18,20,22,24,26,28,30,32,33)\n",
      "evento_dw =    (21,8,3,4,6,7,2,3,1,1,0,0,0,1,1,0,0,0)\n",
      "censurati_dw = (0,0,0,0,0,26,10,7,0,3,2,2,1,0,0,0,0,1)\n",
      "\n",
      "calculate_km_script(titolo,(anno_up),(evento_up),(censurati_up),(anno_dw),(evento_dw),(censurati_dw))"
     ],
     "language": "python",
     "metadata": {},
     "outputs": [
      {
       "output_type": "stream",
       "stream": "stdout",
       "text": [
        "sintomi esordio mono vs poli_edss3.txt\n"
       ]
      }
     ],
     "prompt_number": 9
    },
    {
     "cell_type": "heading",
     "level": 6,
     "metadata": {},
     "source": [
      "EDSS 5"
     ]
    },
    {
     "cell_type": "code",
     "collapsed": false,
     "input": [
      "titolo = 'sintomi esordio mono vs poli_edss5'\n",
      "\n",
      "anno_up =      (1,2,4,6,8,10,12,14,16,18,20,22,24,26,28)\n",
      "evento_up =    (4,3,0,5,5,11,6,2,2,6,2,0,1,1,0)\n",
      "censurati_up = (0,0,0,0,0,52,45,31,12,19,11,5,5,1,1)\n",
      "\n",
      "anno_dw =      (1,2,4,6,8,10,12,14,16,18,20,22,24,26,28,30,32,33)\n",
      "evento_dw =    (2,0,7,6,4,6,6,1,0,0,0,0,0,0,0,0,0,0)\n",
      "censurati_dw = (0,0,0,0,0,37,14,10,1,5,4,3,1,0,1,1,0,1)\n",
      "\n",
      "calculate_km_script(titolo,(anno_up),(evento_up),(censurati_up),(anno_dw),(evento_dw),(censurati_dw))"
     ],
     "language": "python",
     "metadata": {},
     "outputs": [
      {
       "output_type": "stream",
       "stream": "stdout",
       "text": [
        "sintomi esordio mono vs poli_edss5.txt\n"
       ]
      }
     ],
     "prompt_number": 10
    },
    {
     "cell_type": "heading",
     "level": 2,
     "metadata": {},
     "source": [
      "Recidive"
     ]
    },
    {
     "cell_type": "heading",
     "level": 6,
     "metadata": {},
     "source": [
      "EDSS 3"
     ]
    },
    {
     "cell_type": "code",
     "collapsed": false,
     "input": [
      "titolo = 'recidive_edss3'\n",
      "\n",
      "anno_up =      (1,2,4,6,8,10,12,14,16,18,20,22,24,26,28)\n",
      "evento_up =    (27,3,10,5,12,11,6,3,3,2,0,2,0,1,0)\n",
      "censurati_up = (0,0,0,0,0,34,21,19,7,10,9,6,3,1,1)\n",
      "\n",
      "anno_dw =      (1,2,4,6,8,10,12,14,16,18,20,22,24,26,28,30,32,33)\n",
      "evento_dw =    (18,10,5,7,7,9,2,6,3,2,0,0,0,0,1,0,0,0)\n",
      "censurati_dw = (0,0,0,0,0,36,21,9,3,3,1,0,0,0,0,0,0,1)\n",
      "\n",
      "calculate_km_script(titolo,(anno_up),(evento_up),(censurati_up),(anno_dw),(evento_dw),(censurati_dw))"
     ],
     "language": "python",
     "metadata": {},
     "outputs": [
      {
       "output_type": "stream",
       "stream": "stdout",
       "text": [
        "recidive_edss3.txt\n"
       ]
      }
     ],
     "prompt_number": 11
    },
    {
     "cell_type": "heading",
     "level": 6,
     "metadata": {},
     "source": [
      "EDSS 5"
     ]
    },
    {
     "cell_type": "code",
     "collapsed": false,
     "input": [
      "titolo = 'recidive_edss5'\n",
      "\n",
      "anno_up =      (1,2,4,6,8,10,12,14,16,18,20,22,24,26,28)\n",
      "evento_up =    (5,2,2,4,6,9,8,1,1,6,2,0,1,1,0)\n",
      "censurati_up = (0,0,0,0,0,43,29,25,8,14,13,8,5,1,2)\n",
      "\n",
      "anno_dw =      (1,2,4,6,8,10,12,14,16,18,20,22,24,26,28,30,32,33)\n",
      "evento_dw =    (1,1,5,7,3,8,4,2,1,0,0,0,0,0,0,0,0,0)\n",
      "censurati_dw = (0,0,0,0,0,46,30,16,5,10,2,0,1,0,0,1,0,1)\n",
      "\n",
      "calculate_km_script(titolo,(anno_up),(evento_up),(censurati_up),(anno_dw),(evento_dw),(censurati_dw))"
     ],
     "language": "python",
     "metadata": {},
     "outputs": [
      {
       "output_type": "stream",
       "stream": "stdout",
       "text": [
        "recidive_edss5.txt\n"
       ]
      }
     ],
     "prompt_number": 12
    }
   ],
   "metadata": {}
  }
 ]
}