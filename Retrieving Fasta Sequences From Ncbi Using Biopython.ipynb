{
 "cells": [
  {
   "cell_type": "code",
   "execution_count": 3,
   "metadata": {
    "collapsed": false
   },
   "outputs": [
    {
     "name": "stdout",
     "output_type": "stream",
     "text": [
      "C:\\Users\\ab42313\\OneDrive\\ABZ_PhD\\Programming\\NCBI\n"
     ]
    }
   ],
   "source": [
    "cd C:\\Users\\ab42313\\OneDrive\\ABZ_PhD\\Programming\\NCBI"
   ]
  },
  {
   "cell_type": "code",
   "execution_count": 4,
   "metadata": {
    "collapsed": false
   },
   "outputs": [],
   "source": [
    "from Bio import Entrez\n",
    "import time\n",
    "import os\n",
    "\n",
    "#Email for autentication\n",
    "Entrez.email =\"alessandro.bergna@hutton.ac.uk\"\n",
    "\n",
    "#os.remove(\"NEW.txt\")    #Removes the file if already present in order to be able to write a new file instead concatenating the new file\n",
    "f = open(\"NEW.txt\")\n",
    "for line in iter(f):\n",
    "    handle = Entrez.efetch(db=\"nucleotide\", id=line, retmode=\"xml\")\n",
    "    records = Entrez.read(handle)\n",
    "    print \">GI \"+line.rstrip()+\" \"+records[0][\"GBSeq_primary-accession\"]+\" \"+records[0][\"GBSeq_definition\"]+\"\\n\"+records[0][\"GBSeq_sequence\"]\n",
    "    time.sleep(1) # to make sure not many requests go per second to ncbi\n",
    "f.close()\n"
   ]
  },
  {
   "cell_type": "code",
   "execution_count": 8,
   "metadata": {
    "collapsed": false
   },
   "outputs": [
    {
     "ename": "SyntaxError",
     "evalue": "EOL while scanning string literal (<ipython-input-8-47b89a1d01f1>, line 13)",
     "output_type": "error",
     "traceback": [
      "\u001b[1;36m  File \u001b[1;32m\"<ipython-input-8-47b89a1d01f1>\"\u001b[1;36m, line \u001b[1;32m13\u001b[0m\n\u001b[1;33m    print \">GI \"+line.rstrip()+\"\u001b[0m\n\u001b[1;37m                                ^\u001b[0m\n\u001b[1;31mSyntaxError\u001b[0m\u001b[1;31m:\u001b[0m EOL while scanning string literal\n"
     ]
    }
   ],
   "source": [
    "from Bio import Entrez\n",
    "import time\n",
    "import os\n",
    "\n",
    "#Email for autentication\n",
    "Entrez.email =\"alessandro.bergna@hutton.ac.uk\"\n",
    "\n",
    "#os.remove(\"NEW.txt\")    #Removes the file if already present in order to be able to write a new file instead concatenating the new file\n",
    "f = open(\"NEW.txt\")\n",
    "for line in iter(f):\n",
    "    handle = Entrez.efetch(db=\"nucleotide\", id=line, retmode=\"xml\")\n",
    "    records = Entrez.read(handle)\n",
    "    print \">GI \"+line.rstrip()+\" \n",
    "    time.sleep(1) # to make sure not many requests go per second to ncbi\n",
    "f.close()"
   ]
  },
  {
   "cell_type": "code",
   "execution_count": 11,
   "metadata": {
    "collapsed": false
   },
   "outputs": [
    {
     "ename": "AttributeError",
     "evalue": "addinfourl instance has no attribute 'seq'",
     "output_type": "error",
     "traceback": [
      "\u001b[1;31m---------------------------------------------------------------------------\u001b[0m",
      "\u001b[1;31mAttributeError\u001b[0m                            Traceback (most recent call last)",
      "\u001b[1;32m<ipython-input-11-4a64ff294c6d>\u001b[0m in \u001b[0;36m<module>\u001b[1;34m()\u001b[0m\n\u001b[0;32m     10\u001b[0m \u001b[1;31m#2 files: log and fasta:\u001b[0m\u001b[1;33m\u001b[0m\u001b[1;33m\u001b[0m\u001b[0m\n\u001b[0;32m     11\u001b[0m \u001b[1;33m\u001b[0m\u001b[0m\n\u001b[1;32m---> 12\u001b[1;33m \u001b[1;32mprint\u001b[0m \u001b[0mhandle\u001b[0m\u001b[1;33m.\u001b[0m\u001b[0mseq\u001b[0m\u001b[1;33m\u001b[0m\u001b[0m\n\u001b[0m\u001b[0;32m     13\u001b[0m \u001b[1;33m\u001b[0m\u001b[0m\n\u001b[0;32m     14\u001b[0m \u001b[0mlocal_file\u001b[0m\u001b[1;33m=\u001b[0m\u001b[0mopen\u001b[0m\u001b[1;33m(\u001b[0m\u001b[1;34m'CP002059.1.gb'\u001b[0m\u001b[1;33m,\u001b[0m \u001b[1;34m'w'\u001b[0m\u001b[1;33m)\u001b[0m\u001b[1;33m\u001b[0m\u001b[0m\n",
      "\u001b[1;31mAttributeError\u001b[0m: addinfourl instance has no attribute 'seq'"
     ]
    }
   ],
   "source": [
    "from Bio import Entrez\n",
    " \n",
    "# ref.: http://wilke.openwetware.org/Parsing_Genbank_files_with_Biopython.html\n",
    " \n",
    "# replace with your real email (optional):\n",
    "Entrez.email = 'alessandro.bergna@gmail.com'\n",
    "# accession id works, returns genbank format, looks in the 'nucleotide' database:\n",
    "handle=Entrez.efetch(db='nucleotide',id='CP002059.1',rettype='gb')\n",
    "# store locally:\n",
    "#2 files: log and fasta:\n",
    "\n",
    "print handle.seq\n",
    "\n",
    "local_file=open('CP002059.1.gb', 'w')\n",
    "local_file.write(handle.read())\n",
    "handle.close()\n",
    "local_file.close()"
   ]
  },
  {
   "cell_type": "code",
   "execution_count": 8,
   "metadata": {
    "collapsed": true
   },
   "outputs": [],
   "source": [
    "from Bio import Entrez\n",
    "Entrez.email = \"A.N.Other@example.com\"     # Always tell NCBI who you are\n",
    "handle = Entrez.einfo()\n",
    "result = handle.read()"
   ]
  },
  {
   "cell_type": "code",
   "execution_count": 9,
   "metadata": {
    "collapsed": false
   },
   "outputs": [
    {
     "name": "stdout",
     "output_type": "stream",
     "text": [
      "<?xml version=\"1.0\" encoding=\"UTF-8\"?>\n",
      "<!DOCTYPE eInfoResult PUBLIC \"-//NLM//DTD einfo 20130322//EN\" \"http://eutils.ncbi.nlm.nih.gov/eutils/dtd/20130322/einfo.dtd\">\n",
      "<eInfoResult>\n",
      "<DbList>\n",
      "\n",
      "\t<DbName>pubmed</DbName>\n",
      "\t<DbName>protein</DbName>\n",
      "\t<DbName>nuccore</DbName>\n",
      "\t<DbName>nucleotide</DbName>\n",
      "\t<DbName>nucgss</DbName>\n",
      "\t<DbName>nucest</DbName>\n",
      "\t<DbName>structure</DbName>\n",
      "\t<DbName>genome</DbName>\n",
      "\t<DbName>assembly</DbName>\n",
      "\t<DbName>bioproject</DbName>\n",
      "\t<DbName>biosample</DbName>\n",
      "\t<DbName>blastdbinfo</DbName>\n",
      "\t<DbName>books</DbName>\n",
      "\t<DbName>cdd</DbName>\n",
      "\t<DbName>clinvar</DbName>\n",
      "\t<DbName>clone</DbName>\n",
      "\t<DbName>gap</DbName>\n",
      "\t<DbName>gapplus</DbName>\n",
      "\t<DbName>grasp</DbName>\n",
      "\t<DbName>dbvar</DbName>\n",
      "\t<DbName>epigenomics</DbName>\n",
      "\t<DbName>gene</DbName>\n",
      "\t<DbName>gds</DbName>\n",
      "\t<DbName>geoprofiles</DbName>\n",
      "\t<DbName>homologene</DbName>\n",
      "\t<DbName>medgen</DbName>\n",
      "\t<DbName>journals</DbName>\n",
      "\t<DbName>mesh</DbName>\n",
      "\t<DbName>ncbisearch</DbName>\n",
      "\t<DbName>nlmcatalog</DbName>\n",
      "\t<DbName>omim</DbName>\n",
      "\t<DbName>orgtrack</DbName>\n",
      "\t<DbName>pmc</DbName>\n",
      "\t<DbName>popset</DbName>\n",
      "\t<DbName>probe</DbName>\n",
      "\t<DbName>proteinclusters</DbName>\n",
      "\t<DbName>pcassay</DbName>\n",
      "\t<DbName>biosystems</DbName>\n",
      "\t<DbName>pccompound</DbName>\n",
      "\t<DbName>pcsubstance</DbName>\n",
      "\t<DbName>pubmedhealth</DbName>\n",
      "\t<DbName>seqannot</DbName>\n",
      "\t<DbName>snp</DbName>\n",
      "\t<DbName>sra</DbName>\n",
      "\t<DbName>taxonomy</DbName>\n",
      "\t<DbName>unigene</DbName>\n",
      "\t<DbName>gencoll</DbName>\n",
      "\t<DbName>gtr</DbName>\n",
      "</DbList>\n",
      "\n",
      "</eInfoResult>\n",
      "\n"
     ]
    }
   ],
   "source": [
    "print result"
   ]
  },
  {
   "cell_type": "markdown",
   "metadata": {},
   "source": [
    "###### Genome download:"
   ]
  },
  {
   "cell_type": "code",
   "execution_count": null,
   "metadata": {
    "collapsed": true
   },
   "outputs": [],
   "source": [
    "from Bio import Entrez\n",
    " \n",
    "# ref.: http://wilke.openwetware.org/Parsing_Genbank_files_with_Biopython.html\n",
    " \n",
    "# replace with your real email (optional):\n",
    "Entrez.email = 'alessandro.bergna@gmail.com'\n",
    "# accession id works, returns genbank format, looks in the 'nucleotide' database:\n",
    "handle=Entrez.efetch(db='nucleotide',id='CP002059.1',rettype='gb')\n",
    "# store locally:\n",
    "local_file=open('CP002059.1.gb', 'w')\n",
    "local_file.write(handle.read())\n",
    "handle.close()\n",
    "local_file.close()"
   ]
  },
  {
   "cell_type": "code",
   "execution_count": 7,
   "metadata": {
    "collapsed": false
   },
   "outputs": [
    {
     "name": "stdout",
     "output_type": "stream",
     "text": [
      "Writing:genBankRecord_899729770.gb\n",
      "Writing:genBankRecord_899725419.gb\n",
      "Writing:genBankRecord_899721066.gb\n",
      "Writing:genBankRecord_895820041.gb\n",
      "Writing:genBankRecord_816208797.gb\n",
      "Writing:genBankRecord_874443589.gb\n",
      "Writing:genBankRecord_874075390.gb\n",
      "Writing:genBankRecord_852039257.gb\n",
      "Writing:genBankRecord_731469900.gb\n",
      "Writing:genBankRecord_730582171.gb\n",
      "Writing:genBankRecord_544574430.gb\n",
      "Writing:genBankRecord_857137982.gb\n",
      "Writing:genBankRecord_856839422.gb\n",
      "Writing:genBankRecord_660510169.gb\n",
      "Writing:genBankRecord_850013407.gb\n",
      "Writing:genBankRecord_844787447.gb\n",
      "Writing:genBankRecord_844749230.gb\n",
      "Writing:genBankRecord_836716955.gb\n",
      "Writing:genBankRecord_834763093.gb\n",
      "Writing:genBankRecord_756767957.gb\n"
     ]
    }
   ],
   "source": [
    "from Bio import Entrez\n",
    "\n",
    "\n",
    "Entrez.email = 'alessandro.bergna@gmail.com'\n",
    "\n",
    "search_term = 'escherichia coli[orgn] AND complete genome[title]'\n",
    "handle = Entrez.esearch(db='nucleotide', term=search_term)\n",
    "genome_ids = Entrez.read(handle)['IdList']\n",
    "\n",
    "for genome_id in genome_ids:\n",
    "    record = Entrez.efetch(db=\"nucleotide\", id=genome_id, rettype=\"gb\", retmode=\"text\")\n",
    "\n",
    "    filename = 'genBankRecord_{}.gb'.format(genome_id)\n",
    "    print('Writing:{}'.format(filename))\n",
    "    with open(filename, 'w') as f:\n",
    "        f.write(record.read())"
   ]
  },
  {
   "cell_type": "code",
   "execution_count": null,
   "metadata": {
    "collapsed": true
   },
   "outputs": [],
   "source": []
  }
 ],
 "metadata": {
  "kernelspec": {
   "display_name": "Python 2",
   "language": "python",
   "name": "python2"
  },
  "language_info": {
   "codemirror_mode": {
    "name": "ipython",
    "version": 2
   },
   "file_extension": ".py",
   "mimetype": "text/x-python",
   "name": "python",
   "nbconvert_exporter": "python",
   "pygments_lexer": "ipython2",
   "version": "2.7.10"
  }
 },
 "nbformat": 4,
 "nbformat_minor": 0
}
