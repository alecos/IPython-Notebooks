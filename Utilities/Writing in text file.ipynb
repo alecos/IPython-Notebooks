{
 "metadata": {
  "name": "",
  "signature": "sha256:db6c31f1e81f70157ed11211b1968d19fd96cd2d1535a398d9bb34fb3f67aecb"
 },
 "nbformat": 3,
 "nbformat_minor": 0,
 "worksheets": [
  {
   "cells": [
    {
     "cell_type": "code",
     "collapsed": false,
     "input": [
      "cd C:\\Users\\ab42313\\OneDrive\\ABZ_PhD\\Rosalind"
     ],
     "language": "python",
     "metadata": {},
     "outputs": [
      {
       "output_type": "stream",
       "stream": "stdout",
       "text": [
        "C:\\Users\\ab42313\\OneDrive\\ABZ_PhD\\Rosalind\n"
       ]
      }
     ],
     "prompt_number": 1
    },
    {
     "cell_type": "code",
     "collapsed": false,
     "input": [
      "import os\n",
      "\n",
      "example = [1,2,3,4,5,6,6,78,4,3,5,6,3,2,5,6,3,]\n",
      "\n",
      "\n",
      "os.remove(\"files/example.txt\")    #Removes the file if already present in order to be able to write a new file instead concatenating the new file\n",
      "for i in example:\n",
      "    out_file = open(\"files/example.txt\",\"a\")\n",
      "    out_file.write(\"%s %s\" %(i,'\\n'))\n",
      "    \n",
      "    out_file.close()\n",
      "    "
     ],
     "language": "python",
     "metadata": {},
     "outputs": [],
     "prompt_number": 2
    },
    {
     "cell_type": "code",
     "collapsed": false,
     "input": [],
     "language": "python",
     "metadata": {},
     "outputs": []
    }
   ],
   "metadata": {}
  }
 ]
}