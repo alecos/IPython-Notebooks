{
 "metadata": {
  "name": "",
  "signature": "sha256:9d1f4a302f4400d668a2277ae05088ed275c2470c03e1f1feb1fce8c2fb6e737"
 },
 "nbformat": 3,
 "nbformat_minor": 0,
 "worksheets": [
  {
   "cells": [
    {
     "cell_type": "markdown",
     "metadata": {},
     "source": [
      "The program Glues together pairs of reads that overlap by more than half their length, with a for loop in the second part the program will perform the same operation till the process is done unifying reads that overlap by more than half their length.\n"
     ]
    },
    {
     "cell_type": "code",
     "collapsed": false,
     "input": [
      "\n",
      "def make_superstring(sequences, k_value):\n",
      "    \n",
      "    '''Unifies couple of sequences with overlapping endings'''\n",
      "    \n",
      "    \n",
      "    k = k_value    \n",
      "    for single_seq1 in sequences:\n",
      "        for single_seq2 in sequences:\n",
      "            \n",
      "            if len(seqs) > 1:\n",
      "                \n",
      "                ## The sense of the program is to check if two reads in the pool overlap.\n",
      "                ## Considering the longest overlap possible as first and evaluating shorter pieces progressively when two reads\n",
      "                ## do overlap they represent the couple that shares the longest overlap among the whole pool:\n",
      "                ## I am therefore free to remove them from the pool of reads after have unified the reads.\n",
      "                \n",
      "                ## The contig generated will be reinserred in the reads pool so the function becomes iterable.\n",
      "                \n",
      "                if single_seq1[-k:] == single_seq2[:k]:\n",
      "                    if single_seq1 != single_seq2:\n",
      "\n",
      "                        #print single_seq1, single_seq2\n",
      "                        #print single_seq1 + single_seq2[k:]\n",
      "                        seqs.append(single_seq1 + single_seq2[k:])\n",
      "                        seqs.remove(single_seq1)\n",
      "                        seqs.remove(single_seq2)\n",
      "\n",
      "\n",
      "                elif single_seq1[:k] == single_seq2[-k:]:\n",
      "                    if single_seq1 != single_seq2:\n",
      "\n",
      "                        #print single_seq1, single_seq2\n",
      "                        #print single_seq2[:-k] + single_seq1\n",
      "                        seqs.append(single_seq2[:-k] + single_seq1)\n",
      "                        seqs.remove(single_seq1)\n",
      "                        seqs.remove(single_seq2)\n",
      "    \n",
      "    #print seqs\n",
      "    "
     ],
     "language": "python",
     "metadata": {},
     "outputs": []
    },
    {
     "cell_type": "code",
     "collapsed": false,
     "input": [
      "n = len(seqs)\n",
      "left_bound = len(max(seqs))/2 + 1\n",
      "rigt_bound = len(max(seqs))\n",
      "\n",
      "for do in range(0,n):                           ## This loop should run n/2 times. Given that I will make it run for a maximum \n",
      "    if len(seqs) > 1:                           ## of n times stopping it when i will have a consensus instead of a group of sequences\n",
      "        for i in range(left_bound,rigt_bound):\n",
      "            make_superstring(seqs,i)\n",
      "            #print i\n",
      "\n",
      "consensus = ''\n",
      "if len(seqs) == 1:\n",
      "    consensus = str(seqs[0])\n",
      "\n",
      "#print len(seqs)      \n",
      "#print ''.join(map(str,seqs))\n",
      "\n",
      "text_file = open(\"files/consensus_string.txt\", \"w\")         ## Creating output text file\n",
      "text_file.write(\"%s\" % consensus)\n",
      "text_file.close() "
     ],
     "language": "python",
     "metadata": {},
     "outputs": []
    }
   ],
   "metadata": {}
  }
 ]
}