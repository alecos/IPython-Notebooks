{
 "cells": [
  {
   "cell_type": "code",
   "execution_count": 1,
   "metadata": {
    "collapsed": false
   },
   "outputs": [
    {
     "name": "stdout",
     "output_type": "stream",
     "text": [
      "C:\\Users\\ab42313\\OneDrive\\ABZ_PhD\\Rosalind\n"
     ]
    }
   ],
   "source": [
    "cd C:\\Users\\ab42313\\OneDrive\\ABZ_PhD\\Rosalind"
   ]
  },
  {
   "cell_type": "code",
   "execution_count": 2,
   "metadata": {
    "collapsed": false
   },
   "outputs": [
    {
     "name": "stdout",
     "output_type": "stream",
     "text": [
      "AGTACGCGGGTAATTAGACACGTGCAGGATAAAGGATGTGCATGATATAGTCAAATGGGTCAAACCGATCTAGACTAACAAGAATTCTACGCGGTATACTTGCAGCAAGTCCTTAAACGTTTACCTTCAGCCCACATAGACGTCACACAATAATTCCTGTCCCTAACTCCCTGATCTCTGAAAGTTACTGAAGTACGTTAACACGTGAGTCCACATCCGGCACGACAAAAAGGTACCCCCGAGCCCTCGACGATCCCGGGTCTTCAGGAGATTTCACAACGCCGATCAATTCATCCGATCGTTTACCTATAGGAGGGCAAGGGTCGCAAACCCAGTTTGTAATAGGACTGTTGATGACGCCTGTGCTGAAACCTTCGCGTTCTTGACTGTATCGCAAAACTGTCCCCACGTAGCTAAGGCCTTACCTTAAACAGATCACCCCGATGTTGCAGCAACGCCATACGCGCTCTGATCTAGGGTTGTGAAATAAAAAGCGGCTACCACATTGGTCTGTTACTTTCCACCGACAACGAGGAAGAAGTTAAACCGCCACCCTATAAACACGCATAAATTGTTCCTGAAGCCTATCACCTTGAATGAAGGGAAACTAGGGCATGTGTGCTATGAGTCCTCAGCGGAATAGCTACCCTACTTACGTAAAGCCTGCGGTTCACTAGGTCTAATACACAACAAGCCTCGTCGGCGGGGGAGCTACGTTCTGGGCTCATCGAAGCGCGCTCGGCGGAGCTGATTGCATTGCCCCACCGAACCACGTTATGTTCAAGTCCGTGAAGAGGACACGTCCGCGGTGGAGCATTCAGTAATGGTTGTCGACATCTTATACAAGTATAGTGAAAGGGCCTGGAGCGTTGAGCCCCCGCTAACTCTTTAATGCGAACCC\n",
      "TGTACTCGCCAATCCCTGCGCGTGGTGTACGAGCAATCTGAATAGGCTAGTACACTGCGCCAAAACGATTATAACTTACAAGGGTTTGCCGATGTGAAGGCAGTGCGACCCCCATACCCTGATCATTCCGAACTGATTGACATCGCGCATGAAATCGCCTAGCTGTATTGGTCAGGCCCAGGAATAAGTCAATCAAGGGGACCCCGGTGCCGACTGCCTGGGTGACGACGACGTACGCTAGCCAACCCAATCCGAGCGAGACAAGTAGATCTTTATCAACTAAGACCCTTTCATCTTATAGTTTACGAGCAGACGGACCACCGTGTCAACTCCCTAGTGGCGCTGTCATGAAGGAATTGCCCTCACCAAAGTTTGCACGCTTTTACCTGTCGCGGAAGATCTTGTTCACTCGCATTGAGGGTAAATATACGTAGCCTATTGTTATCATCCAGCACAACATTACCGATTCTGAGCTTCCGTGGCGTAACAACAAGACCCTCGTAAGGTTGTCTGTTTGTTTTCCACGGCAATGGGGCATTGCTGCAACTGTGAACCTCAACACTATGACAGGTCAGGTTTGTAGACTATCATTTTCAAAGAGGCGAAACCGGGCAATTGAGGTTATGTATCTTATTCGGCGCTGCTACTCTAGTCTCCGAATGCGCTCTGTGGAGTCCGACAAAGTCAGAGCGCGCTTCGCGCTCACGGGACCATCGACATTGAACCATCAATACTCGCCAATTTGTTAGTTACGCGGTAAACCCCCGACCAAAACGATATTCTCTTCGTTCTGCTACACGAGTCCGCCATGTACCATAAACTTGGGGAGTACGACAAAGTGCGCCACAAAACACAAAGCGAGTATCTCAATGAACCTTCGTTTACCCTTTCGTTCTGAGCC\n"
     ]
    }
   ],
   "source": [
    "from Bio import SeqIO\n",
    "\n",
    "file=open('files/long_example.txt','rU')\n",
    "fasta = list(SeqIO.parse(file, \"fasta\"))\n",
    "\n",
    "seqs = []\n",
    "for i in range(0,len(fasta)):\n",
    "    #print fasta[i].seq\n",
    "    seqs.append(str(fasta[i].seq))\n",
    "\n",
    "prima = 'AGTACGCGGGTAATTAGACACGTGCAGGATAAAGGATGTGCATGATATAGTCAAATGGGTCAAACCGATCTAGACTAACAAGAATTCTACGCGGTATACTTGCAGCAAGTCCTTAAACGTTTACCTTCAGCCCACATAGACGTCACACAATAATTCCTGTCCCTAACTCCCTGATCTCTGAAAGTTACTGAAGTACGTTAACACGTGAGTCCACATCCGGCACGACAAAAAGGTACCCCCGAGCCCTCGACGATCCCGGGTCTTCAGGAGATTTCACAACGCCGATCAATTCATCCGATCGTTTACCTATAGGAGGGCAAGGGTCGCAAACCCAGTTTGTAATAGGACTGTTGATGACGCCTGTGCTGAAACCTTCGCGTTCTTGACTGTATCGCAAAACTGTCCCCACGTAGCTAAGGCCTTACCTTAAACAGATCACCCCGATGTTGCAGCAACGCCATACGCGCTCTGATCTAGGGTTGTGAAATAAAAAGCGGCTACCACATTGGTCTGTTACTTTCCACCGACAACGAGGAAGAAGTTAAACCGCCACCCTATAAACACGCATAAATTGTTCCTGAAGCCTATCACCTTGAATGAAGGGAAACTAGGGCATGTGTGCTATGAGTCCTCAGCGGAATAGCTACCCTACTTACGTAAAGCCTGCGGTTCACTAGGTCTAATACACAACAAGCCTCGTCGGCGGGGGAGCTACGTTCTGGGCTCATCGAAGCGCGCTCGGCGGAGCTGATTGCATTGCCCCACCGAACCACGTTATGTTCAAGTCCGTGAAGAGGACACGTCCGCGGTGGAGCATTCAGTAATGGTTGTCGACATCTTATACAAGTATAGTGAAAGGGCCTGGAGCGTTGAGCCCCCGCTAACTCTTTAATGCGAACCC'\n",
    "seconda = 'TGTACTCGCCAATCCCTGCGCGTGGTGTACGAGCAATCTGAATAGGCTAGTACACTGCGCCAAAACGATTATAACTTACAAGGGTTTGCCGATGTGAAGGCAGTGCGACCCCCATACCCTGATCATTCCGAACTGATTGACATCGCGCATGAAATCGCCTAGCTGTATTGGTCAGGCCCAGGAATAAGTCAATCAAGGGGACCCCGGTGCCGACTGCCTGGGTGACGACGACGTACGCTAGCCAACCCAATCCGAGCGAGACAAGTAGATCTTTATCAACTAAGACCCTTTCATCTTATAGTTTACGAGCAGACGGACCACCGTGTCAACTCCCTAGTGGCGCTGTCATGAAGGAATTGCCCTCACCAAAGTTTGCACGCTTTTACCTGTCGCGGAAGATCTTGTTCACTCGCATTGAGGGTAAATATACGTAGCCTATTGTTATCATCCAGCACAACATTACCGATTCTGAGCTTCCGTGGCGTAACAACAAGACCCTCGTAAGGTTGTCTGTTTGTTTTCCACGGCAATGGGGCATTGCTGCAACTGTGAACCTCAACACTATGACAGGTCAGGTTTGTAGACTATCATTTTCAAAGAGGCGAAACCGGGCAATTGAGGTTATGTATCTTATTCGGCGCTGCTACTCTAGTCTCCGAATGCGCTCTGTGGAGTCCGACAAAGTCAGAGCGCGCTTCGCGCTCACGGGACCATCGACATTGAACCATCAATACTCGCCAATTTGTTAGTTACGCGGTAAACCCCCGACCAAAACGATATTCTCTTCGTTCTGCTACACGAGTCCGCCATGTACCATAAACTTGGGGAGTACGACAAAGTGCGCCACAAAACACAAAGCGAGTATCTCAATGAACCTTCGTTTACCCTTTCGTTCTGAGCC'\n",
    "\n",
    "print prima\n",
    "print seconda\n"
   ]
  },
  {
   "cell_type": "code",
   "execution_count": 3,
   "metadata": {
    "collapsed": false
   },
   "outputs": [],
   "source": [
    "def calculate_hamming_distance(seq1,seq2):\n",
    "    \n",
    "    hamming = 0\n",
    "    \n",
    "    if len(seq1) > len(seq2):\n",
    "        \n",
    "        hamming += len(seq1) - len(seq2)\n",
    "        \n",
    "        for i in range(0, len(seq2)):\n",
    "            if seq1[i] != seq2[i]:\n",
    "                hamming += 1\n",
    "    \n",
    "        return hamming\n",
    "        \n",
    "    elif len(seq1) < len(seq2):\n",
    "        \n",
    "        hamming += len(seq2) - len(seq1)\n",
    "    \n",
    "        for i in range(0, len(seq1)):\n",
    "            if seq1[i] != seq2[i]:\n",
    "                hamming += 1\n",
    "         \n",
    "        return hamming\n",
    "    \n",
    "    else:\n",
    "        for i in range(0, len(seq1)):\n",
    "            if seq1[i] != seq2[i]:\n",
    "                hamming += 1\n",
    "        \n",
    "        return hamming\n",
    "    \n"
   ]
  },
  {
   "cell_type": "code",
   "execution_count": 4,
   "metadata": {
    "collapsed": false
   },
   "outputs": [
    {
     "data": {
      "text/plain": [
       "466"
      ]
     },
     "execution_count": 4,
     "metadata": {},
     "output_type": "execute_result"
    }
   ],
   "source": [
    "calculate_hamming_distance(prima,seconda)"
   ]
  },
  {
   "cell_type": "code",
   "execution_count": 14,
   "metadata": {
    "collapsed": false
   },
   "outputs": [],
   "source": [
    "def calculate_hamming_distance(seq1,seq2): ###If one is primer should be insered as seq1\n",
    "    \n",
    "    hamming = 0\n",
    "    \n",
    "    nucleotides = ('A','C','G','T', 'a','c','g','t')\n",
    "    alt_nucleotides = ('W', 'S','M','K','R','Y','B','D','H','V','w', 's','m','k','r','y','b','d','h','v')\n",
    "\n",
    "    \n",
    "    if len(seq1) > len(seq2):\n",
    "        \n",
    "        hamming += len(seq1) - len(seq2)\n",
    "        \n",
    "        for i in range(0, len(seq2)):\n",
    "            \n",
    "            if seq1[i] in nucleotides:\n",
    "            \n",
    "                if seq1[i] != seq2[i]:\n",
    "                    hamming += 1\n",
    "                    \n",
    "            if seq1[i] in alt_nucleotides:\n",
    "                if seq1[i] == 'W':\n",
    "                    if seq2[i] != 'A' or seq2[i] != 'T':\n",
    "                        hamming += 1\n",
    "                        \n",
    "            if seq1[i] in alt_nucleotides:\n",
    "                if seq1[i] == 'S':\n",
    "                    if seq2[i] != 'C' or seq2[i] != 'G':\n",
    "                        hamming += 1\n",
    "                        \n",
    "            if seq1[i] in alt_nucleotides:\n",
    "                if seq1[i] == 'M':\n",
    "                    if seq2[i] != 'A' or seq2[i] != 'C':\n",
    "                        hamming += 1\n",
    "            \n",
    "            if seq1[i] in alt_nucleotides:\n",
    "                if seq1[i] == 'K':\n",
    "                    if seq2[i] != 'G' or seq2[i] != 'T':\n",
    "                        hamming += 1\n",
    "            \n",
    "            if seq1[i] in alt_nucleotides:\n",
    "                if seq1[i] == 'R':\n",
    "                    if seq2[i] != 'A' or seq2[i] != 'G':\n",
    "                        hamming += 1\n",
    "            \n",
    "            if seq1[i] in alt_nucleotides:\n",
    "                if seq1[i] == 'Y':\n",
    "                    if seq2[i] != 'C' or seq2[i] != 'T':\n",
    "                        hamming += 1\n",
    "            \n",
    "            if seq1[i] in alt_nucleotides:\n",
    "                if seq1[i] == 'B':\n",
    "                    if seq2[i] != 'C' or seq2[i] != 'G' or seq2[i] != 'T':\n",
    "                        hamming += 1\n",
    "            if seq1[i] in alt_nucleotides:\n",
    "                if seq1[i] == 'D':\n",
    "                    if seq2[i] != 'A' or seq2[i] != 'G' or seq2[i] != 'T':\n",
    "                        hamming += 1\n",
    "            if seq1[i] in alt_nucleotides:\n",
    "                if seq1[i] == 'H':\n",
    "                    if seq2[i] != 'A' or seq2[i] != 'C' or seq2[i] != 'T':\n",
    "                        hamming += 1\n",
    "            if seq1[i] in alt_nucleotides:\n",
    "                if seq1[i] == 'V':\n",
    "                    if seq2[i] != 'A' or seq2[i] != 'C' or seq2[i] != 'G':\n",
    "                        hamming += 1\n",
    "            if seq1[i] in alt_nucleotides:\n",
    "                if seq1[i] == 'N' or seq1[i] == '-':\n",
    "                    if seq2[i] != 'A' or seq2[i] != 'C' or seq2[i] != 'G'or seq2[i] != 'T':\n",
    "                        continue\n",
    "            \n",
    "    \n",
    "        return hamming\n",
    "        \n",
    "        \n",
    "        \n",
    "        \n",
    "    elif len(seq1) < len(seq2):\n",
    "        \n",
    "        hamming += len(seq2) - len(seq1)\n",
    "    \n",
    "        for i in range(0, len(seq1)):\n",
    "            \n",
    "            if seq1[i] in nucleotides:\n",
    "            \n",
    "                if seq1[i] != seq2[i]:\n",
    "                    hamming += 1\n",
    "                    \n",
    "            if seq1[i] in alt_nucleotides:\n",
    "                if seq1[i] == 'W':\n",
    "                    if seq2[i] != 'A' or seq2[i] != 'T':\n",
    "                        hamming += 1\n",
    "                        \n",
    "            if seq1[i] in alt_nucleotides:\n",
    "                if seq1[i] == 'S':\n",
    "                    if seq2[i] != 'C' or seq2[i] != 'G':\n",
    "                        hamming += 1\n",
    "                        \n",
    "            if seq1[i] in alt_nucleotides:\n",
    "                if seq1[i] == 'M':\n",
    "                    if seq2[i] != 'A' or seq2[i] != 'C':\n",
    "                        hamming += 1\n",
    "            \n",
    "            if seq1[i] in alt_nucleotides:\n",
    "                if seq1[i] == 'K':\n",
    "                    if seq2[i] != 'G' or seq2[i] != 'T':\n",
    "                        hamming += 1\n",
    "            \n",
    "            if seq1[i] in alt_nucleotides:\n",
    "                if seq1[i] == 'R':\n",
    "                    if seq2[i] != 'A' or seq2[i] != 'G':\n",
    "                        hamming += 1\n",
    "            \n",
    "            if seq1[i] in alt_nucleotides:\n",
    "                if seq1[i] == 'Y':\n",
    "                    if seq2[i] != 'C' or seq2[i] != 'T':\n",
    "                        hamming += 1\n",
    "            \n",
    "            if seq1[i] in alt_nucleotides:\n",
    "                if seq1[i] == 'B':\n",
    "                    if seq2[i] != 'C' or seq2[i] != 'G' or seq2[i] != 'T':\n",
    "                        hamming += 1\n",
    "            if seq1[i] in alt_nucleotides:\n",
    "                if seq1[i] == 'D':\n",
    "                    if seq2[i] != 'A' or seq2[i] != 'G' or seq2[i] != 'T':\n",
    "                        hamming += 1\n",
    "            if seq1[i] in alt_nucleotides:\n",
    "                if seq1[i] == 'H':\n",
    "                    if seq2[i] != 'A' or seq2[i] != 'C' or seq2[i] != 'T':\n",
    "                        hamming += 1\n",
    "            if seq1[i] in alt_nucleotides:\n",
    "                if seq1[i] == 'V':\n",
    "                    if seq2[i] != 'A' or seq2[i] != 'C' or seq2[i] != 'G':\n",
    "                        hamming += 1\n",
    "            if seq1[i] in alt_nucleotides:\n",
    "                if seq1[i] == 'N' or seq1[i] == '-':\n",
    "                    if seq2[i] != 'A' or seq2[i] != 'C' or seq2[i] != 'G'or seq2[i] != 'T':\n",
    "                        continue\n",
    "            \n",
    "        return hamming\n",
    "    \n",
    "    else:\n",
    "        for i in range(0, len(seq1)):\n",
    "            if seq1[i] in nucleotides:\n",
    "            \n",
    "                if seq1[i] != seq2[i]:\n",
    "                    hamming += 1\n",
    "                    \n",
    "            if seq1[i] in alt_nucleotides:\n",
    "                if seq1[i] == 'W':\n",
    "                    if seq2[i] != 'A' or seq2[i] != 'T':\n",
    "                        hamming += 1\n",
    "                        \n",
    "            if seq1[i] in alt_nucleotides:\n",
    "                if seq1[i] == 'S':\n",
    "                    if seq2[i] != 'C' or seq2[i] != 'G':\n",
    "                        hamming += 1\n",
    "                        \n",
    "            if seq1[i] in alt_nucleotides:\n",
    "                if seq1[i] == 'M':\n",
    "                    if seq2[i] != 'A' or seq2[i] != 'C':\n",
    "                        hamming += 1\n",
    "            \n",
    "            if seq1[i] in alt_nucleotides:\n",
    "                if seq1[i] == 'K':\n",
    "                    if seq2[i] != 'G' or seq2[i] != 'T':\n",
    "                        hamming += 1\n",
    "            \n",
    "            if seq1[i] in alt_nucleotides:\n",
    "                if seq1[i] == 'R':\n",
    "                    if seq2[i] != 'A' or seq2[i] != 'G':\n",
    "                        hamming += 1\n",
    "            \n",
    "            if seq1[i] in alt_nucleotides:\n",
    "                if seq1[i] == 'Y':\n",
    "                    if seq2[i] != 'C' or seq2[i] != 'T':\n",
    "                        hamming += 1\n",
    "            \n",
    "            if seq1[i] in alt_nucleotides:\n",
    "                if seq1[i] == 'B':\n",
    "                    if seq2[i] != 'C' or seq2[i] != 'G' or seq2[i] != 'T':\n",
    "                        hamming += 1\n",
    "            if seq1[i] in alt_nucleotides:\n",
    "                if seq1[i] == 'D':\n",
    "                    if seq2[i] != 'A' or seq2[i] != 'G' or seq2[i] != 'T':\n",
    "                        hamming += 1\n",
    "            if seq1[i] in alt_nucleotides:\n",
    "                if seq1[i] == 'H':\n",
    "                    if seq2[i] != 'A' or seq2[i] != 'C' or seq2[i] != 'T':\n",
    "                        hamming += 1\n",
    "            if seq1[i] in alt_nucleotides:\n",
    "                if seq1[i] == 'V':\n",
    "                    if seq2[i] != 'A' or seq2[i] != 'C' or seq2[i] != 'G':\n",
    "                        hamming += 1\n",
    "            if seq1[i] in alt_nucleotides:\n",
    "                if seq1[i] == 'N' or seq1[i] == '-':\n",
    "                    if seq2[i] != 'A' or seq2[i] != 'C' or seq2[i] != 'G'or seq2[i] != 'T':\n",
    "                        continue\n",
    "            \n",
    "        \n",
    "        return hamming"
   ]
  },
  {
   "cell_type": "code",
   "execution_count": 3,
   "metadata": {
    "collapsed": false
   },
   "outputs": [
    {
     "name": "stdout",
     "output_type": "stream",
     "text": [
      "ciao\n"
     ]
    }
   ],
   "source": [
    "nucleotides = ('A','C','G','T','a','c','g','t')\n",
    "alt_nucleotides = ('W', 'S','M','K','R','Y','B','D','H','V')\n",
    "if 'a' in nucleotides:\n",
    "    print 'ciao'"
   ]
  },
  {
   "cell_type": "code",
   "execution_count": 13,
   "metadata": {
    "collapsed": false
   },
   "outputs": [
    {
     "name": "stdout",
     "output_type": "stream",
     "text": [
      "ciao\n"
     ]
    }
   ],
   "source": [
    "if 'A' ==  'T' or 'A' == 'A':\n",
    "    print 'ciao'"
   ]
  },
  {
   "cell_type": "code",
   "execution_count": 81,
   "metadata": {
    "collapsed": false
   },
   "outputs": [],
   "source": [
    "def calculate_hamming_distance(sequence1,sequence2): ###If one is primer should be insered as sequence1\n",
    "    \n",
    "    sequence1 = sequence1.upper()              ### Differences must be only related to nucleotides\n",
    "    sequence2 = sequence2.upper()\n",
    "    \n",
    "    if len(sequence1) >= len(sequence2):       ### Necessary not to go out of range\n",
    "        seq1 =sequence1\n",
    "        seq2 =sequence2\n",
    "    elif len(sequence1) < len(sequence2):\n",
    "        seq2 =sequence1\n",
    "        seq1 =sequence2\n",
    "    \n",
    "    hamming = 0\n",
    "    \n",
    "    nucleotides = ('A','C','G','T')\n",
    "    alt_nucleotides = ('W', 'S','M','K','R','Y','B','D','H','V')\n",
    "\n",
    "        \n",
    "    for i in range(0, len(seq2)):\n",
    "        \n",
    "        if seq1[i] in nucleotides:\n",
    "\n",
    "            if seq1[i] == seq2[i]:\n",
    "                hamming += 0\n",
    "\n",
    "        if seq1[i] in alt_nucleotides:\n",
    "            if seq1[i] == 'W':\n",
    "                if seq2[i] != 'A' or seq2[i] != 'T':\n",
    "                    hamming += 1\n",
    "\n",
    "        if seq1[i] in alt_nucleotides:\n",
    "            if seq1[i] == 'S':\n",
    "                if seq2[i] != 'C' or seq2[i] != 'G':\n",
    "                    hamming += 1\n",
    "\n",
    "        if seq1[i] in alt_nucleotides:\n",
    "            if seq1[i] == 'M':\n",
    "                if seq2[i] != 'A' or seq2[i] != 'C':\n",
    "                    hamming += 1\n",
    "\n",
    "        if seq1[i] in alt_nucleotides:\n",
    "            if seq1[i] == 'K':\n",
    "                if seq2[i] != 'G' or seq2[i] != 'T':\n",
    "                    hamming += 1\n",
    "\n",
    "        if seq1[i] in alt_nucleotides:\n",
    "            if seq1[i] == 'R':\n",
    "                if seq2[i] != 'A' or seq2[i] != 'G':\n",
    "                    hamming += 1\n",
    "\n",
    "        if seq1[i] in alt_nucleotides:\n",
    "            if seq1[i] == 'Y':\n",
    "                if seq2[i] != 'C' or seq2[i] != 'T':\n",
    "                    hamming += 1\n",
    "\n",
    "        if seq1[i] in alt_nucleotides:\n",
    "            if seq1[i] == 'B':\n",
    "                if seq2[i] != 'C' or seq2[i] != 'G' or seq2[i] != 'T':\n",
    "                    hamming += 1\n",
    "        if seq1[i] in alt_nucleotides:\n",
    "            if seq1[i] == 'D':\n",
    "                if seq2[i] != 'A' or seq2[i] != 'G' or seq2[i] != 'T':\n",
    "                    hamming += 1\n",
    "        if seq1[i] in alt_nucleotides:\n",
    "            if seq1[i] == 'H':\n",
    "                if seq2[i] != 'A' or seq2[i] != 'C' or seq2[i] != 'T':\n",
    "                    hamming += 1\n",
    "        if seq1[i] in alt_nucleotides:\n",
    "            if seq1[i] == 'V':\n",
    "                if seq2[i] != 'A' or seq2[i] != 'C' or seq2[i] != 'G':\n",
    "                    hamming += 1\n",
    "        if seq1[i] in alt_nucleotides:\n",
    "            if seq1[i] == 'N' or seq1[i] == '-':\n",
    "                if seq2[i] != 'A' or seq2[i] != 'C' or seq2[i] != 'G'or seq2[i] != 'T':\n",
    "                    continue\n",
    "            \n",
    " \n",
    "    if len(seq1) > len(seq2):                               ### Correcting the Hamming score for missing nucleotides\n",
    "        \n",
    "        hamming += len(seq1) - len(seq2)\n",
    "        \n",
    "    elif len(seq1) < len(seq2):\n",
    "        \n",
    "        hamming += len(seq2) - len(seq1)\n",
    "        \n",
    "       \n",
    "\n",
    "        \n",
    "    return hamming"
   ]
  },
  {
   "cell_type": "code",
   "execution_count": 82,
   "metadata": {
    "collapsed": false
   },
   "outputs": [
    {
     "data": {
      "text/plain": [
       "3"
      ]
     },
     "execution_count": 82,
     "metadata": {},
     "output_type": "execute_result"
    }
   ],
   "source": [
    "pr =  'AVMA'\n",
    "sec = 'ACGTAAA'\n",
    "calculate_hamming_distance(pr,sec)"
   ]
  },
  {
   "cell_type": "code",
   "execution_count": null,
   "metadata": {
    "collapsed": true
   },
   "outputs": [],
   "source": []
  }
 ],
 "metadata": {
  "kernelspec": {
   "display_name": "Python 2",
   "language": "python",
   "name": "python2"
  },
  "language_info": {
   "codemirror_mode": {
    "name": "ipython",
    "version": 2
   },
   "file_extension": ".py",
   "mimetype": "text/x-python",
   "name": "python",
   "nbconvert_exporter": "python",
   "pygments_lexer": "ipython2",
   "version": "2.7.10"
  }
 },
 "nbformat": 4,
 "nbformat_minor": 0
}
