{
 "metadata": {
  "name": "",
  "signature": "sha256:99933457f78026b87c91dca91b2139fb32d9114a08148920c450ee9e600b0b0b"
 },
 "nbformat": 3,
 "nbformat_minor": 0,
 "worksheets": [
  {
   "cells": [
    {
     "cell_type": "code",
     "collapsed": false,
     "input": [
      "def parse_fasta(data):\n",
      "    \"\"\"Parse a FASTA file's contents.\"\"\"\n",
      "    seqdict = {}\n",
      "    # Process all lines in turn\n",
      "    for line in data.splitlines():\n",
      "        # If line starts with '>' it's the ID\n",
      "        if line.startswith('>'):  # >sequence_id -> sequence_id\n",
      "            seqid = line[1:]\n",
      "            seqdict[seqid] = ''\n",
      "        else:  # Following line(s) is the sequence\n",
      "            seqdict[seqid] += line\n",
      "    return seqdict"
     ],
     "language": "python",
     "metadata": {},
     "outputs": []
    },
    {
     "cell_type": "code",
     "collapsed": false,
     "input": [
      "parse_fasta(fasta_data)"
     ],
     "language": "python",
     "metadata": {},
     "outputs": []
    },
    {
     "cell_type": "code",
     "collapsed": false,
     "input": [
      "# Desired output:\n",
      "output = {'seq1': 'ACGTTGCA', 'seq2': 'GGTACAGGT'}"
     ],
     "language": "python",
     "metadata": {},
     "outputs": []
    },
    {
     "cell_type": "code",
     "collapsed": false,
     "input": [
      "output"
     ],
     "language": "python",
     "metadata": {},
     "outputs": []
    },
    {
     "cell_type": "code",
     "collapsed": false,
     "input": [
      "output['seq1']"
     ],
     "language": "python",
     "metadata": {},
     "outputs": []
    },
    {
     "cell_type": "code",
     "collapsed": false,
     "input": [
      "fasta_data = \">seq1\\nACGTTGCACACA\\nTATCAGCTAAGC\\n>seq2\\nGGTACAGGT\"\n",
      "print(fasta_data)"
     ],
     "language": "python",
     "metadata": {},
     "outputs": []
    },
    {
     "cell_type": "code",
     "collapsed": false,
     "input": [
      "fasta_data.splitlines()"
     ],
     "language": "python",
     "metadata": {},
     "outputs": []
    },
    {
     "cell_type": "code",
     "collapsed": false,
     "input": [
      "'ACGTTGCA' + 'GGTACAGGT'"
     ],
     "language": "python",
     "metadata": {},
     "outputs": []
    },
    {
     "cell_type": "code",
     "collapsed": false,
     "input": [],
     "language": "python",
     "metadata": {},
     "outputs": []
    }
   ],
   "metadata": {}
  }
 ]
}