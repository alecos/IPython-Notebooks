{
 "cells": [
  {
   "cell_type": "code",
   "execution_count": 1,
   "metadata": {
    "collapsed": true
   },
   "outputs": [],
   "source": [
    "def generate_random_sequences(lenght):\n",
    "    import random\n",
    "    STR_KEY_GEN = 'ACGT'\n",
    "    return ''.join(random.choice(STR_KEY_GEN) for _ in xrange(lenght))"
   ]
  },
  {
   "cell_type": "code",
   "execution_count": 2,
   "metadata": {
    "collapsed": false
   },
   "outputs": [
    {
     "name": "stdout",
     "output_type": "stream",
     "text": [
      "CCACACTCTCGATATGTTGGGTAATAGGATAAAAGTGATACACTCCAGAACCAGGTTGAGTAGGGCTTAGGCCTGGTGCGGGCGTACCTATTAAGATAGTGAGAGAGGCGCAGGGAGGGCCCCCAGTCACGGTGAGATAACGGTTAGTGACTGTGACGCATAAGGATCAACCCGTACACATCGAGCAGTCCGTGAGCGTCCGAGGATAGCTACTACTATGTAATATTGGATCGCCTTTTTCGAACCTGAGGCACAGGACTCGGCGACTTTCCCATATGCCGCTGCCCCGGGCACCCCGCGCGGCATGACCGGGGACGTATGTGGTCCATTGTGGCAAATGTTTCAGAAAGATTTGTGACCTGCGATCGTATTTTTACCTGATTCCGGGACGAGTTATGCTGGCTGCCCGAGAGGATGTAGCTTAAAATATGGAATGGTCAACTTTCTAGCTCGCGAGGTATATGTCGTTTTCACCGGTTGCGTTCCTTTAGTAGGAAGCGACTGCAGGTGGCAACTATGCGGCCGGCATACGATACGATTCGTAAGCGGGCCATTAATCTCAAAACTCGCTCCTAAGCCACGAGATGCTGTATGTAGCGGTATAGACAGACGGGCGTGTGTGTATTGAGAAATGTTGGTGGTAGCGGCAGACGCAACCCTGCGCTTTTCGAGCCCATCGAGGAGTGACGTATACAATGTAACTGCGCGGCTTACTGGGGCACACTCTAACTCTGTTTAACCTTAGCTGGGTTGACTCCCATAGGCCCGTGAGCCCCATTATATAACCCGAGGAAAGAGTATAACCCACCCTTGTGCTCGGAGTCTATGAAGGCACACGAATCGAAACGCTAATCTTAGCTGTGCGTATGATTCCCCGGTCGTACACTCAGAGCGGGGGATTACCGAGCGCGCTAGATCCCAACTAACGAGCGGATGGAACTGAAAACGGACTGGCCACGCGTATAAGCCGCGTCACGCCTTGTTGCTAGCTCGCCCAATC\n"
     ]
    }
   ],
   "source": [
    "seq = generate_random_sequences(1000)\n",
    "print seq"
   ]
  },
  {
   "cell_type": "code",
   "execution_count": null,
   "metadata": {
    "collapsed": true
   },
   "outputs": [],
   "source": []
  }
 ],
 "metadata": {
  "kernelspec": {
   "display_name": "Python 2",
   "language": "python",
   "name": "python2"
  },
  "language_info": {
   "codemirror_mode": {
    "name": "ipython",
    "version": 2
   },
   "file_extension": ".py",
   "mimetype": "text/x-python",
   "name": "python",
   "nbconvert_exporter": "python",
   "pygments_lexer": "ipython2",
   "version": "2.7.10"
  }
 },
 "nbformat": 4,
 "nbformat_minor": 0
}
