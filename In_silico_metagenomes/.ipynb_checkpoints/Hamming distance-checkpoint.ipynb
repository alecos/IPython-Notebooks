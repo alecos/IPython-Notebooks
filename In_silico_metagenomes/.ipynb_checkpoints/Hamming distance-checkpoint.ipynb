{
 "cells": [
  {
   "cell_type": "code",
   "execution_count": 1,
   "metadata": {
    "collapsed": true
   },
   "outputs": [],
   "source": [
    "def calculate_hamming_distance(sequence1,sequence2): ###If one is a primer should be insered as sequence1\n",
    "\n",
    "    sequence1 = sequence1.upper()              ### Differences must be only related to nucleotides not to typing\n",
    "    sequence2 = sequence2.upper()\n",
    "\n",
    "\n",
    "    m = 0\n",
    "\n",
    "    if len(sequence1) >= len(sequence2):       ### Necessary not to go out of range\n",
    "        m = len(sequence1) - len(sequence2)\n",
    "        seq2 =sequence1[0:len(sequence2)]\n",
    "        seq1 =sequence2\n",
    "\n",
    "\n",
    "    else:\n",
    "        m = len(sequence2) - len(sequence1)\n",
    "        seq1 =sequence1\n",
    "        seq2 =sequence2[0:len(sequence1)]\n",
    "\n",
    "\n",
    "    hamming = m\n",
    "\n",
    "\n",
    "\n",
    "    nucleotides = ('A','C','G','T')\n",
    "    alt_nucleotides = ('W', 'S','M','K','R','Y','B','D','H','V')\n",
    "\n",
    "\n",
    "\n",
    "    for i in range(0, len(seq1)):\n",
    "\n",
    "\n",
    "        if seq1[i] == seq2[i]:\n",
    "            continue\n",
    "\n",
    "        if seq1[i] != seq2[i]:\n",
    "\n",
    "            if seq1[i] in nucleotides and seq2[i] in nucleotides:\n",
    "                if seq1[i] != seq2[i]:\n",
    "                    hamming += 1\n",
    "\n",
    "            else:\n",
    "\n",
    "                if seq1[i] == 'W':\n",
    "                    if seq2[i] != 'A' or seq2[i] != 'T':\n",
    "                        hamming += 1\n",
    "\n",
    "                if seq1[i] == 'S':\n",
    "                    if seq2[i] != 'C' or seq2[i] != 'G':\n",
    "                        hamming += 1\n",
    "\n",
    "                if seq1[i] == 'M':\n",
    "                    if seq2[i] != 'A' or seq2[i] != 'C':\n",
    "                        hamming += 1\n",
    "\n",
    "                if seq1[i] == 'K':\n",
    "                    if seq2[i] != 'G' or seq2[i] != 'T':\n",
    "                        hamming += 1\n",
    "\n",
    "                if seq1[i] == 'R':\n",
    "                    if seq2[i] != 'A' or seq2[i] != 'G':\n",
    "                        hamming += 1\n",
    "\n",
    "                if seq1[i] == 'Y':\n",
    "                    if seq2[i] != 'C' or seq2[i] != 'T':\n",
    "                        hamming += 1\n",
    "\n",
    "                if seq1[i] == 'B':\n",
    "                    if seq2[i] != 'C' or seq2[i] != 'G' or seq2[i] != 'T':\n",
    "                        hamming += 1\n",
    "\n",
    "                if seq1[i] == 'D':\n",
    "                    if seq2[i] != 'A' or seq2[i] != 'G' or seq2[i] != 'T':\n",
    "                        hamming += 1\n",
    "\n",
    "                if seq1[i] == 'H':\n",
    "                    if seq2[i] != 'A' or seq2[i] != 'C' or seq2[i] != 'T':\n",
    "                        hamming += 1\n",
    "\n",
    "                if seq1[i] == 'V':\n",
    "                    if seq2[i] != 'A' or seq2[i] != 'C' or seq2[i] != 'G':\n",
    "                        hamming += 1\n",
    "\n",
    "                if seq1[i] == 'N' or seq1[i] == '-':\n",
    "                    if seq2[i] != 'A' or seq2[i] != 'C' or seq2[i] != 'G'or seq2[i] != 'T':\n",
    "                        continue\n",
    "\n",
    "                else:\n",
    "                    continue\n",
    "\n",
    "\n",
    "\n",
    "    return hamming\n",
    "    \n",
    "    "
   ]
  },
  {
   "cell_type": "markdown",
   "metadata": {},
   "source": [
    "####The program works fine. So far, nucleic acid notation results a problem since if alternative nucleotide letters appear, such sequence must be introduced as first\n",
    "\n",
    "\n",
    "####Needs to be solved!"
   ]
  },
  {
   "cell_type": "code",
   "execution_count": 2,
   "metadata": {
    "collapsed": false
   },
   "outputs": [
    {
     "data": {
      "text/plain": [
       "0"
      ]
     },
     "execution_count": 2,
     "metadata": {},
     "output_type": "execute_result"
    }
   ],
   "source": [
    "a = \"ACTGTGACCC\"\n",
    "b = \"ACTGTGACCC\"\n",
    "\n",
    "calculate_hamming_distance(a,b)"
   ]
  },
  {
   "cell_type": "code",
   "execution_count": 3,
   "metadata": {
    "collapsed": false
   },
   "outputs": [
    {
     "data": {
      "text/plain": [
       "0"
      ]
     },
     "execution_count": 3,
     "metadata": {},
     "output_type": "execute_result"
    }
   ],
   "source": [
    "a = \"ACTGTGACMC\"\n",
    "b = \"ACTGTGACCC\"\n",
    "\n",
    "calculate_hamming_distance(a,b)"
   ]
  },
  {
   "cell_type": "code",
   "execution_count": 4,
   "metadata": {
    "collapsed": false
   },
   "outputs": [
    {
     "data": {
      "text/plain": [
       "2"
      ]
     },
     "execution_count": 4,
     "metadata": {},
     "output_type": "execute_result"
    }
   ],
   "source": [
    "a = \"ACTGTGACMCC\"\n",
    "b = \"ACTGTGATCC\"\n",
    "\n",
    "calculate_hamming_distance(a,b)"
   ]
  },
  {
   "cell_type": "code",
   "execution_count": null,
   "metadata": {
    "collapsed": true
   },
   "outputs": [],
   "source": []
  }
 ],
 "metadata": {
  "kernelspec": {
   "display_name": "Python 2",
   "language": "python",
   "name": "python2"
  },
  "language_info": {
   "codemirror_mode": {
    "name": "ipython",
    "version": 2
   },
   "file_extension": ".py",
   "mimetype": "text/x-python",
   "name": "python",
   "nbconvert_exporter": "python",
   "pygments_lexer": "ipython2",
   "version": "2.7.10"
  }
 },
 "nbformat": 4,
 "nbformat_minor": 0
}
