{
 "cells": [
  {
   "cell_type": "code",
   "execution_count": 5,
   "metadata": {
    "collapsed": false
   },
   "outputs": [
    {
     "name": "stdout",
     "output_type": "stream",
     "text": [
      "C:\\Users\\ab42313\\OneDrive\\ABZ_PhD\\Programming\\NCBI\n"
     ]
    }
   ],
   "source": [
    "cd C:\\Users\\ab42313\\OneDrive\\ABZ_PhD\\Programming\\NCBI"
   ]
  },
  {
   "cell_type": "markdown",
   "metadata": {},
   "source": [
    "##### Download genomic data with entrez:"
   ]
  },
  {
   "cell_type": "code",
   "execution_count": 47,
   "metadata": {
    "collapsed": true
   },
   "outputs": [],
   "source": [
    "def retrieve_genomic_data(id = '', title = '', orgn = '', db = 'nucleotide',rettype = \"fasta\", retmode = \"text\"):\n",
    "\n",
    "    from Bio import Entrez\n",
    "\n",
    "    \n",
    "    Entrez.email = 'alessandro.bergna@gmail.com'\n",
    "    \n",
    "    if len(title)>= 1:\n",
    "        title = '{}[title] AND '.format(title)\n",
    "    if len(orgn)>= 1:\n",
    "        orgn = '{}[orgn] AND '.format(organism)\n",
    "    \n",
    "    search_term = '{}{}{}'.format(orgn,title, id)\n",
    "    \n",
    "    print 'Search term: ', search_term\n",
    "    \n",
    "    handle = Entrez.esearch(db='nucleotide', term=search_term)\n",
    "    genome_ids = Entrez.read(handle)['IdList']\n",
    "           \n",
    "    print 'Number of Genomes:', len(genome_ids)\n",
    "    for genome_id in genome_ids:\n",
    "        record = Entrez.efetch(db=db, id=genome_id, rettype=rettype, retmode=retmode)\n",
    "\n",
    "        filename = 'genBankRecord_{}.{}'.format(genome_id,rettype)\n",
    "        print('Writing:{}'.format(filename))\n",
    "        with open(filename, 'w') as f:\n",
    "            f.write(record.read())"
   ]
  },
  {
   "cell_type": "markdown",
   "metadata": {},
   "source": [
    "Download E.coli k12 sequence"
   ]
  },
  {
   "cell_type": "code",
   "execution_count": 48,
   "metadata": {
    "collapsed": false
   },
   "outputs": [
    {
     "name": "stdout",
     "output_type": "stream",
     "text": [
      "Search term:  545778205\n",
      "Number of Genomes: 1\n",
      "Writing:genBankRecord_545778205.fasta\n"
     ]
    }
   ],
   "source": [
    "retrieve_genomic_data(id='545778205')"
   ]
  },
  {
   "cell_type": "code",
   "execution_count": null,
   "metadata": {
    "collapsed": true
   },
   "outputs": [],
   "source": []
  }
 ],
 "metadata": {
  "kernelspec": {
   "display_name": "Python 2",
   "language": "python",
   "name": "python2"
  },
  "language_info": {
   "codemirror_mode": {
    "name": "ipython",
    "version": 2
   },
   "file_extension": ".py",
   "mimetype": "text/x-python",
   "name": "python",
   "nbconvert_exporter": "python",
   "pygments_lexer": "ipython2",
   "version": "2.7.10"
  }
 },
 "nbformat": 4,
 "nbformat_minor": 0
}
