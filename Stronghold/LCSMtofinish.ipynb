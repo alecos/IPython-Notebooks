{
 "metadata": {
  "name": "",
  "signature": "sha256:5d45298158de5ea9e4f7bcd1f0ce13699701ef46d24e2618a26a8758c2ff4f75"
 },
 "nbformat": 3,
 "nbformat_minor": 0,
 "worksheets": [
  {
   "cells": [
    {
     "cell_type": "code",
     "collapsed": false,
     "input": [
      "cd C:\\Users\\ab42313\\OneDrive\\ABZ_PhD\\Rosalind"
     ],
     "language": "python",
     "metadata": {},
     "outputs": [
      {
       "output_type": "stream",
       "stream": "stdout",
       "text": [
        "C:\\Users\\ab42313\\OneDrive\\ABZ_PhD\\Rosalind\n"
       ]
      }
     ],
     "prompt_number": 1
    },
    {
     "cell_type": "heading",
     "level": 3,
     "metadata": {},
     "source": [
      "Finding a Shared Motif"
     ]
    },
    {
     "cell_type": "markdown",
     "metadata": {},
     "source": [
      "Given: A collection of k (k\u2264100) DNA strings of length at most 1 kbp each in FASTA format.\n",
      "\n",
      "Return: A longest common substring of the collection. (If multiple solutions exist, you may return any single solution.)\n",
      "\n",
      "Sample Dataset\n",
      "\n"
     ]
    },
    {
     "cell_type": "raw",
     "metadata": {},
     "source": [
      ">Rosalind_1\n",
      "GATTACA\n",
      ">Rosalind_2\n",
      "TAGACCA\n",
      ">Rosalind_3\n",
      "ATACA"
     ]
    },
    {
     "cell_type": "markdown",
     "metadata": {},
     "source": [
      "Sample Output\n",
      "\n"
     ]
    },
    {
     "cell_type": "raw",
     "metadata": {},
     "source": [
      "AC"
     ]
    },
    {
     "cell_type": "code",
     "collapsed": false,
     "input": [
      "from Bio import SeqIO\n",
      "\n",
      "file=open('files/rosalind_lcsm.txt','rU')\n",
      "fasta = list(SeqIO.parse(file, \"fasta\"))\n",
      "\n",
      "seqs = []\n",
      "for i in range(0,len(fasta)):\n",
      "    #print fasta[i].seq\n",
      "    seqs.append(str(fasta[i].seq))\n",
      "\n",
      "shortest_seq = min(seqs)\n",
      "\n",
      "\n",
      "\n",
      "start = 0\n",
      "counter = 0\n",
      "commonsubs = []\n",
      "for fw in range(start,len(shortest_seq)+1):\n",
      "    for bk in range(start,len(shortest_seq)+1)[::-1]:\n",
      "        for single_seq in seqs:\n",
      "            if shortest_seq[fw:bk] in single_seq:\n",
      "                counter += 1\n",
      "            else:\n",
      "                continue\n",
      "        \n",
      "        if counter == len(seqs):\n",
      "            if len(shortest_seq[fw:bk]) > 1:\n",
      "                commonsubs.append(shortest_seq[fw:bk])\n",
      "        counter = 0\n",
      "\n",
      "#print sorted(commonsubs)\n",
      "final = []\n",
      "for i in commonsubs:\n",
      "    if len(i) == len(max(commonsubs)):\n",
      "        final.append(i)\n",
      "print final\n"
     ],
     "language": "python",
     "metadata": {},
     "outputs": [
      {
       "output_type": "stream",
       "stream": "stdout",
       "text": [
        "['CGTCCTTATACATTTGTTGTAGT', 'GTCCTTATACATTTGTTGTAGTA', 'TCCTTATACATTTGTTGTAGTAC', 'CCTTATACATTTGTTGTAGTACT', 'CTTATACATTTGTTGTAGTACTA', 'TTATACATTTGTTGTAGTACTAT', 'TATACATTTGTTGTAGTACTATA', 'ATACATTTGTTGTAGTACTATAA', 'TACATTTGTTGTAGTACTATAAA', 'ACATTTGTTGTAGTACTATAAAA', 'CATTTGTTGTAGTACTATAAAAG', 'ATTTGTTGTAGTACTATAAAAGC', 'TTTGTTGTAGTACTATAAAAGCT']\n"
       ]
      }
     ],
     "prompt_number": 4
    },
    {
     "cell_type": "code",
     "collapsed": false,
     "input": [
      "a =[]\n",
      "max(a)"
     ],
     "language": "python",
     "metadata": {},
     "outputs": [
      {
       "ename": "ValueError",
       "evalue": "max() arg is an empty sequence",
       "output_type": "pyerr",
       "traceback": [
        "\u001b[1;31m---------------------------------------------------------------------------\u001b[0m\n\u001b[1;31mValueError\u001b[0m                                Traceback (most recent call last)",
        "\u001b[1;32m<ipython-input-6-1772849dad3e>\u001b[0m in \u001b[0;36m<module>\u001b[1;34m()\u001b[0m\n\u001b[0;32m      1\u001b[0m \u001b[0ma\u001b[0m \u001b[1;33m=\u001b[0m\u001b[1;33m[\u001b[0m\u001b[1;33m]\u001b[0m\u001b[1;33m\u001b[0m\u001b[0m\n\u001b[1;32m----> 2\u001b[1;33m \u001b[0mmax\u001b[0m\u001b[1;33m(\u001b[0m\u001b[0ma\u001b[0m\u001b[1;33m)\u001b[0m\u001b[1;33m\u001b[0m\u001b[0m\n\u001b[0m",
        "\u001b[1;31mValueError\u001b[0m: max() arg is an empty sequence"
       ]
      }
     ],
     "prompt_number": 6
    },
    {
     "cell_type": "markdown",
     "metadata": {},
     "source": [
      "**LP NOTE:** You should use `strip()` when you may need to remove whitespace from both ends of a string. You should use `rstrip()` when you may need to remove whitespace from the right-hand side of a string only.\n",
      "\n",
      "The code above cannot find the file `files/id_prova.txt`, and fails.\n",
      "\n",
      "It looks like you have not found a solution to this problem, yet. As a hint, consider the following:\n",
      "\n",
      "1. You need to identify a motif - this is finding a substring within a string. There is potential for variation in the substring. That makes it a natural problem for *regular expressions*. You can use the [Python `re` module](https://docs.python.org/2/library/re.html). You will need to understand the `match` result returned by `re` functions, in order to identify the start position of each match.\n",
      "\n",
      "2. You can use [Python's `urllib2` module](https://docs.python.org/2/library/urllib2.html) to obtain the sequence from UNIPROT\n",
      "\n",
      "3. You can use Biopython's `SeqIO` module to parse the FASTA files that UNIPROT will give you."
     ]
    }
   ],
   "metadata": {}
  }
 ]
}