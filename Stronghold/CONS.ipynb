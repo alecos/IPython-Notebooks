{
 "metadata": {
  "name": "",
  "signature": "sha256:ac3ccc138f47dad3911774f3b3f5019dc44e6b69f7923a1194aa4dcaf116e397"
 },
 "nbformat": 3,
 "nbformat_minor": 0,
 "worksheets": [
  {
   "cells": [
    {
     "cell_type": "code",
     "collapsed": false,
     "input": [
      "cd C:\\Users\\vaevi_000\\SkyDrive\\ABZ_PhD\\Rosalind"
     ],
     "language": "python",
     "metadata": {},
     "outputs": [
      {
       "output_type": "stream",
       "stream": "stdout",
       "text": [
        "C:\\Users\\vaevi_000\\SkyDrive\\ABZ_PhD\\Rosalind\n"
       ]
      }
     ],
     "prompt_number": 1
    },
    {
     "cell_type": "heading",
     "level": 3,
     "metadata": {},
     "source": [
      "Consensus and Profile"
     ]
    },
    {
     "cell_type": "markdown",
     "metadata": {},
     "source": [
      "Given: A collection of at most 10 DNA strings of equal length (at most 1 kbp) in FASTA format.\n",
      "\n",
      "Return: A consensus string and profile matrix for the collection. (If several possible consensus strings exist, then you may return any one of them.)\n",
      "\n"
     ]
    },
    {
     "cell_type": "code",
     "collapsed": false,
     "input": [
      "from Bio import SeqIO\n",
      "import numpy\n",
      "import pandas as pd\n",
      "\n",
      "handle = open(\"files/rosalind_cons1.txt\", \"rU\")\n",
      "fasta = list(SeqIO.parse(handle, \"fasta\"))\n",
      "\n",
      "seqs = []\n",
      "for i in range(0,len(fasta)):\n",
      "    seqs.append(str(fasta[i].seq))\n",
      "    #print fasta[i].seq\n",
      "\n",
      "#print seqs\n",
      "\n",
      "a = [0] * len(seqs[0])\n",
      "c = [0] * len(seqs[0])\n",
      "g = [0] * len(seqs[0])\n",
      "t = [0] * len(seqs[0])\n",
      "\n",
      "array = numpy.zeros(shape=(4,len(seqs[0])))\n",
      "#print array\n",
      "\n",
      "for seq in range(0,len(seqs)):\n",
      "    for i in range(0,len(seqs[0])):\n",
      "        #print seqs[seq][i]\n",
      "        if seqs[seq][i] == 'A':\n",
      "            a[i] += 1\n",
      "        if seqs[seq][i] == 'C':\n",
      "            c[i] += 1\n",
      "        if seqs[seq][i] == 'G':\n",
      "            g[i] += 1\n",
      "        if seqs[seq][i] == 'T':\n",
      "            t[i] += 1\n",
      "            \n",
      "array[0] = a\n",
      "array[1] = c\n",
      "array[2] = g\n",
      "array[3] = t\n",
      "\n",
      "df = pd.DataFrame(array, index=('A:','C:','G:','T:'))\n",
      "\n",
      "consensus = []\n",
      "\n",
      "\n",
      "for i in range(len(seqs[0])):\n",
      "    if max(df[i]) == a[i]:\n",
      "        consensus.append('A')\n",
      "    elif max(df[i]) == c[i]:\n",
      "        consensus.append('C')\n",
      "    elif max(df[i]) == g[i]:\n",
      "        consensus.append('G')\n",
      "    elif max(df[i]) == t[i]:\n",
      "        consensus.append('T')\n",
      "\n",
      "consensus_string = ''.join(consensus)\n",
      "        \n",
      "A = 'A: '+' '.join(map(str, a))\n",
      "#print A\n",
      "C = 'C: '+' '.join(map(str, c))\n",
      "#print C\n",
      "G = 'G: '+' '.join(map(str, g))\n",
      "#print G\n",
      "T = 'T: '+' '.join(map(str, t))\n",
      "#print T\n",
      "        \n",
      "strings = consensus_string, A,C,G,T\n",
      "#print strings\n",
      "\n",
      "for i in strings:\n",
      "    out_file = open(\"files/CONS.txt\",\"a\")\n",
      "    out_file.write(\"%s %s\" %(i,'\\n'))\n",
      "    \n",
      "    out_file.close()\n",
      "    "
     ],
     "language": "python",
     "metadata": {},
     "outputs": [],
     "prompt_number": 2
    },
    {
     "cell_type": "heading",
     "level": 6,
     "metadata": {},
     "source": [
      "Done"
     ]
    },
    {
     "cell_type": "code",
     "collapsed": false,
     "input": [],
     "language": "python",
     "metadata": {},
     "outputs": []
    }
   ],
   "metadata": {}
  }
 ]
}