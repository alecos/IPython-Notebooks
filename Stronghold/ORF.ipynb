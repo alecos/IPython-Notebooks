{
 "metadata": {
  "name": "",
  "signature": "sha256:d295d249f77aa405155d63fcceccd6a0064eebc441c2818a82b4a718172d2d8f"
 },
 "nbformat": 3,
 "nbformat_minor": 0,
 "worksheets": [
  {
   "cells": [
    {
     "cell_type": "heading",
     "level": 3,
     "metadata": {},
     "source": [
      "Open Reading Frames"
     ]
    },
    {
     "cell_type": "markdown",
     "metadata": {},
     "source": [
      "Given: A DNA string s of length at most 1 kbp in FASTA format.\n",
      "\n",
      "Return: Every distinct candidate protein string that can be translated from ORFs of s. Strings can be returned in any order."
     ]
    },
    {
     "cell_type": "markdown",
     "metadata": {},
     "source": [
      "Sample Dataset"
     ]
    },
    {
     "cell_type": "raw",
     "metadata": {},
     "source": [
      ">Rosalind_99\n",
      "AGCCATGTAGCTAACTCAGGTTACATGGGGATGACCCCGCGACTTGGATTAGAGTCTCTTTTGGAATAAGCCTGAATGATCCGAGTAGCATCTCAG"
     ]
    },
    {
     "cell_type": "markdown",
     "metadata": {},
     "source": [
      "Sample Output"
     ]
    },
    {
     "cell_type": "raw",
     "metadata": {},
     "source": [
      "MLLGSFRLIPKETLIQVAGSSPCNLS\n",
      "M\n",
      "MGMTPRLGLESLLE\n",
      "MTPRLGLESLLE"
     ]
    },
    {
     "cell_type": "code",
     "collapsed": false,
     "input": [
      "def find_orfs(filename):\n",
      "    from Bio import SeqIO\n",
      "    from Bio.Seq import translate\n",
      "    from Bio.Seq import reverse_complement\n",
      "\n",
      "\n",
      "\n",
      "    file=open(filename,'rU')\n",
      "    fasta = list(SeqIO.parse(file, \"fasta\"))\n",
      "    fasta = str(fasta[0].seq)\n",
      "    rv_fasta = reverse_complement(fasta)\n",
      "\n",
      "    stop_codons = (\"TAA\", \"TGA\", \"TAG\")\n",
      "    iterator = range(0,len(fasta)+1)\n",
      "\n",
      "\n",
      "\n",
      "    #print iterator\n",
      "    #print len(fasta)\n",
      "\n",
      "    #if iterator[-1] == len(fasta):     #Checking iterator\n",
      "    #    print 'Iterator ok'\n",
      "\n",
      "    orfs = []\n",
      "\n",
      "    for i in iterator:\n",
      "        if fasta[i:i+3] == 'ATG':\n",
      "            #print 'start',i\n",
      "            for r in range(i,len(fasta),3):\n",
      "                if fasta[i:r][-3:] in stop_codons:\n",
      "                    #print fasta[i:r]\n",
      "                    orfs.append(fasta[i:r])\n",
      "\n",
      "    #print orfs\n",
      "    #For the reverse complement:\n",
      "    for i in iterator:\n",
      "        if rv_fasta[i:i+3] == 'ATG':\n",
      "            #print 'start',i\n",
      "            for r in range(i,len(rv_fasta),3):\n",
      "                #print rv_fasta[i:r][-3:]\n",
      "                if rv_fasta[i:r][-3:] in stop_codons:\n",
      "                    #print 'seq',rv_fasta[i:r]\n",
      "                    orfs.append(rv_fasta[i:r])\n",
      "    #print orfs                \n",
      "    result = []\n",
      "    for i in orfs:\n",
      "        #print i,': ', translate(i,to_stop=True)\n",
      "        if translate(i,to_stop=True) not in result:\n",
      "            result.append(translate(i,to_stop=True))\n",
      "\n",
      "    for f in result:\n",
      "        print f\n"
     ],
     "language": "python",
     "metadata": {},
     "outputs": [],
     "prompt_number": 1
    },
    {
     "cell_type": "code",
     "collapsed": false,
     "input": [
      "find_orfs('../../files/rosalind_orf.txt')"
     ],
     "language": "python",
     "metadata": {},
     "outputs": [
      {
       "output_type": "stream",
       "stream": "stdout",
       "text": [
        "MSSWCSAVHIYLFLCCNSDTHSPICVVMLGKGPLIRRVLGQSWHT\n",
        "MLGKGPLIRRVLGQSWHT\n",
        "MEPGKCV\n",
        "MRLKRPCYRTANSSPGEIYAWITHSDRRTFEILSASAN\n",
        "ML\n",
        "M\n",
        "MKPHMTNSQPPGRSSKTGCR\n",
        "MTNSQPPGRSSKTGCR\n",
        "MHRALVSAA\n",
        "MCVLKPTRVLDTFEWRVQW\n",
        "MAANFSADINRITIVPAIQMCPKPGLVSTHTFQSWCTNRTGSTIPGCCCFTNR\n",
        "MCPKPGLVSTHTFQSWCTNRTGSTIPGCCCFTNR\n",
        "MLLFHQ\n",
        "MLQKLVPDA\n",
        "MHKHCDFLLSILYLTL\n",
        "MSKELNAGGVGVPNRVRSLLGDRGKIVKCSTWYYLQPVFELLPGGCEFVM\n",
        "MKPHIPPLRRLGVFIYLNWQRLRVFQRYACLSA\n",
        "MAVSNAFAGFHIRFNGGVGLTLNVECIGPSVPSHTG\n",
        "MVGLDSR\n",
        "MYRTLGS\n",
        "MRGPFPSITTQIGECVSELQQRNRYI\n",
        "MNSTAPA\n"
       ]
      }
     ],
     "prompt_number": 3
    },
    {
     "cell_type": "heading",
     "level": 6,
     "metadata": {},
     "source": [
      "Done!, thanks for the tip..."
     ]
    },
    {
     "cell_type": "markdown",
     "metadata": {},
     "source": [
      "## LP General Comments\n",
      "\n",
      "* As noted elsewhere: I'm glad you're using functions, but think about how they should be constructed: each function should perform a single, easily-described operation. Mixing file-parsing and the data processing in the same function is not a good structure. It would be better to split the two actions into different functions.\n",
      "* PEP8 would like you to put spaces after commas\n",
      "* Imports should be *outside* functions, at the head of the file"
     ]
    },
    {
     "cell_type": "code",
     "collapsed": false,
     "input": [],
     "language": "python",
     "metadata": {},
     "outputs": []
    }
   ],
   "metadata": {}
  }
 ]
}