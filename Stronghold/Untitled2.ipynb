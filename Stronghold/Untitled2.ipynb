{
 "metadata": {
  "name": "",
  "signature": "sha256:5b8686d1a65bda076f65f2aa39a6eb88cf5ea6d45aec68cccb2f5446a11898da"
 },
 "nbformat": 3,
 "nbformat_minor": 0,
 "worksheets": [
  {
   "cells": [
    {
     "cell_type": "code",
     "collapsed": false,
     "input": [
      "cd C:\\Users\\vaevi_000\\SkyDrive\\ABZ_PhD\\Rosalind"
     ],
     "language": "python",
     "metadata": {},
     "outputs": [
      {
       "output_type": "stream",
       "stream": "stdout",
       "text": [
        "C:\\Users\\vaevi_000\\SkyDrive\\ABZ_PhD\\Rosalind\n"
       ]
      }
     ],
     "prompt_number": 2
    },
    {
     "cell_type": "code",
     "collapsed": false,
     "input": [
      "from Bio import SeqIO\n",
      "\n",
      "file=open('files/rosalind_lcsm.txt','rU')\n",
      "fasta = list(SeqIO.parse(file, \"fasta\"))\n",
      "\n",
      "seqs = []\n",
      "for i in range(0,len(fasta)):\n",
      "    #print fasta[i].seq\n",
      "    seqs.append(str(fasta[i].seq))\n",
      "\n",
      "shortest_seq = min(seqs)\n",
      "print shortest_seq"
     ],
     "language": "python",
     "metadata": {},
     "outputs": [
      {
       "output_type": "stream",
       "stream": "stdout",
       "text": [
        "AAAACACTTTTGTCGAGTTGGGGTCAAGCCACTAATGGTGCATTTTGGCGGAAAGTCCTCATTCATGAGCGCAACCACACAATATCGTGAGGGAGACTACCGTCGGCGTGGTAAATCTTTACTCGTTGACTATTATGTGCCCTGTACAATCGTGGATTACAGTACCCCAGCGGTGGAGCCAGGTATGTGAGAGATGTAACTGCCACCCGGATAAGGAGGGTGCAAGCCACACAGTGCTCCACTGTCCACGTAACGTTTCCATTCGTTATTGCGCTCGTCTTCTGTACCCGGAAGCACAAGCAAATAAGAACGTGCTGCTCTCAATGAAGTATTCTTTGAGTCGAATCGTCCTTATACATTTGTTGTAGTACTATAAAAGCTCTCGAGTGGTTGAGTCACGTCACTCCATTAACACGGTTGTACGCCGATATGGTCTCCATTAAAATAGGCGAAGTAGCCTCAAAGTGTCTCGGTTGCTCGCTTCTCCCTCTGGCCTGTATAATTTAGAAATTATTCCGAAGGAATACGAGGTCTGGACAAACTTGGTTAAGGTGCCGTGGCATTAACAATGGGAGACCATGATCTATCAGCACCAAAGCCGAGGTCCCCTGCATGCAGCGGACAGCGCCCGTCAAGGCTGTTGTGGAATATCTGCAGCACCTGGGCAATGCACTCTGATTCATGAATAGATCGGTTAACAGGTAATTTCTACCGCAACTGAAGTGTGCTGACCCCGTCCGTTGTTGAGACGGACTGCCTATTAAAGCCTTGCTGCTCCCTCGTAGCGTGGTATGGTCAGATCTCGTGAAATTGCCTGGAGCTTGGGCACCTCATAGTAGACCTTCCTCTTCCATCTTTAATGGGTTTGAATCCGCCTAGCGTCTAGCCTCAGGGAATCGTCCTCTCGCCACATAAGGTCAACATTCCTGTGATTAAAAATTCGTGTCACTATGATCTTTCGATTTGTGGTTCTGCGTCTAAGTAAAAGATGGGCACGCGG\n"
       ]
      }
     ],
     "prompt_number": 7
    },
    {
     "cell_type": "code",
     "collapsed": false,
     "input": [
      "start = 0\n",
      "counter = 0\n",
      "commonsubs = []\n",
      "\n",
      "for fw in range(start,len(shortest_seq)+1):\n",
      "    for bk in range(start,len(shortest_seq)+1)[::-1]:\n",
      "        \n",
      "        for single_seq in seqs:\n",
      "            if shortest_seq[fw:bk] in single_seq:\n",
      "                if len(shortest_seq[fw:bk]) > 3:\n",
      "                    if len(shortest_seq[fw:bk]) < 13:\n",
      "                        \n",
      "                        print shortest_seq[fw:bk], len(shortest_seq[fw:bk])"
     ],
     "language": "python",
     "metadata": {},
     "outputs": [
      {
       "ename": "NameError",
       "evalue": "name 'shortest_seq' is not defined",
       "output_type": "pyerr",
       "traceback": [
        "\u001b[1;31m---------------------------------------------------------------------------\u001b[0m\n\u001b[1;31mNameError\u001b[0m                                 Traceback (most recent call last)",
        "\u001b[1;32m<ipython-input-1-4d3d064e62a9>\u001b[0m in \u001b[0;36m<module>\u001b[1;34m()\u001b[0m\n\u001b[0;32m      3\u001b[0m \u001b[0mcommonsubs\u001b[0m \u001b[1;33m=\u001b[0m \u001b[1;33m[\u001b[0m\u001b[1;33m]\u001b[0m\u001b[1;33m\u001b[0m\u001b[0m\n\u001b[0;32m      4\u001b[0m \u001b[1;33m\u001b[0m\u001b[0m\n\u001b[1;32m----> 5\u001b[1;33m \u001b[1;32mfor\u001b[0m \u001b[0mfw\u001b[0m \u001b[1;32min\u001b[0m \u001b[0mrange\u001b[0m\u001b[1;33m(\u001b[0m\u001b[0mstart\u001b[0m\u001b[1;33m,\u001b[0m\u001b[0mlen\u001b[0m\u001b[1;33m(\u001b[0m\u001b[0mshortest_seq\u001b[0m\u001b[1;33m)\u001b[0m\u001b[1;33m+\u001b[0m\u001b[1;36m1\u001b[0m\u001b[1;33m)\u001b[0m\u001b[1;33m:\u001b[0m\u001b[1;33m\u001b[0m\u001b[0m\n\u001b[0m\u001b[0;32m      6\u001b[0m     \u001b[1;32mfor\u001b[0m \u001b[0mbk\u001b[0m \u001b[1;32min\u001b[0m \u001b[0mrange\u001b[0m\u001b[1;33m(\u001b[0m\u001b[0mstart\u001b[0m\u001b[1;33m,\u001b[0m\u001b[0mlen\u001b[0m\u001b[1;33m(\u001b[0m\u001b[0mshortest_seq\u001b[0m\u001b[1;33m)\u001b[0m\u001b[1;33m+\u001b[0m\u001b[1;36m1\u001b[0m\u001b[1;33m)\u001b[0m\u001b[1;33m[\u001b[0m\u001b[1;33m:\u001b[0m\u001b[1;33m:\u001b[0m\u001b[1;33m-\u001b[0m\u001b[1;36m1\u001b[0m\u001b[1;33m]\u001b[0m\u001b[1;33m:\u001b[0m\u001b[1;33m\u001b[0m\u001b[0m\n\u001b[0;32m      7\u001b[0m \u001b[1;33m\u001b[0m\u001b[0m\n",
        "\u001b[1;31mNameError\u001b[0m: name 'shortest_seq' is not defined"
       ]
      }
     ],
     "prompt_number": 1
    },
    {
     "cell_type": "code",
     "collapsed": false,
     "input": [
      "RNA_CODON_TABLE = {\n",
      "    'UUU': 'F',     'CUU': 'L',     'AUU': 'I',     'GUU': 'V',\n",
      "    'UUC': 'F',     'CUC': 'L',     'AUC': 'I',     'GUC': 'V',\n",
      "    'UUA': 'L',     'CUA': 'L',     'AUA': 'I',     'GUA': 'V',\n",
      "    'UUG': 'L',     'CUG': 'L',     'AUG': 'M',     'GUG': 'V',\n",
      "    'UCU': 'S',     'CCU': 'P',     'ACU': 'T',     'GCU': 'A',\n",
      "    'UCC': 'S',     'CCC': 'P',     'ACC': 'T',     'GCC': 'A',\n",
      "    'UCA': 'S',     'CCA': 'P',     'ACA': 'T',     'GCA': 'A',\n",
      "    'UCG': 'S',     'CCG': 'P',     'ACG': 'T',     'GCG': 'A',\n",
      "    'UAU': 'Y',     'CAU': 'H',     'AAU': 'N',     'GAU': 'D',\n",
      "    'UAC': 'Y',     'CAC': 'H',     'AAC': 'N',     'GAC': 'D',\n",
      "    'UAA': 'Stop',  'CAA': 'Q',     'AAA': 'K',     'GAA': 'E',\n",
      "    'UAG': 'Stop',  'CAG': 'Q',     'AAG': 'K',     'GAG': 'E',\n",
      "    'UGU': 'C',     'CGU': 'R',     'AGU': 'S',     'GGU': 'G',\n",
      "    'UGC': 'C',     'CGC': 'R',     'AGC': 'S',     'GGC': 'G',\n",
      "    'UGA': 'Stop',  'CGA': 'R',     'AGA': 'R',     'GGA': 'G',\n",
      "    'UGG': 'W',     'CGG': 'R',     'AGG': 'R',     'GGG': 'G'\n",
      "}\n",
      " \n",
      "def freq_codon():\n",
      "    frequencias = {}\n",
      "    for k, v in RNA_CODON_TABLE.items():\n",
      "        if not frequencias.has_key(v):\n",
      "            frequencias[v] = 0\n",
      "        frequencias[v] += 1\n",
      "    print frequencias\n",
      "    return frequencias\n",
      "\n",
      "\n",
      " \n",
      "def possibilidades_rna(seq_aminoacidos):\n",
      "    f = freq_codon()\n",
      "    n = f['Stop']\n",
      "    \n",
      " \n",
      "    for c in seq_aminoacidos:\n",
      "        n *= f[c] % 1000000\n",
      " \n",
      "    return n\n",
      " \n",
      " \n",
      "#small_dataset = \"MA\"\n",
      "large_dataset = open('files/rosalind_mrna1.txt').read().strip()\n",
      "possibilidades_rna(large_dataset) "
     ],
     "language": "python",
     "metadata": {},
     "outputs": [
      {
       "output_type": "stream",
       "stream": "stdout",
       "text": [
        "{'A': 4, 'M': 1, 'C': 2, 'E': 2, 'D': 2, 'G': 4, 'F': 2, 'I': 3, 'H': 2, 'K': 2, 'Stop': 3, 'L': 6, 'N': 2, 'Q': 2, 'P': 4, 'S': 6, 'R': 6, 'T': 4, 'W': 1, 'V': 4, 'Y': 2}\n"
       ]
      },
      {
       "metadata": {},
       "output_type": "pyout",
       "prompt_number": 24,
       "text": [
        "1596783638851596115338512424122030919877746134169288957762205395462700849696105448060158967399176964158601095332177862307162170641962900714593196782136891965445232921853287388330476300840170883573069937764743035676453820104142658924574574327662085134945830888227368281964790084899832162487691656363269580919951493538493897850428479646376626844450640703709734883390682235112841695350731050001984687598829209923878912L"
       ]
      }
     ],
     "prompt_number": 24
    },
    {
     "cell_type": "code",
     "collapsed": false,
     "input": [
      "frequencias = {}\n",
      "for k, v in RNA_CODON_TABLE.items():\n",
      "    if not frequencias.has_key(v):\n",
      "        frequencias[v] = 0\n",
      "    frequencias[v] += 1\n",
      "print frequencias\n",
      "freq = []\n",
      "for i in large_dataset:\n",
      "    freq.append(frequencias[i])\n",
      "    \n",
      "print freq\n",
      "print len(freq)\n",
      "\n",
      "n = 0 \n",
      "for i in freq:\n",
      "    n *= i \n",
      "print n"
     ],
     "language": "python",
     "metadata": {},
     "outputs": [
      {
       "output_type": "stream",
       "stream": "stdout",
       "text": [
        "{'A': 4, 'M': 1, 'C': 2, 'E': 2, 'D': 2, 'G': 4, 'F': 2, 'I': 3, 'H': 2, 'K': 2, 'Stop': 3, 'L': 6, 'N': 2, 'Q': 2, 'P': 4, 'S': 6, 'R': 6, 'T': 4, 'W': 1, 'V': 4, 'Y': 2}\n",
        "[1, 2, 2, 3, 2, 1, 2, 2, 1, 6, 2, 2, 2, 6, 2, 4, 2, 4, 4, 2, 2, 2, 2, 2, 2, 4, 2, 4, 4, 6, 2, 2, 2, 2, 1, 4, 6, 4, 1, 4, 4, 2, 2, 6, 2, 1, 2, 2, 1, 2, 6, 2, 4, 2, 4, 1, 1, 4, 4, 3, 4, 1, 4, 2, 2, 4, 2, 2, 3, 4, 4, 4, 1, 4, 6, 2, 6, 4, 6, 2, 2, 4, 4, 2, 6, 6, 2, 4, 2, 2, 2, 6, 1, 2, 6, 2, 1, 2, 6, 2, 6, 2, 2, 4, 2, 6, 6, 4, 1, 4, 2, 2, 4, 1, 2, 4, 6, 1, 2, 1, 4, 6, 2, 1, 2, 2, 2, 1, 2, 2, 1, 3, 6, 4, 4, 2, 2, 2, 2, 4, 4, 2, 2, 2, 4, 2, 6, 2, 2, 2, 2, 4, 2, 1, 3, 2, 2, 3, 2, 4, 2, 4, 4, 2, 2, 2, 4, 6, 4, 6, 2, 2, 2, 2, 6, 3, 2, 4, 6, 2, 6, 2, 6, 4, 2, 2, 6, 1, 2, 1, 2, 1, 4, 2, 2, 2, 6, 4, 2, 2, 2, 4, 2, 2, 4, 2, 4, 1, 2, 3, 2, 2, 2, 4, 2, 2, 1, 2, 2, 2, 2, 2, 2, 4, 2, 2, 2, 2, 3, 4, 2, 4, 2, 2, 2, 4, 4, 1, 4, 3, 2, 6, 3, 6, 4, 2, 4, 2, 1, 3, 2, 2, 2, 2, 4, 2, 4, 1, 1, 4, 1, 1, 4, 4, 6, 6, 1, 2, 6, 4, 3, 6, 2, 2, 4, 4, 2, 2, 2, 6, 1, 4, 6, 6, 4, 2, 4, 1, 6, 1, 2, 2, 3, 2, 2, 2, 6, 1, 2, 4, 4, 2, 1, 4, 1, 1, 2, 2, 2, 2, 1, 6, 2, 2, 2, 2, 2, 2, 6, 2, 6, 1, 4, 6, 2, 1, 2, 2, 4, 4, 4, 2, 4, 4, 4, 1, 2, 2, 1, 6, 2, 2, 4, 2, 4, 1, 6, 4, 2, 1, 4, 2, 4, 2, 4, 6, 3, 2, 2, 2, 2, 4, 4, 2, 2, 4, 4, 2, 2, 4, 4, 4, 2, 2, 6, 4, 4, 4, 4, 2, 3, 2, 1, 2, 2, 6, 4, 6, 4, 2, 4, 1, 4, 4, 2, 2, 1, 2, 4, 6, 4, 6, 2, 4, 2, 2, 2, 6, 2, 2, 2, 2, 4, 2, 4, 6, 6, 2, 4, 6, 6, 2, 2, 2, 2, 3, 2, 2, 6, 2, 4, 2, 1, 6, 3, 2, 2, 2, 6, 2, 6, 6, 2, 2, 2, 4, 2, 6, 4, 1, 2, 4, 3, 1, 4, 2, 2, 4, 4, 6, 1, 2, 2, 4, 4, 2, 6, 6, 2, 6, 2, 2, 2, 2, 2, 2, 2, 2, 3, 4, 4, 6, 4, 6, 2, 2, 1, 6, 2, 4, 4, 2, 4, 2, 2, 2, 6, 2, 2, 2, 6, 2, 4, 2, 2, 2, 2, 1, 6, 2, 4, 4, 1, 2, 2, 2, 4, 2, 6, 2, 3, 2, 4, 2, 4, 1, 4, 4, 2, 6, 2, 2, 6, 4, 1, 4, 4, 2, 2, 2, 1, 2, 2, 2, 1, 4, 2, 2, 1, 4, 6, 2, 2, 4, 4, 4, 2, 6, 4, 1, 2, 4, 2, 4, 2, 4, 1, 1, 2, 6, 2, 4, 2, 2, 4, 2, 4, 4, 2, 1, 6, 4, 4, 4, 6, 1, 4, 2, 2, 4, 2, 2, 6, 2, 4, 2, 2, 2, 6, 2, 2, 1, 2, 6, 2, 2, 2, 3, 1, 2, 2, 4, 2, 2, 2, 4, 4, 1, 4, 2, 2, 4, 2, 6, 1, 2, 2, 1, 2, 2, 2, 4, 2, 2, 4, 4, 6, 1, 4, 4, 6, 4, 4, 2, 6, 2, 2, 2, 4, 4, 6, 2, 1, 4, 4, 4, 1, 1, 2, 6, 2, 2, 2, 2, 2, 2, 2, 3, 4, 1, 4, 4, 4, 2, 2, 1, 1, 2, 2, 4, 2, 2, 2, 4, 2, 6, 6, 4, 4, 3, 2, 2, 2, 2, 1, 2, 2, 2, 2, 2, 1, 4, 2, 2, 4, 2, 6, 2, 4, 6, 2, 2, 4, 3, 4, 2, 2, 2, 2, 4, 2, 2, 6, 6, 2, 4, 4, 6, 2, 6, 2, 2, 2, 4, 2, 3, 3, 2, 2, 4, 1, 4, 2, 1, 2, 1, 3, 1, 4, 4, 2, 2, 2, 6, 2, 2, 2, 4, 6, 2, 2, 2, 2, 2, 2, 2, 2, 2, 4, 4, 4, 2, 3, 2, 4, 2, 6, 2, 4, 4, 4, 3, 2, 4, 4, 3, 2, 2, 2, 6, 2, 1, 4, 2, 4, 2, 4, 2, 2, 2, 6, 2, 1, 2, 1, 2, 2, 6, 2, 2, 4, 6, 1, 1, 1, 2, 6, 6, 6, 4, 2, 3, 1, 2, 6, 6, 2, 2, 2, 6, 4, 2, 2, 1, 3, 6, 2, 4, 6, 2, 2, 6, 1, 1, 4, 2, 6, 1, 6, 3, 2, 4, 1, 2, 6, 1, 2, 6, 4, 4, 2, 2, 4, 2, 2, 2, 1, 4, 2, 2, 6, 6, 2, 4, 2, 2, 2, 2, 1, 4, 1, 2, 4, 4, 4, 1, 2, 2, 4, 3, 6, 2, 2, 6, 2, 2, 4, 6, 4, 2, 2, 6, 2, 1, 4, 2, 2, 4, 2, 4, 6, 4, 2, 6, 6, 2, 4, 6, 6, 6, 1, 2, 2, 6, 4, 2, 2, 2, 1, 2, 4, 2, 4, 6, 4, 4, 2, 4, 4, 2, 2, 4, 6, 2, 2, 4, 6, 2, 2, 2, 2, 1, 6, 2, 2, 2, 2, 4, 2, 6, 6, 6, 2, 2, 2, 2, 4, 4, 4, 1, 2, 4, 2, 2, 2, 2, 2, 2, 6, 1, 6, 2, 2, 1, 2, 2, 4, 1, 2, 4, 4, 2, 2, 4, 2, 2, 1, 4]\n",
        "998\n",
        "0\n"
       ]
      }
     ],
     "prompt_number": 25
    },
    {
     "cell_type": "code",
     "collapsed": false,
     "input": [],
     "language": "python",
     "metadata": {},
     "outputs": []
    }
   ],
   "metadata": {}
  }
 ]
}