{
 "metadata": {
  "name": "",
  "signature": "sha256:d1a4c28c293fe6d571f542209e79173d1e5bd3c183ee7280e40eb7c9d8b52672"
 },
 "nbformat": 3,
 "nbformat_minor": 0,
 "worksheets": [
  {
   "cells": [
    {
     "cell_type": "code",
     "collapsed": false,
     "input": [
      "cd C:\\Users\\ab42313\\OneDrive\\ABZ_PhD\\Rosalind"
     ],
     "language": "python",
     "metadata": {},
     "outputs": [
      {
       "output_type": "stream",
       "stream": "stdout",
       "text": [
        "C:\\Users\\ab42313\\OneDrive\\ABZ_PhD\\Rosalind\n"
       ]
      }
     ],
     "prompt_number": 1
    },
    {
     "cell_type": "heading",
     "level": 3,
     "metadata": {},
     "source": [
      "Genome Assembly as Shortest Superstring"
     ]
    },
    {
     "cell_type": "markdown",
     "metadata": {},
     "source": [
      "Given: At most 50 DNA strings whose length does not exceed 1 kbp in FASTA format (which represent reads deriving from the same strand of a single linear chromosome).\n",
      "\n",
      "The dataset is guaranteed to satisfy the following condition: there exists a unique way to reconstruct the entire chromosome from these reads by gluing together pairs of reads that overlap by **more** than half their length.\n",
      "\n",
      "Return: A shortest superstring containing all the given strings (thus corresponding to a reconstructed chromosome).\n",
      "\n",
      "Sample Dataset"
     ]
    },
    {
     "cell_type": "raw",
     "metadata": {},
     "source": [
      ">Rosalind_56\n",
      "ATTAGACCTG\n",
      ">Rosalind_57\n",
      "CCTGCCGGAA\n",
      ">Rosalind_58\n",
      "AGACCTGCCG\n",
      ">Rosalind_59\n",
      "GCCGGAATAC"
     ]
    },
    {
     "cell_type": "markdown",
     "metadata": {},
     "source": [
      "Sample Output"
     ]
    },
    {
     "cell_type": "raw",
     "metadata": {},
     "source": [
      "ATTAGACCTGCCGGAATAC"
     ]
    },
    {
     "cell_type": "markdown",
     "metadata": {},
     "source": [
      "**Solution:**"
     ]
    },
    {
     "cell_type": "markdown",
     "metadata": {},
     "source": [
      "Principal function:"
     ]
    },
    {
     "cell_type": "code",
     "collapsed": false,
     "input": [
      "def make_superstring(sequences, k_value):\n",
      "    \n",
      "    '''Unifies couple of sequences with overlapping endings'''\n",
      "    \n",
      "    \n",
      "    k = k_value    \n",
      "    for single_seq1 in sequences:\n",
      "        for single_seq2 in sequences:\n",
      "            \n",
      "            if len(seqs) > 1:\n",
      "                \n",
      "                ## The sense of the program is to check if two reads in the pool overlap.\n",
      "                ## Considering the longest overlap possible as first and evaluating shorter pieces progressively when two reads\n",
      "                ## do overlap they represent the couple that shares the longest overlap among the whole pool:\n",
      "                ## I am therefore free to remove them from the pool of reads after have unified the reads.\n",
      "                \n",
      "                ## The contig generated will be reinserred in the reads pool so the function becomes iterable.\n",
      "                \n",
      "                if single_seq1[-k:] == single_seq2[:k]:\n",
      "                    if single_seq1 != single_seq2:\n",
      "\n",
      "                        #print single_seq1, single_seq2\n",
      "                        #print single_seq1 + single_seq2[k:]\n",
      "                        seqs.append(single_seq1 + single_seq2[k:])\n",
      "                        seqs.remove(single_seq1)\n",
      "                        seqs.remove(single_seq2)\n",
      "\n",
      "\n",
      "                elif single_seq1[:k] == single_seq2[-k:]:\n",
      "                    if single_seq1 != single_seq2:\n",
      "\n",
      "                        #print single_seq1, single_seq2\n",
      "                        #print single_seq2[:-k] + single_seq1\n",
      "                        seqs.append(single_seq2[:-k] + single_seq1)\n",
      "                        seqs.remove(single_seq1)\n",
      "                        seqs.remove(single_seq2)\n",
      "    \n",
      "    #print seqs\n",
      "        "
     ],
     "language": "python",
     "metadata": {},
     "outputs": [],
     "prompt_number": 2
    },
    {
     "cell_type": "markdown",
     "metadata": {},
     "source": [
      "Data import:"
     ]
    },
    {
     "cell_type": "code",
     "collapsed": false,
     "input": [
      "from Bio import SeqIO\n",
      "\n",
      "file=open('files/rosalind_long2.txt','rU')\n",
      "fasta = list(SeqIO.parse(file, \"fasta\"))\n",
      "\n",
      "seqs = []\n",
      "for i in range(0,len(fasta)):\n",
      "    #print fasta[i].seq\n",
      "    seqs.append(str(fasta[i].seq))\n",
      "\n",
      "#print seqs"
     ],
     "language": "python",
     "metadata": {},
     "outputs": [],
     "prompt_number": 3
    },
    {
     "cell_type": "markdown",
     "metadata": {},
     "source": [
      "Function application on the created environment:"
     ]
    },
    {
     "cell_type": "code",
     "collapsed": false,
     "input": [
      "n = len(seqs)\n",
      "left_bound = len(max(seqs))/2 + 1\n",
      "rigt_bound = len(max(seqs))\n",
      "\n",
      "for do in range(0,n):                           ## This loop should run n/2 times. Given that I will make it run for a maximum \n",
      "    if len(seqs) > 1:                           ## of n times stopping it when i will have a consensus instead of a group of sequences\n",
      "        for i in range(left_bound,rigt_bound):\n",
      "            make_superstring(seqs,i)\n",
      "            #print i\n",
      "\n",
      "consensus = ''\n",
      "if len(seqs) == 1:\n",
      "    consensus = str(seqs[0])\n",
      "\n",
      "#print len(seqs)      \n",
      "#print ''.join(map(str,seqs))\n",
      "\n",
      "text_file = open(\"files/consensus_string.txt\", \"w\")         ## Creating output text file\n",
      "text_file.write(\"%s\" % consensus)\n",
      "text_file.close() "
     ],
     "language": "python",
     "metadata": {},
     "outputs": [],
     "prompt_number": 4
    },
    {
     "cell_type": "heading",
     "level": 6,
     "metadata": {},
     "source": [
      "Done!!"
     ]
    },
    {
     "cell_type": "code",
     "collapsed": false,
     "input": [],
     "language": "python",
     "metadata": {},
     "outputs": []
    }
   ],
   "metadata": {}
  }
 ]
}