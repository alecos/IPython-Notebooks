{
 "metadata": {
  "name": "",
  "signature": "sha256:96658a4888050b2aa2a49fb55cdf10005c0f9cc1992b58484d32e3361bc99f96"
 },
 "nbformat": 3,
 "nbformat_minor": 0,
 "worksheets": [
  {
   "cells": [
    {
     "cell_type": "heading",
     "level": 3,
     "metadata": {},
     "source": [
      "Enumerating Oriented Gene Orderings"
     ]
    },
    {
     "cell_type": "markdown",
     "metadata": {},
     "source": [
      "Given: A positive integer n\u22646.\n",
      "\n",
      "Return: The total number of signed permutations of length n, followed by a list of all such permutations (you may list the signed permutations in any order)."
     ]
    },
    {
     "cell_type": "markdown",
     "metadata": {},
     "source": [
      "Sample Dataset"
     ]
    },
    {
     "cell_type": "raw",
     "metadata": {},
     "source": [
      "2"
     ]
    },
    {
     "cell_type": "markdown",
     "metadata": {},
     "source": [
      "Sample Output"
     ]
    },
    {
     "cell_type": "raw",
     "metadata": {},
     "source": [
      "8\n",
      "-1 -2\n",
      "-1 2\n",
      "1 -2\n",
      "1 2\n",
      "-2 -1\n",
      "-2 1\n",
      "2 -1\n",
      "2 1"
     ]
    },
    {
     "cell_type": "code",
     "collapsed": false,
     "input": [
      "def enum_signed_perm(lenght):\n",
      "    from itertools import permutations\n",
      "       \n",
      "    \n",
      "    n = int(lenght)\n",
      "\n",
      "    numbers = range(1,n+1)\n",
      "    num = []\n",
      "    for i in numbers:\n",
      "        num.append(i)\n",
      "        num.append(0-i)\n",
      "    \n",
      "    possibilities = list(permutations(num,lenght))\n",
      "    #print 'Combinations: ',possibilities\n",
      "\n",
      "    absolute_values = [] \n",
      "    final = []\n",
      "    marker = []   #Will be used as a 'switch' for discarding invalid combinations\n",
      "    for combination in possibilities:\n",
      "        \n",
      "        for single_number in combination:\n",
      "            absolute_values.append(abs(single_number))\n",
      "            #print absolute_values  \n",
      "            if absolute_values.count(abs(single_number)) > 1:\n",
      "                marker.append('No')     #If a number is present more than once in combination the 'switch' allows me to discard it\n",
      "                #print single_number\n",
      "                #print yes\n",
      "\n",
      "        if len(marker) == 0:\n",
      "            final.append(combination)\n",
      "        marker = []\n",
      "        absolute_values = []\n",
      "    \n",
      "    print len(final)\n",
      "    for i in final:\n",
      "        print ' '.join(map(str, i))\n"
     ],
     "language": "python",
     "metadata": {},
     "outputs": [],
     "prompt_number": 1
    },
    {
     "cell_type": "code",
     "collapsed": false,
     "input": [
      "enum_signed_perm(3)"
     ],
     "language": "python",
     "metadata": {},
     "outputs": [
      {
       "output_type": "stream",
       "stream": "stdout",
       "text": [
        "48\n",
        "1 2 3\n",
        "1 2 -3\n",
        "1 -2 3\n",
        "1 -2 -3\n",
        "1 3 2\n",
        "1 3 -2\n",
        "1 -3 2\n",
        "1 -3 -2\n",
        "-1 2 3\n",
        "-1 2 -3\n",
        "-1 -2 3\n",
        "-1 -2 -3\n",
        "-1 3 2\n",
        "-1 3 -2\n",
        "-1 -3 2\n",
        "-1 -3 -2\n",
        "2 1 3\n",
        "2 1 -3\n",
        "2 -1 3\n",
        "2 -1 -3\n",
        "2 3 1\n",
        "2 3 -1\n",
        "2 -3 1\n",
        "2 -3 -1\n",
        "-2 1 3\n",
        "-2 1 -3\n",
        "-2 -1 3\n",
        "-2 -1 -3\n",
        "-2 3 1\n",
        "-2 3 -1\n",
        "-2 -3 1\n",
        "-2 -3 -1\n",
        "3 1 2\n",
        "3 1 -2\n",
        "3 -1 2\n",
        "3 -1 -2\n",
        "3 2 1\n",
        "3 2 -1\n",
        "3 -2 1\n",
        "3 -2 -1\n",
        "-3 1 2\n",
        "-3 1 -2\n",
        "-3 -1 2\n",
        "-3 -1 -2\n",
        "-3 2 1\n",
        "-3 2 -1\n",
        "-3 -2 1\n",
        "-3 -2 -1\n"
       ]
      }
     ],
     "prompt_number": 2
    },
    {
     "cell_type": "heading",
     "level": 3,
     "metadata": {},
     "source": [
      "Done!"
     ]
    },
    {
     "cell_type": "markdown",
     "metadata": {},
     "source": [
      "Here follows the function that resolves the problem starting from the input file and not from the single number"
     ]
    },
    {
     "cell_type": "code",
     "collapsed": false,
     "input": [
      "def enum_signed_perm_from_file(filename):\n",
      "    from itertools import permutations\n",
      "    \n",
      "    file = open(filename,'rU')\n",
      "    n = int(file.readline())\n",
      "    \n",
      "    numbers = range(1,n+1)\n",
      "    num = []\n",
      "    for i in numbers:\n",
      "        num.append(i)\n",
      "        num.append(0-i)\n",
      "    \n",
      "    possibilities = list(permutations(num,n))\n",
      "    #print 'Combinations: ',possibilities\n",
      "\n",
      "    absolute_values = [] \n",
      "    final = []\n",
      "    marker = []   #Will be used as a 'switch' for discarding invalid combinations\n",
      "    for combination in possibilities:\n",
      "        \n",
      "        for single_number in combination:\n",
      "            absolute_values.append(abs(single_number))\n",
      "            #print absolute_values  \n",
      "            if absolute_values.count(abs(single_number)) > 1:\n",
      "                marker.append('No')     #If a number is present more than once in combination the 'switch' allows me to discard it\n",
      "                #print single_number\n",
      "                #print yes\n",
      "\n",
      "        if len(marker) == 0:\n",
      "            final.append(combination)\n",
      "        marker = []\n",
      "        absolute_values = []\n",
      "    \n",
      "    print len(final)\n",
      "    for i in final:\n",
      "        print ' '.join(map(str, i))\n"
     ],
     "language": "python",
     "metadata": {},
     "outputs": [],
     "prompt_number": 3
    },
    {
     "cell_type": "code",
     "collapsed": false,
     "input": [
      "enum_signed_perm_from_file('../../files/rosalind_sign.txt')"
     ],
     "language": "python",
     "metadata": {},
     "outputs": [
      {
       "output_type": "stream",
       "stream": "stdout",
       "text": [
        "48\n",
        "1 2 3\n",
        "1 2 -3\n",
        "1 -2 3\n",
        "1 -2 -3\n",
        "1 3 2\n",
        "1 3 -2\n",
        "1 -3 2\n",
        "1 -3 -2\n",
        "-1 2 3\n",
        "-1 2 -3\n",
        "-1 -2 3\n",
        "-1 -2 -3\n",
        "-1 3 2\n",
        "-1 3 -2\n",
        "-1 -3 2\n",
        "-1 -3 -2\n",
        "2 1 3\n",
        "2 1 -3\n",
        "2 -1 3\n",
        "2 -1 -3\n",
        "2 3 1\n",
        "2 3 -1\n",
        "2 -3 1\n",
        "2 -3 -1\n",
        "-2 1 3\n",
        "-2 1 -3\n",
        "-2 -1 3\n",
        "-2 -1 -3\n",
        "-2 3 1\n",
        "-2 3 -1\n",
        "-2 -3 1\n",
        "-2 -3 -1\n",
        "3 1 2\n",
        "3 1 -2\n",
        "3 -1 2\n",
        "3 -1 -2\n",
        "3 2 1\n",
        "3 2 -1\n",
        "3 -2 1\n",
        "3 -2 -1\n",
        "-3 1 2\n",
        "-3 1 -2\n",
        "-3 -1 2\n",
        "-3 -1 -2\n",
        "-3 2 1\n",
        "-3 2 -1\n",
        "-3 -2 1\n",
        "-3 -2 -1\n"
       ]
      }
     ],
     "prompt_number": 4
    },
    {
     "cell_type": "markdown",
     "metadata": {},
     "source": [
      "## LP General Comments\n",
      "\n",
      "* I like that you've put your code into functions.\n",
      "* Your code is looking much more [PEP8-compliant](https://www.python.org/dev/peps/pep-0008/), now. There's still a tendency not to put spaces after commas, though.\n",
      "* Your comments are useful, but there could be more of them. \n",
      "* You found the `itertools` module, which is exactly what you needed.\n",
      "* Module imports should not generally go inside functions - they should be imported at the head of the file.\n",
      "* Functions should perform a single, easy to describe task. You should look to see how you can break down what the code is doing into different activities of this sort. For example, here you have combined the file parsing and finding permutations into a single function. It would be better to split file parsing and finding permutations into two different functions. \n",
      "\n",
      "More specific points are in the cells, below."
     ]
    },
    {
     "cell_type": "markdown",
     "metadata": {},
     "source": [
      "### 1) Specifying a negative of a variable\n",
      "\n",
      "In your code, you have used `num.append(0-i)` to append the negative of a variable `i` to a list. Two things: (i) PEP8 would prefer `num.append(0 - i)` in this context; (ii) it's clearer to use `num.append(-i)`, as the `-` operator does double duty as a sign operator and the minus operator."
     ]
    },
    {
     "cell_type": "code",
     "collapsed": false,
     "input": [
      "i = 10\n",
      "print(i, -i)"
     ],
     "language": "python",
     "metadata": {},
     "outputs": [
      {
       "output_type": "stream",
       "stream": "stdout",
       "text": [
        "(10, -10)\n"
       ]
      }
     ],
     "prompt_number": 5
    },
    {
     "cell_type": "markdown",
     "metadata": {},
     "source": [
      "### 2) Alternative solution\n",
      "\n",
      "As you saw, there are two steps to this problem:\n",
      "\n",
      "1. Generate all permutations from the list [-n, -(n-1), ... n-1, n]\n",
      "2. Restrict the returned set of permutations to those that don't duplicate k and -k.\n",
      "\n",
      "There are some neat standard library tricks you can use to do this very efficiently."
     ]
    },
    {
     "cell_type": "markdown",
     "metadata": {},
     "source": [
      "First of all, we can generate all our permutations (for length 3, in this example), but not as you did above - we need only generate the permutations for positive values."
     ]
    },
    {
     "cell_type": "code",
     "collapsed": false,
     "input": [
      "from itertools import permutations\n",
      "\n",
      "perms = permutations(range(1, 4))\n",
      "print list(perms)"
     ],
     "language": "python",
     "metadata": {},
     "outputs": [
      {
       "output_type": "stream",
       "stream": "stdout",
       "text": [
        "[(1, 2, 3), (1, 3, 2), (2, 1, 3), (2, 3, 1), (3, 1, 2), (3, 2, 1)]\n"
       ]
      }
     ],
     "prompt_number": 6
    },
    {
     "cell_type": "markdown",
     "metadata": {},
     "source": [
      "Now we can use another neat tool from `itertools`: [`product()`](https://docs.python.org/2/library/itertools.html#itertools.product). This gives us the *Cartesian product* of a list of sequences, as you can see below:"
     ]
    },
    {
     "cell_type": "code",
     "collapsed": false,
     "input": [
      "from itertools import product\n",
      "\n",
      "prod = product([1, 2, 3], [4, 5, 6])\n",
      "print list(prod)"
     ],
     "language": "python",
     "metadata": {},
     "outputs": [
      {
       "output_type": "stream",
       "stream": "stdout",
       "text": [
        "[(1, 4), (1, 5), (1, 6), (2, 4), (2, 5), (2, 6), (3, 4), (3, 5), (3, 6)]\n"
       ]
      }
     ],
     "prompt_number": 7
    },
    {
     "cell_type": "markdown",
     "metadata": {},
     "source": [
      "So the neat trick we can use here is to use more than one sequence\u2026"
     ]
    },
    {
     "cell_type": "code",
     "collapsed": false,
     "input": [
      "moreprod = product([1, 2, 3], [4, 5, 6], [7, 8, 9])\n",
      "print list(moreprod)"
     ],
     "language": "python",
     "metadata": {},
     "outputs": [
      {
       "output_type": "stream",
       "stream": "stdout",
       "text": [
        "[(1, 4, 7), (1, 4, 8), (1, 4, 9), (1, 5, 7), (1, 5, 8), (1, 5, 9), (1, 6, 7), (1, 6, 8), (1, 6, 9), (2, 4, 7), (2, 4, 8), (2, 4, 9), (2, 5, 7), (2, 5, 8), (2, 5, 9), (2, 6, 7), (2, 6, 8), (2, 6, 9), (3, 4, 7), (3, 4, 8), (3, 4, 9), (3, 5, 7), (3, 5, 8), (3, 5, 9), (3, 6, 7), (3, 6, 8), (3, 6, 9)]\n"
       ]
      }
     ],
     "prompt_number": 8
    },
    {
     "cell_type": "markdown",
     "metadata": {},
     "source": [
      "As you can probably guess by now, if we provide lists of (+k, -k) values, we get somewhere near what we want:"
     ]
    },
    {
     "cell_type": "code",
     "collapsed": false,
     "input": [
      "posnegprod = product([1, -1], [2, -2], [3, -3])\n",
      "print list(posnegprod)"
     ],
     "language": "python",
     "metadata": {},
     "outputs": [
      {
       "output_type": "stream",
       "stream": "stdout",
       "text": [
        "[(1, 2, 3), (1, 2, -3), (1, -2, 3), (1, -2, -3), (-1, 2, 3), (-1, 2, -3), (-1, -2, 3), (-1, -2, -3)]\n"
       ]
      }
     ],
     "prompt_number": 9
    },
    {
     "cell_type": "markdown",
     "metadata": {},
     "source": [
      "and as you can see, this gives us all the positive and negative permutations, for *a single permutation of the values*. So, what we need to do somehow is this, for all the permutations of length 3 that we had above.\n",
      "\n",
      "But how do we generate such a list, suitable for passing to `product()`? A list comprehension would do it:"
     ]
    },
    {
     "cell_type": "code",
     "collapsed": false,
     "input": [
      "perms = list(permutations(range(1, 4)))\n",
      "print perms"
     ],
     "language": "python",
     "metadata": {},
     "outputs": [
      {
       "output_type": "stream",
       "stream": "stdout",
       "text": [
        "[(1, 2, 3), (1, 3, 2), (2, 1, 3), (2, 3, 1), (3, 1, 2), (3, 2, 1)]\n"
       ]
      }
     ],
     "prompt_number": 10
    },
    {
     "cell_type": "code",
     "collapsed": false,
     "input": [
      "for perm in perms:\n",
      "    print([[val, -val] for val in perm])"
     ],
     "language": "python",
     "metadata": {},
     "outputs": [
      {
       "output_type": "stream",
       "stream": "stdout",
       "text": [
        "[[1, -1], [2, -2], [3, -3]]\n",
        "[[1, -1], [3, -3], [2, -2]]\n",
        "[[2, -2], [1, -1], [3, -3]]\n",
        "[[2, -2], [3, -3], [1, -1]]\n",
        "[[3, -3], [1, -1], [2, -2]]\n",
        "[[3, -3], [2, -2], [1, -1]]\n"
       ]
      }
     ],
     "prompt_number": 11
    },
    {
     "cell_type": "markdown",
     "metadata": {},
     "source": [
      "But, if we try to pass a list of lists to `product()`, it doesn't work:"
     ]
    },
    {
     "cell_type": "code",
     "collapsed": false,
     "input": [
      "list(product([[3, -3], [2, -2], [1, -1]]))"
     ],
     "language": "python",
     "metadata": {},
     "outputs": [
      {
       "metadata": {},
       "output_type": "pyout",
       "prompt_number": 12,
       "text": [
        "[([3, -3],), ([2, -2],), ([1, -1],)]"
       ]
      }
     ],
     "prompt_number": 12
    },
    {
     "cell_type": "markdown",
     "metadata": {},
     "source": [
      "So we need to use a neat Python feature that *unpacks* sequences so they can be used as arguments to a function. To do this, you prefix the sequence with an asterisk `*` - that makes the function treat the list/tuple/whatever as a sequence of arguments:"
     ]
    },
    {
     "cell_type": "code",
     "collapsed": false,
     "input": [
      "list(product(*[[3, -3], [2, -2], [1, -1]]))"
     ],
     "language": "python",
     "metadata": {},
     "outputs": [
      {
       "metadata": {},
       "output_type": "pyout",
       "prompt_number": 13,
       "text": [
        "[(3, 2, 1),\n",
        " (3, 2, -1),\n",
        " (3, -2, 1),\n",
        " (3, -2, -1),\n",
        " (-3, 2, 1),\n",
        " (-3, 2, -1),\n",
        " (-3, -2, 1),\n",
        " (-3, -2, -1)]"
       ]
      }
     ],
     "prompt_number": 13
    },
    {
     "cell_type": "markdown",
     "metadata": {},
     "source": [
      "So, we can put this all together as:"
     ]
    },
    {
     "cell_type": "code",
     "collapsed": false,
     "input": [
      "for perm in permutations(range(1, 4)):\n",
      "    print list(product(*[[val, -val] for val in perm]))"
     ],
     "language": "python",
     "metadata": {},
     "outputs": [
      {
       "output_type": "stream",
       "stream": "stdout",
       "text": [
        "[(1, 2, 3), (1, 2, -3), (1, -2, 3), (1, -2, -3), (-1, 2, 3), (-1, 2, -3), (-1, -2, 3), (-1, -2, -3)]\n",
        "[(1, 3, 2), (1, 3, -2), (1, -3, 2), (1, -3, -2), (-1, 3, 2), (-1, 3, -2), (-1, -3, 2), (-1, -3, -2)]\n",
        "[(2, 1, 3), (2, 1, -3), (2, -1, 3), (2, -1, -3), (-2, 1, 3), (-2, 1, -3), (-2, -1, 3), (-2, -1, -3)]\n",
        "[(2, 3, 1), (2, 3, -1), (2, -3, 1), (2, -3, -1), (-2, 3, 1), (-2, 3, -1), (-2, -3, 1), (-2, -3, -1)]\n",
        "[(3, 1, 2), (3, 1, -2), (3, -1, 2), (3, -1, -2), (-3, 1, 2), (-3, 1, -2), (-3, -1, 2), (-3, -1, -2)]\n",
        "[(3, 2, 1), (3, 2, -1), (3, -2, 1), (3, -2, -1), (-3, 2, 1), (-3, 2, -1), (-3, -2, 1), (-3, -2, -1)]\n"
       ]
      }
     ],
     "prompt_number": 14
    },
    {
     "cell_type": "markdown",
     "metadata": {},
     "source": [
      "That gives us one list for each permutation, and we need to put these into a single list, which we can do like so:"
     ]
    },
    {
     "cell_type": "code",
     "collapsed": false,
     "input": [
      "signed_perms = []\n",
      "for perm in permutations(range(1, 4)):\n",
      "    signed_perms.extend(product(*[[val, -val] for val in perm]))\n",
      "print signed_perms"
     ],
     "language": "python",
     "metadata": {},
     "outputs": [
      {
       "output_type": "stream",
       "stream": "stdout",
       "text": [
        "[(1, 2, 3), (1, 2, -3), (1, -2, 3), (1, -2, -3), (-1, 2, 3), (-1, 2, -3), (-1, -2, 3), (-1, -2, -3), (1, 3, 2), (1, 3, -2), (1, -3, 2), (1, -3, -2), (-1, 3, 2), (-1, 3, -2), (-1, -3, 2), (-1, -3, -2), (2, 1, 3), (2, 1, -3), (2, -1, 3), (2, -1, -3), (-2, 1, 3), (-2, 1, -3), (-2, -1, 3), (-2, -1, -3), (2, 3, 1), (2, 3, -1), (2, -3, 1), (2, -3, -1), (-2, 3, 1), (-2, 3, -1), (-2, -3, 1), (-2, -3, -1), (3, 1, 2), (3, 1, -2), (3, -1, 2), (3, -1, -2), (-3, 1, 2), (-3, 1, -2), (-3, -1, 2), (-3, -1, -2), (3, 2, 1), (3, 2, -1), (3, -2, 1), (3, -2, -1), (-3, 2, 1), (-3, 2, -1), (-3, -2, 1), (-3, -2, -1)]\n"
       ]
      }
     ],
     "prompt_number": 15
    },
    {
     "cell_type": "markdown",
     "metadata": {},
     "source": [
      "And it should be easy for you to see how this could be turned into a function that takes a single value as an argument, and returns this list of signed permutations."
     ]
    },
    {
     "cell_type": "code",
     "collapsed": false,
     "input": [],
     "language": "python",
     "metadata": {},
     "outputs": [],
     "prompt_number": 15
    }
   ],
   "metadata": {}
  }
 ]
}