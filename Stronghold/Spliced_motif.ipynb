{
 "metadata": {
  "name": "",
  "signature": "sha256:ebabccdc1d8d8e710297e0edf7f68a29632ca38e4ff51548a4ba532d8470e8c3"
 },
 "nbformat": 3,
 "nbformat_minor": 0,
 "worksheets": [
  {
   "cells": [
    {
     "cell_type": "code",
     "collapsed": false,
     "input": [
      "cd C:\\Users\\vaevi_000\\SkyDrive\\ABZ_PhD\\Rosalind"
     ],
     "language": "python",
     "metadata": {},
     "outputs": [
      {
       "output_type": "stream",
       "stream": "stdout",
       "text": [
        "C:\\Users\\vaevi_000\\SkyDrive\\ABZ_PhD\\Rosalind\n"
       ]
      }
     ],
     "prompt_number": 1
    },
    {
     "cell_type": "heading",
     "level": 3,
     "metadata": {},
     "source": [
      "Finding a Spliced Motif"
     ]
    },
    {
     "cell_type": "markdown",
     "metadata": {},
     "source": [
      "Given: Two DNA strings s and t (each of length at most 1 kbp) in FASTA format.\n",
      "\n",
      "Return: One collection of indices of s in which the symbols of t appear as a subsequence of s. If multiple solutions exist, you may return any one."
     ]
    },
    {
     "cell_type": "code",
     "collapsed": false,
     "input": [
      "from Bio import SeqIO\n",
      "from Bio.Seq import reverse_complement\n",
      "\n",
      "handle = open(\"files/spliced_subsequence.txt\", \"rU\")\n",
      "fasta = list(SeqIO.parse(handle, \"fasta\"))\n",
      "seq = str(fasta[0].seq)\n",
      "subsequence = str(fasta[1].seq)\n",
      "print seq\n",
      "print subsequence\n",
      "base_iterator = range(0,len(seq))\n",
      "positions = 0\n",
      "trimmed_seq = seq\n",
      "\n",
      "a = []\n",
      "c = []\n",
      "g = []\n",
      "t = []\n",
      "\n",
      "\n",
      "for base in subsequence:\n",
      "\n",
      "    for i in base_iterator:\n",
      "        \n",
      "        if seq[i] == base: \n",
      "            if base == 'A':\n",
      "                a.append(i+1)\n",
      "        if seq[i] == base: \n",
      "            if base == 'C':\n",
      "                c.append(i+1)\n",
      "        if seq[i] == base: \n",
      "            if base == 'G':\n",
      "                g.append(i+1)\n",
      "        if seq[i] == base: \n",
      "            if base == 'T':\n",
      "                t.append(i+1)\n",
      "                \n",
      "print a\n",
      "print c\n",
      "print g\n",
      "print t\n",
      "        \n",
      "for i in subsequence:\n",
      "    if i =\n",
      "            \n"
     ],
     "language": "python",
     "metadata": {},
     "outputs": [
      {
       "output_type": "stream",
       "stream": "stdout",
       "text": [
        "ACGTACGTGACG\n",
        "GTA\n",
        "[1, 5, 10]\n",
        "[]\n",
        "[3, 7, 9, 12]\n",
        "[4, 8]\n"
       ]
      }
     ],
     "prompt_number": 75
    },
    {
     "cell_type": "markdown",
     "metadata": {},
     "source": [
      "Also here, just need to find out how to find alla the indexes of acharacter in a string and not only the first one..."
     ]
    },
    {
     "cell_type": "code",
     "collapsed": false,
     "input": [
      "a = 'ciaociao'\n",
      "a.find('a',-1)"
     ],
     "language": "python",
     "metadata": {},
     "outputs": [
      {
       "metadata": {},
       "output_type": "pyout",
       "prompt_number": 78,
       "text": [
        "-1"
       ]
      }
     ],
     "prompt_number": 78
    },
    {
     "cell_type": "code",
     "collapsed": false,
     "input": [],
     "language": "python",
     "metadata": {},
     "outputs": []
    }
   ],
   "metadata": {}
  }
 ]
}