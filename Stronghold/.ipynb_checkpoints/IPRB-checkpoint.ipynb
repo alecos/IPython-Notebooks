{
 "metadata": {
  "name": "",
  "signature": "sha256:496597895d04d828cd43c7c67f7da7469f476e7687580e209be69245d2f832fc"
 },
 "nbformat": 3,
 "nbformat_minor": 0,
 "worksheets": [
  {
   "cells": [
    {
     "cell_type": "code",
     "collapsed": false,
     "input": [
      "cd C:\\Users\\vaevi_000\\SkyDrive\\ABZ_PhD\\Rosalind"
     ],
     "language": "python",
     "metadata": {},
     "outputs": [
      {
       "output_type": "stream",
       "stream": "stdout",
       "text": [
        "C:\\Users\\vaevi_000\\SkyDrive\\ABZ_PhD\\Rosalind\n"
       ]
      }
     ],
     "prompt_number": 2
    },
    {
     "cell_type": "heading",
     "level": 3,
     "metadata": {},
     "source": [
      "Mendel's First Law"
     ]
    },
    {
     "cell_type": "markdown",
     "metadata": {},
     "source": [
      "Given: Three positive integers k, m, and n, representing a population containing k+m+n organisms: k individuals are homozygous dominant for a factor, m are heterozygous, and n are homozygous recessive.\n",
      "\n",
      "Return: The probability that two randomly selected mating organisms will produce an individual possessing a dominant allele (and thus displaying the dominant phenotype). Assume that any two organisms can mate."
     ]
    },
    {
     "cell_type": "heading",
     "level": 1,
     "metadata": {},
     "source": [
      "<img src=\"http://rosalind.info/media/problems/iprb/balls_tree.png\">"
     ]
    },
    {
     "cell_type": "code",
     "collapsed": false,
     "input": [
      "file = open('files/mendel.txt','rU')\n",
      "file = file.readline().split(' ')\n",
      "\n",
      "\n",
      "k = float(file[0])\n",
      "print 'k:',k\n",
      "m = float(file[1])\n",
      "print 'm:',m\n",
      "n = float(file[2])\n",
      "print 'n:',n\n",
      "\n",
      "p = k + n + m\n",
      "print p\n",
      "\n",
      "result = ( (k/p) * ( ( m+k-1+n ) / ( p-1 )) ) + ( (m/p) * ( ( ((3/4)*m)-(3/4)+k+(n/2) ) / (p-1) ) ) + ( (n/p) * (( ((1/2)*n) +k) / (p-1)))\n",
      "\n",
      "#result =   ( ( k*( m+k-1+n ) ) + ( m*( ( ((3/4)*m)-(3/4)+k+ (n/2)) )) + ( n* ( ((1/2)*m) +k)))   / (p*(p-1))          ##  Wrong!!!!    ?\n",
      "\n",
      "\n",
      "print result"
     ],
     "language": "python",
     "metadata": {},
     "outputs": [
      {
       "output_type": "stream",
       "stream": "stdout",
       "text": [
        "k: 2.0\n",
        "m: 2.0\n",
        "n: 2.0\n",
        "6.0\n",
        "0.666666666667\n"
       ]
      }
     ],
     "prompt_number": 16
    },
    {
     "cell_type": "code",
     "collapsed": false,
     "input": [
      "k + n + m"
     ],
     "language": "python",
     "metadata": {},
     "outputs": [
      {
       "metadata": {},
       "output_type": "pyout",
       "prompt_number": 12,
       "text": [
        "6.0"
       ]
      }
     ],
     "prompt_number": 12
    },
    {
     "cell_type": "code",
     "collapsed": false,
     "input": [],
     "language": "python",
     "metadata": {},
     "outputs": []
    }
   ],
   "metadata": {}
  }
 ]
}