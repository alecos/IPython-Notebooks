{
 "metadata": {
  "name": "",
  "signature": "sha256:48b8b88878e0f2b288c4f3ecc8bd3e851c34198fba93df15e90ee23bd171273d"
 },
 "nbformat": 3,
 "nbformat_minor": 0,
 "worksheets": [
  {
   "cells": [
    {
     "cell_type": "code",
     "collapsed": false,
     "input": [
      "cd C:\\Users\\ab42313\\OneDrive\\ABZ_PhD\\Rosalind"
     ],
     "language": "python",
     "metadata": {},
     "outputs": [
      {
       "output_type": "stream",
       "stream": "stdout",
       "text": [
        "C:\\Users\\ab42313\\OneDrive\\ABZ_PhD\\Rosalind\n"
       ]
      }
     ],
     "prompt_number": 26
    },
    {
     "cell_type": "heading",
     "level": 3,
     "metadata": {},
     "source": [
      "Inferring mRNA from Protein"
     ]
    },
    {
     "cell_type": "markdown",
     "metadata": {},
     "source": [
      "Given: A protein string of length at most 1000 aa.\n",
      "\n",
      "Return: The total number of different RNA strings from which the protein could have been translated, modulo 1,000,000. (Don't neglect the importance of the stop codon in protein translation.)\n",
      "\n"
     ]
    },
    {
     "cell_type": "code",
     "collapsed": false,
     "input": [
      "file = open('files/rosalind_mrna1.txt','rU')\n",
      "prot = str(file.readline().split('\\n')[0])\n",
      "print prot\n",
      "\n",
      "\n",
      "aa = []\n",
      "for i in prot:\n",
      "    aa.append(i)\n",
      "#print aa\n",
      "\n",
      "\n",
      "\n",
      "map = {\"UUU\":\"F\", \"UUC\":\"F\", \"UUA\":\"L\", \"UUG\":\"L\",\n",
      "    \"UCU\":\"S\", \"UCC\":\"s\", \"UCA\":\"S\", \"UCG\":\"S\",\n",
      "    \"UAU\":\"Y\", \"UAC\":\"Y\", \"UAA\":\"STOP\", \"UAG\":\"STOP\",\n",
      "    \"UGU\":\"C\", \"UGC\":\"C\", \"UGA\":\"STOP\", \"UGG\":\"W\",\n",
      "    \"CUU\":\"L\", \"CUC\":\"L\", \"CUA\":\"L\", \"CUG\":\"L\",\n",
      "    \"CCU\":\"P\", \"CCC\":\"P\", \"CCA\":\"P\", \"CCG\":\"P\",\n",
      "    \"CAU\":\"H\", \"CAC\":\"H\", \"CAA\":\"Q\", \"CAG\":\"Q\",\n",
      "    \"CGU\":\"R\", \"CGC\":\"R\", \"CGA\":\"R\", \"CGG\":\"R\",\n",
      "    \"AUU\":\"I\", \"AUC\":\"I\", \"AUA\":\"I\", \"AUG\":\"M\",\n",
      "    \"ACU\":\"T\", \"ACC\":\"T\", \"ACA\":\"T\", \"ACG\":\"T\",\n",
      "    \"AAU\":\"N\", \"AAC\":\"N\", \"AAA\":\"K\", \"AAG\":\"K\",\n",
      "    \"AGU\":\"S\", \"AGC\":\"S\", \"AGA\":\"R\", \"AGG\":\"R\",\n",
      "    \"GUU\":\"V\", \"GUC\":\"V\", \"GUA\":\"V\", \"GUG\":\"V\",\n",
      "    \"GCU\":\"A\", \"GCC\":\"A\", \"GCA\":\"A\", \"GCG\":\"A\",\n",
      "    \"GAU\":\"D\", \"GAC\":\"D\", \"GAA\":\"E\", \"GAG\":\"E\",\n",
      "    \"GGU\":\"G\", \"GGC\":\"G\", \"GGA\":\"G\", \"GGG\":\"G\",}\n",
      "\n",
      "aa_occurrences = []\n",
      "counter = 0\n",
      "aa_occurrences = []\n",
      "\n",
      "for single_aa in prot:\n",
      "    for i in map:\n",
      "        \n",
      "        if single_aa == 'M':\n",
      "            #print single_aa,1\n",
      "            aa_occurrences.append(1)\n",
      "            break\n",
      "        elif single_aa == map[i]:\n",
      "                counter += 1\n",
      "                #print map[i]\n",
      "                \n",
      "    if single_aa != 'M':\n",
      "        #print single_aa, counter\n",
      "        aa_occurrences.append(counter)\n",
      "        counter = 0\n",
      "        \n",
      "    \n",
      "aa_occurrences.append(int(3)) #Adding the stop codon occurrence\n",
      "print aa_occurrences\n",
      "\n",
      "print 'protein lenght: ',len(prot), '+ Final codon'\n",
      "print 'Number of occurrences registerd: ',len(aa_occurrences)\n",
      "\n",
      "result = 1\n",
      "for i in aa_occurrences:\n",
      "    result = result * i\n",
      "    \n",
      "print result"
     ],
     "language": "python",
     "metadata": {},
     "outputs": [
      {
       "output_type": "stream",
       "stream": "stdout",
       "text": [
        "MQNIQWHDWRYFYLQAHTTCHYDYFTYGGLEQFDWVLGWAVENRKWKDWFSCGYTMMGTIGMGYHPEHIGAGMVLFSGSHQTANSRCGFYDSMYSKWHLERQEGKRLVMPEKGMEASWQMTLNMCCEWHDMIRAAKNYQGTDHHTNLNDFDGYMIYHIKGFVAEDQPRGSCEQKSIHPSNLFLGQQSMKMKMAKNDLADFNAEHAQAMFICYKPNFMQCCNFFGNNYEIGNTYNCPAMGIHLILGNVHMIFHCEGCAWWGMWAARSWNLPILFEPTYFCRWARRPQAWRMDQIFYHRWYAGCMVMMCNEDWSYYNECNRKSMARCWCDAGVNAAAWCYWSFNTFVWRPEWGYGFPSINHCDTTEDTADKGGVHYRVGATFIDWNNSALVKAMVGDKMCVRGLNVEFNRKCYHPHPLSEVSRENDEIYFRDVKWRIHHERFSLKYFTFLTWDGIMGCYGGSWYCVVFSRNRDHQNDFDEIAGSTLFEMRQGAKVQKHRFEELETKKKCMRHAVMNFFGELEIEGFTMAPHSEYRVWPVKKCWHKFWPDFWPRCKGGGYRGWHPQANAMWDREVYYPEPPNWRPVARMVFEAQNRCPHHESHHWCRCFHIMKFPCEFAAMPFEAYRWNQMKNCTEDTTLMTTRPVCRHEKGALFWGVTWMFSFKNHENYITMTGANYWWCCTQFFGQRSPTINCYDMHHHFFWGDEAFLQPSNQAIVDNKCGCDSSQPGSFLKYHGNIIFYAMPHWHWIWTTYEDSQHEVSDDDKHYQCETPTHIYAQLHPVPINPGIKQFSYMVDVHAHYCLNWDMHFLQKVLMMWNSRLAHIWKLSEQDRAKNWIRQTLQDRWWAFSWSIFVMQRMYSGVHDVEQKMAFQLSDTYDFNMTWHPGVMEHVILKCSHHARPYNSKMGYYPFGRGDLLHVSLSMQHSVENNMEGNGRAPFVGNYPRQQVRFYHYWSQYNQVQSRLFNCEVATMNVKYEQQDSMRDNMNNTWKGAQYAYKMA\n",
        "[1, 2, 2, 3, 2, 1, 2, 2, 1, 6, 2, 2, 2, 6, 2, 4, 2, 4, 4, 2, 2, 2, 2, 2, 2, 4, 2, 4, 4, 6, 2, 2, 2, 2, 1, 4, 6, 4, 1, 4, 4, 2, 2, 6, 2, 1, 2, 2, 1, 2, 5, 2, 4, 2, 4, 1, 1, 4, 4, 3, 4, 1, 4, 2, 2, 4, 2, 2, 3, 4, 4, 4, 1, 4, 6, 2, 5, 4, 5, 2, 2, 4, 4, 2, 5, 6, 2, 4, 2, 2, 2, 5, 1, 2, 5, 2, 1, 2, 6, 2, 6, 2, 2, 4, 2, 6, 6, 4, 1, 4, 2, 2, 4, 1, 2, 4, 5, 1, 2, 1, 4, 6, 2, 1, 2, 2, 2, 1, 2, 2, 1, 3, 6, 4, 4, 2, 2, 2, 2, 4, 4, 2, 2, 2, 4, 2, 6, 2, 2, 2, 2, 4, 2, 1, 3, 2, 2, 3, 2, 4, 2, 4, 4, 2, 2, 2, 4, 6, 4, 5, 2, 2, 2, 2, 5, 3, 2, 4, 5, 2, 6, 2, 6, 4, 2, 2, 5, 1, 2, 1, 2, 1, 4, 2, 2, 2, 6, 4, 2, 2, 2, 4, 2, 2, 4, 2, 4, 1, 2, 3, 2, 2, 2, 4, 2, 2, 1, 2, 2, 2, 2, 2, 2, 4, 2, 2, 2, 2, 3, 4, 2, 4, 2, 2, 2, 4, 4, 1, 4, 3, 2, 6, 3, 6, 4, 2, 4, 2, 1, 3, 2, 2, 2, 2, 4, 2, 4, 1, 1, 4, 1, 1, 4, 4, 6, 5, 1, 2, 6, 4, 3, 6, 2, 2, 4, 4, 2, 2, 2, 6, 1, 4, 6, 6, 4, 2, 4, 1, 6, 1, 2, 2, 3, 2, 2, 2, 6, 1, 2, 4, 4, 2, 1, 4, 1, 1, 2, 2, 2, 2, 1, 5, 2, 2, 2, 2, 2, 2, 6, 2, 5, 1, 4, 6, 2, 1, 2, 2, 4, 4, 4, 2, 4, 4, 4, 1, 2, 2, 1, 5, 2, 2, 4, 2, 4, 1, 6, 4, 2, 1, 4, 2, 4, 2, 4, 5, 3, 2, 2, 2, 2, 4, 4, 2, 2, 4, 4, 2, 2, 4, 4, 4, 2, 2, 6, 4, 4, 4, 4, 2, 3, 2, 1, 2, 2, 5, 4, 6, 4, 2, 4, 1, 4, 4, 2, 2, 1, 2, 4, 6, 4, 6, 2, 4, 2, 2, 2, 6, 2, 2, 2, 2, 4, 2, 4, 6, 5, 2, 4, 5, 6, 2, 2, 2, 2, 3, 2, 2, 6, 2, 4, 2, 1, 6, 3, 2, 2, 2, 6, 2, 5, 6, 2, 2, 2, 4, 2, 6, 4, 1, 2, 4, 3, 1, 4, 2, 2, 4, 4, 5, 1, 2, 2, 4, 4, 2, 5, 6, 2, 6, 2, 2, 2, 2, 2, 2, 2, 2, 3, 4, 4, 5, 4, 6, 2, 2, 1, 6, 2, 4, 4, 2, 4, 2, 2, 2, 6, 2, 2, 2, 6, 2, 4, 2, 2, 2, 2, 1, 6, 2, 4, 4, 1, 2, 2, 2, 4, 2, 6, 2, 3, 2, 4, 2, 4, 1, 4, 4, 2, 5, 2, 2, 6, 4, 1, 4, 4, 2, 2, 2, 1, 2, 2, 2, 1, 4, 2, 2, 1, 4, 6, 2, 2, 4, 4, 4, 2, 6, 4, 1, 2, 4, 2, 4, 2, 4, 1, 1, 2, 6, 2, 4, 2, 2, 4, 2, 4, 4, 2, 1, 6, 4, 4, 4, 6, 1, 4, 2, 2, 4, 2, 2, 6, 2, 4, 2, 2, 2, 5, 2, 2, 1, 2, 6, 2, 2, 2, 3, 1, 2, 2, 4, 2, 2, 2, 4, 4, 1, 4, 2, 2, 4, 2, 6, 1, 2, 2, 1, 2, 2, 2, 4, 2, 2, 4, 4, 6, 1, 4, 4, 6, 4, 4, 2, 6, 2, 2, 2, 4, 4, 6, 2, 1, 4, 4, 4, 1, 1, 2, 5, 2, 2, 2, 2, 2, 2, 2, 3, 4, 1, 4, 4, 4, 2, 2, 1, 1, 2, 2, 4, 2, 2, 2, 4, 2, 6, 5, 4, 4, 3, 2, 2, 2, 2, 1, 2, 2, 2, 2, 2, 1, 4, 2, 2, 4, 2, 6, 2, 4, 5, 2, 2, 4, 3, 4, 2, 2, 2, 2, 4, 2, 2, 5, 5, 2, 4, 4, 5, 2, 6, 2, 2, 2, 4, 2, 3, 3, 2, 2, 4, 1, 4, 2, 1, 2, 1, 3, 1, 4, 4, 2, 2, 2, 5, 2, 2, 2, 4, 5, 2, 2, 2, 2, 2, 2, 2, 2, 2, 4, 4, 4, 2, 3, 2, 4, 2, 6, 2, 4, 4, 4, 3, 2, 4, 4, 3, 2, 2, 2, 5, 2, 1, 4, 2, 4, 2, 4, 2, 2, 2, 6, 2, 1, 2, 1, 2, 2, 6, 2, 2, 4, 6, 1, 1, 1, 2, 5, 6, 6, 4, 2, 3, 1, 2, 6, 5, 2, 2, 2, 6, 4, 2, 2, 1, 3, 6, 2, 4, 6, 2, 2, 6, 1, 1, 4, 2, 5, 1, 5, 3, 2, 4, 1, 2, 6, 1, 2, 5, 4, 4, 2, 2, 4, 2, 2, 2, 1, 4, 2, 2, 6, 5, 2, 4, 2, 2, 2, 2, 1, 4, 1, 2, 4, 4, 4, 1, 2, 2, 4, 3, 6, 2, 2, 5, 2, 2, 4, 6, 4, 2, 2, 5, 2, 1, 4, 2, 2, 4, 2, 4, 6, 4, 2, 6, 6, 2, 4, 5, 6, 5, 1, 2, 2, 5, 4, 2, 2, 2, 1, 2, 4, 2, 4, 6, 4, 4, 2, 4, 4, 2, 2, 4, 6, 2, 2, 4, 6, 2, 2, 2, 2, 1, 5, 2, 2, 2, 2, 4, 2, 5, 6, 6, 2, 2, 2, 2, 4, 4, 4, 1, 2, 4, 2, 2, 2, 2, 2, 2, 5, 1, 6, 2, 2, 1, 2, 2, 4, 1, 2, 4, 4, 2, 2, 4, 2, 2, 1, 4, 3]\n",
        "protein lenght:  998 + Final codon\n",
        "Number of occurrences registerd:  999\n",
        "252665685107233571181055529713614354298722535557402830435938114842705415612410787014412548774836542986845917012474635942861849290403474854967542585222327551037176937026528256075371892295765970732399893311447964927256249754345817835571113887030000871598275351549200626544765985315839097867990709389546162495902769893107271939600598732816569981040113727119317532672000000000000000000000000000000000000000000000000\n"
       ]
      }
     ],
     "prompt_number": 142
    },
    {
     "cell_type": "code",
     "collapsed": false,
     "input": [
      "Need to understand the modulo operation"
     ],
     "language": "python",
     "metadata": {},
     "outputs": []
    },
    {
     "cell_type": "code",
     "collapsed": false,
     "input": [
      "100000 * 55 % 6"
     ],
     "language": "python",
     "metadata": {},
     "outputs": [
      {
       "metadata": {},
       "output_type": "pyout",
       "prompt_number": 139,
       "text": [
        "4"
       ]
      }
     ],
     "prompt_number": 139
    }
   ],
   "metadata": {}
  }
 ]
}