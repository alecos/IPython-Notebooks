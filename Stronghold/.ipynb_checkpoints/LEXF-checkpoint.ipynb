{
 "metadata": {
  "name": "",
  "signature": "sha256:82a3d61ebdca1ed60a2f20629db53bd918dee57949fcbc64ba639ecd78ae3ad4"
 },
 "nbformat": 3,
 "nbformat_minor": 0,
 "worksheets": [
  {
   "cells": [
    {
     "cell_type": "code",
     "collapsed": false,
     "input": [],
     "language": "python",
     "metadata": {},
     "outputs": []
    },
    {
     "cell_type": "raw",
     "metadata": {},
     "source": [
      "cd C:\\Users\\vaevi_000\\SkyDrive\\ABZ_PhD\\Rosalind"
     ]
    },
    {
     "cell_type": "heading",
     "level": 3,
     "metadata": {},
     "source": [
      "Enumerating k-mers Lexicographically"
     ]
    },
    {
     "cell_type": "markdown",
     "metadata": {},
     "source": [
      "Given: A collection of at most 10 symbols defining an ordered alphabet, and a positive integer n (n\u226410).\n",
      "\n",
      "Return: All strings of length n that can be formed from the alphabet, ordered lexicographically.\n",
      "\n"
     ]
    },
    {
     "cell_type": "code",
     "collapsed": false,
     "input": [
      "import itertools\n",
      "import operator\n",
      "\n",
      "file = open('files/rosalind_lexf2.txt','rU')\n",
      "raw_file = file.read()\n",
      "order = raw_file.split('\\n')[0].split(' ')                \n",
      "n = int(raw_file.split('\\n')[1])\n",
      "#print order\n",
      "print n\n",
      "\n",
      "dictionary = dict(zip(order, range(0,len(order))))\n",
      "#print dictionary\n",
      "perm = itertools.permutations(order, n)\n",
      "permutations = []\n",
      "for i in perm:\n",
      "    if i not in permutations:\n",
      "        permutations.append(i)\n",
      "        #print permutations\n",
      "\n",
      "dict1 = {}\n",
      "\n",
      "for i in permutations:\n",
      "    #print i\n",
      "    dict1[i] = str(dictionary[i[0]]) + str(dictionary[i[1]])\n",
      "    #print dict1\n",
      "    \n",
      "#sorted(dict1[])\n",
      "\n",
      "sorted_x = sorted(dict1.items(), key=operator.itemgetter(1))\n",
      "#print sorted_x\n",
      "\n",
      "\n",
      "\n",
      "for i in sorted_x:\n",
      "    out_file = open(\"files/LEXF.txt\",\"a\")\n",
      "    out_file.write(\"%s %s\" %((''.join(str(n) for n in i[0])),'\\n'))\n",
      "    \n",
      "    out_file.close()\n",
      "    #print (''.join(str(n) for n in i[0]))\n",
      "\n"
     ],
     "language": "python",
     "metadata": {},
     "outputs": [
      {
       "output_type": "stream",
       "stream": "stdout",
       "text": [
        "3\n"
       ]
      }
     ],
     "prompt_number": 51
    },
    {
     "cell_type": "code",
     "collapsed": false,
     "input": [
      "pox = []\n",
      "for i in order:\n",
      "    if n == 2:\n",
      "        for o in order:\n",
      "            #print i+o\n",
      "            if i+o not in pox:\n",
      "                pox.append(i+o)\n",
      "    elif n == 3:\n",
      "        for o in order:\n",
      "            for p in order:\n",
      "                #print i+o+p\n",
      "                if i+o not in pox:\n",
      "                    pox.append(i+o+p)\n",
      "        \n",
      "    \n",
      "    \n",
      "print pox\n"
     ],
     "language": "python",
     "metadata": {},
     "outputs": [
      {
       "output_type": "stream",
       "stream": "stdout",
       "text": [
        "['FFF', 'FFG', 'FFZ', 'FFL', 'FFU', 'FFH', 'FFI', 'FFN', 'FFT', 'FGF', 'FGG', 'FGZ', 'FGL', 'FGU', 'FGH', 'FGI', 'FGN', 'FGT', 'FZF', 'FZG', 'FZZ', 'FZL', 'FZU', 'FZH', 'FZI', 'FZN', 'FZT', 'FLF', 'FLG', 'FLZ', 'FLL', 'FLU', 'FLH', 'FLI', 'FLN', 'FLT', 'FUF', 'FUG', 'FUZ', 'FUL', 'FUU', 'FUH', 'FUI', 'FUN', 'FUT', 'FHF', 'FHG', 'FHZ', 'FHL', 'FHU', 'FHH', 'FHI', 'FHN', 'FHT', 'FIF', 'FIG', 'FIZ', 'FIL', 'FIU', 'FIH', 'FII', 'FIN', 'FIT', 'FNF', 'FNG', 'FNZ', 'FNL', 'FNU', 'FNH', 'FNI', 'FNN', 'FNT', 'FTF', 'FTG', 'FTZ', 'FTL', 'FTU', 'FTH', 'FTI', 'FTN', 'FTT', 'GFF', 'GFG', 'GFZ', 'GFL', 'GFU', 'GFH', 'GFI', 'GFN', 'GFT', 'GGF', 'GGG', 'GGZ', 'GGL', 'GGU', 'GGH', 'GGI', 'GGN', 'GGT', 'GZF', 'GZG', 'GZZ', 'GZL', 'GZU', 'GZH', 'GZI', 'GZN', 'GZT', 'GLF', 'GLG', 'GLZ', 'GLL', 'GLU', 'GLH', 'GLI', 'GLN', 'GLT', 'GUF', 'GUG', 'GUZ', 'GUL', 'GUU', 'GUH', 'GUI', 'GUN', 'GUT', 'GHF', 'GHG', 'GHZ', 'GHL', 'GHU', 'GHH', 'GHI', 'GHN', 'GHT', 'GIF', 'GIG', 'GIZ', 'GIL', 'GIU', 'GIH', 'GII', 'GIN', 'GIT', 'GNF', 'GNG', 'GNZ', 'GNL', 'GNU', 'GNH', 'GNI', 'GNN', 'GNT', 'GTF', 'GTG', 'GTZ', 'GTL', 'GTU', 'GTH', 'GTI', 'GTN', 'GTT', 'ZFF', 'ZFG', 'ZFZ', 'ZFL', 'ZFU', 'ZFH', 'ZFI', 'ZFN', 'ZFT', 'ZGF', 'ZGG', 'ZGZ', 'ZGL', 'ZGU', 'ZGH', 'ZGI', 'ZGN', 'ZGT', 'ZZF', 'ZZG', 'ZZZ', 'ZZL', 'ZZU', 'ZZH', 'ZZI', 'ZZN', 'ZZT', 'ZLF', 'ZLG', 'ZLZ', 'ZLL', 'ZLU', 'ZLH', 'ZLI', 'ZLN', 'ZLT', 'ZUF', 'ZUG', 'ZUZ', 'ZUL', 'ZUU', 'ZUH', 'ZUI', 'ZUN', 'ZUT', 'ZHF', 'ZHG', 'ZHZ', 'ZHL', 'ZHU', 'ZHH', 'ZHI', 'ZHN', 'ZHT', 'ZIF', 'ZIG', 'ZIZ', 'ZIL', 'ZIU', 'ZIH', 'ZII', 'ZIN', 'ZIT', 'ZNF', 'ZNG', 'ZNZ', 'ZNL', 'ZNU', 'ZNH', 'ZNI', 'ZNN', 'ZNT', 'ZTF', 'ZTG', 'ZTZ', 'ZTL', 'ZTU', 'ZTH', 'ZTI', 'ZTN', 'ZTT', 'LFF', 'LFG', 'LFZ', 'LFL', 'LFU', 'LFH', 'LFI', 'LFN', 'LFT', 'LGF', 'LGG', 'LGZ', 'LGL', 'LGU', 'LGH', 'LGI', 'LGN', 'LGT', 'LZF', 'LZG', 'LZZ', 'LZL', 'LZU', 'LZH', 'LZI', 'LZN', 'LZT', 'LLF', 'LLG', 'LLZ', 'LLL', 'LLU', 'LLH', 'LLI', 'LLN', 'LLT', 'LUF', 'LUG', 'LUZ', 'LUL', 'LUU', 'LUH', 'LUI', 'LUN', 'LUT', 'LHF', 'LHG', 'LHZ', 'LHL', 'LHU', 'LHH', 'LHI', 'LHN', 'LHT', 'LIF', 'LIG', 'LIZ', 'LIL', 'LIU', 'LIH', 'LII', 'LIN', 'LIT', 'LNF', 'LNG', 'LNZ', 'LNL', 'LNU', 'LNH', 'LNI', 'LNN', 'LNT', 'LTF', 'LTG', 'LTZ', 'LTL', 'LTU', 'LTH', 'LTI', 'LTN', 'LTT', 'UFF', 'UFG', 'UFZ', 'UFL', 'UFU', 'UFH', 'UFI', 'UFN', 'UFT', 'UGF', 'UGG', 'UGZ', 'UGL', 'UGU', 'UGH', 'UGI', 'UGN', 'UGT', 'UZF', 'UZG', 'UZZ', 'UZL', 'UZU', 'UZH', 'UZI', 'UZN', 'UZT', 'ULF', 'ULG', 'ULZ', 'ULL', 'ULU', 'ULH', 'ULI', 'ULN', 'ULT', 'UUF', 'UUG', 'UUZ', 'UUL', 'UUU', 'UUH', 'UUI', 'UUN', 'UUT', 'UHF', 'UHG', 'UHZ', 'UHL', 'UHU', 'UHH', 'UHI', 'UHN', 'UHT', 'UIF', 'UIG', 'UIZ', 'UIL', 'UIU', 'UIH', 'UII', 'UIN', 'UIT', 'UNF', 'UNG', 'UNZ', 'UNL', 'UNU', 'UNH', 'UNI', 'UNN', 'UNT', 'UTF', 'UTG', 'UTZ', 'UTL', 'UTU', 'UTH', 'UTI', 'UTN', 'UTT', 'HFF', 'HFG', 'HFZ', 'HFL', 'HFU', 'HFH', 'HFI', 'HFN', 'HFT', 'HGF', 'HGG', 'HGZ', 'HGL', 'HGU', 'HGH', 'HGI', 'HGN', 'HGT', 'HZF', 'HZG', 'HZZ', 'HZL', 'HZU', 'HZH', 'HZI', 'HZN', 'HZT', 'HLF', 'HLG', 'HLZ', 'HLL', 'HLU', 'HLH', 'HLI', 'HLN', 'HLT', 'HUF', 'HUG', 'HUZ', 'HUL', 'HUU', 'HUH', 'HUI', 'HUN', 'HUT', 'HHF', 'HHG', 'HHZ', 'HHL', 'HHU', 'HHH', 'HHI', 'HHN', 'HHT', 'HIF', 'HIG', 'HIZ', 'HIL', 'HIU', 'HIH', 'HII', 'HIN', 'HIT', 'HNF', 'HNG', 'HNZ', 'HNL', 'HNU', 'HNH', 'HNI', 'HNN', 'HNT', 'HTF', 'HTG', 'HTZ', 'HTL', 'HTU', 'HTH', 'HTI', 'HTN', 'HTT', 'IFF', 'IFG', 'IFZ', 'IFL', 'IFU', 'IFH', 'IFI', 'IFN', 'IFT', 'IGF', 'IGG', 'IGZ', 'IGL', 'IGU', 'IGH', 'IGI', 'IGN', 'IGT', 'IZF', 'IZG', 'IZZ', 'IZL', 'IZU', 'IZH', 'IZI', 'IZN', 'IZT', 'ILF', 'ILG', 'ILZ', 'ILL', 'ILU', 'ILH', 'ILI', 'ILN', 'ILT', 'IUF', 'IUG', 'IUZ', 'IUL', 'IUU', 'IUH', 'IUI', 'IUN', 'IUT', 'IHF', 'IHG', 'IHZ', 'IHL', 'IHU', 'IHH', 'IHI', 'IHN', 'IHT', 'IIF', 'IIG', 'IIZ', 'IIL', 'IIU', 'IIH', 'III', 'IIN', 'IIT', 'INF', 'ING', 'INZ', 'INL', 'INU', 'INH', 'INI', 'INN', 'INT', 'ITF', 'ITG', 'ITZ', 'ITL', 'ITU', 'ITH', 'ITI', 'ITN', 'ITT', 'NFF', 'NFG', 'NFZ', 'NFL', 'NFU', 'NFH', 'NFI', 'NFN', 'NFT', 'NGF', 'NGG', 'NGZ', 'NGL', 'NGU', 'NGH', 'NGI', 'NGN', 'NGT', 'NZF', 'NZG', 'NZZ', 'NZL', 'NZU', 'NZH', 'NZI', 'NZN', 'NZT', 'NLF', 'NLG', 'NLZ', 'NLL', 'NLU', 'NLH', 'NLI', 'NLN', 'NLT', 'NUF', 'NUG', 'NUZ', 'NUL', 'NUU', 'NUH', 'NUI', 'NUN', 'NUT', 'NHF', 'NHG', 'NHZ', 'NHL', 'NHU', 'NHH', 'NHI', 'NHN', 'NHT', 'NIF', 'NIG', 'NIZ', 'NIL', 'NIU', 'NIH', 'NII', 'NIN', 'NIT', 'NNF', 'NNG', 'NNZ', 'NNL', 'NNU', 'NNH', 'NNI', 'NNN', 'NNT', 'NTF', 'NTG', 'NTZ', 'NTL', 'NTU', 'NTH', 'NTI', 'NTN', 'NTT', 'TFF', 'TFG', 'TFZ', 'TFL', 'TFU', 'TFH', 'TFI', 'TFN', 'TFT', 'TGF', 'TGG', 'TGZ', 'TGL', 'TGU', 'TGH', 'TGI', 'TGN', 'TGT', 'TZF', 'TZG', 'TZZ', 'TZL', 'TZU', 'TZH', 'TZI', 'TZN', 'TZT', 'TLF', 'TLG', 'TLZ', 'TLL', 'TLU', 'TLH', 'TLI', 'TLN', 'TLT', 'TUF', 'TUG', 'TUZ', 'TUL', 'TUU', 'TUH', 'TUI', 'TUN', 'TUT', 'THF', 'THG', 'THZ', 'THL', 'THU', 'THH', 'THI', 'THN', 'THT', 'TIF', 'TIG', 'TIZ', 'TIL', 'TIU', 'TIH', 'TII', 'TIN', 'TIT', 'TNF', 'TNG', 'TNZ', 'TNL', 'TNU', 'TNH', 'TNI', 'TNN', 'TNT', 'TTF', 'TTG', 'TTZ', 'TTL', 'TTU', 'TTH', 'TTI', 'TTN', 'TTT']\n"
       ]
      }
     ],
     "prompt_number": 55
    },
    {
     "cell_type": "markdown",
     "metadata": {},
     "source": [
      "Very empirical... will test it soon"
     ]
    },
    {
     "cell_type": "code",
     "collapsed": false,
     "input": [],
     "language": "python",
     "metadata": {},
     "outputs": []
    }
   ],
   "metadata": {}
  }
 ]
}