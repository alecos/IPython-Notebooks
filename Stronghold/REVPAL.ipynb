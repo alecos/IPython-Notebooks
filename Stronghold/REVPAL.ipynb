{
 "metadata": {
  "name": "",
  "signature": "sha256:96f6aaf1b585e31a1f877d4cf54b6995766679f9e8a65be7a44d549c51ec0a7e"
 },
 "nbformat": 3,
 "nbformat_minor": 0,
 "worksheets": [
  {
   "cells": [
    {
     "cell_type": "code",
     "collapsed": false,
     "input": [
      "cd C:\\Users\\vaevi_000\\SkyDrive\\ABZ_PhD\\Rosalind"
     ],
     "language": "python",
     "metadata": {},
     "outputs": [
      {
       "output_type": "stream",
       "stream": "stdout",
       "text": [
        "C:\\Users\\vaevi_000\\SkyDrive\\ABZ_PhD\\Rosalind\n"
       ]
      }
     ],
     "prompt_number": 2
    },
    {
     "cell_type": "heading",
     "level": 3,
     "metadata": {},
     "source": [
      "Locating Restriction Sites"
     ]
    },
    {
     "cell_type": "markdown",
     "metadata": {},
     "source": [
      "<img src=\"INSERT\">"
     ]
    },
    {
     "cell_type": "code",
     "collapsed": false,
     "input": [
      "from Bio import SeqIO\n",
      "from Bio.Seq import reverse_complement\n",
      "\n",
      "file=open('files/rosalind_revp3.txt','rU')\n",
      "fasta = list(SeqIO.parse(file, \"fasta\"))\n",
      "seq = str(fasta[0].seq)\n",
      "\n",
      "\n",
      "rv_seq = reverse_complement(seq)\n",
      "print seq\n",
      "print rv_seq\n",
      "\n",
      "palindromes = []\n",
      "positions = []\n",
      "\n",
      "for fw in range(0,len(seq)+1):\n",
      "    for bk in range(0,len(seq)+1)[::-1]:\n",
      "        fwr = - bk\n",
      "        bkr = - fw\n",
      "        #print seq[fw:bk],rv_seq[fwr:bkr]\n",
      "        if seq[fw:bk] == rv_seq[fwr:bkr]:\n",
      "            if len(seq[fw:bk]) > 3:\n",
      "                if len(seq[fw:bk]) < 13:\n",
      "                    palindromes.append(seq[fw:bk])\n",
      "                    positions.append(fw+1)\n",
      "#print palindromes\n",
      "#print positions\n",
      "#print len(seq)\n",
      "for pal,pos in zip(palindromes,positions):\n",
      "    print pos,len(pal)"
     ],
     "language": "python",
     "metadata": {},
     "outputs": [
      {
       "output_type": "stream",
       "stream": "stdout",
       "text": [
        "CGCGGCTTACTTTATATGTTTCAGTTTCTCCCTTACGAACTACGCATTGAGTTCCCGTACCTGCGGAAAGATTCGCCCTGATAGGACAGTGGCGACGCAGATGGCGAACGAGGTTCCGCCACAAGTACTCCACGTACTGTTCAATATCTTGGTCATGATCATCACTCCTCCCCTCGGGTAAGAACGGTGCGGGAGGTACCTGCATTATATACAAGTCTCCAAGTATATCGATGGAACGCCGTACAGAGAGGGGCCCCTAAGCCAATTGAAGGGAGTTGTCGCGGGTCCGAGTGGTGCCTCGACTCATGTTTTACCTCTAACGGAGCGATCCTTTCGGAGTTCAGGACGACAAACCCAAGTGCAGAGAATTACGTTTGCCCAAAAATTCTTTCACAGGCGGTGGTACAATTTGTTCTTCTTTAGAACAAATTAACAACAATACTCCAGCGAGCGATGAGCGCTCATGACGCATTACAGCCATCTGTCGGGCTGACGTAATGAGGGCTACCTAACCCTACCATGCGGGATGAACAACCAGTTGCCTCTCGCCCCACACCCTGACTACTGCGGACACCCCCGGCCGTTCCGCTAGGCATAGAGCACCGCTAGCCAGGTCCGGAAAACCTGGATGATTCTCCAGTATTTTGGTATTTAGTCGCTGGCGATTGCAACCTTGTGCGTTATTAACTCGAATATAGCCCGGATAACTCACACGCACGGCTACGTTGGGCACAGAGAGGGGCGTTCATGCTACTTAAATACCTCGCAATGAGTTTGACGCGTTCGGGATTAATACGGCCTCACACGGACCGCTCACAGGAGAGCCCCCTTTAAAATGAGGCGGTTCGTATCCGCAAAGTCTTATGGATGTAAATTCACAAAGGCGCACTACGCGGCCGTGTGTATAAACATCATATA\n",
        "TATATGATGTTTATACACACGGCCGCGTAGTGCGCCTTTGTGAATTTACATCCATAAGACTTTGCGGATACGAACCGCCTCATTTTAAAGGGGGCTCTCCTGTGAGCGGTCCGTGTGAGGCCGTATTAATCCCGAACGCGTCAAACTCATTGCGAGGTATTTAAGTAGCATGAACGCCCCTCTCTGTGCCCAACGTAGCCGTGCGTGTGAGTTATCCGGGCTATATTCGAGTTAATAACGCACAAGGTTGCAATCGCCAGCGACTAAATACCAAAATACTGGAGAATCATCCAGGTTTTCCGGACCTGGCTAGCGGTGCTCTATGCCTAGCGGAACGGCCGGGGGTGTCCGCAGTAGTCAGGGTGTGGGGCGAGAGGCAACTGGTTGTTCATCCCGCATGGTAGGGTTAGGTAGCCCTCATTACGTCAGCCCGACAGATGGCTGTAATGCGTCATGAGCGCTCATCGCTCGCTGGAGTATTGTTGTTAATTTGTTCTAAAGAAGAACAAATTGTACCACCGCCTGTGAAAGAATTTTTGGGCAAACGTAATTCTCTGCACTTGGGTTTGTCGTCCTGAACTCCGAAAGGATCGCTCCGTTAGAGGTAAAACATGAGTCGAGGCACCACTCGGACCCGCGACAACTCCCTTCAATTGGCTTAGGGGCCCCTCTCTGTACGGCGTTCCATCGATATACTTGGAGACTTGTATATAATGCAGGTACCTCCCGCACCGTTCTTACCCGAGGGGAGGAGTGATGATCATGACCAAGATATTGAACAGTACGTGGAGTACTTGTGGCGGAACCTCGTTCGCCATCTGCGTCGCCACTGTCCTATCAGGGCGAATCTTTCCGCAGGTACGGGAACTCAATGCGTAGTTCGTAAGGGAGAAACTGAAACATATAAAGTAAGCCGCG\n",
        "13"
       ]
      },
      {
       "output_type": "stream",
       "stream": "stdout",
       "text": [
        " 4\n",
        "14 4\n",
        "57 4\n",
        "124 6\n",
        "125 4\n",
        "132 4\n",
        "134 4\n",
        "144 4\n",
        "153 6\n",
        "154 4\n",
        "155 8\n",
        "156 6\n",
        "157 4\n",
        "194 8\n",
        "195 6\n",
        "196 4\n",
        "201 4\n",
        "206 6\n",
        "206 4\n",
        "207 4\n",
        "208 4\n",
        "224 4\n",
        "225 4\n",
        "227 6\n",
        "228 4\n",
        "241 4\n",
        "249 10\n",
        "250 8\n",
        "251 6\n",
        "252 4\n",
        "263 6\n",
        "264 4\n",
        "280 4\n",
        "299 4\n",
        "305 4\n",
        "327 4\n",
        "360 4\n",
        "367 4\n",
        "371 4\n",
        "384 4\n",
        "403 4\n",
        "407 4\n",
        "428 4\n",
        "430 4\n",
        "454 12\n",
        "455 10\n",
        "456 8\n",
        "457 6\n",
        "458 4\n",
        "462 6\n",
        "463 4\n",
        "493 4\n",
        "519 4\n",
        "577 4\n",
        "578 6\n",
        "579 4\n",
        "589 4\n",
        "605 6\n",
        "606 4\n",
        "615 6\n",
        "616 4\n",
        "666 6\n",
        "667 4\n",
        "684 4\n",
        "689 4\n",
        "693 4\n",
        "694 4\n",
        "700 4\n",
        "723 4\n",
        "747 4\n",
        "755 4\n",
        "778 6\n",
        "779 4\n",
        "789 6\n",
        "790 4\n",
        "797 4\n",
        "830 6\n",
        "831 4\n",
        "873 4\n",
        "884 4\n",
        "892 4\n",
        "894 6\n",
        "895 4\n",
        "904 4\n",
        "914 4\n",
        "915 4\n"
       ]
      }
     ],
     "prompt_number": 3
    },
    {
     "cell_type": "markdown",
     "metadata": {},
     "source": [
      "Does not work with the actual dataset..."
     ]
    },
    {
     "cell_type": "code",
     "collapsed": false,
     "input": [
      "from Bio import SeqIO\n",
      "from Bio.Seq import reverse_complement\n",
      "import Bio\n",
      "\n",
      "file=open('files/rosalind_revp3.txt','rU')\n",
      "fasta = list(SeqIO.parse(file, \"fasta\"))\n",
      "seq = str(fasta[0].seq)\n",
      "seq_seq = fasta[0].seq\n",
      "\n",
      "rv_seq = reverse_complement(seq)\n",
      "print seq\n",
      "print rv_seq\n",
      "\n",
      "palindromes = []\n",
      "positions = []\n",
      "\n",
      "for fw in range(0,len(seq)+1):\n",
      "    for bk in range(0,len(seq)+1)[::-1]:\n",
      "        fwr = - bk\n",
      "        bkr = - fw\n",
      "        #print seq[fw:bk],rv_seq[fwr:bkr]\n",
      "        if seq[fw:bk] == seq_seq[fwr:bkr].reverse_complement():\n",
      "            if len(seq[fw:bk]) > 3:\n",
      "                if len(seq[fw:bk]) < 13:\n",
      "                    palindromes.append(seq[fw:bk])\n",
      "                    positions.append(fw+1)\n",
      "#print palindromes\n",
      "#print positions\n",
      "#print len(seq)\n",
      "for pal,pos in zip(palindromes,positions):\n",
      "    print pos,len(pal)"
     ],
     "language": "python",
     "metadata": {},
     "outputs": [
      {
       "output_type": "stream",
       "stream": "stdout",
       "text": [
        "CGCGGCTTACTTTATATGTTTCAGTTTCTCCCTTACGAACTACGCATTGAGTTCCCGTACCTGCGGAAAGATTCGCCCTGATAGGACAGTGGCGACGCAGATGGCGAACGAGGTTCCGCCACAAGTACTCCACGTACTGTTCAATATCTTGGTCATGATCATCACTCCTCCCCTCGGGTAAGAACGGTGCGGGAGGTACCTGCATTATATACAAGTCTCCAAGTATATCGATGGAACGCCGTACAGAGAGGGGCCCCTAAGCCAATTGAAGGGAGTTGTCGCGGGTCCGAGTGGTGCCTCGACTCATGTTTTACCTCTAACGGAGCGATCCTTTCGGAGTTCAGGACGACAAACCCAAGTGCAGAGAATTACGTTTGCCCAAAAATTCTTTCACAGGCGGTGGTACAATTTGTTCTTCTTTAGAACAAATTAACAACAATACTCCAGCGAGCGATGAGCGCTCATGACGCATTACAGCCATCTGTCGGGCTGACGTAATGAGGGCTACCTAACCCTACCATGCGGGATGAACAACCAGTTGCCTCTCGCCCCACACCCTGACTACTGCGGACACCCCCGGCCGTTCCGCTAGGCATAGAGCACCGCTAGCCAGGTCCGGAAAACCTGGATGATTCTCCAGTATTTTGGTATTTAGTCGCTGGCGATTGCAACCTTGTGCGTTATTAACTCGAATATAGCCCGGATAACTCACACGCACGGCTACGTTGGGCACAGAGAGGGGCGTTCATGCTACTTAAATACCTCGCAATGAGTTTGACGCGTTCGGGATTAATACGGCCTCACACGGACCGCTCACAGGAGAGCCCCCTTTAAAATGAGGCGGTTCGTATCCGCAAAGTCTTATGGATGTAAATTCACAAAGGCGCACTACGCGGCCGTGTGTATAAACATCATATA\n",
        "TATATGATGTTTATACACACGGCCGCGTAGTGCGCCTTTGTGAATTTACATCCATAAGACTTTGCGGATACGAACCGCCTCATTTTAAAGGGGGCTCTCCTGTGAGCGGTCCGTGTGAGGCCGTATTAATCCCGAACGCGTCAAACTCATTGCGAGGTATTTAAGTAGCATGAACGCCCCTCTCTGTGCCCAACGTAGCCGTGCGTGTGAGTTATCCGGGCTATATTCGAGTTAATAACGCACAAGGTTGCAATCGCCAGCGACTAAATACCAAAATACTGGAGAATCATCCAGGTTTTCCGGACCTGGCTAGCGGTGCTCTATGCCTAGCGGAACGGCCGGGGGTGTCCGCAGTAGTCAGGGTGTGGGGCGAGAGGCAACTGGTTGTTCATCCCGCATGGTAGGGTTAGGTAGCCCTCATTACGTCAGCCCGACAGATGGCTGTAATGCGTCATGAGCGCTCATCGCTCGCTGGAGTATTGTTGTTAATTTGTTCTAAAGAAGAACAAATTGTACCACCGCCTGTGAAAGAATTTTTGGGCAAACGTAATTCTCTGCACTTGGGTTTGTCGTCCTGAACTCCGAAAGGATCGCTCCGTTAGAGGTAAAACATGAGTCGAGGCACCACTCGGACCCGCGACAACTCCCTTCAATTGGCTTAGGGGCCCCTCTCTGTACGGCGTTCCATCGATATACTTGGAGACTTGTATATAATGCAGGTACCTCCCGCACCGTTCTTACCCGAGGGGAGGAGTGATGATCATGACCAAGATATTGAACAGTACGTGGAGTACTTGTGGCGGAACCTCGTTCGCCATCTGCGTCGCCACTGTCCTATCAGGGCGAATCTTTCCGCAGGTACGGGAACTCAATGCGTAGTTCGTAAGGGAGAAACTGAAACATATAAAGTAAGCCGCG\n",
        "141"
       ]
      },
      {
       "output_type": "stream",
       "stream": "stdout",
       "text": [
        " 4\n",
        "454 12\n",
        "454 11\n",
        "454 10\n",
        "454 9\n",
        "454 8\n",
        "454 7\n",
        "454 6\n",
        "454 5\n",
        "454 4\n",
        "455 11\n",
        "455 10\n",
        "455 9\n",
        "455 8\n",
        "455 7\n",
        "455 6\n",
        "455 5\n",
        "455 4\n",
        "456 10\n",
        "456 9\n",
        "456 8\n",
        "456 7\n",
        "456 6\n",
        "456 5\n",
        "456 4\n",
        "457 9\n",
        "457 8\n",
        "457 7\n",
        "457 6\n",
        "457 5\n",
        "457 4\n",
        "458 8\n",
        "458 7\n",
        "458 6\n",
        "458 5\n",
        "458 4\n",
        "459 7\n",
        "459 6\n",
        "459 5\n",
        "459 4\n",
        "460 6\n",
        "460 5\n",
        "460 4\n",
        "461 5\n",
        "461 4\n",
        "462 4\n",
        "775 4\n"
       ]
      }
     ],
     "prompt_number": 4
    },
    {
     "cell_type": "code",
     "collapsed": false,
     "input": [],
     "language": "python",
     "metadata": {},
     "outputs": []
    }
   ],
   "metadata": {}
  }
 ]
}