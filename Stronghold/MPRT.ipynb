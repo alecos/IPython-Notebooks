{
 "metadata": {
  "name": "",
  "signature": "sha256:b9cc96279025f58263e1699c65b4924a2db9d5c1fc254358e074c7d372018351"
 },
 "nbformat": 3,
 "nbformat_minor": 0,
 "worksheets": [
  {
   "cells": [
    {
     "cell_type": "code",
     "collapsed": false,
     "input": [
      "cd C:\\Users\\ab42313\\OneDrive\\ABZ_PhD\\Rosalind"
     ],
     "language": "python",
     "metadata": {},
     "outputs": [
      {
       "output_type": "stream",
       "stream": "stdout",
       "text": [
        "[Errno 2] No such file or directory: 'C:/Users/ab42313/OneDrive/ABZ_PhD/Rosalind'\n",
        "/Users/lpritc/Documents/JHI_Work/Ecogenomics/Alessandro_Rosalind/Notebooks/Stronghold\n"
       ]
      }
     ],
     "prompt_number": 1
    },
    {
     "cell_type": "heading",
     "level": 3,
     "metadata": {},
     "source": [
      "Finding a Protein Motif"
     ]
    },
    {
     "cell_type": "markdown",
     "metadata": {},
     "source": [
      "the N-glycosylation motif is written as N{P}[ST]{P}"
     ]
    },
    {
     "cell_type": "markdown",
     "metadata": {},
     "source": [
      "Given: At most 15 UniProt Protein Database access IDs.\n",
      "\n",
      "Return: For each protein possessing the N-glycosylation motif, output its given access ID followed by a list of locations in the protein string where the motif can be found."
     ]
    },
    {
     "cell_type": "code",
     "collapsed": false,
     "input": [
      "def generate_N_glycosylation_domains():\n",
      "    \n",
      "    \n",
      "    #Generating N-glycosilation domains:\n",
      "    from itertools import product\n",
      "\n",
      "\n",
      "    #aa = ('ARNDCQEGHILKMFPSTWYV')\n",
      "    #print len(aa)\n",
      "    perm = list(product('ARNDCQEGHILKMFPSTWYV',repeat=4))\n",
      "    all = []\n",
      "    trial = ''\n",
      "    for i in perm:\n",
      "        for f in i:\n",
      "            trial += f\n",
      "        all.append(trial)\n",
      "        trial = ''\n",
      "    #print all\n",
      "    n_gly = []\n",
      "\n",
      "    for i in all:\n",
      "        if i[0] == 'N':\n",
      "            if i[1] != 'P':\n",
      "                if i[2] == 'S':\n",
      "                    if i[3] != 'P':\n",
      "                        n_gly.append(i)\n",
      "                elif i[2] == 'T':\n",
      "                    if i[3] != 'P':\n",
      "                        n_gly.append(i)\n",
      "    #print  n_gly\n",
      "    text_file = open(\"../../files/N-glycosilation_domains.txt\", \"w\")\n",
      "    text_file.write(\"%s\" % ' '.join(map(str,n_gly)))\n",
      "    text_file.close()\n",
      "\n",
      "    \n",
      "    \n",
      "    \n",
      "generate_N_glycosylation_domains()"
     ],
     "language": "python",
     "metadata": {},
     "outputs": [],
     "prompt_number": 2
    },
    {
     "cell_type": "markdown",
     "metadata": {},
     "source": [
      "**AB NOTE:**\n",
      "I prefer to first calculate all the possible N-glycosylation sequences as a separate element because:\n",
      "1) it could be seen as a storable reference/template useful to reuse;\n",
      "2) the data to calculate and store could be way larger and it would effect the program everytime we run it.\n",
      "\n",
      "Does this make any sense? What's your opinion?"
     ]
    },
    {
     "cell_type": "markdown",
     "metadata": {},
     "source": [
      "## LP NOTE:\n",
      "\n",
      "It does make sense to store the sequences in a compact way, but the usual, and more appropriate, way to do this is as a regular expression.\n",
      "\n",
      "Your approach - to define every possible matching sequence explicitly - does not scale well. It only works here because there are few options for the motif. Some motif signatures are large (tens of positions), with potentially more than ten amino acids possible at each site. This can rapidly lead to a very large number of possible combinations - you would not be able to apply this approach.\n",
      "\n",
      "Python has a library for handling regular expressions: [`re`](https://docs.python.org/2/library/re.html). It is incredibly useful, and you should learn how to use it. In this case, the motif would be stored with:\n",
      "\n",
      "```\n",
      "motif = re.compile(r\"(?=(N[^P][ST][^P]))\")\n",
      "```"
     ]
    },
    {
     "cell_type": "code",
     "collapsed": false,
     "input": [
      "def find_N_glycosylation_domains(ID_file,N_glic_file):\n",
      "    from Bio import SeqIO\n",
      "    from Bio import ExPASy\n",
      "    from Bio import SwissProt\n",
      "\n",
      "        #Acquiring IDs\n",
      "    file = open(ID_file,'rU')\n",
      "    file = file.read()\n",
      "    IDs = file.splitlines()\n",
      "    #print IDs\n",
      "\n",
      "        #Acquiring sequences:\n",
      "    seqs = []\n",
      "    for i in IDs:\n",
      "        handle = ExPASy.get_sprot_raw(i)\n",
      "        record = SwissProt.read(handle) \n",
      "        seqs.append(record.sequence)\n",
      "    #print seqs\n",
      "\n",
      "    #Acquaring N-glycosilation domains:\n",
      "    n_gly_file = open(N_glic_file,'rU')\n",
      "    n_gly = n_gly_file.read().split(' ')\n",
      "\n",
      "\n",
      "\n",
      "    start = 0\n",
      "    positions = []\n",
      "\n",
      "    for id,sequence in zip(IDs,seqs):\n",
      "        for fw in range(start,len(sequence)):\n",
      "            #if sequence[fw:].startswith(n_g):\n",
      "            if sequence[fw:fw+4] in n_gly:\n",
      "                positions.append(fw+1)\n",
      "                start = fw+1\n",
      "            else:\n",
      "                continue\n",
      "\n",
      "        start = 0  \n",
      "\n",
      "        if len(positions) > 0:\n",
      "            print id\n",
      "            positions = sorted(positions)\n",
      "            print ' '.join(map(str,positions))\n",
      "            positions = []\n",
      "        positions = []    \n"
     ],
     "language": "python",
     "metadata": {},
     "outputs": [],
     "prompt_number": 3
    },
    {
     "cell_type": "code",
     "collapsed": false,
     "input": [
      "find_N_glycosylation_domains('../../files/rosalind_mprt.txt','../../files/N-glycosilation_domains.txt')"
     ],
     "language": "python",
     "metadata": {},
     "outputs": [
      {
       "output_type": "stream",
       "stream": "stdout",
       "text": [
        "P06765_PLF4_RAT\n",
        "82\n",
        "P07204_TRBM_HUMAN\n",
        "47 115 116 382 409\n",
        "P01189_COLI_HUMAN\n",
        "91\n",
        "P02749_APOH_HUMAN\n",
        "162 183 193 253\n",
        "P36913_EBA3_FLAME\n",
        "255 316\n",
        "Q90304_C166_CARAU\n",
        "92 171 350 441 465\n",
        "P13838_LEUK_RAT\n",
        "274 300\n",
        "Q50228\n",
        "55 228\n",
        "Q640N1\n",
        "471 519 913 1030\n",
        "Q07287_ZPB_PIG\n",
        "70 203 220 333 474\n",
        "P80195_MPP3_BOVIN\n",
        "95\n",
        "P37803\n",
        "110\n"
       ]
      }
     ],
     "prompt_number": 4
    },
    {
     "cell_type": "heading",
     "level": 6,
     "metadata": {},
     "source": [
      "Done!"
     ]
    },
    {
     "cell_type": "markdown",
     "metadata": {},
     "source": [
      "##\u00a0LP General Comments\n",
      "\n",
      "* PEP8 wants you to put spaces after commas\n",
      "* As mentioned elsewhere - it is much better structure to separate individual actions into separate functions. You've gone some way to doing this, but splitting out file parsing from motif-finding would be even better.\n",
      "* A better way to solve the problem would have been with regular expressions.\n",
      "* I like that you used `Bio.ExPASy` and `Bio.SwissProt` to parse the Uniprot sequences. You could have wrapped this activity up in a function, to obtain one sequence per accession.\n",
      "\n",
      "Specific comments are below."
     ]
    },
    {
     "cell_type": "markdown",
     "metadata": {},
     "source": [
      "### 1) Getting UniProt sequences.\n",
      "\n",
      "As an alternative way of getting a sequence back with a UniProt accession, we can use Biopython's `SeqIO.read()` function, with a stream of data pulled from UniProt with Python's `urllib2` library.\n",
      "\n",
      "[`urllib2`](https://docs.python.org/2/library/urllib2.html) is very useful to know about but, to be honest, using `Bio.SwissProt` and `Bio.ExPASy` was the better option."
     ]
    },
    {
     "cell_type": "code",
     "collapsed": false,
     "input": [
      "import urllib2\n",
      "from Bio import SeqIO\n",
      "\n",
      "def get_uniprot(accession):\n",
      "    \"\"\"Returns a Biopython Seq object from uniprot, using the\n",
      "    passed accession as ID, as a stream. \n",
      "    \"\"\"\n",
      "    url = \"http://www.uniprot.org/uniprot/%s.fasta\" % accession\n",
      "    response = urllib2.urlopen(url)\n",
      "    seq = SeqIO.read(response, 'fasta')\n",
      "    response.close() # Good practice\n",
      "    return seq"
     ],
     "language": "python",
     "metadata": {},
     "outputs": [],
     "prompt_number": 5
    },
    {
     "cell_type": "code",
     "collapsed": false,
     "input": [
      "get_uniprot('P13838_LEUK_RAT')"
     ],
     "language": "python",
     "metadata": {},
     "outputs": [
      {
       "metadata": {},
       "output_type": "pyout",
       "prompt_number": 6,
       "text": [
        "SeqRecord(seq=Seq('WAQVVSQENLPNTMTMLPFTPNSESPSTSEALSTYSSIATVPVTEDPKESISPW...QSL', SingleLetterAlphabet()), id='sp|P13838|LEUK_RAT', name='sp|P13838|LEUK_RAT', description='sp|P13838|LEUK_RAT Leukosialin (Fragment) OS=Rattus norvegicus GN=Spn PE=1 SV=1', dbxrefs=[])"
       ]
      }
     ],
     "prompt_number": 6
    },
    {
     "cell_type": "markdown",
     "metadata": {},
     "source": [
      "### 2) Finding motif locations in a sequence\n",
      "\n",
      "Regular expressions (*regex*es) are compact representations of sequences, and there are very fast search techniques for using them. Python's `re` library implements them, so we'll use them, here."
     ]
    },
    {
     "cell_type": "markdown",
     "metadata": {},
     "source": [
      "Of course, we have to define the regex\u2026 this comes out as a (fairly cryptic) `SRE_Pattern` object."
     ]
    },
    {
     "cell_type": "code",
     "collapsed": false,
     "input": [
      "import re\n",
      "\n",
      "# The N-glycosylation motif\n",
      "motif = re.compile(r\"(?=(N[^P][ST][^P]))\")\n",
      "print(motif)"
     ],
     "language": "python",
     "metadata": {},
     "outputs": [
      {
       "output_type": "stream",
       "stream": "stdout",
       "text": [
        "<_sre.SRE_Pattern object at 0x106f9edf0>\n"
       ]
      }
     ],
     "prompt_number": 7
    },
    {
     "cell_type": "markdown",
     "metadata": {},
     "source": [
      "What does the motif object give us?"
     ]
    },
    {
     "cell_type": "code",
     "collapsed": false,
     "input": [
      "print(motif.pattern, dir(motif))"
     ],
     "language": "python",
     "metadata": {},
     "outputs": [
      {
       "output_type": "stream",
       "stream": "stdout",
       "text": [
        "('(?=(N[^P][ST][^P]))', ['__class__', '__copy__', '__deepcopy__', '__delattr__', '__doc__', '__format__', '__getattribute__', '__hash__', '__init__', '__new__', '__reduce__', '__reduce_ex__', '__repr__', '__setattr__', '__sizeof__', '__str__', '__subclasshook__', 'findall', 'finditer', 'flags', 'groupindex', 'groups', 'match', 'pattern', 'scanner', 'search', 'split', 'sub', 'subn'])\n"
       ]
      }
     ],
     "prompt_number": 8
    },
    {
     "cell_type": "markdown",
     "metadata": {},
     "source": [
      "We can recover the regex with `motif.pattern`, but pretty much everything else is a function - see [the documentation](https://docs.python.org/2/library/re.html#regular-expression-objects) for details.\n",
      "\n",
      "We test out how to search using a regular expression in the cells below. Note that some functions are duplicated at the regular expression object, and module level."
     ]
    },
    {
     "cell_type": "code",
     "collapsed": false,
     "input": [
      "testseq = \"WAQVVSQENLPNTMTMLPFTPNSSTSEALSTYSSIATVPNVSTPKESISPW\"\n",
      "re.findall(motif, testseq)"
     ],
     "language": "python",
     "metadata": {},
     "outputs": [
      {
       "metadata": {},
       "output_type": "pyout",
       "prompt_number": 9,
       "text": [
        "['NSST', 'NVST']"
       ]
      }
     ],
     "prompt_number": 9
    },
    {
     "cell_type": "code",
     "collapsed": false,
     "input": [
      "motif.findall(testseq)"
     ],
     "language": "python",
     "metadata": {},
     "outputs": [
      {
       "metadata": {},
       "output_type": "pyout",
       "prompt_number": 10,
       "text": [
        "['NSST', 'NVST']"
       ]
      }
     ],
     "prompt_number": 10
    },
    {
     "cell_type": "code",
     "collapsed": false,
     "input": [
      "motif.finditer(testseq)"
     ],
     "language": "python",
     "metadata": {},
     "outputs": [
      {
       "metadata": {},
       "output_type": "pyout",
       "prompt_number": 11,
       "text": [
        "<callable-iterator at 0x1072fb410>"
       ]
      }
     ],
     "prompt_number": 11
    },
    {
     "cell_type": "code",
     "collapsed": false,
     "input": [
      "list(motif.finditer(testseq))"
     ],
     "language": "python",
     "metadata": {},
     "outputs": [
      {
       "metadata": {},
       "output_type": "pyout",
       "prompt_number": 12,
       "text": [
        "[<_sre.SRE_Match at 0x1072f8be8>, <_sre.SRE_Match at 0x1072f8af8>]"
       ]
      }
     ],
     "prompt_number": 12
    },
    {
     "cell_type": "code",
     "collapsed": false,
     "input": [
      "matches = list(motif.finditer(testseq))\n",
      "print(matches[0].start(), matches[0].groups(), matches[0].pos)"
     ],
     "language": "python",
     "metadata": {},
     "outputs": [
      {
       "output_type": "stream",
       "stream": "stdout",
       "text": [
        "(21, ('NSST',), 0)\n"
       ]
      }
     ],
     "prompt_number": 13
    },
    {
     "cell_type": "markdown",
     "metadata": {},
     "source": [
      "Note how some functions return the string that matches, and others return match objects that have more information, including start location.\n",
      "\n",
      "The function below takes a UniProt accession, and calls the `get_uniprot()` function defined above to look for the passed regex, and return the start position only."
     ]
    },
    {
     "cell_type": "code",
     "collapsed": false,
     "input": [
      "def get_motif_locations(accession, regex):\n",
      "    \"\"\"Returns a list of start locations for the passed regex\n",
      "    motif in the sequence with the passed accession.\n",
      "    \"\"\"\n",
      "    seq = get_uniprot(accession)\n",
      "    # We need to add 1 to the position output of re, as the answer\n",
      "    #\u00a0expects 1-based counts, but Python uses 0-based counts\n",
      "    return [match.start() + 1 for match in list(re.finditer(regex, str(seq.seq)))]"
     ],
     "language": "python",
     "metadata": {},
     "outputs": [],
     "prompt_number": 14
    },
    {
     "cell_type": "code",
     "collapsed": false,
     "input": [
      "get_motif_locations('P13838_LEUK_RAT', motif)"
     ],
     "language": "python",
     "metadata": {},
     "outputs": [
      {
       "metadata": {},
       "output_type": "pyout",
       "prompt_number": 15,
       "text": [
        "[274, 300]"
       ]
      }
     ],
     "prompt_number": 15
    },
    {
     "cell_type": "markdown",
     "metadata": {},
     "source": [
      "As you should see, this matches your result above, for this sequence.\n",
      "\n",
      "The next step - reading in the accessions from the input file, and calling `get_motif_locations()` with the motif defined above, for each one, should be pretty obvious to you."
     ]
    },
    {
     "cell_type": "code",
     "collapsed": false,
     "input": [],
     "language": "python",
     "metadata": {},
     "outputs": [],
     "prompt_number": 15
    }
   ],
   "metadata": {}
  }
 ]
}