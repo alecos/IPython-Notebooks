{
 "metadata": {
  "name": "",
  "signature": "sha256:99127762d0759185faa8e9e527135b47a3b5e88a26f8fcdc4354f746db3175df"
 },
 "nbformat": 3,
 "nbformat_minor": 0,
 "worksheets": [
  {
   "cells": [
    {
     "cell_type": "code",
     "collapsed": false,
     "input": [
      "a = ['abcdefg','defghilmno','hilmnopqrstuvz']\n",
      "enumerator = range(1, len(a)+1)\n",
      "\n",
      "def find_superstring(sequences):\n",
      "    \n",
      "    supersequence = str('')\n",
      "    \n",
      "    seqs = sequences\n",
      "    for single_seq, enum in zip(seqs,enumerator):\n",
      "        for start,ends in zip(range(0, len(single_seq)/2), range(0, len(single_seq)/2)[::-1]):\n",
      "\n",
      "            if len(supersequence) == 0:\n",
      "                \n",
      "                print 'Step: ', enum\n",
      "                supersequence = str(seqs[0])\n",
      "                seqs.remove(seqs[0])\n",
      "                print 'Supersequence: ', supersequence\n",
      "                break\n",
      "\n",
      "            elif len(supersequence) > 0:\n",
      "                \n",
      "                #print 'Step: ', enum\n",
      "                #print 'Supersequence: ', supersequence\n",
      "\n",
      "                if supersequence.startswith(single_seq[start:]):\n",
      "                    print 'Step: ', enum\n",
      "                    print single_seq[start:]\n",
      "                    supersequence = single_seq + supersequence[start:]\n",
      "                    print 'Supersequence: ', supersequence\n",
      "                    seqs.remove(single_seq)\n",
      "                    break\n",
      "\n",
      "                elif supersequence.endswith(single_seq[ends:]):\n",
      "                    print 'Step: ', enum\n",
      "                    print single_seq[:ends]\n",
      "                    supersequence = supersequence + single_seq[:ends]\n",
      "                    print 'Supersequence: ', supersequence\n",
      "                    seqs.remove(single_seq)\n",
      "                    break\n",
      "                    \n",
      "                else:\n",
      "                    continue\n",
      "        \n",
      "    \n",
      "    \n",
      "    if len(seqs) > 0:\n",
      "        find_superstring(seqs)"
     ],
     "language": "python",
     "metadata": {},
     "outputs": [],
     "prompt_number": 34
    },
    {
     "cell_type": "code",
     "collapsed": false,
     "input": [
      "find_superstring(a)"
     ],
     "language": "python",
     "metadata": {},
     "outputs": [
      {
       "output_type": "stream",
       "stream": "stdout",
       "text": [
        "Step:  1\n",
        "Supersequence:  abcdefg\n",
        "Step:  1\n",
        "Supersequence:  defghilmno\n",
        "Step:  1\n",
        "Supersequence:  hilmnopqrstuvz\n"
       ]
      }
     ],
     "prompt_number": 35
    },
    {
     "cell_type": "code",
     "collapsed": false,
     "input": [
      "a = ['abcdefg','defghilmno','hilmnopqrstuvz']\n",
      "for i in a:\n",
      "    for k in range(0, len(i)/2):\n",
      "        print k\n",
      "        if i.startswith()"
     ],
     "language": "python",
     "metadata": {},
     "outputs": [
      {
       "output_type": "stream",
       "stream": "stdout",
       "text": [
        "0\n",
        "1\n",
        "2\n",
        "0\n",
        "1\n",
        "2\n",
        "3\n",
        "4\n",
        "0\n",
        "1\n",
        "2\n",
        "3\n",
        "4\n",
        "5\n",
        "6\n"
       ]
      }
     ],
     "prompt_number": 37
    },
    {
     "cell_type": "code",
     "collapsed": false,
     "input": [
      "a = '123456'\n",
      "b = '456789'\n",
      "a + b[-3:]\n",
      "\n"
     ],
     "language": "python",
     "metadata": {},
     "outputs": [
      {
       "metadata": {},
       "output_type": "pyout",
       "prompt_number": 55,
       "text": [
        "'123456789'"
       ]
      }
     ],
     "prompt_number": 55
    },
    {
     "cell_type": "code",
     "collapsed": false,
     "input": [],
     "language": "python",
     "metadata": {},
     "outputs": []
    }
   ],
   "metadata": {}
  }
 ]
}