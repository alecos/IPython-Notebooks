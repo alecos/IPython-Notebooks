{
 "metadata": {
  "name": "",
  "signature": "sha256:3eff6661af833ceddce6881916ea3bc8397223d1f0cfced2d575fa7570f903c4"
 },
 "nbformat": 3,
 "nbformat_minor": 0,
 "worksheets": [
  {
   "cells": [
    {
     "cell_type": "code",
     "collapsed": false,
     "input": [
      "cd C:\\Users\\ab42313\\OneDrive\\ABZ_PhD\\Rosalind"
     ],
     "language": "python",
     "metadata": {},
     "outputs": [
      {
       "output_type": "stream",
       "stream": "stdout",
       "text": [
        "C:\\Users\\ab42313\\OneDrive\\ABZ_PhD\\Rosalind\n"
       ]
      }
     ],
     "prompt_number": 3
    },
    {
     "cell_type": "heading",
     "level": 3,
     "metadata": {},
     "source": [
      "Enumerating k-mers Lexicographically"
     ]
    },
    {
     "cell_type": "markdown",
     "metadata": {},
     "source": [
      "Given: A collection of at most 10 symbols defining an ordered alphabet, and a positive integer n (n\u226410).\n",
      "\n",
      "Return: All strings of length n that can be formed from the alphabet, ordered lexicographically.\n",
      "\n"
     ]
    },
    {
     "cell_type": "code",
     "collapsed": false,
     "input": [
      "import itertools\n",
      "import operator\n",
      "import os\n",
      "\n",
      "file = open('files/rosalind_lexf.txt','rU')\n",
      "raw_file = file.read()\n",
      "order = raw_file.split('\\n')[0].split(' ')                \n",
      "n = int(raw_file.split('\\n')[1])\n",
      "\n",
      "print 'Order: ', order\n",
      "print 'n: ', n\n",
      "\n",
      "dictionary = dict(zip(order, range(0,len(order))))\n",
      "#print dictionary\n",
      "perm = itertools.permutations(order, n)\n",
      "permutations = []\n",
      "for i in perm:\n",
      "    if i not in permutations:\n",
      "        permutations.append(i)\n",
      "        #print permutations\n",
      "\n",
      "dict1 = {}\n",
      "\n",
      "for i in permutations:\n",
      "    #print i\n",
      "    dict1[i] = str(dictionary[i[0]]) + str(dictionary[i[1]])\n",
      "    #print dict1\n",
      "    \n",
      "#sorted(dict1[])\n",
      "\n",
      "sorted_x = sorted(dict1.items(), key=operator.itemgetter(1))\n",
      "#print sorted_x\n",
      "\n",
      "pox = []\n",
      "\n",
      "            ## I am aware that this loop is not elegant at all... also missing the solutions for 5 < n <= 10\n",
      "\n",
      "for i in order:\n",
      "    if n == 2:\n",
      "        for o in order:\n",
      "            if i+o not in pox:\n",
      "                pox.append(i+o)\n",
      "    elif n == 3:\n",
      "        for o in order:\n",
      "            for p in order:\n",
      "                if i+o not in pox:\n",
      "                    pox.append(i+o+p)\n",
      "    elif n == 4:\n",
      "        for o in order:\n",
      "            for p in order:\n",
      "                for c in order:\n",
      "                    if i+o not in pox:\n",
      "                        pox.append(i+o+p+c)\n",
      "                        \n",
      "    elif n == 5:\n",
      "        for o in order:\n",
      "            for p in order:\n",
      "                for c in order:\n",
      "                    for r in order:\n",
      "                        if i+o not in pox:\n",
      "                            pox.append(i+o+p+c+r)\n",
      "                            \n",
      "                            \n",
      "os.remove(\"files/LEXF_output.txt\")\n",
      "for i in pox:\n",
      "    out_file = open(\"files/LEXF_output.txt\",\"a\")\n",
      "    out_file.write(\"%s %s\" %((''.join(str(i))),'\\n'))\n",
      "    \n",
      "    out_file.close()\n",
      "    #print (''.join(str(i)))\n",
      "\n",
      "\n",
      "\n"
     ],
     "language": "python",
     "metadata": {},
     "outputs": [
      {
       "output_type": "stream",
       "stream": "stdout",
       "text": [
        "Order:  ['N', 'J', 'W', 'L', 'K']\n",
        "n:  4\n"
       ]
      }
     ],
     "prompt_number": 4
    },
    {
     "cell_type": "markdown",
     "metadata": {},
     "source": [
      "Very empirical... but it works..."
     ]
    },
    {
     "cell_type": "markdown",
     "metadata": {},
     "source": [
      "Will improve and make the code more readable soon..."
     ]
    },
    {
     "cell_type": "code",
     "collapsed": false,
     "input": [],
     "language": "python",
     "metadata": {},
     "outputs": []
    }
   ],
   "metadata": {}
  }
 ]
}