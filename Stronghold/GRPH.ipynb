{
 "metadata": {
  "name": "",
  "signature": "sha256:1768b8c9edf722a2298e23a63baecebb935dadd5603a9e60e96ffab31ed1390c"
 },
 "nbformat": 3,
 "nbformat_minor": 0,
 "worksheets": [
  {
   "cells": [
    {
     "cell_type": "code",
     "collapsed": false,
     "input": [
      "cd C:\\Users\\ab42313\\OneDrive\\ABZ_PhD\\Rosalind"
     ],
     "language": "python",
     "metadata": {},
     "outputs": [
      {
       "output_type": "stream",
       "stream": "stdout",
       "text": [
        "C:\\Users\\ab42313\\OneDrive\\ABZ_PhD\\Rosalind\n"
       ]
      }
     ],
     "prompt_number": 1
    },
    {
     "cell_type": "heading",
     "level": 3,
     "metadata": {},
     "source": [
      "Overlap Graphs"
     ]
    },
    {
     "cell_type": "markdown",
     "metadata": {},
     "source": [
      "Given: A collection of DNA strings in FASTA format having total length at most 10 kbp.\n",
      "\n",
      "Return: The adjacency list corresponding to O3. You may return edges in any order.\n",
      "\n",
      "Sample Dataset"
     ]
    },
    {
     "cell_type": "raw",
     "metadata": {},
     "source": [
      ">Rosalind_0498\n",
      "AAATAAA\n",
      ">Rosalind_2391\n",
      "AAATTTT\n",
      ">Rosalind_2323\n",
      "TTTTCCC\n",
      ">Rosalind_0442\n",
      "AAATCCC\n",
      ">Rosalind_5013\n",
      "GGGTGGG"
     ]
    },
    {
     "cell_type": "markdown",
     "metadata": {},
     "source": [
      "Sample Output"
     ]
    },
    {
     "cell_type": "raw",
     "metadata": {},
     "source": [
      "Rosalind_0498 Rosalind_2391\n",
      "Rosalind_0498 Rosalind_0442\n",
      "Rosalind_2391 Rosalind_2323"
     ]
    },
    {
     "cell_type": "code",
     "collapsed": false,
     "input": [
      "from Bio import SeqIO\n",
      "\n",
      "file=open('files/rosalind_grph.txt','rU')\n",
      "fasta = list(SeqIO.parse(file, \"fasta\"))\n",
      "\n",
      "seqs = []\n",
      "for i in range(0,len(fasta)):\n",
      "    #print fasta[i].seq\n",
      "    seqs.append(str(fasta[i].seq))"
     ],
     "language": "python",
     "metadata": {},
     "outputs": [],
     "prompt_number": 2
    },
    {
     "cell_type": "code",
     "collapsed": false,
     "input": [
      "k = 3       #The integer relative to k is given by Rosalind\n",
      "\n",
      "#print seqs\n",
      "fasta_id = []\n",
      "for i in range(0, len(fasta)):\n",
      "    #print fasta[i].id\n",
      "    fasta_id.append(fasta[i].id)"
     ],
     "language": "python",
     "metadata": {},
     "outputs": [],
     "prompt_number": 3
    },
    {
     "cell_type": "code",
     "collapsed": false,
     "input": [
      "def find_overlap_graphs(sequences, ids, k_value):\n",
      "    \n",
      "    '''Delineates the overlap Graph of given sequences when there is a length k suffix that matches a length k prefix'''\n",
      "    \n",
      "    \n",
      "    k = k_value    \n",
      "    for single_seq1, id1 in zip(sequences, ids):\n",
      "        for single_seq2, id2 in zip(sequences, ids):\n",
      "\n",
      "            if single_seq1[-k:] == single_seq2[:k]:\n",
      "                if id1 != id2:\n",
      "                    #print single_seq1[-k:], single_seq2[:k]\n",
      "                    print id1, id2\n"
     ],
     "language": "python",
     "metadata": {},
     "outputs": [],
     "prompt_number": 1
    },
    {
     "cell_type": "code",
     "collapsed": false,
     "input": [
      "find_overlap_graphs(seqs,fasta_id, 3)"
     ],
     "language": "python",
     "metadata": {},
     "outputs": [
      {
       "output_type": "stream",
       "stream": "stdout",
       "text": [
        "Rosalind_5232 Rosalind_0713\n",
        "Rosalind_0566 Rosalind_0656\n",
        "Rosalind_0566 Rosalind_5939\n",
        "Rosalind_0566 Rosalind_7911\n",
        "Rosalind_0566 Rosalind_4908\n",
        "Rosalind_0566 Rosalind_3301\n",
        "Rosalind_3998 Rosalind_1680\n",
        "Rosalind_8682 Rosalind_0272\n",
        "Rosalind_8682 Rosalind_5235\n",
        "Rosalind_0650 Rosalind_3043\n",
        "Rosalind_0650 Rosalind_7329\n",
        "Rosalind_0650 Rosalind_5182\n",
        "Rosalind_0650 Rosalind_1606\n",
        "Rosalind_9002 Rosalind_3441\n",
        "Rosalind_8462 Rosalind_9721\n",
        "Rosalind_5495 Rosalind_8462\n",
        "Rosalind_7730 Rosalind_1903\n",
        "Rosalind_7730 Rosalind_0059\n",
        "Rosalind_0272 Rosalind_3212\n",
        "Rosalind_7164 Rosalind_8995\n",
        "Rosalind_7164 Rosalind_2631\n",
        "Rosalind_3043 Rosalind_8652\n",
        "Rosalind_3043 Rosalind_2692\n",
        "Rosalind_7329 Rosalind_7433\n",
        "Rosalind_8737 Rosalind_5796\n",
        "Rosalind_8863 Rosalind_3043\n",
        "Rosalind_8863 Rosalind_7329\n",
        "Rosalind_8863 Rosalind_5182\n",
        "Rosalind_8863 Rosalind_1606\n",
        "Rosalind_8652 Rosalind_3441\n",
        "Rosalind_7733 Rosalind_5495\n",
        "Rosalind_8995 Rosalind_1680\n",
        "Rosalind_1485 Rosalind_4918\n",
        "Rosalind_1485 Rosalind_8764\n",
        "Rosalind_7233 Rosalind_8462\n",
        "Rosalind_8283 Rosalind_0650\n",
        "Rosalind_8283 Rosalind_8863\n",
        "Rosalind_8283 Rosalind_1070\n",
        "Rosalind_8283 Rosalind_8036\n",
        "Rosalind_3750 Rosalind_3085\n",
        "Rosalind_3750 Rosalind_1192\n",
        "Rosalind_4918 Rosalind_8764\n",
        "Rosalind_7911 Rosalind_3043\n",
        "Rosalind_7911 Rosalind_7329\n",
        "Rosalind_7911 Rosalind_5182\n",
        "Rosalind_7911 Rosalind_1606\n",
        "Rosalind_2066 Rosalind_7811\n",
        "Rosalind_1934 Rosalind_8126\n",
        "Rosalind_9373 Rosalind_5290\n",
        "Rosalind_1639 Rosalind_4604\n",
        "Rosalind_8085 Rosalind_3085\n",
        "Rosalind_8085 Rosalind_1192\n",
        "Rosalind_2349 Rosalind_3085\n",
        "Rosalind_2349 Rosalind_1192\n",
        "Rosalind_9880 Rosalind_8462\n",
        "Rosalind_8162 Rosalind_6565\n",
        "Rosalind_5182 Rosalind_5014\n",
        "Rosalind_5235 Rosalind_8682\n",
        "Rosalind_5235 Rosalind_1034\n",
        "Rosalind_5930 Rosalind_0269\n",
        "Rosalind_2716 Rosalind_0929\n",
        "Rosalind_2765 Rosalind_2349\n",
        "Rosalind_2765 Rosalind_9995\n",
        "Rosalind_2765 Rosalind_1816\n",
        "Rosalind_5698 Rosalind_1639\n",
        "Rosalind_5698 Rosalind_2716\n",
        "Rosalind_5698 Rosalind_3677\n",
        "Rosalind_2804 Rosalind_3043\n",
        "Rosalind_2804 Rosalind_7329\n",
        "Rosalind_2804 Rosalind_5182\n",
        "Rosalind_2804 Rosalind_1606\n",
        "Rosalind_3085 Rosalind_5411\n",
        "Rosalind_0269 Rosalind_6565\n",
        "Rosalind_1732 Rosalind_1934\n",
        "Rosalind_9721 Rosalind_1934\n",
        "Rosalind_9721 Rosalind_1732\n",
        "Rosalind_5796 Rosalind_5930\n",
        "Rosalind_5796 Rosalind_0269\n",
        "Rosalind_7811 Rosalind_8944\n",
        "Rosalind_7811 Rosalind_2804\n",
        "Rosalind_8126 Rosalind_9721\n",
        "Rosalind_1785 Rosalind_7811\n",
        "Rosalind_0755 Rosalind_5796\n",
        "Rosalind_7131 Rosalind_8283\n",
        "Rosalind_8323 Rosalind_5495\n",
        "Rosalind_4084 Rosalind_0272\n",
        "Rosalind_4084 Rosalind_5235\n",
        "Rosalind_5290 Rosalind_0713\n",
        "Rosalind_2662 Rosalind_5409\n",
        "Rosalind_1070 Rosalind_2349\n",
        "Rosalind_1070 Rosalind_9995\n",
        "Rosalind_1070 Rosalind_1816\n",
        "Rosalind_6465 Rosalind_0566\n",
        "Rosalind_6465 Rosalind_1485\n",
        "Rosalind_6465 Rosalind_0684\n",
        "Rosalind_6465 Rosalind_4676\n",
        "Rosalind_7433 Rosalind_9373\n",
        "Rosalind_8579 Rosalind_5411\n",
        "Rosalind_9975 Rosalind_7233\n",
        "Rosalind_9975 Rosalind_8085\n",
        "Rosalind_2692 Rosalind_0650\n",
        "Rosalind_2692 Rosalind_8863\n",
        "Rosalind_2692 Rosalind_1070\n",
        "Rosalind_2692 Rosalind_8036\n",
        "Rosalind_6666 Rosalind_1680\n",
        "Rosalind_0059 Rosalind_8944\n",
        "Rosalind_0059 Rosalind_2804\n",
        "Rosalind_0562 Rosalind_5409\n",
        "Rosalind_3677 Rosalind_1934\n",
        "Rosalind_3677 Rosalind_1732\n",
        "Rosalind_8664 Rosalind_5411\n",
        "Rosalind_8036 Rosalind_3998\n",
        "Rosalind_8036 Rosalind_6562\n",
        "Rosalind_8036 Rosalind_7131\n",
        "Rosalind_4604 Rosalind_8995\n",
        "Rosalind_4604 Rosalind_2631\n",
        "Rosalind_4908 Rosalind_5495\n",
        "Rosalind_1606 Rosalind_0713\n",
        "Rosalind_6569 Rosalind_5796\n",
        "Rosalind_9995 Rosalind_0713\n",
        "Rosalind_5411 Rosalind_1715\n",
        "Rosalind_1816 Rosalind_7433\n",
        "Rosalind_8764 Rosalind_7433\n",
        "Rosalind_5014 Rosalind_8944\n",
        "Rosalind_5014 Rosalind_2804\n",
        "Rosalind_1034 Rosalind_5290\n",
        "Rosalind_3698 Rosalind_0929\n",
        "Rosalind_6565 Rosalind_7433\n",
        "Rosalind_0713 Rosalind_8162\n",
        "Rosalind_0713 Rosalind_9975\n",
        "Rosalind_0713 Rosalind_3723\n",
        "Rosalind_1192 Rosalind_7425\n"
       ]
      }
     ],
     "prompt_number": 5
    },
    {
     "cell_type": "code",
     "collapsed": false,
     "input": [],
     "language": "python",
     "metadata": {},
     "outputs": []
    }
   ],
   "metadata": {}
  }
 ]
}