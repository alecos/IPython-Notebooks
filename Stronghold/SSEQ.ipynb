{
 "metadata": {
  "name": "",
  "signature": "sha256:a73a64fea9e055d675024549fe9c018aec9c7756f0bc193805320d847cd673e6"
 },
 "nbformat": 3,
 "nbformat_minor": 0,
 "worksheets": [
  {
   "cells": [
    {
     "cell_type": "code",
     "collapsed": false,
     "input": [
      "cd C:\\Users\\ab42313\\OneDrive\\ABZ_PhD\\Rosalind"
     ],
     "language": "python",
     "metadata": {},
     "outputs": [
      {
       "output_type": "stream",
       "stream": "stdout",
       "text": [
        "C:\\Users\\ab42313\\OneDrive\\ABZ_PhD\\Rosalind\n"
       ]
      }
     ],
     "prompt_number": 1
    },
    {
     "cell_type": "heading",
     "level": 3,
     "metadata": {},
     "source": [
      "Finding a Spliced Motif"
     ]
    },
    {
     "cell_type": "markdown",
     "metadata": {},
     "source": [
      "Given: Two DNA strings s and t (each of length at most 1 kbp) in FASTA format.\n",
      "\n",
      "Return: One collection of indices of s in which the symbols of t appear as a subsequence of s. If multiple solutions exist, you may return any one."
     ]
    },
    {
     "cell_type": "code",
     "collapsed": false,
     "input": [
      "def find_spliced_motif(filename):\n",
      "    from Bio import SeqIO\n",
      "    from itertools import permutations\n",
      "    handle = open(filename, \"rU\")\n",
      "    fasta = list(SeqIO.parse(handle, \"fasta\"))\n",
      "    seq = str(fasta[0].seq)\n",
      "    subsequence = str(fasta[1].seq)\n",
      "    #print seq\n",
      "    #print subsequence\n",
      "\n",
      "    t = 0\n",
      "    result = []\n",
      "    for f in subsequence:\n",
      "        for i in range(t,len(seq)):\n",
      "            if seq[i:].startswith(f):\n",
      "                #print i+1\n",
      "                result.append(i+1)\n",
      "                t = i+1\n",
      "                break\n",
      "    print ' '.join(map(str, result))"
     ],
     "language": "python",
     "metadata": {},
     "outputs": [],
     "prompt_number": 2
    },
    {
     "cell_type": "code",
     "collapsed": false,
     "input": [
      "find_spliced_motif('files/rosalind_sseq3.txt')"
     ],
     "language": "python",
     "metadata": {},
     "outputs": [
      {
       "output_type": "stream",
       "stream": "stdout",
       "text": [
        "15 20 22 27 29 33 35 39 41 46 48 56 58 59 61 65 67 69 70 72 79 82 84 88 91 97 100 104 120 123 124 127 128 129 135 149 151 154 155 159 171 174 175 176 179 181 184 192 206 214 215 218 219 220 221 224 226 230 234 239 243 248\n"
       ]
      }
     ],
     "prompt_number": 3
    },
    {
     "cell_type": "heading",
     "level": 3,
     "metadata": {},
     "source": [
      "Correct!... "
     ]
    },
    {
     "cell_type": "markdown",
     "metadata": {},
     "source": [
      "i'm finding just a single solution... "
     ]
    }
   ],
   "metadata": {}
  }
 ]
}