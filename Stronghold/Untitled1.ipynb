{
 "metadata": {
  "name": "",
  "signature": "sha256:67a7ba85f5e156f86b2cec235b0ce1446371f5cad549d6b31f8fd1afc74fd7e4"
 },
 "nbformat": 3,
 "nbformat_minor": 0,
 "worksheets": [
  {
   "cells": [
    {
     "cell_type": "code",
     "collapsed": false,
     "input": [
      "cd C:\\Users\\ab42313\\OneDrive\\ABZ_PhD\\Rosalind"
     ],
     "language": "python",
     "metadata": {},
     "outputs": [
      {
       "output_type": "stream",
       "stream": "stdout",
       "text": [
        "C:\\Users\\ab42313\\OneDrive\\ABZ_PhD\\Rosalind\n"
       ]
      }
     ],
     "prompt_number": 2
    },
    {
     "cell_type": "code",
     "collapsed": false,
     "input": [
      "from Bio import SeqIO\n",
      "\n",
      "file=open('files/long_example.txt','rU')\n",
      "fasta = list(SeqIO.parse(file, \"fasta\"))\n",
      "\n",
      "seqs = []\n",
      "for i in range(0,len(fasta)):\n",
      "    #print fasta[i].seq\n",
      "    seqs.append(str(fasta[i].seq))\n",
      "\n",
      "#print seqs\n",
      "numerator = (len(max(seqs))/2)+1\n",
      "superstring = seqs[0]\n",
      "seqs.remove(seqs[0])\n",
      "prov = ''\n",
      "\n",
      "contigs = []\n",
      "for i in seqs:\n",
      "    for k in range(0, numerator):\n",
      "        for single_seq in seqs:\n",
      "            if superstring[:k] == single_seq[k:]:\n",
      "                print superstring, single_seq\n",
      "                print single_seq[:k] + superstring\n",
      "                prov = single_seq[:k] + superstring\n",
      "                superstring = prov\n",
      "                seqs.remove(single_seq)\n",
      "                contigs.append(prov)\n",
      "            if superstring[k:] == single_seq[:-k]:\n",
      "                print superstring, single_seq\n",
      "                print superstring + single_seq[-k:]\n",
      "                prov = superstring + single_seq[-k:]\n",
      "                superstring = prov\n",
      "                seqs.remove(single_seq)\n",
      "                contigs.append(prov)\n",
      "\n",
      "    \n",
      "\n",
      "print seqs \n",
      "print contigs\n",
      "print superstring"
     ],
     "language": "python",
     "metadata": {},
     "outputs": [
      {
       "output_type": "stream",
       "stream": "stdout",
       "text": [
        "ATTAGACCTG AGACCTGCCG\n",
        "ATTAGACCTGCCG\n",
        "['CCTGCCGGAA', 'GCCGGAATAC']\n",
        "['ATTAGACCTGCCG']\n",
        "ATTAGACCTGCCG\n"
       ]
      }
     ],
     "prompt_number": 41
    },
    {
     "cell_type": "code",
     "collapsed": false,
     "input": [
      "print superstring\n",
      "print seqs[0][len(seqs[0])-3:]\n",
      "print seqs[0][-3:]"
     ],
     "language": "python",
     "metadata": {},
     "outputs": [
      {
       "output_type": "stream",
       "stream": "stdout",
       "text": [
        "ATTAGACCTG\n",
        "GAA\n",
        "GAA\n"
       ]
      }
     ],
     "prompt_number": 24
    },
    {
     "cell_type": "code",
     "collapsed": false,
     "input": [],
     "language": "python",
     "metadata": {},
     "outputs": []
    }
   ],
   "metadata": {}
  }
 ]
}