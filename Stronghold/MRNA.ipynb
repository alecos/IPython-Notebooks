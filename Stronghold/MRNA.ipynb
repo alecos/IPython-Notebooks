{
 "metadata": {
  "name": "",
  "signature": "sha256:695b7ac7bc5c5adb5b33960befefeaef2eb7860cd715f07044f17718a2619521"
 },
 "nbformat": 3,
 "nbformat_minor": 0,
 "worksheets": [
  {
   "cells": [
    {
     "cell_type": "code",
     "collapsed": false,
     "input": [
      "cd C:\\Users\\vaevi_000\\SkyDrive\\ABZ_PhD\\Rosalind"
     ],
     "language": "python",
     "metadata": {},
     "outputs": [
      {
       "output_type": "stream",
       "stream": "stdout",
       "text": [
        "C:\\Users\\vaevi_000\\SkyDrive\\ABZ_PhD\\Rosalind\n"
       ]
      }
     ],
     "prompt_number": 1
    },
    {
     "cell_type": "heading",
     "level": 3,
     "metadata": {},
     "source": [
      "Inferring mRNA from Protein"
     ]
    },
    {
     "cell_type": "markdown",
     "metadata": {},
     "source": [
      "Given: A protein string of length at most 1000 aa.\n",
      "\n",
      "Return: The total number of different RNA strings from which the protein could have been translated, modulo 1,000,000. (Don't neglect the importance of the stop codon in protein translation.)\n",
      "\n"
     ]
    },
    {
     "cell_type": "code",
     "collapsed": false,
     "input": [
      "file = open('files/rosalind_mrna1.txt','rU')\n",
      "prot = str(file.readline().split('\\n')[0])\n",
      "print prot\n",
      "\n",
      "\n",
      "aa = []\n",
      "for i in prot:\n",
      "    aa.append(i)\n",
      "#print aa\n",
      "\n",
      "\n",
      "\n",
      "map = {\"UUU\":\"F\", \"UUC\":\"F\", \"UUA\":\"L\", \"UUG\":\"L\",\n",
      "    \"UCU\":\"S\", \"UCC\":\"s\", \"UCA\":\"S\", \"UCG\":\"S\",\n",
      "    \"UAU\":\"Y\", \"UAC\":\"Y\", \"UAA\":\"STOP\", \"UAG\":\"STOP\",\n",
      "    \"UGU\":\"C\", \"UGC\":\"C\", \"UGA\":\"STOP\", \"UGG\":\"W\",\n",
      "    \"CUU\":\"L\", \"CUC\":\"L\", \"CUA\":\"L\", \"CUG\":\"L\",\n",
      "    \"CCU\":\"P\", \"CCC\":\"P\", \"CCA\":\"P\", \"CCG\":\"P\",\n",
      "    \"CAU\":\"H\", \"CAC\":\"H\", \"CAA\":\"Q\", \"CAG\":\"Q\",\n",
      "    \"CGU\":\"R\", \"CGC\":\"R\", \"CGA\":\"R\", \"CGG\":\"R\",\n",
      "    \"AUU\":\"I\", \"AUC\":\"I\", \"AUA\":\"I\", \"AUG\":\"M\",\n",
      "    \"ACU\":\"T\", \"ACC\":\"T\", \"ACA\":\"T\", \"ACG\":\"T\",\n",
      "    \"AAU\":\"N\", \"AAC\":\"N\", \"AAA\":\"K\", \"AAG\":\"K\",\n",
      "    \"AGU\":\"S\", \"AGC\":\"S\", \"AGA\":\"R\", \"AGG\":\"R\",\n",
      "    \"GUU\":\"V\", \"GUC\":\"V\", \"GUA\":\"V\", \"GUG\":\"V\",\n",
      "    \"GCU\":\"A\", \"GCC\":\"A\", \"GCA\":\"A\", \"GCG\":\"A\",\n",
      "    \"GAU\":\"D\", \"GAC\":\"D\", \"GAA\":\"E\", \"GAG\":\"E\",\n",
      "    \"GGU\":\"G\", \"GGC\":\"G\", \"GGA\":\"G\", \"GGG\":\"G\",}\n",
      "\n",
      "aa_occurrences = []\n",
      "counter = 0\n",
      "aa_occurrences = []\n",
      "\n",
      "for single_aa in prot:\n",
      "    for i in map:\n",
      "        \n",
      "        if single_aa == 'M':\n",
      "            #print single_aa,1\n",
      "            aa_occurrences.append(1)\n",
      "            break\n",
      "        elif single_aa == map[i]:\n",
      "                counter += 1\n",
      "                #print map[i]\n",
      "                \n",
      "    if single_aa != 'M':\n",
      "        #print single_aa, counter\n",
      "        aa_occurrences.append(counter)\n",
      "        counter = 0\n",
      "        \n",
      "    \n",
      "aa_occurrences.append(int(3)) #Adding the stop codon occurrence\n",
      "print aa_occurrences\n",
      "\n",
      "print 'protein lenght: ',len(prot), '+ Final codon'\n",
      "print 'Number of occurrences registerd: ',len(aa_occurrences)\n",
      "\n",
      "def calc_num_rnas(aa_pox_list):\n",
      "    result = 1\n",
      "    for i in aa_pox_list:\n",
      "        result = result * i\n",
      "    \n",
      "    return result\n",
      "\n",
      "print calc_num_rnas(aa_occurrences) % 1000000"
     ],
     "language": "python",
     "metadata": {},
     "outputs": [
      {
       "output_type": "stream",
       "stream": "stdout",
       "text": [
        "MQNIQWHDWRYFYLQAHTTCHYDYFTYGGLEQFDWVLGWAVENRKWKDWFSCGYTMMGTIGMGYHPEHIGAGMVLFSGSHQTANSRCGFYDSMYSKWHLERQEGKRLVMPEKGMEASWQMTLNMCCEWHDMIRAAKNYQGTDHHTNLNDFDGYMIYHIKGFVAEDQPRGSCEQKSIHPSNLFLGQQSMKMKMAKNDLADFNAEHAQAMFICYKPNFMQCCNFFGNNYEIGNTYNCPAMGIHLILGNVHMIFHCEGCAWWGMWAARSWNLPILFEPTYFCRWARRPQAWRMDQIFYHRWYAGCMVMMCNEDWSYYNECNRKSMARCWCDAGVNAAAWCYWSFNTFVWRPEWGYGFPSINHCDTTEDTADKGGVHYRVGATFIDWNNSALVKAMVGDKMCVRGLNVEFNRKCYHPHPLSEVSRENDEIYFRDVKWRIHHERFSLKYFTFLTWDGIMGCYGGSWYCVVFSRNRDHQNDFDEIAGSTLFEMRQGAKVQKHRFEELETKKKCMRHAVMNFFGELEIEGFTMAPHSEYRVWPVKKCWHKFWPDFWPRCKGGGYRGWHPQANAMWDREVYYPEPPNWRPVARMVFEAQNRCPHHESHHWCRCFHIMKFPCEFAAMPFEAYRWNQMKNCTEDTTLMTTRPVCRHEKGALFWGVTWMFSFKNHENYITMTGANYWWCCTQFFGQRSPTINCYDMHHHFFWGDEAFLQPSNQAIVDNKCGCDSSQPGSFLKYHGNIIFYAMPHWHWIWTTYEDSQHEVSDDDKHYQCETPTHIYAQLHPVPINPGIKQFSYMVDVHAHYCLNWDMHFLQKVLMMWNSRLAHIWKLSEQDRAKNWIRQTLQDRWWAFSWSIFVMQRMYSGVHDVEQKMAFQLSDTYDFNMTWHPGVMEHVILKCSHHARPYNSKMGYYPFGRGDLLHVSLSMQHSVENNMEGNGRAPFVGNYPRQQVRFYHYWSQYNQVQSRLFNCEVATMNVKYEQQDSMRDNMNNTWKGAQYAYKMA\n",
        "[1, 2, 2, 3, 2, 1, 2, 2, 1, 6, 2, 2, 2, 6, 2, 4, 2, 4, 4, 2, 2, 2, 2, 2, 2, 4, 2, 4, 4, 6, 2, 2, 2, 2, 1, 4, 6, 4, 1, 4, 4, 2, 2, 6, 2, 1, 2, 2, 1, 2, 5, 2, 4, 2, 4, 1, 1, 4, 4, 3, 4, 1, 4, 2, 2, 4, 2, 2, 3, 4, 4, 4, 1, 4, 6, 2, 5, 4, 5, 2, 2, 4, 4, 2, 5, 6, 2, 4, 2, 2, 2, 5, 1, 2, 5, 2, 1, 2, 6, 2, 6, 2, 2, 4, 2, 6, 6, 4, 1, 4, 2, 2, 4, 1, 2, 4, 5, 1, 2, 1, 4, 6, 2, 1, 2, 2, 2, 1, 2, 2, 1, 3, 6, 4, 4, 2, 2, 2, 2, 4, 4, 2, 2, 2, 4, 2, 6, 2, 2, 2, 2, 4, 2, 1, 3, 2, 2, 3, 2, 4, 2, 4, 4, 2, 2, 2, 4, 6, 4, 5, 2, 2, 2, 2, 5, 3, 2, 4, 5, 2, 6, 2, 6, 4, 2, 2, 5, 1, 2, 1, 2, 1, 4, 2, 2, 2, 6, 4, 2, 2, 2, 4, 2, 2, 4, 2, 4, 1, 2, 3, 2, 2, 2, 4, 2, 2, 1, 2, 2, 2, 2, 2, 2, 4, 2, 2, 2, 2, 3, 4, 2, 4, 2, 2, 2, 4, 4, 1, 4, 3, 2, 6, 3, 6, 4, 2, 4, 2, 1, 3, 2, 2, 2, 2, 4, 2, 4, 1, 1, 4, 1, 1, 4, 4, 6, 5, 1, 2, 6, 4, 3, 6, 2, 2, 4, 4, 2, 2, 2, 6, 1, 4, 6, 6, 4, 2, 4, 1, 6, 1, 2, 2, 3, 2, 2, 2, 6, 1, 2, 4, 4, 2, 1, 4, 1, 1, 2, 2, 2, 2, 1, 5, 2, 2, 2, 2, 2, 2, 6, 2, 5, 1, 4, 6, 2, 1, 2, 2, 4, 4, 4, 2, 4, 4, 4, 1, 2, 2, 1, 5, 2, 2, 4, 2, 4, 1, 6, 4, 2, 1, 4, 2, 4, 2, 4, 5, 3, 2, 2, 2, 2, 4, 4, 2, 2, 4, 4, 2, 2, 4, 4, 4, 2, 2, 6, 4, 4, 4, 4, 2, 3, 2, 1, 2, 2, 5, 4, 6, 4, 2, 4, 1, 4, 4, 2, 2, 1, 2, 4, 6, 4, 6, 2, 4, 2, 2, 2, 6, 2, 2, 2, 2, 4, 2, 4, 6, 5, 2, 4, 5, 6, 2, 2, 2, 2, 3, 2, 2, 6, 2, 4, 2, 1, 6, 3, 2, 2, 2, 6, 2, 5, 6, 2, 2, 2, 4, 2, 6, 4, 1, 2, 4, 3, 1, 4, 2, 2, 4, 4, 5, 1, 2, 2, 4, 4, 2, 5, 6, 2, 6, 2, 2, 2, 2, 2, 2, 2, 2, 3, 4, 4, 5, 4, 6, 2, 2, 1, 6, 2, 4, 4, 2, 4, 2, 2, 2, 6, 2, 2, 2, 6, 2, 4, 2, 2, 2, 2, 1, 6, 2, 4, 4, 1, 2, 2, 2, 4, 2, 6, 2, 3, 2, 4, 2, 4, 1, 4, 4, 2, 5, 2, 2, 6, 4, 1, 4, 4, 2, 2, 2, 1, 2, 2, 2, 1, 4, 2, 2, 1, 4, 6, 2, 2, 4, 4, 4, 2, 6, 4, 1, 2, 4, 2, 4, 2, 4, 1, 1, 2, 6, 2, 4, 2, 2, 4, 2, 4, 4, 2, 1, 6, 4, 4, 4, 6, 1, 4, 2, 2, 4, 2, 2, 6, 2, 4, 2, 2, 2, 5, 2, 2, 1, 2, 6, 2, 2, 2, 3, 1, 2, 2, 4, 2, 2, 2, 4, 4, 1, 4, 2, 2, 4, 2, 6, 1, 2, 2, 1, 2, 2, 2, 4, 2, 2, 4, 4, 6, 1, 4, 4, 6, 4, 4, 2, 6, 2, 2, 2, 4, 4, 6, 2, 1, 4, 4, 4, 1, 1, 2, 5, 2, 2, 2, 2, 2, 2, 2, 3, 4, 1, 4, 4, 4, 2, 2, 1, 1, 2, 2, 4, 2, 2, 2, 4, 2, 6, 5, 4, 4, 3, 2, 2, 2, 2, 1, 2, 2, 2, 2, 2, 1, 4, 2, 2, 4, 2, 6, 2, 4, 5, 2, 2, 4, 3, 4, 2, 2, 2, 2, 4, 2, 2, 5, 5, 2, 4, 4, 5, 2, 6, 2, 2, 2, 4, 2, 3, 3, 2, 2, 4, 1, 4, 2, 1, 2, 1, 3, 1, 4, 4, 2, 2, 2, 5, 2, 2, 2, 4, 5, 2, 2, 2, 2, 2, 2, 2, 2, 2, 4, 4, 4, 2, 3, 2, 4, 2, 6, 2, 4, 4, 4, 3, 2, 4, 4, 3, 2, 2, 2, 5, 2, 1, 4, 2, 4, 2, 4, 2, 2, 2, 6, 2, 1, 2, 1, 2, 2, 6, 2, 2, 4, 6, 1, 1, 1, 2, 5, 6, 6, 4, 2, 3, 1, 2, 6, 5, 2, 2, 2, 6, 4, 2, 2, 1, 3, 6, 2, 4, 6, 2, 2, 6, 1, 1, 4, 2, 5, 1, 5, 3, 2, 4, 1, 2, 6, 1, 2, 5, 4, 4, 2, 2, 4, 2, 2, 2, 1, 4, 2, 2, 6, 5, 2, 4, 2, 2, 2, 2, 1, 4, 1, 2, 4, 4, 4, 1, 2, 2, 4, 3, 6, 2, 2, 5, 2, 2, 4, 6, 4, 2, 2, 5, 2, 1, 4, 2, 2, 4, 2, 4, 6, 4, 2, 6, 6, 2, 4, 5, 6, 5, 1, 2, 2, 5, 4, 2, 2, 2, 1, 2, 4, 2, 4, 6, 4, 4, 2, 4, 4, 2, 2, 4, 6, 2, 2, 4, 6, 2, 2, 2, 2, 1, 5, 2, 2, 2, 2, 4, 2, 5, 6, 6, 2, 2, 2, 2, 4, 4, 4, 1, 2, 4, 2, 2, 2, 2, 2, 2, 5, 1, 6, 2, 2, 1, 2, 2, 4, 1, 2, 4, 4, 2, 2, 4, 2, 2, 1, 4, 3]\n",
        "protein lenght:  998 + Final codon\n",
        "Number of occurrences registerd:  999\n",
        "0\n"
       ]
      }
     ],
     "prompt_number": 33
    },
    {
     "cell_type": "code",
     "collapsed": false,
     "input": [
      "def possibilidades_rna(seq_aminoacidos):\n",
      "    f = freq_codon()\n",
      "    n = f['Stop']\n",
      "    \n",
      " \n",
      "    for c in seq_aminoacidos:\n",
      "        n *= f[c]\n",
      " \n",
      "    return n"
     ],
     "language": "python",
     "metadata": {},
     "outputs": []
    },
    {
     "cell_type": "code",
     "collapsed": false,
     "input": [
      "Need to understand the modulo operation"
     ],
     "language": "python",
     "metadata": {},
     "outputs": []
    },
    {
     "cell_type": "code",
     "collapsed": false,
     "input": [
      "100000 * 55 % 6"
     ],
     "language": "python",
     "metadata": {},
     "outputs": [
      {
       "metadata": {},
       "output_type": "pyout",
       "prompt_number": 139,
       "text": [
        "4"
       ]
      }
     ],
     "prompt_number": 139
    },
    {
     "cell_type": "code",
     "collapsed": false,
     "input": [
      "def find_codon_frequency(protein_string,codon_usage_map):\n",
      "    aa_occurrences = []\n",
      "    counter = 0\n",
      "    aa_occurrences = []\n",
      "    for single_aa in protein_string:\n",
      "        for i in codon_usage_map:\n",
      "\n",
      "            if single_aa == 'M':\n",
      "                #print single_aa,1\n",
      "                aa_occurrences.append(1)\n",
      "                break\n",
      "            elif single_aa == codon_usage_map[i]:\n",
      "                    counter += 1\n",
      "                    #print map[i]\n",
      "\n",
      "        if single_aa != 'M':\n",
      "            #print single_aa, counter\n",
      "            aa_occurrences.append(counter)\n",
      "            counter = 0\n",
      "        \n",
      "    aa_occurrences.append(int(3)) #Adding the stop codon occurrence\n",
      "    #print aa_occurrences\n",
      "\n",
      "    #print 'protein lenght: ',len(protein_string), '+ Final codon'\n",
      "    #print 'Number of occurrences registerd: ',len(aa_occurrences)\n",
      "    print aa_occurrences\n",
      "    return aa_occurrences\n"
     ],
     "language": "python",
     "metadata": {},
     "outputs": [],
     "prompt_number": 21
    },
    {
     "cell_type": "code",
     "collapsed": false,
     "input": [
      "def calculate_possible_rna_strings(aa_frequency_string):\n",
      "    n = 1\n",
      "    for i in aa_frequency_string:\n",
      "        #print i\n",
      "        n *= i\n",
      "    return n"
     ],
     "language": "python",
     "metadata": {},
     "outputs": [],
     "prompt_number": 22
    },
    {
     "cell_type": "code",
     "collapsed": false,
     "input": [
      "file = open('files/rosalind_mrna1.txt').read().strip()\n",
      "prot = str(file)\n",
      "print prot\n",
      "\n",
      "\n",
      "aa = []\n",
      "for i in prot:\n",
      "    aa.append(i)\n",
      "#print aa\n",
      "\n",
      "\n",
      "\n",
      "codon_map = {\"UUU\":\"F\", \"UUC\":\"F\", \"UUA\":\"L\", \"UUG\":\"L\",\n",
      "    \"UCU\":\"S\", \"UCC\":\"s\", \"UCA\":\"S\", \"UCG\":\"S\",\n",
      "    \"UAU\":\"Y\", \"UAC\":\"Y\", \"UAA\":\"STOP\", \"UAG\":\"STOP\",\n",
      "    \"UGU\":\"C\", \"UGC\":\"C\", \"UGA\":\"STOP\", \"UGG\":\"W\",\n",
      "    \"CUU\":\"L\", \"CUC\":\"L\", \"CUA\":\"L\", \"CUG\":\"L\",\n",
      "    \"CCU\":\"P\", \"CCC\":\"P\", \"CCA\":\"P\", \"CCG\":\"P\",\n",
      "    \"CAU\":\"H\", \"CAC\":\"H\", \"CAA\":\"Q\", \"CAG\":\"Q\",\n",
      "    \"CGU\":\"R\", \"CGC\":\"R\", \"CGA\":\"R\", \"CGG\":\"R\",\n",
      "    \"AUU\":\"I\", \"AUC\":\"I\", \"AUA\":\"I\", \"AUG\":\"M\",\n",
      "    \"ACU\":\"T\", \"ACC\":\"T\", \"ACA\":\"T\", \"ACG\":\"T\",\n",
      "    \"AAU\":\"N\", \"AAC\":\"N\", \"AAA\":\"K\", \"AAG\":\"K\",\n",
      "    \"AGU\":\"S\", \"AGC\":\"S\", \"AGA\":\"R\", \"AGG\":\"R\",\n",
      "    \"GUU\":\"V\", \"GUC\":\"V\", \"GUA\":\"V\", \"GUG\":\"V\",\n",
      "    \"GCU\":\"A\", \"GCC\":\"A\", \"GCA\":\"A\", \"GCG\":\"A\",\n",
      "    \"GAU\":\"D\", \"GAC\":\"D\", \"GAA\":\"E\", \"GAG\":\"E\",\n",
      "    \"GGU\":\"G\", \"GGC\":\"G\", \"GGA\":\"G\", \"GGG\":\"G\",}\n",
      "\n"
     ],
     "language": "python",
     "metadata": {},
     "outputs": [
      {
       "output_type": "stream",
       "stream": "stdout",
       "text": [
        "MQNIQWHDWRYFYLQAHTTCHYDYFTYGGLEQFDWVLGWAVENRKWKDWFSCGYTMMGTIGMGYHPEHIGAGMVLFSGSHQTANSRCGFYDSMYSKWHLERQEGKRLVMPEKGMEASWQMTLNMCCEWHDMIRAAKNYQGTDHHTNLNDFDGYMIYHIKGFVAEDQPRGSCEQKSIHPSNLFLGQQSMKMKMAKNDLADFNAEHAQAMFICYKPNFMQCCNFFGNNYEIGNTYNCPAMGIHLILGNVHMIFHCEGCAWWGMWAARSWNLPILFEPTYFCRWARRPQAWRMDQIFYHRWYAGCMVMMCNEDWSYYNECNRKSMARCWCDAGVNAAAWCYWSFNTFVWRPEWGYGFPSINHCDTTEDTADKGGVHYRVGATFIDWNNSALVKAMVGDKMCVRGLNVEFNRKCYHPHPLSEVSRENDEIYFRDVKWRIHHERFSLKYFTFLTWDGIMGCYGGSWYCVVFSRNRDHQNDFDEIAGSTLFEMRQGAKVQKHRFEELETKKKCMRHAVMNFFGELEIEGFTMAPHSEYRVWPVKKCWHKFWPDFWPRCKGGGYRGWHPQANAMWDREVYYPEPPNWRPVARMVFEAQNRCPHHESHHWCRCFHIMKFPCEFAAMPFEAYRWNQMKNCTEDTTLMTTRPVCRHEKGALFWGVTWMFSFKNHENYITMTGANYWWCCTQFFGQRSPTINCYDMHHHFFWGDEAFLQPSNQAIVDNKCGCDSSQPGSFLKYHGNIIFYAMPHWHWIWTTYEDSQHEVSDDDKHYQCETPTHIYAQLHPVPINPGIKQFSYMVDVHAHYCLNWDMHFLQKVLMMWNSRLAHIWKLSEQDRAKNWIRQTLQDRWWAFSWSIFVMQRMYSGVHDVEQKMAFQLSDTYDFNMTWHPGVMEHVILKCSHHARPYNSKMGYYPFGRGDLLHVSLSMQHSVENNMEGNGRAPFVGNYPRQQVRFYHYWSQYNQVQSRLFNCEVATMNVKYEQQDSMRDNMNNTWKGAQYAYKMA\n"
       ]
      }
     ],
     "prompt_number": 23
    },
    {
     "cell_type": "code",
     "collapsed": false,
     "input": [
      "occurrence = find_codon_frequency(prot, codon_map)\n",
      "\n",
      "print calculate_possible_rna_strings(occurrence) \n"
     ],
     "language": "python",
     "metadata": {},
     "outputs": [
      {
       "output_type": "stream",
       "stream": "stdout",
       "text": [
        "[1, 2, 2, 3, 2, 1, 2, 2, 1, 6, 2, 2, 2, 6, 2, 4, 2, 4, 4, 2, 2, 2, 2, 2, 2, 4, 2, 4, 4, 6, 2, 2, 2, 2, 1, 4, 6, 4, 1, 4, 4, 2, 2, 6, 2, 1, 2, 2, 1, 2, 5, 2, 4, 2, 4, 1, 1, 4, 4, 3, 4, 1, 4, 2, 2, 4, 2, 2, 3, 4, 4, 4, 1, 4, 6, 2, 5, 4, 5, 2, 2, 4, 4, 2, 5, 6, 2, 4, 2, 2, 2, 5, 1, 2, 5, 2, 1, 2, 6, 2, 6, 2, 2, 4, 2, 6, 6, 4, 1, 4, 2, 2, 4, 1, 2, 4, 5, 1, 2, 1, 4, 6, 2, 1, 2, 2, 2, 1, 2, 2, 1, 3, 6, 4, 4, 2, 2, 2, 2, 4, 4, 2, 2, 2, 4, 2, 6, 2, 2, 2, 2, 4, 2, 1, 3, 2, 2, 3, 2, 4, 2, 4, 4, 2, 2, 2, 4, 6, 4, 5, 2, 2, 2, 2, 5, 3, 2, 4, 5, 2, 6, 2, 6, 4, 2, 2, 5, 1, 2, 1, 2, 1, 4, 2, 2, 2, 6, 4, 2, 2, 2, 4, 2, 2, 4, 2, 4, 1, 2, 3, 2, 2, 2, 4, 2, 2, 1, 2, 2, 2, 2, 2, 2, 4, 2, 2, 2, 2, 3, 4, 2, 4, 2, 2, 2, 4, 4, 1, 4, 3, 2, 6, 3, 6, 4, 2, 4, 2, 1, 3, 2, 2, 2, 2, 4, 2, 4, 1, 1, 4, 1, 1, 4, 4, 6, 5, 1, 2, 6, 4, 3, 6, 2, 2, 4, 4, 2, 2, 2, 6, 1, 4, 6, 6, 4, 2, 4, 1, 6, 1, 2, 2, 3, 2, 2, 2, 6, 1, 2, 4, 4, 2, 1, 4, 1, 1, 2, 2, 2, 2, 1, 5, 2, 2, 2, 2, 2, 2, 6, 2, 5, 1, 4, 6, 2, 1, 2, 2, 4, 4, 4, 2, 4, 4, 4, 1, 2, 2, 1, 5, 2, 2, 4, 2, 4, 1, 6, 4, 2, 1, 4, 2, 4, 2, 4, 5, 3, 2, 2, 2, 2, 4, 4, 2, 2, 4, 4, 2, 2, 4, 4, 4, 2, 2, 6, 4, 4, 4, 4, 2, 3, 2, 1, 2, 2, 5, 4, 6, 4, 2, 4, 1, 4, 4, 2, 2, 1, 2, 4, 6, 4, 6, 2, 4, 2, 2, 2, 6, 2, 2, 2, 2, 4, 2, 4, 6, 5, 2, 4, 5, 6, 2, 2, 2, 2, 3, 2, 2, 6, 2, 4, 2, 1, 6, 3, 2, 2, 2, 6, 2, 5, 6, 2, 2, 2, 4, 2, 6, 4, 1, 2, 4, 3, 1, 4, 2, 2, 4, 4, 5, 1, 2, 2, 4, 4, 2, 5, 6, 2, 6, 2, 2, 2, 2, 2, 2, 2, 2, 3, 4, 4, 5, 4, 6, 2, 2, 1, 6, 2, 4, 4, 2, 4, 2, 2, 2, 6, 2, 2, 2, 6, 2, 4, 2, 2, 2, 2, 1, 6, 2, 4, 4, 1, 2, 2, 2, 4, 2, 6, 2, 3, 2, 4, 2, 4, 1, 4, 4, 2, 5, 2, 2, 6, 4, 1, 4, 4, 2, 2, 2, 1, 2, 2, 2, 1, 4, 2, 2, 1, 4, 6, 2, 2, 4, 4, 4, 2, 6, 4, 1, 2, 4, 2, 4, 2, 4, 1, 1, 2, 6, 2, 4, 2, 2, 4, 2, 4, 4, 2, 1, 6, 4, 4, 4, 6, 1, 4, 2, 2, 4, 2, 2, 6, 2, 4, 2, 2, 2, 5, 2, 2, 1, 2, 6, 2, 2, 2, 3, 1, 2, 2, 4, 2, 2, 2, 4, 4, 1, 4, 2, 2, 4, 2, 6, 1, 2, 2, 1, 2, 2, 2, 4, 2, 2, 4, 4, 6, 1, 4, 4, 6, 4, 4, 2, 6, 2, 2, 2, 4, 4, 6, 2, 1, 4, 4, 4, 1, 1, 2, 5, 2, 2, 2, 2, 2, 2, 2, 3, 4, 1, 4, 4, 4, 2, 2, 1, 1, 2, 2, 4, 2, 2, 2, 4, 2, 6, 5, 4, 4, 3, 2, 2, 2, 2, 1, 2, 2, 2, 2, 2, 1, 4, 2, 2, 4, 2, 6, 2, 4, 5, 2, 2, 4, 3, 4, 2, 2, 2, 2, 4, 2, 2, 5, 5, 2, 4, 4, 5, 2, 6, 2, 2, 2, 4, 2, 3, 3, 2, 2, 4, 1, 4, 2, 1, 2, 1, 3, 1, 4, 4, 2, 2, 2, 5, 2, 2, 2, 4, 5, 2, 2, 2, 2, 2, 2, 2, 2, 2, 4, 4, 4, 2, 3, 2, 4, 2, 6, 2, 4, 4, 4, 3, 2, 4, 4, 3, 2, 2, 2, 5, 2, 1, 4, 2, 4, 2, 4, 2, 2, 2, 6, 2, 1, 2, 1, 2, 2, 6, 2, 2, 4, 6, 1, 1, 1, 2, 5, 6, 6, 4, 2, 3, 1, 2, 6, 5, 2, 2, 2, 6, 4, 2, 2, 1, 3, 6, 2, 4, 6, 2, 2, 6, 1, 1, 4, 2, 5, 1, 5, 3, 2, 4, 1, 2, 6, 1, 2, 5, 4, 4, 2, 2, 4, 2, 2, 2, 1, 4, 2, 2, 6, 5, 2, 4, 2, 2, 2, 2, 1, 4, 1, 2, 4, 4, 4, 1, 2, 2, 4, 3, 6, 2, 2, 5, 2, 2, 4, 6, 4, 2, 2, 5, 2, 1, 4, 2, 2, 4, 2, 4, 6, 4, 2, 6, 6, 2, 4, 5, 6, 5, 1, 2, 2, 5, 4, 2, 2, 2, 1, 2, 4, 2, 4, 6, 4, 4, 2, 4, 4, 2, 2, 4, 6, 2, 2, 4, 6, 2, 2, 2, 2, 1, 5, 2, 2, 2, 2, 4, 2, 5, 6, 6, 2, 2, 2, 2, 4, 4, 4, 1, 2, 4, 2, 2, 2, 2, 2, 2, 5, 1, 6, 2, 2, 1, 2, 2, 4, 1, 2, 4, 4, 2, 2, 4, 2, 2, 1, 4, 3]\n",
        "252665685107233571181055529713614354298722535557402830435938114842705415612410787014412548774836542986845917012474635942861849290403474854967542585222327551037176937026528256075371892295765970732399893311447964927256249754345817835571113887030000871598275351549200626544765985315839097867990709389546162495902769893107271939600598732816569981040113727119317532672000000000000000000000000000000000000000000000000\n"
       ]
      }
     ],
     "prompt_number": 24
    },
    {
     "cell_type": "code",
     "collapsed": false,
     "input": [],
     "language": "python",
     "metadata": {},
     "outputs": [],
     "prompt_number": 12
    },
    {
     "cell_type": "code",
     "collapsed": false,
     "input": [],
     "language": "python",
     "metadata": {},
     "outputs": [],
     "prompt_number": 12
    },
    {
     "cell_type": "code",
     "collapsed": false,
     "input": [],
     "language": "python",
     "metadata": {},
     "outputs": [],
     "prompt_number": 12
    },
    {
     "cell_type": "code",
     "collapsed": false,
     "input": [],
     "language": "python",
     "metadata": {},
     "outputs": [],
     "prompt_number": 12
    },
    {
     "cell_type": "code",
     "collapsed": false,
     "input": [],
     "language": "python",
     "metadata": {},
     "outputs": [],
     "prompt_number": 12
    },
    {
     "cell_type": "code",
     "collapsed": false,
     "input": [],
     "language": "python",
     "metadata": {},
     "outputs": [],
     "prompt_number": 12
    },
    {
     "cell_type": "code",
     "collapsed": false,
     "input": [],
     "language": "python",
     "metadata": {},
     "outputs": [],
     "prompt_number": 12
    },
    {
     "cell_type": "code",
     "collapsed": false,
     "input": [],
     "language": "python",
     "metadata": {},
     "outputs": [],
     "prompt_number": 12
    },
    {
     "cell_type": "code",
     "collapsed": false,
     "input": [],
     "language": "python",
     "metadata": {},
     "outputs": [],
     "prompt_number": 12
    },
    {
     "cell_type": "code",
     "collapsed": false,
     "input": [],
     "language": "python",
     "metadata": {},
     "outputs": [],
     "prompt_number": 12
    },
    {
     "cell_type": "code",
     "collapsed": false,
     "input": [
      "RNA_CODON_TABLE = {\n",
      "    'UUU': 'F',     'CUU': 'L',     'AUU': 'I',     'GUU': 'V',\n",
      "    'UUC': 'F',     'CUC': 'L',     'AUC': 'I',     'GUC': 'V',\n",
      "    'UUA': 'L',     'CUA': 'L',     'AUA': 'I',     'GUA': 'V',\n",
      "    'UUG': 'L',     'CUG': 'L',     'AUG': 'M',     'GUG': 'V',\n",
      "    'UCU': 'S',     'CCU': 'P',     'ACU': 'T',     'GCU': 'A',\n",
      "    'UCC': 'S',     'CCC': 'P',     'ACC': 'T',     'GCC': 'A',\n",
      "    'UCA': 'S',     'CCA': 'P',     'ACA': 'T',     'GCA': 'A',\n",
      "    'UCG': 'S',     'CCG': 'P',     'ACG': 'T',     'GCG': 'A',\n",
      "    'UAU': 'Y',     'CAU': 'H',     'AAU': 'N',     'GAU': 'D',\n",
      "    'UAC': 'Y',     'CAC': 'H',     'AAC': 'N',     'GAC': 'D',\n",
      "    'UAA': 'Stop',  'CAA': 'Q',     'AAA': 'K',     'GAA': 'E',\n",
      "    'UAG': 'Stop',  'CAG': 'Q',     'AAG': 'K',     'GAG': 'E',\n",
      "    'UGU': 'C',     'CGU': 'R',     'AGU': 'S',     'GGU': 'G',\n",
      "    'UGC': 'C',     'CGC': 'R',     'AGC': 'S',     'GGC': 'G',\n",
      "    'UGA': 'Stop',  'CGA': 'R',     'AGA': 'R',     'GGA': 'G',\n",
      "    'UGG': 'W',     'CGG': 'R',     'AGG': 'R',     'GGG': 'G'\n",
      "}\n",
      " \n",
      "def freq_codon():\n",
      "    frequencias = {}\n",
      "    for k, v in RNA_CODON_TABLE.items():\n",
      "        if not frequencias.has_key(v):\n",
      "            frequencias[v] = 0\n",
      "        frequencias[v] += 1\n",
      "    return frequencias\n",
      "\n",
      "\n",
      " \n",
      "def possibilidades_rna(seq_aminoacidos):\n",
      "    f = freq_codon()\n",
      "    n = f['Stop']\n",
      " \n",
      "    for c in seq_aminoacidos:\n",
      "        n *= f[c]\n",
      " \n",
      "    return n\n",
      " \n",
      " \n",
      "#small_dataset = \"MA\"\n",
      "large_dataset = open('files/rosalind_mrna1.txt').read().strip()\n",
      " \n",
      "possibilidades_rna(large_dataset) "
     ],
     "language": "python",
     "metadata": {},
     "outputs": [
      {
       "metadata": {},
       "output_type": "pyout",
       "prompt_number": 19,
       "text": [
        "1596783638851596115338512424122030919877746134169288957762205395462700849696105448060158967399176964158601095332177862307162170641962900714593196782136891965445232921853287388330476300840170883573069937764743035676453820104142658924574574327662085134945830888227368281964790084899832162487691656363269580919951493538493897850428479646376626844450640703709734883390682235112841695350731050001984687598829209923878912L"
       ]
      }
     ],
     "prompt_number": 19
    },
    {
     "cell_type": "code",
     "collapsed": false,
     "input": [],
     "language": "python",
     "metadata": {},
     "outputs": []
    }
   ],
   "metadata": {}
  }
 ]
}