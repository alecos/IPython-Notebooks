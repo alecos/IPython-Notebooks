{
 "metadata": {
  "name": "",
  "signature": "sha256:fbf77150268f27eb3b84c336a27f7ca4bafe0427063bd60fd1db4a140006b6eb"
 },
 "nbformat": 3,
 "nbformat_minor": 0,
 "worksheets": [
  {
   "cells": [
    {
     "cell_type": "code",
     "collapsed": false,
     "input": [
      "cd C:\\Users\\ab42313\\OneDrive\\ABZ_PhD\\Rosalind"
     ],
     "language": "python",
     "metadata": {},
     "outputs": [
      {
       "output_type": "stream",
       "stream": "stdout",
       "text": [
        "C:\\Users\\ab42313\\OneDrive\\ABZ_PhD\\Rosalind\n"
       ]
      }
     ],
     "prompt_number": 1
    },
    {
     "cell_type": "heading",
     "level": 3,
     "metadata": {},
     "source": [
      "k-Mer Composition"
     ]
    },
    {
     "cell_type": "markdown",
     "metadata": {},
     "source": [
      "Given: A DNA string s in FASTA format (having length at most 100 kbp).\n",
      "\n",
      "Return: The 4-mer composition of s."
     ]
    },
    {
     "cell_type": "markdown",
     "metadata": {},
     "source": [
      "Sample Dataset"
     ]
    },
    {
     "cell_type": "raw",
     "metadata": {},
     "source": [
      ">Rosalind_6431\n",
      "CTTCGAAAGTTTGGGCCGAGTCTTACAGTCGGTCTTGAAGCAAAGTAACGAACTCCACGG\n",
      "CCCTGACTACCGAACCAGTTGTGAGTACTCAACTGGGTGAGAGTGCAGTCCCTATTGAGT\n",
      "TTCCGAGACTCACCGGGATTTTCGATCCAGCCTCAGTCCAGTCTTGTGGCCAACTCACCA\n",
      "AATGACGTTGGAATATCCCTGTCTAGCTCACGCAGTACTTAGTAAGAGGTCGCTGCAGCG\n",
      "GGGCAAGGAGATCGGAAAATGTGCTCTATATGCGACTAAAGCTCCTAACTTACACGTAGA\n",
      "CTTGCCCGTGTTAAAAACTCGGCTCACATGCTGTCTGCGGCTGGCTGTATACAGTATCTA\n",
      "CCTAATACCCTTCAGTTCGCCGCACAAAAGCTGGGAGTTACCGCGGAAATCACAG"
     ]
    },
    {
     "cell_type": "markdown",
     "metadata": {},
     "source": [
      "Sample Output"
     ]
    },
    {
     "cell_type": "raw",
     "metadata": {},
     "source": [
      "4 1 4 3 0 1 1 5 1 3 1 2 2 1 2 0 1 1 3 1 2 1 3 1 1 1 1 2 2 5 1 3 0 2 2 1 1 1 1 3 1 0 0 1 5 5 1 5 0 2 0 2 1 2 1 1 1 2 0 1 0 0 1 1 3 2 1 0 3 2 3 0 0 2 0 8 0 0 1 0 2 1 3 0 0 0 1 4 3 2 1 1 3 1 2 1 3 1 2 1 2 1 1 1 2 3 2 1 1 0 1 1 3 2 1 2 6 2 1 1 1 2 3 3 3 2 3 0 3 2 1 1 0 0 1 4 3 0 1 5 0 2 0 1 2 1 3 0 1 2 2 1 1 0 3 0 0 4 5 0 3 0 2 1 1 3 0 3 2 2 1 1 0 2 1 0 2 2 1 2 0 2 2 5 2 2 1 1 2 1 2 2 2 2 1 1 3 4 0 2 1 1 0 1 2 2 1 1 1 5 2 0 3 2 1 1 2 2 3 0 3 0 1 3 1 2 3 0 2 1 2 2 1 2 3 0 1 2 3 1 1 3 1 0 1 1 3 0 2 1 2 2 0 2 1 1"
     ]
    },
    {
     "cell_type": "code",
     "collapsed": false,
     "input": [
      "def find_k_mers(filename,n):\n",
      "    from Bio import SeqIO\n",
      "    \n",
      "    handle = open(filename, \"rU\")\n",
      "    fasta = list(SeqIO.parse(handle, \"fasta\"))\n",
      "\n",
      "    s = fasta[0].seq\n",
      "\n",
      "\n",
      "    bases = ['A','C','G','T']\n",
      "    \n",
      "    \n",
      "    if n == 4:\n",
      "        k_mers = []\n",
      "        input = ''\n",
      "        for n in bases:\n",
      "            for m in bases:\n",
      "                for r in bases:\n",
      "                    for l in bases:\n",
      "                        input = n + m + r + l\n",
      "                        #print input\n",
      "                        k_mers.append(input)\n",
      "            input = ''\n",
      "\n",
      "\n",
      "\n",
      "\n",
      "    left = range(0,len(s)-3)\n",
      "    right = range(4,len(s)+1)\n",
      "    #print left\n",
      "    #print right\n",
      "\n",
      "    \n",
      "    result = []\n",
      "    it = 0\n",
      "    \n",
      "    #Very slow loop:\n",
      "    for i in k_mers:\n",
      "        for k,z in zip(left,right):\n",
      "            if s[k:z] == i:\n",
      "                it += 1\n",
      "        #print it\n",
      "        result.append(it)\n",
      "        it = 0\n",
      "\n",
      "    return ' '.join(map(str, result))\n"
     ],
     "language": "python",
     "metadata": {},
     "outputs": [],
     "prompt_number": 2
    },
    {
     "cell_type": "code",
     "collapsed": false,
     "input": [
      "find_k_mers('files/rosalind_kmer1.txt',4)"
     ],
     "language": "python",
     "metadata": {},
     "outputs": [
      {
       "metadata": {},
       "output_type": "pyout",
       "prompt_number": 3,
       "text": [
        "'306 300 322 316 300 339 337 330 326 330 330 299 319 329 333 301 341 342 287 329 320 337 352 361 357 312 336 343 321 359 311 340 315 328 345 341 291 291 319 367 325 340 317 318 365 354 338 303 308 364 325 340 352 315 310 353 337 303 321 340 315 331 308 372 345 329 303 328 334 345 336 326 334 310 347 343 339 328 319 342 333 331 356 321 355 297 336 300 359 342 351 302 331 330 317 318 335 347 314 351 320 335 316 333 346 316 337 341 321 318 307 339 340 301 315 343 391 351 304 376 311 329 357 305 355 330 320 331 286 361 330 319 320 356 338 347 330 302 292 359 355 340 325 334 285 312 327 342 328 320 331 310 301 337 340 326 330 374 319 331 313 369 312 321 339 337 326 319 326 335 310 318 307 346 325 320 307 318 348 331 346 340 338 306 333 336 317 292 320 307 327 331 307 316 330 319 345 330 337 328 339 326 331 359 324 333 324 349 346 356 364 336 338 334 335 325 331 313 313 314 317 359 355 347 333 317 312 341 316 325 343 335 318 330 325 321 311 312 308 323 317 357 367 316 313 326 319 343 322 351 299 317 367 333 334 336'"
       ]
      }
     ],
     "prompt_number": 3
    },
    {
     "cell_type": "heading",
     "level": 6,
     "metadata": {},
     "source": [
      "Done! Slow loop..."
     ]
    },
    {
     "cell_type": "code",
     "collapsed": false,
     "input": [],
     "language": "python",
     "metadata": {},
     "outputs": []
    }
   ],
   "metadata": {}
  }
 ]
}