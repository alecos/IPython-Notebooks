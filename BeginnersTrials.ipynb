{
 "metadata": {
  "name": "",
  "signature": "sha256:05cee02df876fe4893a061f627832948d0981858b161eea563c8e6630c4fcb22"
 },
 "nbformat": 3,
 "nbformat_minor": 0,
 "worksheets": [
  {
   "cells": [
    {
     "cell_type": "markdown",
     "metadata": {},
     "source": [
      "**LP NOTE:** Where do these exercises come from?\n",
      "\n",
      "It is important - in general - to document your code, especially when others will read it. It would be helpful here to know what purpose is served by these example exercises, and from where they come."
     ]
    },
    {
     "cell_type": "code",
     "collapsed": false,
     "input": [
      "name = raw_input('Name: ')\n",
      "family_name = raw_input('Family name: ')\n",
      "gender= raw_input('Gender (M/F): ')\n",
      "maritial_status=raw_input('Maritial status (Married/Not Married): ')\n",
      "birth_date= raw_input('Birth Date: ')\n",
      "if gender.endswith('M'):\n",
      "    title=('Mr.')\n",
      "elif gender.endswith('F') and maritial_status.endswith('Married'):\n",
      "    title=('Mrs.')\n",
      "if gender.endswith('F') and maritial_status.endswith('Not Married'):\n",
      "    title=('Miss.')\n",
      "\n",
      "    \n",
      "print 'Hello, ' + title + ' '+ family_name + ' ' + name[0]+'.'"
     ],
     "language": "python",
     "metadata": {},
     "outputs": []
    },
    {
     "cell_type": "markdown",
     "metadata": {},
     "source": [
      "**LP NOTE:** Concatenation, as above in the final `print` statement, is not usual. Format strings or the `.format()` method are preferred."
     ]
    },
    {
     "cell_type": "code",
     "collapsed": false,
     "input": [
      "import datetime\n",
      "datetime.today"
     ],
     "language": "python",
     "metadata": {},
     "outputs": []
    },
    {
     "cell_type": "markdown",
     "metadata": {},
     "source": [
      "**LP NOTE:** Is this meant to fail?"
     ]
    },
    {
     "cell_type": "code",
     "collapsed": false,
     "input": [
      "n= 5\n",
      "m=30\n",
      "if n "
     ],
     "language": "python",
     "metadata": {},
     "outputs": []
    },
    {
     "cell_type": "markdown",
     "metadata": {},
     "source": [
      "**LP NOTE:** This appears to be an incomplete exercise - is that deliberate?\n",
      "\n",
      "In terms of style, you should always put spaces around the equals sign in an assignment, as e.g.:\n",
      "\n",
      "```\n",
      "n = 5\n",
      "m = 30\n",
      "```\n",
      "\n",
      "Please do not be tempted to make values align with spaces - that is not the convention."
     ]
    },
    {
     "cell_type": "code",
     "collapsed": false,
     "input": [
      "# Es R-1.1 pg 51\n",
      "n=int(input('n= '))\n",
      "m=int(input('m= '))\n",
      "i=n/m\n",
      "(float(i)).is_integer()"
     ],
     "language": "python",
     "metadata": {},
     "outputs": []
    },
    {
     "cell_type": "markdown",
     "metadata": {},
     "source": [
      "**LP NOTE:** If this code is meant to determine whether `m` divides into `n` exactly, then it fails, as it always reports `True` regardless of the input values, in Python 2.\n",
      "\n",
      "Either the implied intention of the code (is `n` divisible by `m`) is not what the exercise wanted (which should be stated!), or this solution is incorrect.\n",
      "\n",
      "If the solution is incorrect, then you should know that this is because it always reports `True`, which implies that no examples expected to give a `False` result were tried. It is an important principle of testing code that you provide both positive and negative examples for testing.\n",
      "\n",
      "To fix the code, you need to know that in Python 2 the division operator (`/`) returns an integer, when presented with integer values.\n",
      "\n",
      "Stylistically, there are two issues:\n",
      "\n",
      "Equals signs and operators should be surrounded with spaces:\n",
      "\n",
      "```\n",
      "i = n / m\n",
      "```\n",
      "\n",
      "There are unnecessary parentheses:\n",
      "\n",
      "```\n",
      "float(i).is_integer()\n",
      "```\n",
      "\n",
      "is clearer."
     ]
    },
    {
     "cell_type": "code",
     "collapsed": false,
     "input": [
      "# Es R-1.2 pg 51\n",
      "k=int(input('m= '))\n",
      "#######################"
     ],
     "language": "python",
     "metadata": {},
     "outputs": []
    },
    {
     "cell_type": "code",
     "collapsed": false,
     "input": [
      "# Es R-1.3 pg 51\n",
      "a=[34,55,1234,55.34,99,0]\n",
      "a.sort()\n",
      "\n",
      "print a[:1] + a[-1:]"
     ],
     "language": "python",
     "metadata": {},
     "outputs": []
    },
    {
     "cell_type": "markdown",
     "metadata": {},
     "source": [
      "**LP NOTE:** It is best not to use concatenation, for a number of reasons. Foremost is that they're unwieldy and don't allow for nice formatting or reuse of values. Another is that slips can lead to bugs, e.g.:\n",
      "\n",
      "```\n",
      "print a[:1] + a[-1:]\n",
      "print a[1] + a[-1]\n",
      "```\n",
      "\n",
      "will give different results. Using\n",
      "\n",
      "```\n",
      "print a[0], a[-1]\n",
      "```\n",
      "\n",
      "would be more robust here.\n",
      "\n",
      "Stylistically, you should put spaces after commas."
     ]
    },
    {
     "cell_type": "code",
     "collapsed": false,
     "input": [
      "# Es R-1.4 pg 51\n",
      "n=int((input('n= ')))\n",
      "b=0\n",
      "list = range(b, n)\n",
      "list2=[i**2 for i in list]\n",
      "sum(list2)"
     ],
     "language": "python",
     "metadata": {},
     "outputs": []
    },
    {
     "cell_type": "markdown",
     "metadata": {},
     "source": [
      "**LP NOTE:** Stylistically, put spaces around equals signs.\n",
      "\n",
      "`list` is a reserved keyword - it is a function that casts input to a `list`. By redefining it as a variable, you can no longer use this standard function in code that runs subsequently. Be careful about this, as it can lead to awful bugs!\n",
      "\n",
      "You don't need to specify a start value for `range()` if you intend to start from zero.\n",
      "\n",
      "`list2` is an intermediate variable that does not need to be stored - you could report\n",
      "\n",
      "```\n",
      "sum([i**2 for i in list])\n",
      "```"
     ]
    },
    {
     "cell_type": "code",
     "collapsed": false,
     "input": [
      "# Es R-1.6 pg 51\n",
      "n=int((input('n= ')))\n",
      "list = range(0, n)\n",
      "odd=list[1:n:2]\n",
      "odd2=[i**2 for i in odd]\n",
      "sumodd2=sum(odd2)\n",
      "print sumodd2\n"
     ],
     "language": "python",
     "metadata": {},
     "outputs": []
    },
    {
     "cell_type": "markdown",
     "metadata": {},
     "source": [
      "**LP NOTE:** `list` is again used as a variable, when it is a reserved keyword. Put spaces around equals signs. You don't need to specify the zero start for `range()`.\n",
      "\n",
      "I don't think the code runs as implied (though without a docstring it's hard to tell). The code reports the sum of squares of odd numbers up to `(n-1)`, not up to `n`. "
     ]
    },
    {
     "cell_type": "code",
     "collapsed": false,
     "input": [
      "# Es R-1.9 pg 51\n",
      "s=range(5,9)\n",
      "a=[i*10 for i in s]\n",
      "print a"
     ],
     "language": "python",
     "metadata": {},
     "outputs": []
    },
    {
     "cell_type": "markdown",
     "metadata": {},
     "source": [
      "**LP NOTE:** Put spaces around equals signs, and after commas."
     ]
    },
    {
     "cell_type": "code",
     "collapsed": false,
     "input": [
      "# Es R-1.10 pg 51\n",
      "list=range(-8,9)\n",
      "list2=list[0:18:2]\n",
      "a=list2[::-1]\n",
      "print a\n"
     ],
     "language": "python",
     "metadata": {},
     "outputs": []
    },
    {
     "cell_type": "markdown",
     "metadata": {},
     "source": [
      "**LP NOTE:** Put spaces round equals signs, and after commas. Don't use `list` as a variable name."
     ]
    },
    {
     "cell_type": "code",
     "collapsed": false,
     "input": [
      "# Es R-1.11 pg 51\n",
      "list=range(1,257)\n",
      "e=range(0,9)\n",
      "e=list\n",
      "a=list[0:257:1+2**2-1]\n",
      "\n"
     ],
     "language": "python",
     "metadata": {},
     "outputs": []
    },
    {
     "cell_type": "markdown",
     "metadata": {},
     "source": [
      "**LP NOTE:** Put spaces round equals signs, and after commas. Don't use `list` as a variable name.\n",
      "\n",
      "I'm not sure what this code is meant to do. It just appears to extract every fourth item from a list."
     ]
    },
    {
     "cell_type": "code",
     "collapsed": false,
     "input": [
      "# Es R-1.13 pg 51\n",
      "n=int(input('Number(-1)= '))\n",
      "a=range(1,n)\n",
      "b=a[::-1]\n",
      "print b"
     ],
     "language": "python",
     "metadata": {},
     "outputs": []
    },
    {
     "cell_type": "markdown",
     "metadata": {},
     "source": [
      "**LP NOTE:** Put spaces round equals signs, and after commas."
     ]
    },
    {
     "cell_type": "code",
     "collapsed": false,
     "input": [
      "# Es R-1.14 pg 51\n",
      "a =  [5, 7, 11, 4, 5]\n",
      "for i in range(len(a)-1):\n",
      "    print [a[i], a[i+1]]\n",
      "    print [a[i]* a[i+1]]\n",
      "    \n",
      "    \n",
      "    #Nooooooooooooooooo"
     ],
     "language": "python",
     "metadata": {},
     "outputs": []
    },
    {
     "cell_type": "markdown",
     "metadata": {},
     "source": [
      "**LP NOTE:** From your comment I take it that this does not work as intended? ;)"
     ]
    },
    {
     "cell_type": "code",
     "collapsed": false,
     "input": [
      "iter(a:)"
     ],
     "language": "python",
     "metadata": {},
     "outputs": []
    },
    {
     "cell_type": "markdown",
     "metadata": {},
     "source": [
      "**LP NOTE:** What should be happening, here? There's just a syntax error."
     ]
    },
    {
     "cell_type": "code",
     "collapsed": false,
     "input": [
      "# Es R-1.13 pg 51\n",
      "list1=range(0,90)\n",
      "list2=range(0,10)\n",
      "listfin=list1[0:90:int(list2)]\n",
      "\n",
      "print listfin"
     ],
     "language": "python",
     "metadata": {},
     "outputs": []
    },
    {
     "cell_type": "markdown",
     "metadata": {},
     "source": [
      "**LP NOTE:** This code doesn't work - what should it be doing?\n",
      "\n",
      "Also, spaces around equals signs and after commmas."
     ]
    },
    {
     "cell_type": "code",
     "collapsed": false,
     "input": [
      "# Es C-1.19 pg 52\n",
      "import string\n",
      "az=string.lowercase\n",
      "print az"
     ],
     "language": "python",
     "metadata": {},
     "outputs": []
    },
    {
     "cell_type": "markdown",
     "metadata": {},
     "source": [
      "**LP NOTE:** Spaces around equals signs."
     ]
    },
    {
     "cell_type": "code",
     "collapsed": false,
     "input": [
      "import random\n",
      "a=range(1,7)\n",
      "shuffle(a)"
     ],
     "language": "python",
     "metadata": {},
     "outputs": []
    },
    {
     "cell_type": "markdown",
     "metadata": {},
     "source": [
      "**LP NOTE:** So `shuffle` is not defined... where do you think it might be? (Given that you imported the `random` module...)\n",
      "\n",
      "Also: equals sign, commas and spaces."
     ]
    },
    {
     "cell_type": "code",
     "collapsed": false,
     "input": [
      "print"
     ],
     "language": "python",
     "metadata": {},
     "outputs": []
    },
    {
     "cell_type": "code",
     "collapsed": false,
     "input": [
      "print version\n"
     ],
     "language": "python",
     "metadata": {},
     "outputs": []
    },
    {
     "cell_type": "code",
     "collapsed": false,
     "input": [
      "ls"
     ],
     "language": "python",
     "metadata": {},
     "outputs": []
    },
    {
     "cell_type": "code",
     "collapsed": false,
     "input": [
      "print \"Hello\" > Hello.txt"
     ],
     "language": "python",
     "metadata": {},
     "outputs": []
    },
    {
     "cell_type": "code",
     "collapsed": false,
     "input": [
      "print \"Hello World!\"\n",
      "print \"Hello Again\"\n",
      "print \"I like tiping this.\"\n",
      "print \"This is fun.\"\n",
      "print \"Yay! Printing.\"\n",
      "print \"I'd much rather you 'not'.\"\n",
      "print 'I \"said\" do not touch this'"
     ],
     "language": "python",
     "metadata": {},
     "outputs": []
    },
    {
     "cell_type": "code",
     "collapsed": false,
     "input": [
      "cd .."
     ],
     "language": "python",
     "metadata": {},
     "outputs": []
    },
    {
     "cell_type": "code",
     "collapsed": false,
     "input": [
      "cd .."
     ],
     "language": "python",
     "metadata": {},
     "outputs": []
    },
    {
     "cell_type": "code",
     "collapsed": false,
     "input": [
      "cd Desktop/my_phython/"
     ],
     "language": "python",
     "metadata": {},
     "outputs": []
    },
    {
     "cell_type": "code",
     "collapsed": false,
     "input": [
      "python Hello.py"
     ],
     "language": "python",
     "metadata": {},
     "outputs": []
    },
    {
     "cell_type": "code",
     "collapsed": false,
     "input": [
      "import os"
     ],
     "language": "python",
     "metadata": {},
     "outputs": []
    },
    {
     "cell_type": "code",
     "collapsed": false,
     "input": [
      "print os.getcwd()"
     ],
     "language": "python",
     "metadata": {},
     "outputs": []
    },
    {
     "cell_type": "code",
     "collapsed": false,
     "input": [
      "name= \"Alessandro Bergna\"\n",
      "gender= \"Male\"\n",
      "if gender.endswith('Male'):\n",
      "    pronome=\"He\"\n",
      "elif gender.endswith(\"Female\"):\n",
      "    pronome= \"She\"\n",
      "age= 25\n",
      "height= 1.75 #meters\n",
      "weight= 73 #kg\n",
      "eyes= 'green'\n",
      "teeth= \"White\"\n",
      "hair=\"Blonde\"\n",
      "\n",
      "print \"Let's talk about\", name\n",
      "print \"He is\", age, \"years old.\"\n",
      "print \"Let's talk about %s.\" %name\n",
      "print \"If I sum up his features: %d, %s, %d I get %s.\" % (age, height,weight,age+weight+height)"
     ],
     "language": "python",
     "metadata": {},
     "outputs": []
    },
    {
     "cell_type": "markdown",
     "metadata": {},
     "source": [
      "**LP NOTE:** Yay, formatted strings! :D Boo, spaces and equals signs! :("
     ]
    },
    {
     "cell_type": "code",
     "collapsed": false,
     "input": [
      "##Excercise 6\n",
      "\n",
      "x=\"There are %d types of people.\" %10\n",
      "binary=\"binary\"\n",
      "do_not=\"don't\"\n",
      "y=\"Those who know %s and those who %s.\" %(binary,do_not)\n",
      "\n",
      "print x\n",
      "print y\n",
      "\n",
      "print \"I said: %r.\" % x\n",
      "print \"I also said: '%s'.\" %y\n",
      "\n",
      "hilarious= False\n",
      "joke_evaluation=\"Isn't that joke so funny?! %r\"\n",
      "print joke_evaluation % hilarious\n",
      "w = \"This is the left side of...\"\n",
      "e=\"a string with a right side\"\n",
      "print w+e"
     ],
     "language": "python",
     "metadata": {},
     "outputs": []
    },
    {
     "cell_type": "markdown",
     "metadata": {},
     "source": [
      "**LP NOTE:** Spaces and equals signs."
     ]
    },
    {
     "cell_type": "code",
     "collapsed": false,
     "input": [
      "# Prints a string\n",
      "print \"mary had a little lamb.\"\n",
      "#Prints a srting that recall a variable\n",
      "print \"Its fleece was white as %s.\" % 'snow'\n",
      "#Prints a string\n",
      "print \"And everywhere that Mary went.\"\n",
      "#Prints 10 dots\n",
      "print \".\" * 10 #What'd that do?\n",
      "\n",
      "end1=\"C\"\n",
      "end2=\"h\"\n",
      "end3=\"e\"\n",
      "end4=\"e\"\n",
      "end5=\"s\"\n",
      "end6=\"e\"\n",
      "end7=\"B\"\n",
      "end8=\"u\"\n",
      "end9=\"r\"\n",
      "end10=\"g\"\n",
      "end11=\"e\"\n",
      "end12=\"r\"\n",
      "\n",
      "##watch that comma at the end. try remove it and watch what happens\n",
      "###the comma unifies the string with the following\n",
      "print end1+end2+end3+end4+end5+end6,\n",
      "print end7+end8+end9+end10+end11+end12"
     ],
     "language": "python",
     "metadata": {},
     "outputs": []
    },
    {
     "cell_type": "markdown",
     "metadata": {},
     "source": [
      "**LP NOTE:** Spaces and equals signs."
     ]
    },
    {
     "cell_type": "code",
     "collapsed": false,
     "input": [
      "formatter=\"%r %r %r %r\"\n",
      "\n",
      "print formatter %(1,2,3,4)\n",
      "print formatter % (\"one\",\"two\",\"three\",\"four\")\n",
      "print formatter % (formatter,formatter,formatter,formatter)\n",
      "print formatter % (\n",
      "    \"I had this thing.\",\n",
      "    \"That you could type up right.\",\n",
      "    \"But it didn't sing.\",\n",
      "    \"So I said goodnight.\"\n",
      ")"
     ],
     "language": "python",
     "metadata": {},
     "outputs": []
    },
    {
     "cell_type": "code",
     "collapsed": false,
     "input": [
      "#Here some new strange stuff, remember type it exactly.\n",
      "\n",
      "days=\"Mon Tue Wed Thu Fri Sat Sun\"\n",
      "## \\n vuol dire a capo... infatti gennaio e' sulla stessa riga\n",
      "months=\"Jan\\nFeb\\nMar\\nApr\\nMay\\nJun\\nJul\\nAug\"\n",
      "\n",
      "print \"Here are the days: \", days\n",
      "print \"Here are the months: \", months\n",
      "\n",
      "##Le 3 virgolette mi permettono di creare stringhe che vanno a capo\n",
      "print \"\"\"\n",
      "There is something going on here.\n",
      "With the three double-quotes.\n",
      "We'll be able to type as much as we like.\n",
      "Even 4 lines if we want, or 5, or 6\n",
      "\"\"\""
     ],
     "language": "python",
     "metadata": {},
     "outputs": []
    },
    {
     "cell_type": "markdown",
     "metadata": {},
     "source": [
      "**LP NOTE:** Spaces. Equals. etc."
     ]
    },
    {
     "cell_type": "code",
     "collapsed": false,
     "input": [
      "!cat sys-version.py\n"
     ],
     "language": "python",
     "metadata": {},
     "outputs": []
    },
    {
     "cell_type": "code",
     "collapsed": false,
     "input": [],
     "language": "python",
     "metadata": {},
     "outputs": []
    }
   ],
   "metadata": {}
  }
 ]
}