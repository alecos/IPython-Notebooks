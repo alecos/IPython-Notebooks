{
 "metadata": {
  "name": "",
  "signature": "sha256:ebe0ca513fe26b983286dfcdbcd4d0412f880873e18889ac551c3d26a17ae6b6"
 },
 "nbformat": 3,
 "nbformat_minor": 0,
 "worksheets": [
  {
   "cells": [
    {
     "cell_type": "heading",
     "level": 1,
     "metadata": {},
     "source": [
      "Rosalind - Bioinformatic armory"
     ]
    },
    {
     "cell_type": "markdown",
     "metadata": {},
     "source": [
      "**LP NOTE:** This filename has spaces in it. That can cause problems, and it is better to replace spaces in filenames with underscores (\"_\") or hyphens(\"-\"). Here's what this filename looks like on my machine:\n",
      "\n",
      "```\n",
      "$ ls Rosalind\\ -\\ Bioinformatic\\ armory.ipynb\n",
      "```\n",
      "\n",
      "Note the need to escape (the backslash \"\\\") each space."
     ]
    },
    {
     "cell_type": "code",
     "collapsed": false,
     "input": [
      "cd C:\\Users\\ab42313\\OneDrive\\ABZ_PhD\\Rosalind"
     ],
     "language": "python",
     "metadata": {},
     "outputs": [
      {
       "output_type": "stream",
       "stream": "stdout",
       "text": [
        "C:\\Users\\ab42313\\OneDrive\\ABZ_PhD\\Rosalind\n"
       ]
      }
     ],
     "prompt_number": 1
    },
    {
     "cell_type": "markdown",
     "metadata": {},
     "source": [
      "**LP NOTE:** Hard-coding absolute paths like this will work on your machine, and probably only ever on your machine. It's better to keep all relevant files under a common root (such as the directory you have the `.ipynb` file in), and use relative paths."
     ]
    },
    {
     "cell_type": "heading",
     "level": 3,
     "metadata": {},
     "source": [
      "Introduction to the Bioinformatics Armory"
     ]
    },
    {
     "cell_type": "markdown",
     "metadata": {},
     "source": [
      "Given: A DNA string s of length at most 1000 bp.\n",
      "\n",
      "Return: Four integers (separated by spaces) representing the respective number of times that the symbols 'A', 'C', 'G', and 'T' occur in s. Note: You must provide your answer in the format shown in the sample output below.\n",
      "\n"
     ]
    },
    {
     "cell_type": "code",
     "collapsed": false,
     "input": [
      "file=open('files/rosalind_ini.txt','rU')\n",
      "line=file.readline()"
     ],
     "language": "python",
     "metadata": {},
     "outputs": [],
     "prompt_number": 2
    },
    {
     "cell_type": "code",
     "collapsed": false,
     "input": [
      "A=line.count('a')  # This symbol is lower case, but the rest are upper case...\n",
      "C=line.count('C')\n",
      "G=line.count('G')\n",
      "T=line.count('T')"
     ],
     "language": "python",
     "metadata": {},
     "outputs": [],
     "prompt_number": 3
    },
    {
     "cell_type": "code",
     "collapsed": false,
     "input": [
      "print A,C,G,T"
     ],
     "language": "python",
     "metadata": {},
     "outputs": [
      {
       "output_type": "stream",
       "stream": "stdout",
       "text": [
        "0 247 260 216\n"
       ]
      }
     ],
     "prompt_number": 4
    },
    {
     "cell_type": "markdown",
     "metadata": {},
     "source": [
      "**LP NOTE:** When I got the `.ipynb` file, the numbering on the three cells above was `[5]`, `[11]`, and `[10]`, in that order. There was a bug in the cell marked `[11]` that was not reflected in its following line, that apparently reported the variables from cell `[11]`. As a result, when you run the whole document, your final answer is not correct.\n",
      "\n",
      "This is easy to do in iPython, and is one of its weaknesses: that cells higher in the document may have been executed *after* cells lower down in the document, and the changes do not propagate through. In my view, the advantage you get from teaching/annotating in the notebook format outweighs this disadvantage, and by structuring code well, and always using `Run All` or `Run All Below` from the `Cell` menu option, most mistakes of this sort can be avoided."
     ]
    },
    {
     "cell_type": "heading",
     "level": 6,
     "metadata": {},
     "source": [
      "Correct"
     ]
    },
    {
     "cell_type": "heading",
     "level": 3,
     "metadata": {},
     "source": [
      "Introduction to Protein Databases"
     ]
    },
    {
     "cell_type": "markdown",
     "metadata": {},
     "source": [
      "Given: The UniProt ID of a protein.\n",
      "\n",
      "Return: A list of biological processes in which the protein is involved (biological processes are found in a subsection of the protein's \"Gene Ontology\" (GO) section).\n",
      "\n"
     ]
    },
    {
     "cell_type": "code",
     "collapsed": false,
     "input": [
      "\n",
      "import requests\n",
      "id='Q6NYR8'\n",
      "file=[]\n",
      "url='http://www.uniprot.org/uniprot/'\n",
      "extension='.txt'\n",
      "read_urls=requests.get(url+id+extension)\n",
      "for line in read_urls:\n",
      "        file.append(line)\n",
      "\n",
      "lines=[]\n",
      "for i in file:\n",
      "    if 'GO;' in i:\n",
      "        lines.append(i)\n",
      "prova=[]\n",
      "for g in range(0,len(lines)):\n",
      "    prova+=lines[g].split(';')\n",
      "\n",
      "result=[]\n",
      "for r in range(0,len(prova)):\n",
      "        if prova[r].startswith(' P:'):\n",
      "            result.append(prova[r].split(' P:')[1])\n",
      "for a in result:\n",
      "    print a\n",
      "            "
     ],
     "language": "python",
     "metadata": {},
     "outputs": [
      {
       "output_type": "stream",
       "stream": "stdout",
       "text": [
        "carbohydrate metabolic process\n"
       ]
      }
     ],
     "prompt_number": 5
    },
    {
     "cell_type": "code",
     "collapsed": false,
     "input": [
      "result=[]\n",
      "def retrive_prot_function(filename):   \n",
      "    import requests\n",
      "    filedb=open(filename,'rU')\n",
      "    id=filedb.readline()\n",
      "    file=[]\n",
      "    url='http://www.uniprot.org/uniprot/'\n",
      "    extension='.txt'\n",
      "    read_urls=requests.get(url+id+extension)\n",
      "    for line in read_urls:\n",
      "            file.append(line)\n",
      "\n",
      "    lines=[]\n",
      "    for i in file:\n",
      "        if 'GO;' in i:\n",
      "            lines.append(i)\n",
      "    prova=[]\n",
      "    for g in range(0,len(lines)):\n",
      "        prova+=lines[g].split(';')\n",
      "\n",
      "    result=[]\n",
      "    for r in range(0,len(prova)):\n",
      "            if prova[r].startswith(' P:'):\n",
      "                result.append(prova[r].split(' P:')[1])\n",
      "    for a in result:\n",
      "        print a\n",
      "\n",
      "        \n",
      "retrive_prot_function()"
     ],
     "language": "python",
     "metadata": {},
     "outputs": [
      {
       "ename": "TypeError",
       "evalue": "retrive_prot_function() takes exactly 1 argument (0 given)",
       "output_type": "pyerr",
       "traceback": [
        "\u001b[0;31m---------------------------------------------------------------------------\u001b[0m\n\u001b[0;31mTypeError\u001b[0m                                 Traceback (most recent call last)",
        "\u001b[0;32m<ipython-input-6-24cd245305e4>\u001b[0m in \u001b[0;36m<module>\u001b[0;34m()\u001b[0m\n\u001b[1;32m     27\u001b[0m \u001b[0;34m\u001b[0m\u001b[0m\n\u001b[1;32m     28\u001b[0m \u001b[0;34m\u001b[0m\u001b[0m\n\u001b[0;32m---> 29\u001b[0;31m \u001b[0mretrive_prot_function\u001b[0m\u001b[0;34m(\u001b[0m\u001b[0;34m)\u001b[0m\u001b[0;34m\u001b[0m\u001b[0m\n\u001b[0m",
        "\u001b[0;31mTypeError\u001b[0m: retrive_prot_function() takes exactly 1 argument (0 given)"
       ]
      }
     ],
     "prompt_number": 6
    },
    {
     "cell_type": "markdown",
     "metadata": {},
     "source": [
      "**LP NOTE:** You've got a typo, here.\n",
      "\n",
      "Online databases often (but not always) have APIs that make using lower-level libraries like `request` unnecessary. They also often (but not always) return data in standard formats that often (but not always) have decent parsers in Biopython or other libraries. \n",
      "\n",
      "It's always worth checking for both of these things before you start coding - it can save a lot of time. Having said that, using `request` here is a good way to appreciate the underlying operations going on in the API libraries, and give you practice for when you need to build your own (or design an API).\n",
      "\n",
      "On a technical note:\n",
      "\n",
      "1. This kind of structure:\n",
      "\n",
      "```\n",
      "prova=[]\n",
      "for g in range(0,len(lines)):\n",
      "    prova+=lines[g].split(';')\n",
      "```\n",
      "\n",
      "doesn't need the `range` operation. This should work just as well:\n",
      "\n",
      "```\n",
      "for line in lines:\n",
      "    prova+=line.split(';')\n",
      "```\n",
      "\n",
      "When you do need the index (i.e. element number in the list) as well for some reason, then the [`enumerate()`](https://docs.python.org/2.3/whatsnew/section-enumerate.html) function is useful:\n",
      "\n",
      "```\n",
      "for idx, line in enumerate(lines):\n",
      "    print(\"%d: %s\" % (idx, line))\n",
      "```\n",
      "\n",
      "Or, if you want to be really concise, you could replace the loop with a [list comprehension](https://docs.python.org/2/tutorial/datastructures.html#list-comprehensions):\n",
      "\n",
      "```\n",
      "prova = [line.split(';') for line in lines]\n",
      "```\n",
      "\n",
      "2. There is clearly some whitespace that needs to be processed when you're parsing the SwissProt file that the database returns:\n",
      "\n",
      "```\n",
      "if prova[r].startswith(' P:'):\n",
      "```\n",
      "\n",
      "This is where parsers that read such files into a specific datastructure are very useful. To use them, you need to know nothing of the details of the structure and layout of the source file - only what data should be in it. The [`.strip()`](https://docs.python.org/2/library/stdtypes.html#str.strip) method of the `String` object can be useful, here.\n",
      "\n",
      "In the particular case you have here, you could also replace the separator `';'` with `'; '`, to remove the whitespace from each of the processes other than the first, when you chop up the list."
     ]
    },
    {
     "cell_type": "code",
     "collapsed": false,
     "input": [
      "retrive_function('files/rosalind_dbpr.txt')"
     ],
     "language": "python",
     "metadata": {},
     "outputs": [
      {
       "ename": "NameError",
       "evalue": "name 'retrive_function' is not defined",
       "output_type": "pyerr",
       "traceback": [
        "\u001b[0;31m---------------------------------------------------------------------------\u001b[0m\n\u001b[0;31mNameError\u001b[0m                                 Traceback (most recent call last)",
        "\u001b[0;32m<ipython-input-7-9baa80f252ff>\u001b[0m in \u001b[0;36m<module>\u001b[0;34m()\u001b[0m\n\u001b[0;32m----> 1\u001b[0;31m \u001b[0mretrive_function\u001b[0m\u001b[0;34m(\u001b[0m\u001b[0;34m'files/rosalind_dbpr.txt'\u001b[0m\u001b[0;34m)\u001b[0m\u001b[0;34m\u001b[0m\u001b[0m\n\u001b[0m",
        "\u001b[0;31mNameError\u001b[0m: name 'retrive_function' is not defined"
       ]
      }
     ],
     "prompt_number": 7
    },
    {
     "cell_type": "markdown",
     "metadata": {},
     "source": [
      "To finish: problem with the details given by Rosalind example... (P:...)\n",
      "Try again using their method"
     ]
    },
    {
     "cell_type": "markdown",
     "metadata": {},
     "source": [
      "**LP NOTE:** Since you're in the \"Bioinformatic Armory\", where using programming libraries and other software is allowed... ;)\n",
      "\n",
      "Take a look at the Biopython `ExPASy` and `SwissProt` libraries:\n",
      "\n",
      "* http://biopython.org/DIST/docs/api/Bio.ExPASy-module.html\n",
      "* http://biopython.org/DIST/docs/api/Bio.SwissProt-module.html\n",
      "\n",
      "Using these libraries should help get your code down to less than 10 lines."
     ]
    },
    {
     "cell_type": "code",
     "collapsed": false,
     "input": [
      "from Bio import ExPASy\n",
      "from Bio import SwissProt\n",
      "handle = ExPASy.get_sprot_raw('B5ZC00')\n",
      "record = SwissProt.read(handle) \n",
      "record.    # Can't find the right one... check again..."
     ],
     "language": "python",
     "metadata": {},
     "outputs": [
      {
       "ename": "SyntaxError",
       "evalue": "invalid syntax (<ipython-input-23-14b2c76d7a46>, line 5)",
       "output_type": "pyerr",
       "traceback": [
        "\u001b[1;36m  File \u001b[1;32m\"<ipython-input-23-14b2c76d7a46>\"\u001b[1;36m, line \u001b[1;32m5\u001b[0m\n\u001b[1;33m    record.    # Can't find the right one... check again...\u001b[0m\n\u001b[1;37m                                                           ^\u001b[0m\n\u001b[1;31mSyntaxError\u001b[0m\u001b[1;31m:\u001b[0m invalid syntax\n"
       ]
      }
     ],
     "prompt_number": 23
    },
    {
     "cell_type": "heading",
     "level": 3,
     "metadata": {},
     "source": [
      "GenBank Introduction"
     ]
    },
    {
     "cell_type": "markdown",
     "metadata": {},
     "source": [
      "Given: A genus name, followed by two dates in YYYY/M/D format.\n",
      "\n",
      "Return: The number of Nucleotide GenBank entries for the given genus that were published between the dates specified."
     ]
    },
    {
     "cell_type": "code",
     "collapsed": false,
     "input": [
      "from Bio import Entrez\n",
      "file=open('files/rosalind_gbk_2.txt','rU')\n",
      "lines=file.readlines()\n",
      "lines_edited=[]\n",
      "for i in lines:\n",
      "    lines_edited.append(i.replace('\\n',''))\n",
      "\n",
      "gene_name=lines_edited[0]\n",
      "dates=lines_edited[1],lines_edited[2]\n",
      "dq= '\\\"'\n",
      "term_gene=gene_name+'[Organism]'\n",
      "term_pubblication='(('+dq+dates[0]+dq+'[Publication Date]'+' : '+dq+dates[1]+dq+'[Publication Date]'+'))'\n",
      "term= term_gene + ' AND ' + term_pubblication\n",
      "\n",
      "Entrez.email= 'alessandro.bergna@gmail.com'\n",
      "handle = Entrez.esearch(db='nucleotide',term= term)\n",
      "record = Entrez.read(handle)\n",
      "record[\"Count\"]\n"
     ],
     "language": "python",
     "metadata": {},
     "outputs": [
      {
       "metadata": {},
       "output_type": "pyout",
       "prompt_number": 8,
       "text": [
        "'69'"
       ]
      }
     ],
     "prompt_number": 8
    },
    {
     "cell_type": "markdown",
     "metadata": {},
     "source": [
      "**LP NOTE:** This will come naturally as you code more, but construction of the database query term is better done by string formatting than concatenation (which is what you're doing, here), e.g.\n",
      "\n",
      "```\n",
      "term='\"%s\"[Organism] AND (%s[Publication Date] : %s[Publication Date])' % \n",
      "                            (genus, date1, date2)\n",
      "```\n",
      "\n",
      "This construction is easier to read, and to modify. It also allows for precise formatting of values, and casting of variable types on-the-fly. \n",
      "\n",
      "However, the idiom above is being replaced by the now preferred `.format()` method of the `String` object - but I'm old and default to the above. I need to change my habits. More reading, here:\n",
      "\n",
      "* [`.format()` vs. `%` construction](http://stackoverflow.com/questions/5082452/python-string-formatting-vs-format)\n",
      "* [`.format()`](https://docs.python.org/2/library/stdtypes.html#str.format)\n",
      "* [Formatting vs. concatenation](http://www.diveintopython.net/native_data_types/formatting_strings.html)"
     ]
    },
    {
     "cell_type": "heading",
     "level": 6,
     "metadata": {},
     "source": [
      "Correct    "
     ]
    },
    {
     "cell_type": "heading",
     "level": 3,
     "metadata": {},
     "source": [
      "Data Formats"
     ]
    },
    {
     "cell_type": "code",
     "collapsed": false,
     "input": [
      "cd C:\\Users\\ab42313\\OneDrive\\ABZ_PhD\\Rosalind"
     ],
     "language": "python",
     "metadata": {},
     "outputs": [
      {
       "output_type": "stream",
       "stream": "stdout",
       "text": [
        "[Errno 2] No such file or directory: 'C:/Users/ab42313/OneDrive/ABZ_PhD/Rosalind'\n",
        "/Users/lpritc/Documents/JHI_Work/Ecogenomics/Alessandro_Rosalind\n"
       ]
      }
     ],
     "prompt_number": 9
    },
    {
     "cell_type": "markdown",
     "metadata": {},
     "source": [
      "**LP NOTE:** See note above on absolute paths."
     ]
    },
    {
     "cell_type": "code",
     "collapsed": false,
     "input": [
      "from Bio import Entrez\n",
      "from Bio import SeqIO\n",
      "file=open('files/rosalind_frmt2.txt','rU')\n",
      "tt_ids=file.readline()\n",
      "\n",
      "\n",
      "Entrez.email = 'alessandro.bergna@gmail.com'\n",
      "handle = Entrez.efetch(db=\"nucleotide\", id=[tt_ids], rettype=\"fasta\")\n",
      "records = list (SeqIO.parse(handle, \"fasta\"))\n",
      "\n",
      "lenghts=[]\n",
      "\n",
      "for m in range(0,len(records)):\n",
      "    lenghts.append(len(records[m].seq))\n",
      "       \n",
      "shorter=min(lenghts)\n",
      "res_id=()\n",
      "res_seq=()\n",
      "for i in range(0,len(records)):\n",
      "    if len(records[i].seq)==shorter:\n",
      "        res_description=records[i].description\n",
      "        res_seq= records[i].seq\n",
      "        \n",
      "print '>'+res_description\n",
      "print res_seq\n",
      "\n",
      "\n"
     ],
     "language": "python",
     "metadata": {},
     "outputs": [
      {
       "output_type": "stream",
       "stream": "stdout",
       "text": [
        ">gi|406507554|gb|JQ011270.1| Clunio marinus period (per) mRNA, partial cds\n",
        "CCGCCTTTTTCTGTCAGTCTTACAACCTTACAAAGCACACTAACAACGTCACAAGCAACAGAATTCCCTGCATCGAATTTATTCCCAACAGTTTATTATCTTCCACAAACCATTCCACAATGTATGCAAAGCGTAATCTATCAACCCTTAATATATTCACACCCATCGACTTTCTATCAAAYGAACTTCCAAGCCACTCAATCAAGTCGTAATGAATTGAATTACAACACATCCTATCAGTTTGTAAAGAATGCAACCGTTCCGGCACTGCAAACTCCTGCTGACTCTGATTCGATTGTGCAAAGTTTATCTTTAAAACGTCCACCGTCACAAGCAACTTCAGTCAAAGCTGATATGGGGTCAACATCGGCATCTGTTAACAGGGCGCTTTCAGAAACTTCAAGAAAAGGTGTGTTGGCTGATTCACCACTCCCGCATGATGGTCCAAGTGGATTAAATATTAATGACAATGAGGCAAGTGGATTGATTGKAACAAGCGAGGATG\n"
       ]
      }
     ],
     "prompt_number": 10
    },
    {
     "cell_type": "markdown",
     "metadata": {},
     "source": [
      "**LP NOTE:** Your construction for finding the minimum length here can be made a bit more efficient.\n",
      "\n",
      "In the implementation above, you first find the lengths of all the sequences, by looping over the sequences (again, you don't need the `range()` here - you can loop over the records directly). You then find the minimum length, and then loop over all the records again, to see which one has the minimum length.\n",
      "\n",
      "This involves two loops over the same data. If the iterator here had 250million items in it (as one of my database tables does...), this would take a long time - and twice as long as it needed to, if there was a way to loop over the list just once, and identify which sequence was the shortest.\n",
      "\n",
      "There are at least two different ways to solve this problem, by looping over the sequence list only once.\n",
      "\n",
      "**AS AN EXERCISE:** Find and implement the same function, but only loop over the input list of records once."
     ]
    },
    {
     "cell_type": "heading",
     "level": 6,
     "metadata": {},
     "source": [
      "Done"
     ]
    },
    {
     "cell_type": "heading",
     "level": 3,
     "metadata": {},
     "source": [
      "FASTQ format introduction"
     ]
    },
    {
     "cell_type": "code",
     "collapsed": false,
     "input": [
      "cd C:\\Users\\ab42313\\OneDrive\\ABZ_PhD\\Rosalind"
     ],
     "language": "python",
     "metadata": {},
     "outputs": [
      {
       "output_type": "stream",
       "stream": "stdout",
       "text": [
        "C:\\Users\\ab42313\\OneDrive\\ABZ_PhD\\Rosalind\n"
       ]
      }
     ],
     "prompt_number": 1
    },
    {
     "cell_type": "code",
     "collapsed": false,
     "input": [
      "from Bio import SeqIO\n",
      "SeqIO.convert('files/rosalind_tfsq1.txt', 'fastq', 'files/rosalind_tfsq1.fasta', 'fasta')"
     ],
     "language": "python",
     "metadata": {},
     "outputs": [
      {
       "metadata": {},
       "output_type": "pyout",
       "prompt_number": 12,
       "text": [
        "84"
       ]
      }
     ],
     "prompt_number": 12
    },
    {
     "cell_type": "heading",
     "level": 6,
     "metadata": {},
     "source": [
      "Done"
     ]
    },
    {
     "cell_type": "heading",
     "level": 3,
     "metadata": {},
     "source": [
      "Read Quality Distribution"
     ]
    },
    {
     "cell_type": "code",
     "collapsed": false,
     "input": [
      "SeqIO.convert('files/rosalind_tfsq1.txt', 'fastq', 'files/rosalind_tfsq1.fasta', 'fasta')"
     ],
     "language": "python",
     "metadata": {},
     "outputs": [
      {
       "metadata": {},
       "output_type": "pyout",
       "prompt_number": 13,
       "text": [
        "84"
       ]
      }
     ],
     "prompt_number": 13
    },
    {
     "cell_type": "markdown",
     "metadata": {},
     "source": [
      "**LP NOTE:** Yep - that's exactly how you'd solve it for real ;)"
     ]
    }
   ],
   "metadata": {}
  }
 ]
}