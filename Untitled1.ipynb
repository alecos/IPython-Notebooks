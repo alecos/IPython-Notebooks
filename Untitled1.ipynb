{
 "metadata": {
  "name": "",
  "signature": "sha256:1ae36a0c355f8e10c2c1640aced847d5688ef4cc70d829ccdcefa00ca6b7c782"
 },
 "nbformat": 3,
 "nbformat_minor": 0,
 "worksheets": [
  {
   "cells": [
    {
     "cell_type": "code",
     "collapsed": false,
     "input": [
      "cd C:\\Users\\vaevi_000\\SkyDrive\\ABZ_PhD\\sql"
     ],
     "language": "python",
     "metadata": {},
     "outputs": [
      {
       "output_type": "stream",
       "stream": "stdout",
       "text": [
        "C:\\Users\\vaevi_000\\SkyDrive\\ABZ_PhD\\sql\n"
       ]
      }
     ],
     "prompt_number": 3
    },
    {
     "cell_type": "code",
     "collapsed": false,
     "input": [
      "import sqlite3"
     ],
     "language": "python",
     "metadata": {},
     "outputs": [],
     "prompt_number": 11
    },
    {
     "cell_type": "code",
     "collapsed": false,
     "input": [
      "%install_ext https://raw.githubusercontent.com/benwaugh/sql-novice-survey/gh-pages/code/sqlitemagic.py"
     ],
     "language": "python",
     "metadata": {},
     "outputs": [
      {
       "output_type": "stream",
       "stream": "stdout",
       "text": [
        "Installed sqlitemagic.py. To use it, type:\n",
        "  %load_ext sqlitemagic\n"
       ]
      }
     ],
     "prompt_number": 12
    },
    {
     "cell_type": "code",
     "collapsed": false,
     "input": [
      "%%sqlite survey.db\n",
      "select * from Site"
     ],
     "language": "python",
     "metadata": {},
     "outputs": [
      {
       "output_type": "stream",
       "stream": "stderr",
       "text": [
        "ERROR: Cell magic `%%sqlite` not found.\n"
       ]
      }
     ],
     "prompt_number": 13
    },
    {
     "cell_type": "code",
     "collapsed": false,
     "input": [
      "ls"
     ],
     "language": "python",
     "metadata": {},
     "outputs": [
      {
       "output_type": "stream",
       "stream": "stdout",
       "text": [
        " Il volume nell'unit\u2026 C non ha etichetta.\n",
        " Numero di serie del volume: 22BA-B8D5\n",
        "\n",
        " Directory di C:\\Users\\vaevi_000\\SkyDrive\\ABZ_PhD\\sql\n",
        "\n",
        "10/04/2015  23:13    <DIR>          .\n",
        "10/04/2015  23:13    <DIR>          ..\n",
        "08/04/2015  21:39           571.904 sqlite3.exe\n",
        "08/04/2015  21:39         1.405.440 sqlite3_analyzer.exe\n",
        "07/04/2015  07:36    <DIR>          sql-novice-survey-gh-pages\n",
        "10/04/2015  22:25            20.480 survey.db\n",
        "               3 File      1.997.824 byte\n",
        "               3 Directory   3.130.036.224 byte disponibili\n"
       ]
      }
     ],
     "prompt_number": 14
    },
    {
     "cell_type": "code",
     "collapsed": false,
     "input": [],
     "language": "python",
     "metadata": {},
     "outputs": []
    }
   ],
   "metadata": {}
  }
 ]
}